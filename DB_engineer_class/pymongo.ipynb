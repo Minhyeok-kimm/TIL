{
 "cells": [
  {
   "cell_type": "markdown",
   "metadata": {},
   "source": [
    "# pymongo"
   ]
  },
  {
   "cell_type": "markdown",
   "metadata": {},
   "source": [
    "## pymongo 설치"
   ]
  },
  {
   "cell_type": "code",
   "execution_count": 1,
   "metadata": {},
   "outputs": [
    {
     "name": "stdout",
     "output_type": "stream",
     "text": [
      "Collecting pymongo\n",
      "  Obtaining dependency information for pymongo from https://files.pythonhosted.org/packages/4d/88/7b9bfad1ad6269e0b9e0bb39d093aabc27837da4ccb93391cda68f580984/pymongo-4.5.0-cp311-cp311-win_amd64.whl.metadata\n",
      "  Downloading pymongo-4.5.0-cp311-cp311-win_amd64.whl.metadata (22 kB)\n",
      "Collecting dnspython<3.0.0,>=1.16.0 (from pymongo)\n",
      "  Obtaining dependency information for dnspython<3.0.0,>=1.16.0 from https://files.pythonhosted.org/packages/f6/b4/0a9bee52c50f226a3cbfb54263d02bb421c7f2adc136520729c2c689c1e5/dnspython-2.4.2-py3-none-any.whl.metadata\n",
      "  Downloading dnspython-2.4.2-py3-none-any.whl.metadata (4.9 kB)\n",
      "Downloading pymongo-4.5.0-cp311-cp311-win_amd64.whl (468 kB)\n",
      "   ---------------------------------------- 0.0/468.2 kB ? eta -:--:--\n",
      "   --------------------------- ------------ 317.4/468.2 kB 6.5 MB/s eta 0:00:01\n",
      "   ---------------------------------------- 468.2/468.2 kB 7.3 MB/s eta 0:00:00\n",
      "Downloading dnspython-2.4.2-py3-none-any.whl (300 kB)\n",
      "   ---------------------------------------- 0.0/300.4 kB ? eta -:--:--\n",
      "   ------------------------------- -------- 235.5/300.4 kB 4.8 MB/s eta 0:00:01\n",
      "   ---------------------------------------- 300.4/300.4 kB 4.6 MB/s eta 0:00:00\n",
      "Installing collected packages: dnspython, pymongo\n",
      "Successfully installed dnspython-2.4.2 pymongo-4.5.0\n",
      "Note: you may need to restart the kernel to use updated packages.\n"
     ]
    }
   ],
   "source": [
    "%pip install pymongo"
   ]
  },
  {
   "cell_type": "code",
   "execution_count": 2,
   "metadata": {},
   "outputs": [],
   "source": [
    "from pymongo import MongoClient"
   ]
  },
  {
   "cell_type": "code",
   "execution_count": 3,
   "metadata": {},
   "outputs": [],
   "source": [
    "client = MongoClient(\"mongodb://localhost:27017/\") # ('localhost', 27017)도 가능"
   ]
  },
  {
   "cell_type": "code",
   "execution_count": 4,
   "metadata": {},
   "outputs": [],
   "source": [
    "db = client['test-db']"
   ]
  },
  {
   "cell_type": "code",
   "execution_count": 5,
   "metadata": {},
   "outputs": [
    {
     "name": "stdout",
     "output_type": "stream",
     "text": [
      "['admin', 'config', 'local', 'test']\n"
     ]
    }
   ],
   "source": [
    "print(client.list_database_names()) # db 이름 표출"
   ]
  },
  {
   "cell_type": "code",
   "execution_count": 7,
   "metadata": {},
   "outputs": [
    {
     "data": {
      "text/plain": [
       "{'author': 'Mike',\n",
       " 'text': 'My first blog post!',\n",
       " 'tags': ['mongodb', 'python', 'pymongo'],\n",
       " 'date': datetime.datetime(2023, 8, 29, 8, 10, 51, 274247)}"
      ]
     },
     "execution_count": 7,
     "metadata": {},
     "output_type": "execute_result"
    }
   ],
   "source": [
    "import datetime\n",
    "post = {\n",
    "    \"author\":\"Mike\",\n",
    "    \"text\":\"My first blog post!\",\n",
    "    \"tags\":[\"mongodb\", \"python\", \"pymongo\"],\n",
    "    \"date\":datetime.datetime.utcnow()\n",
    "}\n",
    "post"
   ]
  },
  {
   "cell_type": "code",
   "execution_count": 8,
   "metadata": {},
   "outputs": [],
   "source": [
    "posts = db.posts"
   ]
  },
  {
   "cell_type": "code",
   "execution_count": 9,
   "metadata": {},
   "outputs": [
    {
     "name": "stdout",
     "output_type": "stream",
     "text": [
      "<pymongo.results.InsertOneResult object at 0x000001AB126BE770>\n"
     ]
    }
   ],
   "source": [
    "post_id = posts.insert_one(post)\n",
    "print(post_id)"
   ]
  },
  {
   "cell_type": "code",
   "execution_count": 10,
   "metadata": {},
   "outputs": [],
   "source": [
    "new_posts = [\n",
    "    {\"author\":\"Mike\", \"text\":\"Another post!\", \"tags\":[\"bulk\", \"insert\"],\n",
    "     \"date\":datetime.datetime(2009, 11, 12, 11, 14)},\n",
    "    {\"author\":\"Eliot\", \"title\":\"MongoDB is fun\", \"text\":\"and pretty easy too!\",\n",
    "     \"date\":datetime.datetime(2009, 11, 10, 10, 45)}\n",
    "]"
   ]
  },
  {
   "cell_type": "code",
   "execution_count": 11,
   "metadata": {},
   "outputs": [
    {
     "data": {
      "text/plain": [
       "<pymongo.results.InsertManyResult at 0x1ab125b82e0>"
      ]
     },
     "execution_count": 11,
     "metadata": {},
     "output_type": "execute_result"
    }
   ],
   "source": [
    "result = posts.insert_many(new_posts)\n",
    "result"
   ]
  },
  {
   "cell_type": "code",
   "execution_count": 12,
   "metadata": {},
   "outputs": [
    {
     "name": "stdout",
     "output_type": "stream",
     "text": [
      "Mike My first blog post!\n",
      "Mike Another post!\n",
      "Eliot and pretty easy too!\n"
     ]
    }
   ],
   "source": [
    "for d in db['posts'].find():\n",
    "    print(d['author'], d['text'])"
   ]
  },
  {
   "cell_type": "code",
   "execution_count": 13,
   "metadata": {},
   "outputs": [
    {
     "name": "stdout",
     "output_type": "stream",
     "text": [
      "My first blog post!\n"
     ]
    }
   ],
   "source": [
    "print(db.posts.find_one({'author':'Mike'})['text'])"
   ]
  },
  {
   "cell_type": "code",
   "execution_count": 14,
   "metadata": {},
   "outputs": [
    {
     "name": "stdout",
     "output_type": "stream",
     "text": [
      "{'_id': ObjectId('64eda82613baa3f9b01bd569'), 'author': 'Mike', 'tags': ['mongodb', 'python', 'pymongo'], 'date': datetime.datetime(2023, 8, 29, 8, 10, 51, 274000)}\n",
      "{'_id': ObjectId('64eda8d513baa3f9b01bd56a'), 'author': 'Mike', 'tags': ['bulk', 'insert'], 'date': datetime.datetime(2009, 11, 12, 11, 14)}\n",
      "{'_id': ObjectId('64eda8d513baa3f9b01bd56b'), 'author': 'Eliot', 'title': 'MongoDB is fun', 'date': datetime.datetime(2009, 11, 10, 10, 45)}\n"
     ]
    }
   ],
   "source": [
    "for d in db['posts'].find({}, {'text':0}):\n",
    "    print(d)"
   ]
  },
  {
   "cell_type": "code",
   "execution_count": 15,
   "metadata": {},
   "outputs": [
    {
     "name": "stdout",
     "output_type": "stream",
     "text": [
      "{'_id': ObjectId('64eda82613baa3f9b01bd569'),\n",
      " 'author': 'Mike',\n",
      " 'date': datetime.datetime(2023, 8, 29, 8, 10, 51, 274000),\n",
      " 'tags': ['mongodb', 'python', 'pymongo'],\n",
      " 'text': 'My first blog post!'}\n"
     ]
    }
   ],
   "source": [
    "import pprint\n",
    "pprint.pprint(posts.find_one())"
   ]
  },
  {
   "cell_type": "code",
   "execution_count": 16,
   "metadata": {},
   "outputs": [
    {
     "name": "stdout",
     "output_type": "stream",
     "text": [
      "{'_id': ObjectId('64eda82613baa3f9b01bd569'),\n",
      " 'author': 'Mike',\n",
      " 'date': datetime.datetime(2023, 8, 29, 8, 10, 51, 274000),\n",
      " 'tags': ['mongodb', 'python', 'pymongo'],\n",
      " 'text': 'My first blog post!'}\n"
     ]
    }
   ],
   "source": [
    "pprint.pprint(posts.find_one({\"author\":\"Mike\"}))"
   ]
  },
  {
   "cell_type": "code",
   "execution_count": 17,
   "metadata": {},
   "outputs": [
    {
     "name": "stdout",
     "output_type": "stream",
     "text": [
      "{'_id': ObjectId('64eda82613baa3f9b01bd569'),\n",
      " 'author': 'Mike',\n",
      " 'date': datetime.datetime(2023, 8, 29, 8, 10, 51, 274000),\n",
      " 'tags': ['mongodb', 'python', 'pymongo'],\n",
      " 'text': 'My first blog post!'}\n",
      "{'_id': ObjectId('64eda8d513baa3f9b01bd56a'),\n",
      " 'author': 'Mike',\n",
      " 'date': datetime.datetime(2009, 11, 12, 11, 14),\n",
      " 'tags': ['bulk', 'insert'],\n",
      " 'text': 'Another post!'}\n"
     ]
    }
   ],
   "source": [
    "import pprint\n",
    "for post in posts.find({\"author\":\"Mike\"}):\n",
    "    pprint.pprint(post)"
   ]
  },
  {
   "cell_type": "code",
   "execution_count": 19,
   "metadata": {},
   "outputs": [],
   "source": [
    "client.close()"
   ]
  },
  {
   "cell_type": "code",
   "execution_count": null,
   "metadata": {},
   "outputs": [],
   "source": []
  }
 ],
 "metadata": {
  "kernelspec": {
   "display_name": "Python 3",
   "language": "python",
   "name": "python3"
  },
  "language_info": {
   "codemirror_mode": {
    "name": "ipython",
    "version": 3
   },
   "file_extension": ".py",
   "mimetype": "text/x-python",
   "name": "python",
   "nbconvert_exporter": "python",
   "pygments_lexer": "ipython3",
   "version": "3.11.3"
  },
  "orig_nbformat": 4
 },
 "nbformat": 4,
 "nbformat_minor": 2
}
