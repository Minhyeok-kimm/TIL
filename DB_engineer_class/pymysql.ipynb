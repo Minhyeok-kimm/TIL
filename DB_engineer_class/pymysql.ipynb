{
 "cells": [
  {
   "cell_type": "markdown",
   "metadata": {},
   "source": [
    "# 8/25"
   ]
  },
  {
   "cell_type": "markdown",
   "metadata": {},
   "source": [
    "## pymysql 설치"
   ]
  },
  {
   "cell_type": "code",
   "execution_count": 1,
   "metadata": {},
   "outputs": [
    {
     "name": "stdout",
     "output_type": "stream",
     "text": [
      "Collecting pymysql\n",
      "  Obtaining dependency information for pymysql from https://files.pythonhosted.org/packages/e5/30/20467e39523d0cfc2b6227902d3687a16364307260c75e6a1cb4422b0c62/PyMySQL-1.1.0-py3-none-any.whl.metadata\n",
      "  Downloading PyMySQL-1.1.0-py3-none-any.whl.metadata (4.4 kB)\n",
      "Downloading PyMySQL-1.1.0-py3-none-any.whl (44 kB)\n",
      "   ---------------------------------------- 0.0/44.8 kB ? eta -:--:--\n",
      "   ---------------------------------------- 44.8/44.8 kB 2.3 MB/s eta 0:00:00\n",
      "Installing collected packages: pymysql\n",
      "Successfully installed pymysql-1.1.0\n"
     ]
    }
   ],
   "source": [
    "%pip install pymysql"
   ]
  },
  {
   "cell_type": "markdown",
   "metadata": {},
   "source": [
    "## MySQL 접속"
   ]
  },
  {
   "cell_type": "code",
   "execution_count": 2,
   "metadata": {},
   "outputs": [],
   "source": [
    "import pymysql"
   ]
  },
  {
   "cell_type": "markdown",
   "metadata": {},
   "source": [
    "- connect() 메서드\n",
    "\n",
    "    -파라미터\n",
    "    \n",
    "        - host: 접속할 server 주소\n",
    "        - port: 접속할 server의 포트번호\n",
    "        - user: MySQL ID\n",
    "        - passwd: ID의 암호 > 숫자만 있어도 문자열로 전달해야 정상적으로 연결이 가능하다\n",
    "        - db: 접속할 데이터베이스\n",
    "        - charset='utf8': MySQL에서 SELECT를 통해 데이터를 가져올 때 한글이 깨질 수 있으므로 연결 설정에 넣어 방지"
   ]
  },
  {
   "cell_type": "code",
   "execution_count": 4,
   "metadata": {},
   "outputs": [
    {
     "data": {
      "text/plain": [
       "<pymysql.connections.Connection at 0x1eb1146fe90>"
      ]
     },
     "execution_count": 4,
     "metadata": {},
     "output_type": "execute_result"
    }
   ],
   "source": [
    "# db 연결\n",
    "db = pymysql.connect(host='localhost', port=3306, user='root', passwd='1234', charset='utf8')\n",
    "db"
   ]
  },
  {
   "cell_type": "code",
   "execution_count": 5,
   "metadata": {},
   "outputs": [
    {
     "data": {
      "text/plain": [
       "1"
      ]
     },
     "execution_count": 5,
     "metadata": {},
     "output_type": "execute_result"
    }
   ],
   "source": [
    "# 커서 불러오기\n",
    "cursor = db.cursor()\n",
    "\n",
    "# SQL문 실행(ecommerce DB 생성)\n",
    "sql = \"CREATE DATABASE IF NOT EXISTS ecommerce\"\n",
    "cursor.execute(sql) # 1이 나온 경우 정상적으로 실행"
   ]
  },
  {
   "cell_type": "code",
   "execution_count": 7,
   "metadata": {},
   "outputs": [
    {
     "data": {
      "text/plain": [
       "(('ecommerce',),\n",
       " ('information_schema',),\n",
       " ('mysql',),\n",
       " ('performance_schema',),\n",
       " ('sakila',),\n",
       " ('sys',),\n",
       " ('tabledb',),\n",
       " ('world',))"
      ]
     },
     "execution_count": 7,
     "metadata": {},
     "output_type": "execute_result"
    }
   ],
   "source": [
    "# 모든 DB 정보 조회\n",
    "sql = \"SHOW DATABASES\"\n",
    "cursor.execute(sql)\n",
    "result = cursor.fetchall()\n",
    "result"
   ]
  },
  {
   "cell_type": "code",
   "execution_count": 8,
   "metadata": {},
   "outputs": [
    {
     "data": {
      "text/plain": [
       "0"
      ]
     },
     "execution_count": 8,
     "metadata": {},
     "output_type": "execute_result"
    }
   ],
   "source": [
    "# DB 변경\n",
    "sql = \"USE ecommerce\"\n",
    "cursor.execute(sql) # 0이 나오면 정상 작동"
   ]
  },
  {
   "cell_type": "code",
   "execution_count": 9,
   "metadata": {},
   "outputs": [
    {
     "data": {
      "text/plain": [
       "('ecommerce',)"
      ]
     },
     "execution_count": 9,
     "metadata": {},
     "output_type": "execute_result"
    }
   ],
   "source": [
    "# 현재 DB 확인\n",
    "sql = \"SELECT DATABASE()\"\n",
    "cursor.execute(sql)\n",
    "result = cursor.fetchone()\n",
    "result"
   ]
  },
  {
   "cell_type": "code",
   "execution_count": 10,
   "metadata": {},
   "outputs": [
    {
     "data": {
      "text/plain": [
       "<pymysql.cursors.Cursor at 0x1eb120f06d0>"
      ]
     },
     "execution_count": 10,
     "metadata": {},
     "output_type": "execute_result"
    }
   ],
   "source": [
    "cursor # 커서의 객체 확인"
   ]
  },
  {
   "cell_type": "code",
   "execution_count": 11,
   "metadata": {},
   "outputs": [
    {
     "data": {
      "text/plain": [
       "0"
      ]
     },
     "execution_count": 11,
     "metadata": {},
     "output_type": "execute_result"
    }
   ],
   "source": [
    "# 테이블 생성 SQL 실행\n",
    "sql = \"\"\"\n",
    "    CREATE TABLE product (\n",
    "        PRODUCT_CODE VARCHAR(20) NOT NULL,\n",
    "        TITLE VARCHAR(200) NOT NULL,\n",
    "        ORI_PRICE INT,\n",
    "        DISCOUNT_PRICE INT,\n",
    "        DISCOUNT_PERCENT INT,\n",
    "        DELIVERY VARCHAR(2),\n",
    "        CONSTRAINT PRIMARY KEY FK_product_PRODUCT_CODE (PRODUCT_CODE)\n",
    "    );\n",
    "\"\"\"\n",
    "cursor.execute(sql) # 0이 나오면 정상 실행"
   ]
  },
  {
   "cell_type": "code",
   "execution_count": 12,
   "metadata": {},
   "outputs": [
    {
     "data": {
      "text/plain": [
       "(('product',),)"
      ]
     },
     "execution_count": 12,
     "metadata": {},
     "output_type": "execute_result"
    }
   ],
   "source": [
    "# 테이블 조회\n",
    "sql = \"SHOW TABLES\"\n",
    "cursor.execute(sql)\n",
    "result = cursor.fetchall()\n",
    "result"
   ]
  },
  {
   "cell_type": "code",
   "execution_count": 13,
   "metadata": {},
   "outputs": [],
   "source": [
    "db.close() # 연결 종료"
   ]
  },
  {
   "cell_type": "markdown",
   "metadata": {},
   "source": [
    "# 8/28"
   ]
  },
  {
   "cell_type": "markdown",
   "metadata": {},
   "source": [
    "## 패턴 익히기"
   ]
  },
  {
   "cell_type": "code",
   "execution_count": 7,
   "metadata": {},
   "outputs": [],
   "source": [
    "# 라이브러리 가져오기\n",
    "import pymysql\n",
    "\n",
    "# DB 접속\n",
    "db = pymysql.connect(host='localhost', port=3306, user='root', passwd='1234',\n",
    "                     db='ecommerce', charset='utf8')"
   ]
  },
  {
   "cell_type": "code",
   "execution_count": 3,
   "metadata": {},
   "outputs": [],
   "source": [
    "# 커서 가져오기\n",
    "cursor = db.cursor()\n",
    "\n",
    "# SQL 구문 만들기\n",
    "sql = '''\n",
    "    CREATE TABLE product2 (\n",
    "        PRODUCT_CODE VARCHAR(20) NOT NULL,\n",
    "        TITLE VARCHAR(200) NOT NULL,\n",
    "        ORI_PRICE INT,\n",
    "        DISCOUNT_PRICE INT,\n",
    "        DISCOUNT_PERCENT INT,\n",
    "        DELIVERY VARCHAR(2),\n",
    "        CONSTRAINT PRIMARY KEY PK_product2_PRUDUCT_CODE (PRODUCT_CODE)\n",
    "    );\n",
    "'''"
   ]
  },
  {
   "cell_type": "code",
   "execution_count": 4,
   "metadata": {},
   "outputs": [
    {
     "data": {
      "text/plain": [
       "0"
      ]
     },
     "execution_count": 4,
     "metadata": {},
     "output_type": "execute_result"
    }
   ],
   "source": [
    "# SQL 구문 실행\n",
    "cursor.execute(sql)"
   ]
  },
  {
   "cell_type": "code",
   "execution_count": 5,
   "metadata": {},
   "outputs": [],
   "source": [
    "# commit 하기\n",
    "db.commit()"
   ]
  },
  {
   "cell_type": "code",
   "execution_count": 10,
   "metadata": {},
   "outputs": [],
   "source": [
    "# db 연결 닫기\n",
    "db.close()"
   ]
  },
  {
   "cell_type": "code",
   "execution_count": null,
   "metadata": {},
   "outputs": [],
   "source": []
  }
 ],
 "metadata": {
  "kernelspec": {
   "display_name": "Python 3",
   "language": "python",
   "name": "python3"
  },
  "language_info": {
   "codemirror_mode": {
    "name": "ipython",
    "version": 3
   },
   "file_extension": ".py",
   "mimetype": "text/x-python",
   "name": "python",
   "nbconvert_exporter": "python",
   "pygments_lexer": "ipython3",
   "version": "3.11.3"
  },
  "orig_nbformat": 4
 },
 "nbformat": 4,
 "nbformat_minor": 2
}
