{
 "cells": [
  {
   "cell_type": "markdown",
   "metadata": {},
   "source": [
    "- 스칼라\n",
    "    - 선형대수에서 가장 기본적인 개념. 크기만으로 나타낼 수 있는 물리량을 의미한다. ex) 길이, 부피, 거리 등 크기로마 ㄴ나타낼 수 있는 것\n",
    "    - 쉽게 말해서 우리 주변에서 볼 수 있는 '숫자 하나'로 표현된 것은 대부분 스칼라라고 생각할 수 있음.\n",
    "    - 벡터(vector)와 행렬(matrix)을 구성하는 기본 원소를 의미하며 하나의 숫자로 구성되어 있다.\n",
    "    - 스칼라는 기하학적으로는 축 위의 점 하나로 표현할 수 있다."
   ]
  },
  {
   "cell_type": "code",
   "execution_count": 1,
   "metadata": {},
   "outputs": [
    {
     "name": "stdout",
     "output_type": "stream",
     "text": [
      "2\n",
      "3\n"
     ]
    }
   ],
   "source": [
    "# 스칼라의 예시\n",
    "x = 2   # x의 값은 2이며, 이때 2는 스칼라 값을 의미한다.\n",
    "print(x)\n",
    "x = 3   # x의 값을 변경할 수 있다.\n",
    "print(x)"
   ]
  },
  {
   "cell_type": "markdown",
   "metadata": {},
   "source": [
    "- 스칼라의 기본 연산\n",
    "    - 스칼라의 기본연산은 일반적인 사칙연산과 동일하다."
   ]
  },
  {
   "cell_type": "code",
   "execution_count": 2,
   "metadata": {},
   "outputs": [
    {
     "name": "stdout",
     "output_type": "stream",
     "text": [
      "5\n"
     ]
    }
   ],
   "source": [
    "# 스칼라의 덧셈\n",
    "x = 2\n",
    "y = 3\n",
    "z = x + y\n",
    "print(z)"
   ]
  },
  {
   "cell_type": "code",
   "execution_count": 3,
   "metadata": {},
   "outputs": [
    {
     "name": "stdout",
     "output_type": "stream",
     "text": [
      "3\n"
     ]
    }
   ],
   "source": [
    "# 스칼라의 뺄셈\n",
    "x = 4\n",
    "y = 1\n",
    "z = x - y\n",
    "print(z)"
   ]
  },
  {
   "cell_type": "code",
   "execution_count": 4,
   "metadata": {},
   "outputs": [
    {
     "name": "stdout",
     "output_type": "stream",
     "text": [
      "15\n"
     ]
    }
   ],
   "source": [
    "# 스칼라의 곱셈\n",
    "x = 5\n",
    "y = 3\n",
    "z = x * y\n",
    "print(z)"
   ]
  },
  {
   "cell_type": "code",
   "execution_count": 5,
   "metadata": {},
   "outputs": [
    {
     "name": "stdout",
     "output_type": "stream",
     "text": [
      "2.5\n"
     ]
    }
   ],
   "source": [
    "# 스칼라의 나눗셈\n",
    "x = 5\n",
    "y = 2\n",
    "z = x / y\n",
    "print(z)"
   ]
  },
  {
   "cell_type": "markdown",
   "metadata": {},
   "source": [
    "- 벡터\n",
    "    - 스칼라의 집합이며, 행렬(matrix)을 구성하는 기본단위.\n",
    "    - 크기만 나타내는 스칼라와 달리 벡터는 크기와 방향을 모두 나타내는 개념\n",
    "    - 벡터를 구성하는 각 숫자는 공간상의 좌표를 나타낸다.\n",
    "    - 기하학적으로 표현할 때 화살표의 길이가 벡터의 크기, 화살표의 방향이 벡터의 방향을 의미한다.\n",
    "    - 크게 열 벡터, 행 벡터로 나눌 수 있으며, 스칼라를 행 방향으로 나타낸 것이 행 벡터(하나의 데이터 레코드), 열 방향으로 나타낸 것이 열 벡터(특정 피처 값들의 모음)이다.\n",
    "    - 벡터의 길이와 방향이 같다면 벡터의 위치가 달라도 서로 동일한 벡터이다.\n",
    "    - 길이가 0인 벡터를 영 벡터(zero vector)라 하며, 시작 지점과 종료 지점이 동일하다."
   ]
  },
  {
   "cell_type": "markdown",
   "metadata": {},
   "source": [
    "- 벡터의 연산\n",
    "    1. 덧셈\n",
    "        - 더하고자 하는 두 벡터의 크기가 동일할 때만 연산이 가능(3차원 공간상의 벡터와 4차원 공간상의 벡터 간에는 덧셈이 불가).\n",
    "        - 두 벡터의 동일한 위치의 벡터 원소들끼리 더하면 결과를 구할 수 있음\n",
    "        - 교환 법칙이 성립한다.\n",
    "    \n",
    "    2. 뺄셈\n",
    "        - 덧셈과 마찬가지로 두 벡터의 크기가 동일할 때만 연산이 가능\n",
    "    \n",
    "    3. 벡터의 스칼라 곱\n",
    "        - 벡터의 곱 연산 중 가장 기본적인 벡터 곱 연산. 벡터의 스칼라 곱을 이용해 벡터의 길이와 방향을 바꿀 수 있다.\n",
    "\n",
    "- 벡터 연산의 기본 성질: 벡터 u, v, w와 스칼라 a, b가 존재할 때, 벡터의 기본 연산에는 아래와 같은 성질이 성립된다.\n",
    "    1. u + v = v + u\n",
    "    2. (u + v) + w = u + (v + w)\n",
    "    3. u + 0 = 0 + u = u\n",
    "    4. u + (-u) = 0\n",
    "    5. a(bu) = (ab)u\n",
    "    6. a(u + v) = au + av\n",
    "    7. (a + b)u = au + bu"
   ]
  },
  {
   "cell_type": "code",
   "execution_count": 6,
   "metadata": {},
   "outputs": [
    {
     "data": {
      "text/plain": [
       "[5, 7, 9]"
      ]
     },
     "execution_count": 6,
     "metadata": {},
     "output_type": "execute_result"
    }
   ],
   "source": [
    "# 벡터의 덧셈\n",
    "u = [1, 2, 3]\n",
    "v = [4, 5, 6]\n",
    "\n",
    "n = len(u)\n",
    "w = []\n",
    "\n",
    "for i in range(0, n):\n",
    "    val = u[i] + v[i]\n",
    "    w.append(val)\n",
    "w"
   ]
  },
  {
   "cell_type": "code",
   "execution_count": 7,
   "metadata": {},
   "outputs": [
    {
     "data": {
      "text/plain": [
       "[5, 7, 9]"
      ]
     },
     "execution_count": 7,
     "metadata": {},
     "output_type": "execute_result"
    }
   ],
   "source": [
    "def v_add(u, v):\n",
    "    '''\n",
    "    벡터의 덧셈\n",
    "    입력값: 더하고자 하는 벡터 u, v\n",
    "    출력값: 벡터 u, v의 덧셈 결과 w\n",
    "    '''\n",
    "    n = len(u)\n",
    "    w = []\n",
    "    \n",
    "    for i in range(0, n):\n",
    "        val = u[i] + v[i]\n",
    "        w.append(val)\n",
    "        \n",
    "    return w\n",
    "\n",
    "u = [1, 2, 3]\n",
    "v = [4, 5, 6]\n",
    "v_add(u, v)"
   ]
  },
  {
   "cell_type": "code",
   "execution_count": 8,
   "metadata": {},
   "outputs": [
    {
     "data": {
      "text/plain": [
       "[5, -2, 2]"
      ]
     },
     "execution_count": 8,
     "metadata": {},
     "output_type": "execute_result"
    }
   ],
   "source": [
    "# 벡터의 뺄셈\n",
    "u = [7, 3, 9]\n",
    "v = [2, 5, 7]\n",
    "\n",
    "n = len(u)\n",
    "w = []\n",
    "\n",
    "for i in range(0, n):\n",
    "    val = u[i] - v[i]\n",
    "    w.append(val)\n",
    "w"
   ]
  },
  {
   "cell_type": "code",
   "execution_count": 9,
   "metadata": {},
   "outputs": [
    {
     "data": {
      "text/plain": [
       "[5, -2, 2]"
      ]
     },
     "execution_count": 9,
     "metadata": {},
     "output_type": "execute_result"
    }
   ],
   "source": [
    "def v_subtract(u, v):\n",
    "    '''\n",
    "    벡터의 뺄셈\n",
    "    입력값: 빼고자 하는 벡터 리스트 u, v\n",
    "    출력값: 벡터 u, v의 뺄셈 결과 w\n",
    "    '''\n",
    "    n = len(u)\n",
    "    w = []\n",
    "    \n",
    "    for i in range(0, n):\n",
    "        val = u[i] - v[i]\n",
    "        w.append(val)\n",
    "    return w\n",
    "\n",
    "u = [7, 3, 9]\n",
    "v = [2, 5, 7]\n",
    "v_subtract(u, v)"
   ]
  },
  {
   "cell_type": "code",
   "execution_count": 10,
   "metadata": {},
   "outputs": [
    {
     "name": "stdout",
     "output_type": "stream",
     "text": [
      "[6, 12, 9]\n"
     ]
    }
   ],
   "source": [
    "# 스칼라와 벡터의 곱\n",
    "u = [2, 4, 3]\n",
    "a = 3\n",
    "\n",
    "n = len(u)\n",
    "w = []\n",
    "\n",
    "for i in range(0, n):\n",
    "    val = a * u[i]\n",
    "    w.append(val)\n",
    "print(w)"
   ]
  },
  {
   "cell_type": "code",
   "execution_count": 11,
   "metadata": {},
   "outputs": [
    {
     "data": {
      "text/plain": [
       "[6, 12, 9]"
      ]
     },
     "execution_count": 11,
     "metadata": {},
     "output_type": "execute_result"
    }
   ],
   "source": [
    "def scala_v_mul(a, u):\n",
    "    '''\n",
    "    벡터의 스칼라 곱\n",
    "    입력값: 스칼라 a, 벡터 리스트 u\n",
    "    출력값: 스칼라 a와 벡터 리스트 u의 곱 결과 w\n",
    "    '''\n",
    "    n = len(u)\n",
    "    w = []\n",
    "    \n",
    "    for i in range(0, n):\n",
    "        val = a * u[i]\n",
    "        w.append(val)\n",
    "    return w\n",
    "\n",
    "u = [2, 4, 3]\n",
    "a = 3\n",
    "scala_v_mul(a, u)"
   ]
  },
  {
   "cell_type": "code",
   "execution_count": 13,
   "metadata": {},
   "outputs": [
    {
     "name": "stdout",
     "output_type": "stream",
     "text": [
      "[7, 6, 8]\n"
     ]
    }
   ],
   "source": [
    "# 벡터의 원소 곱\n",
    "u = [1, 2, 4]\n",
    "v = [7, 3, 2]\n",
    "\n",
    "n = len(u)\n",
    "w = []\n",
    "\n",
    "for i in range(0, n):\n",
    "    val = u[i] * v[i]\n",
    "    w.append(val)\n",
    "\n",
    "print(w)"
   ]
  },
  {
   "cell_type": "code",
   "execution_count": 14,
   "metadata": {},
   "outputs": [
    {
     "data": {
      "text/plain": [
       "[7, 6, 8]"
      ]
     },
     "execution_count": 14,
     "metadata": {},
     "output_type": "execute_result"
    }
   ],
   "source": [
    "def v_mul(u, v):\n",
    "    '''\n",
    "    벡터의 원소 곱\n",
    "    입력값: 원소 곱을 하고자 하는 벡터 리스트 u, v\n",
    "    출력값: 벡터 u, v의 원소 곱 결과 w\n",
    "    '''\n",
    "    n = len(u)\n",
    "    w = []\n",
    "    \n",
    "    for i in range(0, n):\n",
    "        val = u[i] * v[i]\n",
    "        w.append(val)\n",
    "    return w\n",
    "\n",
    "u = [1, 2, 4]\n",
    "v = [7, 3, 2]\n",
    "v_mul(u, v)"
   ]
  },
  {
   "cell_type": "code",
   "execution_count": 15,
   "metadata": {},
   "outputs": [
    {
     "name": "stdout",
     "output_type": "stream",
     "text": [
      "[3.0, 2.5, -3.0]\n"
     ]
    }
   ],
   "source": [
    "# 벡터의 나눗셈\n",
    "u = [6, 5, 9]\n",
    "v = [2, 2, -3]\n",
    "\n",
    "n = len(u)\n",
    "w = []\n",
    "\n",
    "for i in range(0, n):\n",
    "    val = u[i] / v[i]\n",
    "    w.append(val)\n",
    "\n",
    "print(w)"
   ]
  },
  {
   "cell_type": "code",
   "execution_count": 16,
   "metadata": {},
   "outputs": [
    {
     "data": {
      "text/plain": [
       "[3.0, 2.5, -3.0]"
      ]
     },
     "execution_count": 16,
     "metadata": {},
     "output_type": "execute_result"
    }
   ],
   "source": [
    "def v_div(u, v):\n",
    "    '''\n",
    "    벡터의 원소 나눗셈\n",
    "    입력값: 원소 나눗셈하고자 하는 벡터 리스트 u, v\n",
    "    출력값: 벡터 u, v의 원소 나눗셈 결과 w'''\n",
    "    n = len(u)\n",
    "    w = []\n",
    "    \n",
    "    for i in range(0, n):\n",
    "        val = u[i] / v[i]\n",
    "        w.append(val)\n",
    "    return w\n",
    "\n",
    "u = [6, 5, 9]\n",
    "v = [2, 2, -3]\n",
    "v_div(u, v)"
   ]
  },
  {
   "cell_type": "code",
   "execution_count": null,
   "metadata": {},
   "outputs": [],
   "source": []
  }
 ],
 "metadata": {
  "kernelspec": {
   "display_name": "mybase",
   "language": "python",
   "name": "python3"
  },
  "language_info": {
   "codemirror_mode": {
    "name": "ipython",
    "version": 3
   },
   "file_extension": ".py",
   "mimetype": "text/x-python",
   "name": "python",
   "nbconvert_exporter": "python",
   "pygments_lexer": "ipython3",
   "version": "3.10.13"
  }
 },
 "nbformat": 4,
 "nbformat_minor": 2
}
