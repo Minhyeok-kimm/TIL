{
 "cells": [
  {
   "cell_type": "markdown",
   "id": "640cfce8",
   "metadata": {},
   "source": [
    "## 데이터 불러오기"
   ]
  },
  {
   "cell_type": "code",
   "execution_count": 38,
   "id": "8391c986",
   "metadata": {},
   "outputs": [
    {
     "data": {
      "text/html": [
       "<div>\n",
       "<style scoped>\n",
       "    .dataframe tbody tr th:only-of-type {\n",
       "        vertical-align: middle;\n",
       "    }\n",
       "\n",
       "    .dataframe tbody tr th {\n",
       "        vertical-align: top;\n",
       "    }\n",
       "\n",
       "    .dataframe thead th {\n",
       "        text-align: right;\n",
       "    }\n",
       "</style>\n",
       "<table border=\"1\" class=\"dataframe\">\n",
       "  <thead>\n",
       "    <tr style=\"text-align: right;\">\n",
       "      <th></th>\n",
       "      <th>Rk</th>\n",
       "      <th>Player</th>\n",
       "      <th>Pos</th>\n",
       "      <th>Age</th>\n",
       "      <th>Tm</th>\n",
       "      <th>G</th>\n",
       "      <th>GS</th>\n",
       "      <th>MP</th>\n",
       "      <th>FG</th>\n",
       "      <th>FGA</th>\n",
       "      <th>FG%</th>\n",
       "      <th>3P</th>\n",
       "      <th>3PA</th>\n",
       "      <th>3P%</th>\n",
       "      <th>2P</th>\n",
       "      <th>2PA</th>\n",
       "      <th>2P%</th>\n",
       "      <th>eFG%</th>\n",
       "      <th>FT</th>\n",
       "      <th>FTA</th>\n",
       "      <th>FT%</th>\n",
       "      <th>ORB</th>\n",
       "      <th>DRB</th>\n",
       "      <th>TRB</th>\n",
       "      <th>AST</th>\n",
       "      <th>STL</th>\n",
       "      <th>BLK</th>\n",
       "      <th>TOV</th>\n",
       "      <th>PF</th>\n",
       "      <th>PTS</th>\n",
       "    </tr>\n",
       "  </thead>\n",
       "  <tbody>\n",
       "    <tr>\n",
       "      <th>0</th>\n",
       "      <td>1</td>\n",
       "      <td>Precious Achiuwa</td>\n",
       "      <td>C</td>\n",
       "      <td>22</td>\n",
       "      <td>TOR</td>\n",
       "      <td>73</td>\n",
       "      <td>28</td>\n",
       "      <td>23.6000</td>\n",
       "      <td>3.6000</td>\n",
       "      <td>8.3000</td>\n",
       "      <td>0.4390</td>\n",
       "      <td>0.8000</td>\n",
       "      <td>2.1000</td>\n",
       "      <td>0.3590</td>\n",
       "      <td>2.9000</td>\n",
       "      <td>6.1000</td>\n",
       "      <td>0.4680</td>\n",
       "      <td>0.4860</td>\n",
       "      <td>1.1000</td>\n",
       "      <td>1.8000</td>\n",
       "      <td>0.5950</td>\n",
       "      <td>2.0000</td>\n",
       "      <td>4.5000</td>\n",
       "      <td>6.5000</td>\n",
       "      <td>1.1000</td>\n",
       "      <td>0.5000</td>\n",
       "      <td>0.6000</td>\n",
       "      <td>1.2000</td>\n",
       "      <td>2.1000</td>\n",
       "      <td>9.1000</td>\n",
       "    </tr>\n",
       "    <tr>\n",
       "      <th>1</th>\n",
       "      <td>2</td>\n",
       "      <td>Steven Adams</td>\n",
       "      <td>C</td>\n",
       "      <td>28</td>\n",
       "      <td>MEM</td>\n",
       "      <td>76</td>\n",
       "      <td>75</td>\n",
       "      <td>26.3000</td>\n",
       "      <td>2.8000</td>\n",
       "      <td>5.1000</td>\n",
       "      <td>0.5470</td>\n",
       "      <td>0.0000</td>\n",
       "      <td>0.0000</td>\n",
       "      <td>0.0000</td>\n",
       "      <td>2.8000</td>\n",
       "      <td>5.0000</td>\n",
       "      <td>0.5480</td>\n",
       "      <td>0.5470</td>\n",
       "      <td>1.4000</td>\n",
       "      <td>2.6000</td>\n",
       "      <td>0.5430</td>\n",
       "      <td>4.6000</td>\n",
       "      <td>5.4000</td>\n",
       "      <td>10.0000</td>\n",
       "      <td>3.4000</td>\n",
       "      <td>0.9000</td>\n",
       "      <td>0.8000</td>\n",
       "      <td>1.5000</td>\n",
       "      <td>2.0000</td>\n",
       "      <td>6.9000</td>\n",
       "    </tr>\n",
       "    <tr>\n",
       "      <th>2</th>\n",
       "      <td>3</td>\n",
       "      <td>Bam Adebayo</td>\n",
       "      <td>C</td>\n",
       "      <td>24</td>\n",
       "      <td>MIA</td>\n",
       "      <td>56</td>\n",
       "      <td>56</td>\n",
       "      <td>32.6000</td>\n",
       "      <td>7.3000</td>\n",
       "      <td>13.0000</td>\n",
       "      <td>0.5570</td>\n",
       "      <td>0.0000</td>\n",
       "      <td>0.1000</td>\n",
       "      <td>0.0000</td>\n",
       "      <td>7.3000</td>\n",
       "      <td>12.9000</td>\n",
       "      <td>0.5620</td>\n",
       "      <td>0.5570</td>\n",
       "      <td>4.6000</td>\n",
       "      <td>6.1000</td>\n",
       "      <td>0.7530</td>\n",
       "      <td>2.4000</td>\n",
       "      <td>7.6000</td>\n",
       "      <td>10.1000</td>\n",
       "      <td>3.4000</td>\n",
       "      <td>1.4000</td>\n",
       "      <td>0.8000</td>\n",
       "      <td>2.6000</td>\n",
       "      <td>3.1000</td>\n",
       "      <td>19.1000</td>\n",
       "    </tr>\n",
       "    <tr>\n",
       "      <th>3</th>\n",
       "      <td>4</td>\n",
       "      <td>Santi Aldama</td>\n",
       "      <td>PF</td>\n",
       "      <td>21</td>\n",
       "      <td>MEM</td>\n",
       "      <td>32</td>\n",
       "      <td>0</td>\n",
       "      <td>11.3000</td>\n",
       "      <td>1.7000</td>\n",
       "      <td>4.1000</td>\n",
       "      <td>0.4020</td>\n",
       "      <td>0.2000</td>\n",
       "      <td>1.5000</td>\n",
       "      <td>0.1250</td>\n",
       "      <td>1.5000</td>\n",
       "      <td>2.6000</td>\n",
       "      <td>0.5600</td>\n",
       "      <td>0.4240</td>\n",
       "      <td>0.6000</td>\n",
       "      <td>1.0000</td>\n",
       "      <td>0.6250</td>\n",
       "      <td>1.0000</td>\n",
       "      <td>1.7000</td>\n",
       "      <td>2.7000</td>\n",
       "      <td>0.7000</td>\n",
       "      <td>0.2000</td>\n",
       "      <td>0.3000</td>\n",
       "      <td>0.5000</td>\n",
       "      <td>1.1000</td>\n",
       "      <td>4.1000</td>\n",
       "    </tr>\n",
       "    <tr>\n",
       "      <th>4</th>\n",
       "      <td>5</td>\n",
       "      <td>LaMarcus Aldridge</td>\n",
       "      <td>C</td>\n",
       "      <td>36</td>\n",
       "      <td>BRK</td>\n",
       "      <td>47</td>\n",
       "      <td>12</td>\n",
       "      <td>22.3000</td>\n",
       "      <td>5.4000</td>\n",
       "      <td>9.7000</td>\n",
       "      <td>0.5500</td>\n",
       "      <td>0.3000</td>\n",
       "      <td>1.0000</td>\n",
       "      <td>0.3040</td>\n",
       "      <td>5.1000</td>\n",
       "      <td>8.8000</td>\n",
       "      <td>0.5780</td>\n",
       "      <td>0.5660</td>\n",
       "      <td>1.9000</td>\n",
       "      <td>2.2000</td>\n",
       "      <td>0.8730</td>\n",
       "      <td>1.6000</td>\n",
       "      <td>3.9000</td>\n",
       "      <td>5.5000</td>\n",
       "      <td>0.9000</td>\n",
       "      <td>0.3000</td>\n",
       "      <td>1.0000</td>\n",
       "      <td>0.9000</td>\n",
       "      <td>1.7000</td>\n",
       "      <td>12.9000</td>\n",
       "    </tr>\n",
       "  </tbody>\n",
       "</table>\n",
       "</div>"
      ],
      "text/plain": [
       "   Rk             Player Pos  Age   Tm   G  GS      MP     FG     FGA    FG%  \\\n",
       "0   1   Precious Achiuwa   C   22  TOR  73  28 23.6000 3.6000  8.3000 0.4390   \n",
       "1   2       Steven Adams   C   28  MEM  76  75 26.3000 2.8000  5.1000 0.5470   \n",
       "2   3        Bam Adebayo   C   24  MIA  56  56 32.6000 7.3000 13.0000 0.5570   \n",
       "3   4       Santi Aldama  PF   21  MEM  32   0 11.3000 1.7000  4.1000 0.4020   \n",
       "4   5  LaMarcus Aldridge   C   36  BRK  47  12 22.3000 5.4000  9.7000 0.5500   \n",
       "\n",
       "      3P    3PA    3P%     2P     2PA    2P%   eFG%     FT    FTA    FT%  \\\n",
       "0 0.8000 2.1000 0.3590 2.9000  6.1000 0.4680 0.4860 1.1000 1.8000 0.5950   \n",
       "1 0.0000 0.0000 0.0000 2.8000  5.0000 0.5480 0.5470 1.4000 2.6000 0.5430   \n",
       "2 0.0000 0.1000 0.0000 7.3000 12.9000 0.5620 0.5570 4.6000 6.1000 0.7530   \n",
       "3 0.2000 1.5000 0.1250 1.5000  2.6000 0.5600 0.4240 0.6000 1.0000 0.6250   \n",
       "4 0.3000 1.0000 0.3040 5.1000  8.8000 0.5780 0.5660 1.9000 2.2000 0.8730   \n",
       "\n",
       "     ORB    DRB     TRB    AST    STL    BLK    TOV     PF     PTS  \n",
       "0 2.0000 4.5000  6.5000 1.1000 0.5000 0.6000 1.2000 2.1000  9.1000  \n",
       "1 4.6000 5.4000 10.0000 3.4000 0.9000 0.8000 1.5000 2.0000  6.9000  \n",
       "2 2.4000 7.6000 10.1000 3.4000 1.4000 0.8000 2.6000 3.1000 19.1000  \n",
       "3 1.0000 1.7000  2.7000 0.7000 0.2000 0.3000 0.5000 1.1000  4.1000  \n",
       "4 1.6000 3.9000  5.5000 0.9000 0.3000 1.0000 0.9000 1.7000 12.9000  "
      ]
     },
     "execution_count": 38,
     "metadata": {},
     "output_type": "execute_result"
    }
   ],
   "source": [
    "import pandas as pd\n",
    "pd.set_option('display.max_columns',50)\n",
    "pd.set_option('display.float_format', '{:.4f}'.format)\n",
    "\n",
    "df = pd.read_csv(\"https://raw.githubusercontent.com/Datamanim/datarepo/main/nba/nba.csv\",encoding='latin',sep=';')\n",
    "df.head()"
   ]
  },
  {
   "cell_type": "markdown",
   "id": "13b9dee1",
   "metadata": {},
   "source": [
    "## 1. Tm 컬럼은 각 팀의 이름을 의미한다. TOR팀의 평균나이를 소수 4째 자리까지 구하여라"
   ]
  },
  {
   "cell_type": "code",
   "execution_count": null,
   "id": "25080e4b",
   "metadata": {},
   "outputs": [],
   "source": []
  },
  {
   "cell_type": "markdown",
   "id": "d34e7348",
   "metadata": {},
   "source": [
    "## 2. Pos 컬럼은 포지션을 의미한다. 전체 선수 중 최소나이대의 선수들을 필터하고 그들 중 가장 많은 포지션은 무엇인지 확인하라"
   ]
  },
  {
   "cell_type": "code",
   "execution_count": null,
   "id": "c40b12bf",
   "metadata": {},
   "outputs": [],
   "source": []
  },
  {
   "cell_type": "markdown",
   "id": "881252a0",
   "metadata": {},
   "source": [
    "## 3. 선수들의 이름은 first_name+ 공백 + last_name으로 이루어져 있다. 가장 많은 first_name은 무엇이며 몇 회 발생하는지 확인하라"
   ]
  },
  {
   "cell_type": "code",
   "execution_count": null,
   "id": "24b0dacf",
   "metadata": {},
   "outputs": [],
   "source": []
  },
  {
   "cell_type": "markdown",
   "id": "68233ca1",
   "metadata": {},
   "source": [
    "## 4. PTS컬럼은 경기당 평균득점수 이다. 각포지션별로 경기당 평균득점수의 평균을 구하여라"
   ]
  },
  {
   "cell_type": "code",
   "execution_count": null,
   "id": "d38537cb",
   "metadata": {},
   "outputs": [],
   "source": []
  },
  {
   "cell_type": "markdown",
   "id": "b321fcb6",
   "metadata": {},
   "source": [
    "## 5. G컬럼은 참여한 경기의 숫자이다. 각 팀별로 가장 높은 경기참여 수를 가진 선수들의 경기 참여 숫자의 평균을 구하여라"
   ]
  },
  {
   "cell_type": "code",
   "execution_count": null,
   "id": "057cdac7",
   "metadata": {},
   "outputs": [],
   "source": []
  },
  {
   "cell_type": "markdown",
   "id": "d8b25978",
   "metadata": {},
   "source": [
    "## 6. Tm의 값이 MIA이며 Pos는 C또는 PF인 선수의 MP값의 평균은"
   ]
  },
  {
   "cell_type": "code",
   "execution_count": null,
   "id": "4a4c2e6d",
   "metadata": {},
   "outputs": [],
   "source": []
  },
  {
   "cell_type": "markdown",
   "id": "67a48a00",
   "metadata": {},
   "source": [
    "## 7. 전체 데이터중 G의 평균값의 1.5배 이상인 데이터들만 추출했을때 3P값의 평균은?"
   ]
  },
  {
   "cell_type": "code",
   "execution_count": null,
   "id": "2b361015",
   "metadata": {},
   "outputs": [],
   "source": []
  },
  {
   "cell_type": "markdown",
   "id": "be18c9b0",
   "metadata": {},
   "source": [
    "## 8.  Age의 평균 이상인 그룹과 평균 미만인 그룹간의 G값의 평균의 차이는?"
   ]
  },
  {
   "cell_type": "code",
   "execution_count": null,
   "id": "a3d38d0e",
   "metadata": {},
   "outputs": [],
   "source": []
  },
  {
   "cell_type": "markdown",
   "id": "58047ae8",
   "metadata": {},
   "source": [
    "## 9. 평균나이가 가장 젊은 팀은 어디인가"
   ]
  },
  {
   "cell_type": "code",
   "execution_count": null,
   "id": "c9df080c",
   "metadata": {},
   "outputs": [],
   "source": []
  },
  {
   "cell_type": "markdown",
   "id": "13370fbf",
   "metadata": {},
   "source": [
    "## 10. Pos그룹별 평균 MP값을 구하여라"
   ]
  },
  {
   "cell_type": "code",
   "execution_count": null,
   "id": "39c34df0",
   "metadata": {},
   "outputs": [],
   "source": []
  }
 ],
 "metadata": {
  "kernelspec": {
   "display_name": "Python 3 (ipykernel)",
   "language": "python",
   "name": "python3"
  },
  "language_info": {
   "codemirror_mode": {
    "name": "ipython",
    "version": 3
   },
   "file_extension": ".py",
   "mimetype": "text/x-python",
   "name": "python",
   "nbconvert_exporter": "python",
   "pygments_lexer": "ipython3",
   "version": "3.9.12"
  }
 },
 "nbformat": 4,
 "nbformat_minor": 5
}
