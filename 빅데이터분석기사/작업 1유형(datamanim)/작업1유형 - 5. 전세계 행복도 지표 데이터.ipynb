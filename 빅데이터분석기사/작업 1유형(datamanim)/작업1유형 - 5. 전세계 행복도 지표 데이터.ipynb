{
 "cells": [
  {
   "cell_type": "markdown",
   "id": "4c3ebee0",
   "metadata": {},
   "source": [
    "## 데이터 불러오기"
   ]
  },
  {
   "cell_type": "code",
   "execution_count": 1,
   "id": "b56b176c",
   "metadata": {
    "scrolled": true
   },
   "outputs": [
    {
     "data": {
      "text/html": [
       "<div>\n",
       "<style scoped>\n",
       "    .dataframe tbody tr th:only-of-type {\n",
       "        vertical-align: middle;\n",
       "    }\n",
       "\n",
       "    .dataframe tbody tr th {\n",
       "        vertical-align: top;\n",
       "    }\n",
       "\n",
       "    .dataframe thead th {\n",
       "        text-align: right;\n",
       "    }\n",
       "</style>\n",
       "<table border=\"1\" class=\"dataframe\">\n",
       "  <thead>\n",
       "    <tr style=\"text-align: right;\">\n",
       "      <th></th>\n",
       "      <th>행복랭킹</th>\n",
       "      <th>나라명</th>\n",
       "      <th>점수</th>\n",
       "      <th>상대GDP</th>\n",
       "      <th>사회적지원</th>\n",
       "      <th>행복기대치</th>\n",
       "      <th>선택의 자유도</th>\n",
       "      <th>관대함</th>\n",
       "      <th>부패에 대한인식</th>\n",
       "      <th>년도</th>\n",
       "    </tr>\n",
       "  </thead>\n",
       "  <tbody>\n",
       "    <tr>\n",
       "      <th>0</th>\n",
       "      <td>1</td>\n",
       "      <td>Finland</td>\n",
       "      <td>7.769</td>\n",
       "      <td>1.340</td>\n",
       "      <td>1.587</td>\n",
       "      <td>0.986</td>\n",
       "      <td>0.596</td>\n",
       "      <td>0.153</td>\n",
       "      <td>0.393</td>\n",
       "      <td>2019</td>\n",
       "    </tr>\n",
       "    <tr>\n",
       "      <th>1</th>\n",
       "      <td>2</td>\n",
       "      <td>Denmark</td>\n",
       "      <td>7.600</td>\n",
       "      <td>1.383</td>\n",
       "      <td>1.573</td>\n",
       "      <td>0.996</td>\n",
       "      <td>0.592</td>\n",
       "      <td>0.252</td>\n",
       "      <td>0.410</td>\n",
       "      <td>2019</td>\n",
       "    </tr>\n",
       "    <tr>\n",
       "      <th>2</th>\n",
       "      <td>3</td>\n",
       "      <td>Norway</td>\n",
       "      <td>7.554</td>\n",
       "      <td>1.488</td>\n",
       "      <td>1.582</td>\n",
       "      <td>1.028</td>\n",
       "      <td>0.603</td>\n",
       "      <td>0.271</td>\n",
       "      <td>0.341</td>\n",
       "      <td>2019</td>\n",
       "    </tr>\n",
       "    <tr>\n",
       "      <th>3</th>\n",
       "      <td>4</td>\n",
       "      <td>Iceland</td>\n",
       "      <td>7.494</td>\n",
       "      <td>1.380</td>\n",
       "      <td>1.624</td>\n",
       "      <td>1.026</td>\n",
       "      <td>0.591</td>\n",
       "      <td>0.354</td>\n",
       "      <td>0.118</td>\n",
       "      <td>2019</td>\n",
       "    </tr>\n",
       "    <tr>\n",
       "      <th>4</th>\n",
       "      <td>5</td>\n",
       "      <td>Netherlands</td>\n",
       "      <td>7.488</td>\n",
       "      <td>1.396</td>\n",
       "      <td>1.522</td>\n",
       "      <td>0.999</td>\n",
       "      <td>0.557</td>\n",
       "      <td>0.322</td>\n",
       "      <td>0.298</td>\n",
       "      <td>2019</td>\n",
       "    </tr>\n",
       "  </tbody>\n",
       "</table>\n",
       "</div>"
      ],
      "text/plain": [
       "   행복랭킹          나라명     점수  상대GDP  사회적지원  행복기대치  선택의 자유도    관대함  부패에 대한인식  \\\n",
       "0     1      Finland  7.769  1.340  1.587  0.986    0.596  0.153     0.393   \n",
       "1     2      Denmark  7.600  1.383  1.573  0.996    0.592  0.252     0.410   \n",
       "2     3       Norway  7.554  1.488  1.582  1.028    0.603  0.271     0.341   \n",
       "3     4      Iceland  7.494  1.380  1.624  1.026    0.591  0.354     0.118   \n",
       "4     5  Netherlands  7.488  1.396  1.522  0.999    0.557  0.322     0.298   \n",
       "\n",
       "     년도  \n",
       "0  2019  \n",
       "1  2019  \n",
       "2  2019  \n",
       "3  2019  \n",
       "4  2019  "
      ]
     },
     "execution_count": 1,
     "metadata": {},
     "output_type": "execute_result"
    }
   ],
   "source": [
    "import pandas as pd\n",
    "df =pd.read_csv('https://raw.githubusercontent.com/Datamanim/datarepo/main/happy2/happiness.csv',encoding='utf-8')\n",
    "df.head()"
   ]
  },
  {
   "cell_type": "markdown",
   "id": "d289771e",
   "metadata": {},
   "source": [
    "## 1. 데이터는 2018년도와 2019년도의 전세계 행복 지수를 표현한다. 각년도의 행복랭킹 10위를 차지한 나라의 행복점수의 평균을 구하여라"
   ]
  },
  {
   "cell_type": "code",
   "execution_count": null,
   "id": "66d78dce",
   "metadata": {},
   "outputs": [],
   "source": []
  },
  {
   "cell_type": "markdown",
   "id": "caeb0157",
   "metadata": {},
   "source": [
    "## 2. 데이터는 2018년도와 2019년도의 전세계 행복 지수를 표현한다. 각년도의 행복랭킹 50위이내의 나라들의 각각의 행복점수 평균을 데이터프레임으로 표시하라"
   ]
  },
  {
   "cell_type": "code",
   "execution_count": null,
   "id": "75e2ffd3",
   "metadata": {},
   "outputs": [],
   "source": []
  },
  {
   "cell_type": "markdown",
   "id": "121f054a",
   "metadata": {},
   "source": [
    "## 3. 2018년도 데이터들만 추출하여 행복점수와 부패에 대한 인식에 대한 상관계수를 구하여라"
   ]
  },
  {
   "cell_type": "code",
   "execution_count": null,
   "id": "a45ab3ef",
   "metadata": {},
   "outputs": [],
   "source": []
  },
  {
   "cell_type": "markdown",
   "id": "59081221",
   "metadata": {},
   "source": [
    "## 4. 2018년도와 2019년도의 행복랭킹이 변화하지 않은 나라명의 수를 구하여라"
   ]
  },
  {
   "cell_type": "code",
   "execution_count": null,
   "id": "4bba1e15",
   "metadata": {},
   "outputs": [],
   "source": []
  },
  {
   "cell_type": "markdown",
   "id": "1d1c1291",
   "metadata": {},
   "source": [
    "## 5. 2019년도 데이터들만 추출하여 각변수간 상관계수를 구하고 내림차순으로 정렬한 후 상위 5개를 데이터 프레임으로 출력하라. 컬럼명은 v1,v2,corr으로 표시하라"
   ]
  },
  {
   "cell_type": "code",
   "execution_count": null,
   "id": "f1290453",
   "metadata": {},
   "outputs": [],
   "source": []
  },
  {
   "cell_type": "markdown",
   "id": "0affd48d",
   "metadata": {},
   "source": [
    "## 6. 각 년도별 하위 행복점수의 하위 5개 국가의 평균 행복점수를 구하여라"
   ]
  },
  {
   "cell_type": "code",
   "execution_count": null,
   "id": "760e3115",
   "metadata": {},
   "outputs": [],
   "source": []
  },
  {
   "cell_type": "markdown",
   "id": "3b205af5",
   "metadata": {},
   "source": [
    "## 7. 2019년 데이터를 추출하고 해당데이터의 상대 GDP 평균 이상의 나라들과 평균 이하의 나라들의 행복점수 평균을 각각 구하고 그 차이값을 출력하라"
   ]
  },
  {
   "cell_type": "code",
   "execution_count": null,
   "id": "e2cde23e",
   "metadata": {},
   "outputs": [],
   "source": []
  },
  {
   "cell_type": "markdown",
   "id": "fc423f32",
   "metadata": {},
   "source": [
    "## 8. 각년도의 부패에 대한인식을 내림차순 정렬했을때 상위 20개 국가의 부패에 대한인식의 평균을 구하여라"
   ]
  },
  {
   "cell_type": "code",
   "execution_count": null,
   "id": "e810a649",
   "metadata": {},
   "outputs": [],
   "source": []
  },
  {
   "cell_type": "markdown",
   "id": "3e93d0ac",
   "metadata": {},
   "source": [
    "## 9. 2018년도 행복랭킹 50위 이내에 포함됐다가 2019년 50위 밖으로 밀려난 국가의 숫자를 구하여라"
   ]
  },
  {
   "cell_type": "code",
   "execution_count": null,
   "id": "6f7d6851",
   "metadata": {},
   "outputs": [],
   "source": []
  },
  {
   "cell_type": "markdown",
   "id": "fc604c96",
   "metadata": {},
   "source": [
    "## 10. 2018년,2019년 모두 기록이 있는 나라들 중 년도별 행복점수가 가장 증가한 나라와 그 증가 수치는?"
   ]
  },
  {
   "cell_type": "code",
   "execution_count": null,
   "id": "0bc3a8f6",
   "metadata": {},
   "outputs": [],
   "source": []
  }
 ],
 "metadata": {
  "kernelspec": {
   "display_name": "Python 3 (ipykernel)",
   "language": "python",
   "name": "python3"
  },
  "language_info": {
   "codemirror_mode": {
    "name": "ipython",
    "version": 3
   },
   "file_extension": ".py",
   "mimetype": "text/x-python",
   "name": "python",
   "nbconvert_exporter": "python",
   "pygments_lexer": "ipython3",
   "version": "3.9.12"
  }
 },
 "nbformat": 4,
 "nbformat_minor": 5
}
