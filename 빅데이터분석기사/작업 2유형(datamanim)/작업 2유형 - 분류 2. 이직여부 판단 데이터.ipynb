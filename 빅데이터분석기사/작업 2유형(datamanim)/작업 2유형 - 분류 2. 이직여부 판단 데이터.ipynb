{
 "cells": [
  {
   "attachments": {},
   "cell_type": "markdown",
   "id": "0100bdec",
   "metadata": {},
   "source": [
    "## 라이브러리"
   ]
  },
  {
   "cell_type": "code",
   "execution_count": 1,
   "id": "47090641",
   "metadata": {},
   "outputs": [],
   "source": [
    "import numpy as np\n",
    "import pandas as pd"
   ]
  },
  {
   "attachments": {},
   "cell_type": "markdown",
   "id": "38cb67f5",
   "metadata": {},
   "source": [
    "## 데이터 불러오기"
   ]
  },
  {
   "cell_type": "code",
   "execution_count": 2,
   "id": "e4ebbfcf",
   "metadata": {},
   "outputs": [
    {
     "data": {
      "text/html": [
       "<div>\n",
       "<style scoped>\n",
       "    .dataframe tbody tr th:only-of-type {\n",
       "        vertical-align: middle;\n",
       "    }\n",
       "\n",
       "    .dataframe tbody tr th {\n",
       "        vertical-align: top;\n",
       "    }\n",
       "\n",
       "    .dataframe thead th {\n",
       "        text-align: right;\n",
       "    }\n",
       "</style>\n",
       "<table border=\"1\" class=\"dataframe\">\n",
       "  <thead>\n",
       "    <tr style=\"text-align: right;\">\n",
       "      <th></th>\n",
       "      <th>enrollee_id</th>\n",
       "      <th>city</th>\n",
       "      <th>city_development_index</th>\n",
       "      <th>gender</th>\n",
       "      <th>relevent_experience</th>\n",
       "      <th>enrolled_university</th>\n",
       "      <th>education_level</th>\n",
       "      <th>major_discipline</th>\n",
       "      <th>experience</th>\n",
       "      <th>company_size</th>\n",
       "      <th>company_type</th>\n",
       "      <th>last_new_job</th>\n",
       "      <th>training_hours</th>\n",
       "    </tr>\n",
       "  </thead>\n",
       "  <tbody>\n",
       "    <tr>\n",
       "      <th>0</th>\n",
       "      <td>25298</td>\n",
       "      <td>city_138</td>\n",
       "      <td>0.836</td>\n",
       "      <td>Male</td>\n",
       "      <td>No relevent experience</td>\n",
       "      <td>Full time course</td>\n",
       "      <td>High School</td>\n",
       "      <td>NaN</td>\n",
       "      <td>5</td>\n",
       "      <td>100-500</td>\n",
       "      <td>Pvt Ltd</td>\n",
       "      <td>1</td>\n",
       "      <td>45</td>\n",
       "    </tr>\n",
       "    <tr>\n",
       "      <th>1</th>\n",
       "      <td>4241</td>\n",
       "      <td>city_160</td>\n",
       "      <td>0.920</td>\n",
       "      <td>Male</td>\n",
       "      <td>No relevent experience</td>\n",
       "      <td>Full time course</td>\n",
       "      <td>High School</td>\n",
       "      <td>NaN</td>\n",
       "      <td>5</td>\n",
       "      <td>NaN</td>\n",
       "      <td>NaN</td>\n",
       "      <td>1</td>\n",
       "      <td>17</td>\n",
       "    </tr>\n",
       "    <tr>\n",
       "      <th>2</th>\n",
       "      <td>24086</td>\n",
       "      <td>city_57</td>\n",
       "      <td>0.866</td>\n",
       "      <td>Male</td>\n",
       "      <td>No relevent experience</td>\n",
       "      <td>no_enrollment</td>\n",
       "      <td>Graduate</td>\n",
       "      <td>STEM</td>\n",
       "      <td>10</td>\n",
       "      <td>NaN</td>\n",
       "      <td>NaN</td>\n",
       "      <td>1</td>\n",
       "      <td>50</td>\n",
       "    </tr>\n",
       "    <tr>\n",
       "      <th>3</th>\n",
       "      <td>26773</td>\n",
       "      <td>city_16</td>\n",
       "      <td>0.910</td>\n",
       "      <td>Male</td>\n",
       "      <td>Has relevent experience</td>\n",
       "      <td>no_enrollment</td>\n",
       "      <td>Graduate</td>\n",
       "      <td>STEM</td>\n",
       "      <td>&gt;20</td>\n",
       "      <td>50-99</td>\n",
       "      <td>Pvt Ltd</td>\n",
       "      <td>&gt;4</td>\n",
       "      <td>135</td>\n",
       "    </tr>\n",
       "    <tr>\n",
       "      <th>4</th>\n",
       "      <td>32325</td>\n",
       "      <td>city_143</td>\n",
       "      <td>0.740</td>\n",
       "      <td>NaN</td>\n",
       "      <td>No relevent experience</td>\n",
       "      <td>Full time course</td>\n",
       "      <td>Graduate</td>\n",
       "      <td>STEM</td>\n",
       "      <td>5</td>\n",
       "      <td>NaN</td>\n",
       "      <td>NaN</td>\n",
       "      <td>never</td>\n",
       "      <td>17</td>\n",
       "    </tr>\n",
       "  </tbody>\n",
       "</table>\n",
       "</div>"
      ],
      "text/plain": [
       "   enrollee_id      city  city_development_index gender   \n",
       "0        25298  city_138                   0.836   Male  \\\n",
       "1         4241  city_160                   0.920   Male   \n",
       "2        24086   city_57                   0.866   Male   \n",
       "3        26773   city_16                   0.910   Male   \n",
       "4        32325  city_143                   0.740    NaN   \n",
       "\n",
       "       relevent_experience enrolled_university education_level   \n",
       "0   No relevent experience    Full time course     High School  \\\n",
       "1   No relevent experience    Full time course     High School   \n",
       "2   No relevent experience       no_enrollment        Graduate   \n",
       "3  Has relevent experience       no_enrollment        Graduate   \n",
       "4   No relevent experience    Full time course        Graduate   \n",
       "\n",
       "  major_discipline experience company_size company_type last_new_job   \n",
       "0              NaN          5      100-500      Pvt Ltd            1  \\\n",
       "1              NaN          5          NaN          NaN            1   \n",
       "2             STEM         10          NaN          NaN            1   \n",
       "3             STEM        >20        50-99      Pvt Ltd           >4   \n",
       "4             STEM          5          NaN          NaN        never   \n",
       "\n",
       "   training_hours  \n",
       "0              45  \n",
       "1              17  \n",
       "2              50  \n",
       "3             135  \n",
       "4              17  "
      ]
     },
     "metadata": {},
     "output_type": "display_data"
    },
    {
     "data": {
      "text/html": [
       "<div>\n",
       "<style scoped>\n",
       "    .dataframe tbody tr th:only-of-type {\n",
       "        vertical-align: middle;\n",
       "    }\n",
       "\n",
       "    .dataframe tbody tr th {\n",
       "        vertical-align: top;\n",
       "    }\n",
       "\n",
       "    .dataframe thead th {\n",
       "        text-align: right;\n",
       "    }\n",
       "</style>\n",
       "<table border=\"1\" class=\"dataframe\">\n",
       "  <thead>\n",
       "    <tr style=\"text-align: right;\">\n",
       "      <th></th>\n",
       "      <th>enrollee_id</th>\n",
       "      <th>city</th>\n",
       "      <th>city_development_index</th>\n",
       "      <th>gender</th>\n",
       "      <th>relevent_experience</th>\n",
       "      <th>enrolled_university</th>\n",
       "      <th>education_level</th>\n",
       "      <th>major_discipline</th>\n",
       "      <th>experience</th>\n",
       "      <th>company_size</th>\n",
       "      <th>company_type</th>\n",
       "      <th>last_new_job</th>\n",
       "      <th>training_hours</th>\n",
       "    </tr>\n",
       "  </thead>\n",
       "  <tbody>\n",
       "    <tr>\n",
       "      <th>0</th>\n",
       "      <td>7129</td>\n",
       "      <td>city_23</td>\n",
       "      <td>0.899</td>\n",
       "      <td>Male</td>\n",
       "      <td>No relevent experience</td>\n",
       "      <td>no_enrollment</td>\n",
       "      <td>Graduate</td>\n",
       "      <td>STEM</td>\n",
       "      <td>2</td>\n",
       "      <td>NaN</td>\n",
       "      <td>NaN</td>\n",
       "      <td>1</td>\n",
       "      <td>23</td>\n",
       "    </tr>\n",
       "    <tr>\n",
       "      <th>1</th>\n",
       "      <td>31037</td>\n",
       "      <td>city_44</td>\n",
       "      <td>0.725</td>\n",
       "      <td>Male</td>\n",
       "      <td>No relevent experience</td>\n",
       "      <td>Part time course</td>\n",
       "      <td>Masters</td>\n",
       "      <td>STEM</td>\n",
       "      <td>5</td>\n",
       "      <td>NaN</td>\n",
       "      <td>NaN</td>\n",
       "      <td>never</td>\n",
       "      <td>39</td>\n",
       "    </tr>\n",
       "    <tr>\n",
       "      <th>2</th>\n",
       "      <td>22179</td>\n",
       "      <td>city_103</td>\n",
       "      <td>0.920</td>\n",
       "      <td>Male</td>\n",
       "      <td>No relevent experience</td>\n",
       "      <td>Full time course</td>\n",
       "      <td>Graduate</td>\n",
       "      <td>STEM</td>\n",
       "      <td>7</td>\n",
       "      <td>NaN</td>\n",
       "      <td>NaN</td>\n",
       "      <td>2</td>\n",
       "      <td>262</td>\n",
       "    </tr>\n",
       "    <tr>\n",
       "      <th>3</th>\n",
       "      <td>29724</td>\n",
       "      <td>city_50</td>\n",
       "      <td>0.896</td>\n",
       "      <td>Male</td>\n",
       "      <td>No relevent experience</td>\n",
       "      <td>Full time course</td>\n",
       "      <td>Graduate</td>\n",
       "      <td>STEM</td>\n",
       "      <td>7</td>\n",
       "      <td>NaN</td>\n",
       "      <td>NaN</td>\n",
       "      <td>never</td>\n",
       "      <td>78</td>\n",
       "    </tr>\n",
       "    <tr>\n",
       "      <th>4</th>\n",
       "      <td>17977</td>\n",
       "      <td>city_149</td>\n",
       "      <td>0.689</td>\n",
       "      <td>Female</td>\n",
       "      <td>Has relevent experience</td>\n",
       "      <td>Full time course</td>\n",
       "      <td>Masters</td>\n",
       "      <td>STEM</td>\n",
       "      <td>19</td>\n",
       "      <td>50-99</td>\n",
       "      <td>Pvt Ltd</td>\n",
       "      <td>1</td>\n",
       "      <td>125</td>\n",
       "    </tr>\n",
       "  </tbody>\n",
       "</table>\n",
       "</div>"
      ],
      "text/plain": [
       "   enrollee_id      city  city_development_index  gender   \n",
       "0         7129   city_23                   0.899    Male  \\\n",
       "1        31037   city_44                   0.725    Male   \n",
       "2        22179  city_103                   0.920    Male   \n",
       "3        29724   city_50                   0.896    Male   \n",
       "4        17977  city_149                   0.689  Female   \n",
       "\n",
       "       relevent_experience enrolled_university education_level   \n",
       "0   No relevent experience       no_enrollment        Graduate  \\\n",
       "1   No relevent experience    Part time course         Masters   \n",
       "2   No relevent experience    Full time course        Graduate   \n",
       "3   No relevent experience    Full time course        Graduate   \n",
       "4  Has relevent experience    Full time course         Masters   \n",
       "\n",
       "  major_discipline experience company_size company_type last_new_job   \n",
       "0             STEM          2          NaN          NaN            1  \\\n",
       "1             STEM          5          NaN          NaN        never   \n",
       "2             STEM          7          NaN          NaN            2   \n",
       "3             STEM          7          NaN          NaN        never   \n",
       "4             STEM         19        50-99      Pvt Ltd            1   \n",
       "\n",
       "   training_hours  \n",
       "0              23  \n",
       "1              39  \n",
       "2             262  \n",
       "3              78  \n",
       "4             125  "
      ]
     },
     "metadata": {},
     "output_type": "display_data"
    },
    {
     "data": {
      "text/html": [
       "<div>\n",
       "<style scoped>\n",
       "    .dataframe tbody tr th:only-of-type {\n",
       "        vertical-align: middle;\n",
       "    }\n",
       "\n",
       "    .dataframe tbody tr th {\n",
       "        vertical-align: top;\n",
       "    }\n",
       "\n",
       "    .dataframe thead th {\n",
       "        text-align: right;\n",
       "    }\n",
       "</style>\n",
       "<table border=\"1\" class=\"dataframe\">\n",
       "  <thead>\n",
       "    <tr style=\"text-align: right;\">\n",
       "      <th></th>\n",
       "      <th>enrollee_id</th>\n",
       "      <th>target</th>\n",
       "    </tr>\n",
       "  </thead>\n",
       "  <tbody>\n",
       "    <tr>\n",
       "      <th>0</th>\n",
       "      <td>25298</td>\n",
       "      <td>0.0</td>\n",
       "    </tr>\n",
       "    <tr>\n",
       "      <th>1</th>\n",
       "      <td>4241</td>\n",
       "      <td>1.0</td>\n",
       "    </tr>\n",
       "    <tr>\n",
       "      <th>2</th>\n",
       "      <td>24086</td>\n",
       "      <td>0.0</td>\n",
       "    </tr>\n",
       "    <tr>\n",
       "      <th>3</th>\n",
       "      <td>26773</td>\n",
       "      <td>0.0</td>\n",
       "    </tr>\n",
       "    <tr>\n",
       "      <th>4</th>\n",
       "      <td>32325</td>\n",
       "      <td>1.0</td>\n",
       "    </tr>\n",
       "  </tbody>\n",
       "</table>\n",
       "</div>"
      ],
      "text/plain": [
       "   enrollee_id  target\n",
       "0        25298     0.0\n",
       "1         4241     1.0\n",
       "2        24086     0.0\n",
       "3        26773     0.0\n",
       "4        32325     1.0"
      ]
     },
     "metadata": {},
     "output_type": "display_data"
    }
   ],
   "source": [
    "#데이터 로드\n",
    "x_train = pd.read_csv(\"https://raw.githubusercontent.com/Datamanim/datarepo/main/HRdata/X_train.csv\")\n",
    "y_train = pd.read_csv(\"https://raw.githubusercontent.com/Datamanim/datarepo/main/HRdata/y_train.csv\")\n",
    "x_test= pd.read_csv(\"https://raw.githubusercontent.com/Datamanim/datarepo/main/HRdata/X_test.csv\")\n",
    "y_test = pd.read_csv('https://raw.githubusercontent.com/Datamanim/datarepo/main/HRdata/y_test.csv')\n",
    "\n",
    "display(x_train.head())\n",
    "display(x_test.head())\n",
    "display(y_train.head())"
   ]
  },
  {
   "attachments": {},
   "cell_type": "markdown",
   "id": "852ed026",
   "metadata": {},
   "source": [
    "## EDA"
   ]
  },
  {
   "cell_type": "code",
   "execution_count": 3,
   "id": "d54bdf97",
   "metadata": {},
   "outputs": [
    {
     "name": "stdout",
     "output_type": "stream",
     "text": [
      "<class 'pandas.core.frame.DataFrame'>\n",
      "RangeIndex: 12452 entries, 0 to 12451\n",
      "Data columns (total 13 columns):\n",
      " #   Column                  Non-Null Count  Dtype  \n",
      "---  ------                  --------------  -----  \n",
      " 0   enrollee_id             12452 non-null  int64  \n",
      " 1   city                    12452 non-null  object \n",
      " 2   city_development_index  12452 non-null  float64\n",
      " 3   gender                  9535 non-null   object \n",
      " 4   relevent_experience     12452 non-null  object \n",
      " 5   enrolled_university     12195 non-null  object \n",
      " 6   education_level         12137 non-null  object \n",
      " 7   major_discipline        10586 non-null  object \n",
      " 8   experience              12415 non-null  object \n",
      " 9   company_size            8600 non-null   object \n",
      " 10  company_type            8471 non-null   object \n",
      " 11  last_new_job            12179 non-null  object \n",
      " 12  training_hours          12452 non-null  int64  \n",
      "dtypes: float64(1), int64(2), object(10)\n",
      "memory usage: 1.2+ MB\n",
      "None\n",
      "<class 'pandas.core.frame.DataFrame'>\n",
      "RangeIndex: 6706 entries, 0 to 6705\n",
      "Data columns (total 2 columns):\n",
      " #   Column       Non-Null Count  Dtype  \n",
      "---  ------       --------------  -----  \n",
      " 0   enrollee_id  6706 non-null   int64  \n",
      " 1   target       6706 non-null   float64\n",
      "dtypes: float64(1), int64(1)\n",
      "memory usage: 104.9 KB\n",
      "None\n"
     ]
    }
   ],
   "source": [
    "print(x_train.info())\n",
    "print(y_test.info())"
   ]
  },
  {
   "cell_type": "code",
   "execution_count": 4,
   "id": "f7239a76",
   "metadata": {},
   "outputs": [
    {
     "name": "stdout",
     "output_type": "stream",
     "text": [
      "enrollee_id                  0\n",
      "city                         0\n",
      "city_development_index       0\n",
      "gender                    2917\n",
      "relevent_experience          0\n",
      "enrolled_university        257\n",
      "education_level            315\n",
      "major_discipline          1866\n",
      "experience                  37\n",
      "company_size              3852\n",
      "company_type              3981\n",
      "last_new_job               273\n",
      "training_hours               0\n",
      "dtype: int64\n",
      "----------------------------------------------------------------------------------------------------\n",
      "enrollee_id                  0\n",
      "city                         0\n",
      "city_development_index       0\n",
      "gender                    1591\n",
      "relevent_experience          0\n",
      "enrolled_university        129\n",
      "education_level            145\n",
      "major_discipline           947\n",
      "experience                  28\n",
      "company_size              2086\n",
      "company_type              2159\n",
      "last_new_job               150\n",
      "training_hours               0\n",
      "dtype: int64\n"
     ]
    }
   ],
   "source": [
    "print(x_train.isna().sum())\n",
    "print('-'*100)\n",
    "print(x_test.isna().sum())"
   ]
  },
  {
   "cell_type": "code",
   "execution_count": 5,
   "id": "e1900a62",
   "metadata": {},
   "outputs": [
    {
     "name": "stdout",
     "output_type": "stream",
     "text": [
      "(12452, 13) (6706, 13)\n"
     ]
    }
   ],
   "source": [
    "print(x_train.shape, x_test.shape)"
   ]
  },
  {
   "attachments": {},
   "cell_type": "markdown",
   "id": "546482f4",
   "metadata": {},
   "source": [
    "### 결측치 처리"
   ]
  },
  {
   "cell_type": "code",
   "execution_count": 6,
   "id": "64fb3044",
   "metadata": {},
   "outputs": [
    {
     "name": "stdout",
     "output_type": "stream",
     "text": [
      "0 0\n"
     ]
    }
   ],
   "source": [
    "# gender\n",
    "x_train['gender'].value_counts(dropna=False)\n",
    "x_test['gender'].value_counts(dropna=False)\n",
    "\n",
    "x_train.loc[x_train['gender'].isna(), 'gender'] = 'Other'\n",
    "x_test.loc[x_test['gender'].isna(), 'gender'] = 'Other'\n",
    "\n",
    "print(x_train['gender'].isna().sum(), x_test['gender'].isna().sum())"
   ]
  },
  {
   "cell_type": "code",
   "execution_count": 7,
   "id": "924bf017",
   "metadata": {},
   "outputs": [
    {
     "name": "stdout",
     "output_type": "stream",
     "text": [
      "enrolled_university\n",
      "no_enrollment       8975\n",
      "Full time course    2431\n",
      "Part time course     789\n",
      "NaN                  257\n",
      "Name: count, dtype: int64\n",
      "enrolled_university\n",
      "no_enrollment       4842\n",
      "Full time course    1326\n",
      "Part time course     409\n",
      "NaN                  129\n",
      "Name: count, dtype: int64\n",
      "0 0\n"
     ]
    }
   ],
   "source": [
    "# enrolled_university\n",
    "print(x_train['enrolled_university'].value_counts(dropna=False))\n",
    "print(x_test['enrolled_university'].value_counts(dropna=False))\n",
    "\n",
    "x_train.loc[x_train['enrolled_university'].isna(), 'enrolled_university'] = 'no_enrollment'\n",
    "x_test.loc[x_test['enrolled_university'].isna(), 'enrolled_university'] = 'no_enrollment'\n",
    "\n",
    "print(x_train['enrolled_university'].isna().sum(), x_test['enrolled_university'].isna().sum())"
   ]
  },
  {
   "cell_type": "code",
   "execution_count": 8,
   "id": "e8ccb518",
   "metadata": {},
   "outputs": [
    {
     "name": "stdout",
     "output_type": "stream",
     "text": [
      "education_level\n",
      "Graduate          7540\n",
      "Masters           2796\n",
      "High School       1336\n",
      "NaN                315\n",
      "Phd                269\n",
      "Primary School     196\n",
      "Name: count, dtype: int64\n",
      "education_level\n",
      "Graduate          4058\n",
      "Masters           1565\n",
      "High School        681\n",
      "Phd                145\n",
      "NaN                145\n",
      "Primary School     112\n",
      "Name: count, dtype: int64\n",
      "0 0\n"
     ]
    }
   ],
   "source": [
    "# education_level\n",
    "print(x_train['education_level'].value_counts(dropna=False))\n",
    "print(x_test['education_level'].value_counts(dropna=False))\n",
    "\n",
    "x_train.loc[x_train['education_level'].isna(), 'education_level'] = 'High School'\n",
    "x_test.loc[x_test['education_level'].isna(), 'education_level'] = 'High School'\n",
    "\n",
    "print(x_train['education_level'].isna().sum(), x_test['education_level'].isna().sum())"
   ]
  },
  {
   "cell_type": "code",
   "execution_count": 9,
   "id": "a2c3a0f1",
   "metadata": {},
   "outputs": [
    {
     "name": "stdout",
     "output_type": "stream",
     "text": [
      "major_discipline\n",
      "STEM               9414\n",
      "NaN                1866\n",
      "Humanities          436\n",
      "Other               248\n",
      "Business Degree     195\n",
      "Arts                157\n",
      "No Major            136\n",
      "Name: count, dtype: int64\n",
      "major_discipline\n",
      "STEM               5078\n",
      "NaN                 947\n",
      "Humanities          233\n",
      "Other               133\n",
      "Business Degree     132\n",
      "Arts                 96\n",
      "No Major             87\n",
      "Name: count, dtype: int64\n",
      "0 0\n"
     ]
    }
   ],
   "source": [
    "# major_discipline\n",
    "print(x_train['major_discipline'].value_counts(dropna=False))\n",
    "print(x_test['major_discipline'].value_counts(dropna=False))\n",
    "\n",
    "x_train.loc[x_train['major_discipline'].isna(), 'major_discipline'] = 'No Major'\n",
    "x_test.loc[x_test['major_discipline'].isna(), 'major_discipline'] = 'No Major'\n",
    "\n",
    "print(x_train['major_discipline'].isna().sum(), x_test['major_discipline'].isna().sum())"
   ]
  },
  {
   "cell_type": "code",
   "execution_count": 10,
   "id": "f7d20d5f",
   "metadata": {},
   "outputs": [
    {
     "name": "stdout",
     "output_type": "stream",
     "text": [
      "experience\n",
      ">20    2179\n",
      "4       945\n",
      "5       926\n",
      "3       858\n",
      "6       795\n",
      "2       713\n",
      "7       661\n",
      "9       657\n",
      "10      633\n",
      "8       520\n",
      "15      470\n",
      "11      428\n",
      "14      368\n",
      "1       354\n",
      "16      334\n",
      "<1      331\n",
      "12      317\n",
      "13      260\n",
      "17      224\n",
      "19      200\n",
      "18      151\n",
      "20       91\n",
      "NaN      37\n",
      "Name: count, dtype: int64\n",
      "experience\n",
      ">20    1107\n",
      "5       504\n",
      "3       496\n",
      "4       458\n",
      "6       421\n",
      "2       414\n",
      "7       367\n",
      "10      352\n",
      "9       323\n",
      "8       282\n",
      "11      236\n",
      "14      218\n",
      "15      216\n",
      "1       195\n",
      "<1      191\n",
      "12      177\n",
      "16      174\n",
      "13      139\n",
      "18      129\n",
      "17      118\n",
      "19      104\n",
      "20       57\n",
      "NaN      28\n",
      "Name: count, dtype: int64\n",
      "0 0\n"
     ]
    }
   ],
   "source": [
    "# experience\n",
    "print(x_train['experience'].value_counts(dropna=False))\n",
    "print(x_test['experience'].value_counts(dropna=False))\n",
    "\n",
    "x_train.loc[x_train['experience'].isna(), 'experience'] = '10'\n",
    "x_test.loc[x_test['experience'].isna(), 'experience'] = '10'\n",
    "\n",
    "print(x_train['experience'].isna().sum(), x_test['experience'].isna().sum())"
   ]
  },
  {
   "cell_type": "code",
   "execution_count": 11,
   "id": "3df2347f",
   "metadata": {},
   "outputs": [
    {
     "name": "stdout",
     "output_type": "stream",
     "text": [
      "['100-500' nan '50-99' '10/49' '10000+' '1000-4999' '<10' '500-999'\n",
      " '5000-9999']\n",
      "company_size\n",
      "NaN          3852\n",
      "50-99        2000\n",
      "100-500      1672\n",
      "10000+       1337\n",
      "10/49         947\n",
      "1000-4999     852\n",
      "<10           838\n",
      "500-999       599\n",
      "5000-9999     355\n",
      "Name: count, dtype: int64\n",
      "company_size\n",
      "NaN          2086\n",
      "50-99        1083\n",
      "100-500       899\n",
      "10000+        682\n",
      "10/49         524\n",
      "1000-4999     476\n",
      "<10           470\n",
      "500-999       278\n",
      "5000-9999     208\n",
      "Name: count, dtype: int64\n",
      "0 0\n"
     ]
    }
   ],
   "source": [
    "# company_size\n",
    "print(x_train['company_size'].unique())\n",
    "print(x_train['company_size'].value_counts(dropna=False))\n",
    "print(x_test['company_size'].value_counts(dropna=False))\n",
    "\n",
    "x_train.loc[x_train['company_size'].isna(), 'company_size'] = '1000-4999'\n",
    "x_test.loc[x_test['company_size'].isna(), 'company_size'] = '1000-4999'\n",
    "\n",
    "print(x_train['company_size'].isna().sum(), x_test['company_size'].isna().sum())"
   ]
  },
  {
   "cell_type": "code",
   "execution_count": 12,
   "id": "4f5538fb",
   "metadata": {},
   "outputs": [
    {
     "name": "stdout",
     "output_type": "stream",
     "text": [
      "['Pvt Ltd' nan 'Public Sector' 'NGO' 'Funded Startup'\n",
      " 'Early Stage Startup' 'Other']\n",
      "company_type\n",
      "Pvt Ltd                6413\n",
      "NaN                    3981\n",
      "Funded Startup          652\n",
      "Public Sector           620\n",
      "Early Stage Startup     365\n",
      "NGO                     340\n",
      "Other                    81\n",
      "Name: count, dtype: int64\n",
      "company_type\n",
      "Pvt Ltd                3404\n",
      "NaN                    2159\n",
      "Funded Startup          349\n",
      "Public Sector           335\n",
      "Early Stage Startup     238\n",
      "NGO                     181\n",
      "Other                    40\n",
      "Name: count, dtype: int64\n",
      "0 0\n"
     ]
    }
   ],
   "source": [
    "# company_type\n",
    "print(x_train['company_type'].unique())\n",
    "print(x_train['company_type'].value_counts(dropna=False))\n",
    "print(x_test['company_type'].value_counts(dropna=False))\n",
    "\n",
    "x_train.loc[x_train['company_type'].isna(), 'company_type'] = 'Other'\n",
    "x_test.loc[x_test['company_type'].isna(), 'company_type'] = 'Other'\n",
    "\n",
    "print(x_train['company_type'].isna().sum(), x_test['company_type'].isna().sum())"
   ]
  },
  {
   "cell_type": "code",
   "execution_count": 13,
   "id": "50c47ff1",
   "metadata": {},
   "outputs": [
    {
     "name": "stdout",
     "output_type": "stream",
     "text": [
      "['1' '>4' 'never' '2' '4' '3' nan]\n",
      "last_new_job\n",
      "1        5157\n",
      ">4       2182\n",
      "2        1895\n",
      "never    1584\n",
      "3         685\n",
      "4         676\n",
      "NaN       273\n",
      "Name: count, dtype: int64\n",
      "last_new_job\n",
      "1        2883\n",
      ">4       1108\n",
      "2        1005\n",
      "never     868\n",
      "4         353\n",
      "3         339\n",
      "NaN       150\n",
      "Name: count, dtype: int64\n",
      "0 0\n"
     ]
    }
   ],
   "source": [
    "# last_new_job\n",
    "print(x_train['last_new_job'].unique())\n",
    "print(x_train['last_new_job'].value_counts(dropna=False))\n",
    "print(x_test['last_new_job'].value_counts(dropna=False))\n",
    "\n",
    "x_train.loc[x_train['last_new_job'].isna(), 'last_new_job'] = '2'\n",
    "x_test.loc[x_test['last_new_job'].isna(), 'last_new_job'] = '2'\n",
    "\n",
    "print(x_train['last_new_job'].isna().sum(), x_test['last_new_job'].isna().sum())"
   ]
  },
  {
   "cell_type": "code",
   "execution_count": 14,
   "id": "9058b315",
   "metadata": {},
   "outputs": [
    {
     "name": "stdout",
     "output_type": "stream",
     "text": [
      "enrollee_id               0\n",
      "city                      0\n",
      "city_development_index    0\n",
      "gender                    0\n",
      "relevent_experience       0\n",
      "enrolled_university       0\n",
      "education_level           0\n",
      "major_discipline          0\n",
      "experience                0\n",
      "company_size              0\n",
      "company_type              0\n",
      "last_new_job              0\n",
      "training_hours            0\n",
      "dtype: int64\n",
      "----------------------------------------------------------------------------------------------------\n",
      "enrollee_id               0\n",
      "city                      0\n",
      "city_development_index    0\n",
      "gender                    0\n",
      "relevent_experience       0\n",
      "enrolled_university       0\n",
      "education_level           0\n",
      "major_discipline          0\n",
      "experience                0\n",
      "company_size              0\n",
      "company_type              0\n",
      "last_new_job              0\n",
      "training_hours            0\n",
      "dtype: int64\n"
     ]
    }
   ],
   "source": [
    "print(x_train.isna().sum())\n",
    "print('-'*100)\n",
    "print(x_test.isna().sum())"
   ]
  },
  {
   "cell_type": "code",
   "execution_count": 15,
   "id": "b570fa21",
   "metadata": {},
   "outputs": [],
   "source": [
    "# enrollee_id는 모델학습에 필요없으므로 파일 저장을 위해 따로 Series로 저장\n",
    "id = x_test['enrollee_id']"
   ]
  },
  {
   "cell_type": "code",
   "execution_count": 16,
   "id": "88a76589",
   "metadata": {},
   "outputs": [
    {
     "name": "stdout",
     "output_type": "stream",
     "text": [
      "(12452, 13) (6706, 13) (12452, 2)\n"
     ]
    }
   ],
   "source": [
    "# 데이터 형태\n",
    "print(x_train.shape, x_test.shape, y_train.shape)"
   ]
  },
  {
   "cell_type": "code",
   "execution_count": 17,
   "id": "616dc740",
   "metadata": {},
   "outputs": [
    {
     "data": {
      "text/html": [
       "<div>\n",
       "<style scoped>\n",
       "    .dataframe tbody tr th:only-of-type {\n",
       "        vertical-align: middle;\n",
       "    }\n",
       "\n",
       "    .dataframe tbody tr th {\n",
       "        vertical-align: top;\n",
       "    }\n",
       "\n",
       "    .dataframe thead th {\n",
       "        text-align: right;\n",
       "    }\n",
       "</style>\n",
       "<table border=\"1\" class=\"dataframe\">\n",
       "  <thead>\n",
       "    <tr style=\"text-align: right;\">\n",
       "      <th></th>\n",
       "      <th>city</th>\n",
       "      <th>city_development_index</th>\n",
       "      <th>gender</th>\n",
       "      <th>relevent_experience</th>\n",
       "      <th>enrolled_university</th>\n",
       "      <th>education_level</th>\n",
       "      <th>major_discipline</th>\n",
       "      <th>experience</th>\n",
       "      <th>company_size</th>\n",
       "      <th>company_type</th>\n",
       "      <th>last_new_job</th>\n",
       "      <th>training_hours</th>\n",
       "    </tr>\n",
       "  </thead>\n",
       "  <tbody>\n",
       "    <tr>\n",
       "      <th>0</th>\n",
       "      <td>31</td>\n",
       "      <td>0.836</td>\n",
       "      <td>1</td>\n",
       "      <td>1</td>\n",
       "      <td>0</td>\n",
       "      <td>1</td>\n",
       "      <td>3</td>\n",
       "      <td>15</td>\n",
       "      <td>1</td>\n",
       "      <td>5</td>\n",
       "      <td>0</td>\n",
       "      <td>45</td>\n",
       "    </tr>\n",
       "    <tr>\n",
       "      <th>1</th>\n",
       "      <td>49</td>\n",
       "      <td>0.920</td>\n",
       "      <td>1</td>\n",
       "      <td>1</td>\n",
       "      <td>0</td>\n",
       "      <td>1</td>\n",
       "      <td>3</td>\n",
       "      <td>15</td>\n",
       "      <td>2</td>\n",
       "      <td>3</td>\n",
       "      <td>0</td>\n",
       "      <td>17</td>\n",
       "    </tr>\n",
       "    <tr>\n",
       "      <th>2</th>\n",
       "      <td>89</td>\n",
       "      <td>0.866</td>\n",
       "      <td>1</td>\n",
       "      <td>1</td>\n",
       "      <td>2</td>\n",
       "      <td>0</td>\n",
       "      <td>5</td>\n",
       "      <td>1</td>\n",
       "      <td>2</td>\n",
       "      <td>3</td>\n",
       "      <td>0</td>\n",
       "      <td>50</td>\n",
       "    </tr>\n",
       "    <tr>\n",
       "      <th>3</th>\n",
       "      <td>48</td>\n",
       "      <td>0.910</td>\n",
       "      <td>1</td>\n",
       "      <td>0</td>\n",
       "      <td>2</td>\n",
       "      <td>0</td>\n",
       "      <td>5</td>\n",
       "      <td>21</td>\n",
       "      <td>4</td>\n",
       "      <td>5</td>\n",
       "      <td>4</td>\n",
       "      <td>135</td>\n",
       "    </tr>\n",
       "    <tr>\n",
       "      <th>4</th>\n",
       "      <td>37</td>\n",
       "      <td>0.740</td>\n",
       "      <td>2</td>\n",
       "      <td>1</td>\n",
       "      <td>0</td>\n",
       "      <td>0</td>\n",
       "      <td>5</td>\n",
       "      <td>15</td>\n",
       "      <td>2</td>\n",
       "      <td>3</td>\n",
       "      <td>5</td>\n",
       "      <td>17</td>\n",
       "    </tr>\n",
       "  </tbody>\n",
       "</table>\n",
       "</div>"
      ],
      "text/plain": [
       "   city  city_development_index  gender  relevent_experience   \n",
       "0    31                   0.836       1                    1  \\\n",
       "1    49                   0.920       1                    1   \n",
       "2    89                   0.866       1                    1   \n",
       "3    48                   0.910       1                    0   \n",
       "4    37                   0.740       2                    1   \n",
       "\n",
       "   enrolled_university  education_level  major_discipline  experience   \n",
       "0                    0                1                 3          15  \\\n",
       "1                    0                1                 3          15   \n",
       "2                    2                0                 5           1   \n",
       "3                    2                0                 5          21   \n",
       "4                    0                0                 5          15   \n",
       "\n",
       "   company_size  company_type  last_new_job  training_hours  \n",
       "0             1             5             0              45  \n",
       "1             2             3             0              17  \n",
       "2             2             3             0              50  \n",
       "3             4             5             4             135  \n",
       "4             2             3             5              17  "
      ]
     },
     "metadata": {},
     "output_type": "display_data"
    },
    {
     "name": "stdout",
     "output_type": "stream",
     "text": [
      "<class 'pandas.core.frame.DataFrame'>\n",
      "Index: 19158 entries, 0 to 6705\n",
      "Data columns (total 12 columns):\n",
      " #   Column                  Non-Null Count  Dtype  \n",
      "---  ------                  --------------  -----  \n",
      " 0   city                    19158 non-null  int8   \n",
      " 1   city_development_index  19158 non-null  float64\n",
      " 2   gender                  19158 non-null  int8   \n",
      " 3   relevent_experience     19158 non-null  int8   \n",
      " 4   enrolled_university     19158 non-null  int8   \n",
      " 5   education_level         19158 non-null  int8   \n",
      " 6   major_discipline        19158 non-null  int8   \n",
      " 7   experience              19158 non-null  int8   \n",
      " 8   company_size            19158 non-null  int8   \n",
      " 9   company_type            19158 non-null  int8   \n",
      " 10  last_new_job            19158 non-null  int8   \n",
      " 11  training_hours          19158 non-null  int64  \n",
      "dtypes: float64(1), int64(1), int8(10)\n",
      "memory usage: 636.1 KB\n",
      "None\n"
     ]
    }
   ],
   "source": [
    "# x에 같은 처리를 하기 위해 합쳐서 처리\n",
    "dfX = pd.concat([x_train, x_test])\n",
    "\n",
    "# x, y enrollee_id drop\n",
    "dfX.drop(columns=['enrollee_id'], inplace=True)\n",
    "y_train.drop(columns=['enrollee_id'], inplace=True)\n",
    "\n",
    "# dfX에서 수치형 데이터로 변경하기(city, gender, relevent_experience ,enrolled_university, education_level, major_discipline, experience, company_size, company_type, last_new_job)\n",
    "lst = ['city', 'gender', 'relevent_experience' ,'enrolled_university', 'education_level', 'major_discipline', 'experience', 'company_size', 'company_type', 'last_new_job']\n",
    "for i in lst:\n",
    "    dfX[i] = dfX[i].astype('category').cat.codes\n",
    "\n",
    "display(dfX.head())\n",
    "print(dfX.info())"
   ]
  },
  {
   "cell_type": "code",
   "execution_count": 18,
   "id": "a7c8dca0",
   "metadata": {},
   "outputs": [
    {
     "name": "stdout",
     "output_type": "stream",
     "text": [
      "   city  city_development_index  gender  relevent_experience   \n",
      "0    31                0.774451       1                    1  \\\n",
      "1    49                0.942116       1                    1   \n",
      "2    89                0.834331       1                    1   \n",
      "3    48                0.922156       1                    0   \n",
      "4    37                0.582834       2                    1   \n",
      "\n",
      "   enrolled_university  education_level  major_discipline  experience   \n",
      "0                    0                1                 3          15  \\\n",
      "1                    0                1                 3          15   \n",
      "2                    2                0                 5           1   \n",
      "3                    2                0                 5          21   \n",
      "4                    0                0                 5          15   \n",
      "\n",
      "   company_size  company_type  last_new_job  training_hours  \n",
      "0             1             5             0        0.131343  \n",
      "1             2             3             0        0.047761  \n",
      "2             2             3             0        0.146269  \n",
      "3             4             5             4        0.400000  \n",
      "4             2             3             5        0.047761  \n"
     ]
    }
   ],
   "source": [
    "# MinMaxScaler\n",
    "from sklearn.preprocessing import MinMaxScaler\n",
    "target = ['city_development_index', 'training_hours']\n",
    "mmscaler = MinMaxScaler()\n",
    "dfX[target] = mmscaler.fit_transform(dfX[target])\n",
    "print(dfX.head())"
   ]
  },
  {
   "cell_type": "code",
   "execution_count": 19,
   "id": "b6de1bc1",
   "metadata": {},
   "outputs": [
    {
     "name": "stdout",
     "output_type": "stream",
     "text": [
      "(12452, 12) (6706, 12)\n"
     ]
    }
   ],
   "source": [
    "# 각각 (12452, 13) (6706, 13)로 다시 분리\n",
    "# id를 drop했기 때문에 column은 12\n",
    "x_train0 = dfX.iloc[:12452]\n",
    "x_test0 = dfX.iloc[12452:]\n",
    "print(x_train0.shape, x_test0.shape)"
   ]
  },
  {
   "attachments": {},
   "cell_type": "markdown",
   "id": "f7ae2fbc",
   "metadata": {},
   "source": [
    "## 모델링"
   ]
  },
  {
   "cell_type": "code",
   "execution_count": 29,
   "id": "fe208910",
   "metadata": {},
   "outputs": [
    {
     "name": "stdout",
     "output_type": "stream",
     "text": [
      "(8716, 12) (3736, 12) (8716, 1) (3736, 1)\n"
     ]
    }
   ],
   "source": [
    "# train 데이터를 7:3의 비율로 분할\n",
    "from sklearn.model_selection import train_test_split\n",
    "x_tr, x_ts, y_tr, y_ts = train_test_split(x_train0, y_train, test_size=0.3, random_state=12)\n",
    "print(x_tr.shape, x_ts.shape, y_tr.shape, y_ts.shape)"
   ]
  },
  {
   "cell_type": "code",
   "execution_count": 30,
   "id": "d0025f98",
   "metadata": {},
   "outputs": [
    {
     "name": "stderr",
     "output_type": "stream",
     "text": [
      "C:\\Users\\hw981\\AppData\\Local\\Temp\\ipykernel_1904\\3943311232.py:3: DataConversionWarning: A column-vector y was passed when a 1d array was expected. Please change the shape of y to (n_samples,), for example using ravel().\n",
      "  model.fit(x_tr, y_tr)\n"
     ]
    },
    {
     "name": "stdout",
     "output_type": "stream",
     "text": [
      "0.9988526847177605 0.7839935760171306\n"
     ]
    }
   ],
   "source": [
    "# 모델 생성\n",
    "from sklearn.ensemble import RandomForestClassifier\n",
    "model = RandomForestClassifier(random_state=1234)\n",
    "model.fit(x_tr, y_tr)\n",
    "print(model.score(x_tr, y_tr), model.score(x_ts, y_ts))"
   ]
  },
  {
   "attachments": {},
   "cell_type": "markdown",
   "id": "000edfbf",
   "metadata": {},
   "source": [
    "### "
   ]
  },
  {
   "cell_type": "code",
   "execution_count": 40,
   "id": "e45c231c",
   "metadata": {},
   "outputs": [
    {
     "name": "stdout",
     "output_type": "stream",
     "text": [
      "         0     1\n",
      "0     0.63  0.37\n",
      "1     0.54  0.46\n",
      "2     0.66  0.34\n",
      "3     0.50  0.50\n",
      "4     0.87  0.13\n",
      "...    ...   ...\n",
      "6701  0.92  0.08\n",
      "6702  0.40  0.60\n",
      "6703  0.87  0.13\n",
      "6704  0.57  0.43\n",
      "6705  0.53  0.47\n",
      "\n",
      "[6706 rows x 2 columns]\n"
     ]
    }
   ],
   "source": [
    "# 예측\n",
    "pred = model.predict(x_test0)\n",
    "proba = model.predict_proba(x_test0)\n",
    "result = pd.DataFrame({'predict':pred})\n",
    "# print(result)\n",
    "# print(proba)\n",
    "result2 = pd.DataFrame({0:proba[:,0], 1:proba[:,1]})\n",
    "print(result2)"
   ]
  },
  {
   "cell_type": "code",
   "execution_count": null,
   "id": "c92e4b5f",
   "metadata": {},
   "outputs": [],
   "source": [
    "# 제출파일 생성\n",
    "# result.to_csv('submission.csv', index=False)\n",
    "# result2.to_csv('submission.csv', index=False)"
   ]
  },
  {
   "cell_type": "code",
   "execution_count": 46,
   "id": "dd059fd7",
   "metadata": {},
   "outputs": [
    {
     "name": "stdout",
     "output_type": "stream",
     "text": [
      "정답 비율: 85.9230539815091\n"
     ]
    }
   ],
   "source": [
    "# 실제 예측 비교\n",
    "real = pd.concat([result, y_test[['target']]], axis=1)\n",
    "(real['predict']==real['target']).sum() # 맞춘 개수 5762개\n",
    "print(\"정답 비율:\", (5762/6706)*100)"
   ]
  },
  {
   "attachments": {},
   "cell_type": "markdown",
   "id": "ff88b48d",
   "metadata": {},
   "source": [
    "### "
   ]
  }
 ],
 "metadata": {
  "kernelspec": {
   "display_name": "Python 3 (ipykernel)",
   "language": "python",
   "name": "python3"
  },
  "language_info": {
   "codemirror_mode": {
    "name": "ipython",
    "version": 3
   },
   "file_extension": ".py",
   "mimetype": "text/x-python",
   "name": "python",
   "nbconvert_exporter": "python",
   "pygments_lexer": "ipython3",
   "version": "3.11.3"
  }
 },
 "nbformat": 4,
 "nbformat_minor": 5
}
