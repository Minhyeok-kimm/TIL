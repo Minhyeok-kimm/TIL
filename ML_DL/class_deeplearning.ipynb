{
  "nbformat": 4,
  "nbformat_minor": 0,
  "metadata": {
    "colab": {
      "provenance": []
    },
    "kernelspec": {
      "name": "python3",
      "display_name": "Python 3"
    },
    "language_info": {
      "name": "python"
    }
  },
  "cells": [
    {
      "cell_type": "markdown",
      "source": [
        "# 7/25(화)\n",
        "- 코랩 환경 진행"
      ],
      "metadata": {
        "id": "VXLxhJiFy_CL"
      }
    },
    {
      "cell_type": "code",
      "execution_count": null,
      "metadata": {
        "id": "RUqGGBtDYEdb",
        "colab": {
          "base_uri": "https://localhost:8080/"
        },
        "outputId": "cb5aa2d1-fb69-41cd-e57d-55cac8e05b61"
      },
      "outputs": [
        {
          "output_type": "stream",
          "name": "stdout",
          "text": [
            "Package                          Version\n",
            "-------------------------------- ---------------------\n",
            "absl-py                          1.4.0\n",
            "aiohttp                          3.8.4\n",
            "aiosignal                        1.3.1\n",
            "alabaster                        0.7.13\n",
            "albumentations                   1.2.1\n",
            "altair                           4.2.2\n",
            "anyio                            3.7.1\n",
            "appdirs                          1.4.4\n",
            "argon2-cffi                      21.3.0\n",
            "argon2-cffi-bindings             21.2.0\n",
            "array-record                     0.4.0\n",
            "arviz                            0.15.1\n",
            "astropy                          5.2.2\n",
            "astunparse                       1.6.3\n",
            "async-timeout                    4.0.2\n",
            "attrs                            23.1.0\n",
            "audioread                        3.0.0\n",
            "autograd                         1.6.2\n",
            "Babel                            2.12.1\n",
            "backcall                         0.2.0\n",
            "beautifulsoup4                   4.11.2\n",
            "bleach                           6.0.0\n",
            "blinker                          1.4\n",
            "blis                             0.7.9\n",
            "blosc2                           2.0.0\n",
            "bokeh                            2.4.3\n",
            "branca                           0.6.0\n",
            "build                            0.10.0\n",
            "CacheControl                     0.13.1\n",
            "cachetools                       5.3.1\n",
            "catalogue                        2.0.8\n",
            "certifi                          2023.5.7\n",
            "cffi                             1.15.1\n",
            "chardet                          4.0.0\n",
            "charset-normalizer               2.0.12\n",
            "chex                             0.1.7\n",
            "click                            8.1.6\n",
            "click-plugins                    1.1.1\n",
            "cligj                            0.7.2\n",
            "cloudpickle                      2.2.1\n",
            "cmake                            3.25.2\n",
            "cmdstanpy                        1.1.0\n",
            "colorcet                         3.0.1\n",
            "colorlover                       0.3.0\n",
            "community                        1.0.0b1\n",
            "confection                       0.1.0\n",
            "cons                             0.4.6\n",
            "contextlib2                      21.6.0\n",
            "contourpy                        1.1.0\n",
            "convertdate                      2.4.0\n",
            "cryptography                     3.4.8\n",
            "cufflinks                        0.17.3\n",
            "cvxopt                           1.3.1\n",
            "cvxpy                            1.3.2\n",
            "cycler                           0.11.0\n",
            "cymem                            2.0.7\n",
            "Cython                           0.29.36\n",
            "dask                             2022.12.1\n",
            "datascience                      0.17.6\n",
            "db-dtypes                        1.1.1\n",
            "dbus-python                      1.2.18\n",
            "debugpy                          1.6.6\n",
            "decorator                        4.4.2\n",
            "defusedxml                       0.7.1\n",
            "distributed                      2022.12.1\n",
            "distro                           1.7.0\n",
            "dlib                             19.24.2\n",
            "dm-tree                          0.1.8\n",
            "docutils                         0.16\n",
            "dopamine-rl                      4.0.6\n",
            "duckdb                           0.8.1\n",
            "earthengine-api                  0.1.358\n",
            "easydict                         1.10\n",
            "ecos                             2.0.12\n",
            "editdistance                     0.6.2\n",
            "en-core-web-sm                   3.5.0\n",
            "entrypoints                      0.4\n",
            "ephem                            4.1.4\n",
            "et-xmlfile                       1.1.0\n",
            "etils                            1.3.0\n",
            "etuples                          0.3.9\n",
            "exceptiongroup                   1.1.2\n",
            "fastai                           2.7.12\n",
            "fastcore                         1.5.29\n",
            "fastdownload                     0.0.7\n",
            "fastjsonschema                   2.17.1\n",
            "fastprogress                     1.0.3\n",
            "fastrlock                        0.8.1\n",
            "filelock                         3.12.2\n",
            "Fiona                            1.9.4.post1\n",
            "firebase-admin                   5.3.0\n",
            "Flask                            2.2.5\n",
            "flatbuffers                      23.5.26\n",
            "flax                             0.7.0\n",
            "folium                           0.14.0\n",
            "fonttools                        4.41.0\n",
            "frozendict                       2.3.8\n",
            "frozenlist                       1.4.0\n",
            "fsspec                           2023.6.0\n",
            "future                           0.18.3\n",
            "gast                             0.4.0\n",
            "gcsfs                            2023.6.0\n",
            "GDAL                             3.4.3\n",
            "gdown                            4.6.6\n",
            "gensim                           4.3.1\n",
            "geographiclib                    2.0\n",
            "geopandas                        0.13.2\n",
            "geopy                            2.3.0\n",
            "gin-config                       0.5.0\n",
            "glob2                            0.7\n",
            "google                           2.0.3\n",
            "google-api-core                  2.11.1\n",
            "google-api-python-client         2.84.0\n",
            "google-auth                      2.17.3\n",
            "google-auth-httplib2             0.1.0\n",
            "google-auth-oauthlib             1.0.0\n",
            "google-cloud-bigquery            3.10.0\n",
            "google-cloud-bigquery-connection 1.12.1\n",
            "google-cloud-bigquery-storage    2.22.0\n",
            "google-cloud-core                2.3.3\n",
            "google-cloud-datastore           2.15.2\n",
            "google-cloud-firestore           2.11.1\n",
            "google-cloud-functions           1.13.1\n",
            "google-cloud-language            2.9.1\n",
            "google-cloud-storage             2.8.0\n",
            "google-cloud-translate           3.11.2\n",
            "google-colab                     1.0.0\n",
            "google-crc32c                    1.5.0\n",
            "google-pasta                     0.2.0\n",
            "google-resumable-media           2.5.0\n",
            "googleapis-common-protos         1.59.1\n",
            "googledrivedownloader            0.4\n",
            "graphviz                         0.20.1\n",
            "greenlet                         2.0.2\n",
            "grpc-google-iam-v1               0.12.6\n",
            "grpcio                           1.56.0\n",
            "grpcio-status                    1.48.2\n",
            "gspread                          3.4.2\n",
            "gspread-dataframe                3.3.1\n",
            "gym                              0.25.2\n",
            "gym-notices                      0.0.8\n",
            "h5netcdf                         1.2.0\n",
            "h5py                             3.8.0\n",
            "holidays                         0.29\n",
            "holoviews                        1.15.4\n",
            "html5lib                         1.1\n",
            "httpimport                       1.3.0\n",
            "httplib2                         0.21.0\n",
            "humanize                         4.6.0\n",
            "hyperopt                         0.2.7\n",
            "idna                             3.4\n",
            "imageio                          2.25.1\n",
            "imageio-ffmpeg                   0.4.8\n",
            "imagesize                        1.4.1\n",
            "imbalanced-learn                 0.10.1\n",
            "imgaug                           0.4.0\n",
            "importlib-metadata               4.6.4\n",
            "importlib-resources              6.0.0\n",
            "imutils                          0.5.4\n",
            "inflect                          6.0.5\n",
            "iniconfig                        2.0.0\n",
            "intel-openmp                     2023.2.0\n",
            "ipykernel                        5.5.6\n",
            "ipython                          7.34.0\n",
            "ipython-genutils                 0.2.0\n",
            "ipython-sql                      0.4.1\n",
            "ipywidgets                       7.7.1\n",
            "itsdangerous                     2.1.2\n",
            "jax                              0.4.13\n",
            "jaxlib                           0.4.13+cuda11.cudnn86\n",
            "jeepney                          0.7.1\n",
            "jieba                            0.42.1\n",
            "Jinja2                           3.1.2\n",
            "joblib                           1.3.1\n",
            "jsonpickle                       3.0.1\n",
            "jsonschema                       4.3.3\n",
            "jupyter-client                   6.1.12\n",
            "jupyter-console                  6.1.0\n",
            "jupyter_core                     5.3.1\n",
            "jupyter-server                   1.24.0\n",
            "jupyterlab-pygments              0.2.2\n",
            "jupyterlab-widgets               3.0.8\n",
            "kaggle                           1.5.16\n",
            "keras                            2.12.0\n",
            "keyring                          23.5.0\n",
            "kiwisolver                       1.4.4\n",
            "langcodes                        3.3.0\n",
            "launchpadlib                     1.10.16\n",
            "lazr.restfulclient               0.14.4\n",
            "lazr.uri                         1.0.6\n",
            "lazy_loader                      0.3\n",
            "libclang                         16.0.6\n",
            "librosa                          0.10.0.post2\n",
            "lightgbm                         3.3.5\n",
            "lit                              16.0.6\n",
            "llvmlite                         0.39.1\n",
            "locket                           1.0.0\n",
            "logical-unification              0.4.6\n",
            "LunarCalendar                    0.0.9\n",
            "lxml                             4.9.3\n",
            "Markdown                         3.4.3\n",
            "markdown-it-py                   3.0.0\n",
            "MarkupSafe                       2.1.3\n",
            "matplotlib                       3.7.1\n",
            "matplotlib-inline                0.1.6\n",
            "matplotlib-venn                  0.11.9\n",
            "mdurl                            0.1.2\n",
            "miniKanren                       1.0.3\n",
            "missingno                        0.5.2\n",
            "mistune                          0.8.4\n",
            "mizani                           0.8.1\n",
            "mkl                              2019.0\n",
            "ml-dtypes                        0.2.0\n",
            "mlxtend                          0.22.0\n",
            "more-itertools                   9.1.0\n",
            "moviepy                          1.0.3\n",
            "mpmath                           1.3.0\n",
            "msgpack                          1.0.5\n",
            "multidict                        6.0.4\n",
            "multipledispatch                 1.0.0\n",
            "multitasking                     0.0.11\n",
            "murmurhash                       1.0.9\n",
            "music21                          8.1.0\n",
            "natsort                          8.3.1\n",
            "nbclient                         0.8.0\n",
            "nbconvert                        6.5.4\n",
            "nbformat                         5.9.1\n",
            "nest-asyncio                     1.5.6\n",
            "networkx                         3.1\n",
            "nibabel                          3.0.2\n",
            "nltk                             3.8.1\n",
            "notebook                         6.4.8\n",
            "numba                            0.56.4\n",
            "numexpr                          2.8.4\n",
            "numpy                            1.22.4\n",
            "oauth2client                     4.1.3\n",
            "oauthlib                         3.2.2\n",
            "opencv-contrib-python            4.7.0.72\n",
            "opencv-python                    4.7.0.72\n",
            "opencv-python-headless           4.8.0.74\n",
            "openpyxl                         3.0.10\n",
            "opt-einsum                       3.3.0\n",
            "optax                            0.1.5\n",
            "orbax-checkpoint                 0.2.7\n",
            "osqp                             0.6.2.post8\n",
            "packaging                        23.1\n",
            "palettable                       3.3.3\n",
            "pandas                           1.5.3\n",
            "pandas-datareader                0.10.0\n",
            "pandas-gbq                       0.17.9\n",
            "pandocfilters                    1.5.0\n",
            "panel                            0.14.4\n",
            "param                            1.13.0\n",
            "parso                            0.8.3\n",
            "partd                            1.4.0\n",
            "pathlib                          1.0.1\n",
            "pathy                            0.10.2\n",
            "patsy                            0.5.3\n",
            "pexpect                          4.8.0\n",
            "pickleshare                      0.7.5\n",
            "Pillow                           8.4.0\n",
            "pip                              23.1.2\n",
            "pip-tools                        6.13.0\n",
            "platformdirs                     3.9.1\n",
            "plotly                           5.13.1\n",
            "plotnine                         0.10.1\n",
            "pluggy                           1.2.0\n",
            "polars                           0.17.3\n",
            "pooch                            1.6.0\n",
            "portpicker                       1.5.2\n",
            "prefetch-generator               1.0.3\n",
            "preshed                          3.0.8\n",
            "prettytable                      0.7.2\n",
            "proglog                          0.1.10\n",
            "progressbar2                     4.2.0\n",
            "prometheus-client                0.17.1\n",
            "promise                          2.3\n",
            "prompt-toolkit                   3.0.39\n",
            "prophet                          1.1.4\n",
            "proto-plus                       1.22.3\n",
            "protobuf                         3.20.3\n",
            "psutil                           5.9.5\n",
            "psycopg2                         2.9.6\n",
            "ptyprocess                       0.7.0\n",
            "py-cpuinfo                       9.0.0\n",
            "py4j                             0.10.9.7\n",
            "pyarrow                          9.0.0\n",
            "pyasn1                           0.5.0\n",
            "pyasn1-modules                   0.3.0\n",
            "pycocotools                      2.0.6\n",
            "pycparser                        2.21\n",
            "pyct                             0.5.0\n",
            "pydantic                         1.10.11\n",
            "pydata-google-auth               1.8.1\n",
            "pydot                            1.4.2\n",
            "pydot-ng                         2.0.0\n",
            "pydotplus                        2.0.2\n",
            "PyDrive                          1.3.1\n",
            "pyerfa                           2.0.0.3\n",
            "pygame                           2.5.0\n",
            "Pygments                         2.14.0\n",
            "PyGObject                        3.42.1\n",
            "PyJWT                            2.3.0\n",
            "pymc                             5.1.2\n",
            "PyMeeus                          0.5.12\n",
            "pymystem3                        0.2.0\n",
            "PyOpenGL                         3.1.7\n",
            "pyparsing                        3.1.0\n",
            "pyproj                           3.6.0\n",
            "pyproject_hooks                  1.0.0\n",
            "pyrsistent                       0.19.3\n",
            "PySocks                          1.7.1\n",
            "pytensor                         2.10.1\n",
            "pytest                           7.2.2\n",
            "python-apt                       0.0.0\n",
            "python-dateutil                  2.8.2\n",
            "python-louvain                   0.16\n",
            "python-slugify                   8.0.1\n",
            "python-utils                     3.7.0\n",
            "pytz                             2022.7.1\n",
            "pyviz-comms                      2.3.2\n",
            "PyWavelets                       1.4.1\n",
            "PyYAML                           6.0.1\n",
            "pyzmq                            23.2.1\n",
            "qdldl                            0.1.7.post0\n",
            "qudida                           0.0.4\n",
            "regex                            2022.10.31\n",
            "requests                         2.27.1\n",
            "requests-oauthlib                1.3.1\n",
            "requirements-parser              0.5.0\n",
            "rich                             13.4.2\n",
            "rpy2                             3.5.5\n",
            "rsa                              4.9\n",
            "scikit-image                     0.19.3\n",
            "scikit-learn                     1.2.2\n",
            "scipy                            1.10.1\n",
            "scs                              3.2.3\n",
            "seaborn                          0.12.2\n",
            "SecretStorage                    3.3.1\n",
            "Send2Trash                       1.8.2\n",
            "setuptools                       67.7.2\n",
            "shapely                          2.0.1\n",
            "six                              1.16.0\n",
            "sklearn-pandas                   2.2.0\n",
            "smart-open                       6.3.0\n",
            "sniffio                          1.3.0\n",
            "snowballstemmer                  2.2.0\n",
            "sortedcontainers                 2.4.0\n",
            "soundfile                        0.12.1\n",
            "soupsieve                        2.4.1\n",
            "soxr                             0.3.5\n",
            "spacy                            3.5.4\n",
            "spacy-legacy                     3.0.12\n",
            "spacy-loggers                    1.0.4\n",
            "Sphinx                           3.5.4\n",
            "sphinxcontrib-applehelp          1.0.4\n",
            "sphinxcontrib-devhelp            1.0.2\n",
            "sphinxcontrib-htmlhelp           2.0.1\n",
            "sphinxcontrib-jsmath             1.0.1\n",
            "sphinxcontrib-qthelp             1.0.3\n",
            "sphinxcontrib-serializinghtml    1.1.5\n",
            "SQLAlchemy                       2.0.19\n",
            "sqlparse                         0.4.4\n",
            "srsly                            2.4.7\n",
            "statsmodels                      0.13.5\n",
            "sympy                            1.11.1\n",
            "tables                           3.8.0\n",
            "tabulate                         0.9.0\n",
            "tblib                            2.0.0\n",
            "tenacity                         8.2.2\n",
            "tensorboard                      2.12.3\n",
            "tensorboard-data-server          0.7.1\n",
            "tensorflow                       2.12.0\n",
            "tensorflow-datasets              4.9.2\n",
            "tensorflow-estimator             2.12.0\n",
            "tensorflow-gcs-config            2.12.0\n",
            "tensorflow-hub                   0.14.0\n",
            "tensorflow-io-gcs-filesystem     0.32.0\n",
            "tensorflow-metadata              1.13.1\n",
            "tensorflow-probability           0.20.1\n",
            "tensorstore                      0.1.40\n",
            "termcolor                        2.3.0\n",
            "terminado                        0.17.1\n",
            "text-unidecode                   1.3\n",
            "textblob                         0.17.1\n",
            "tf-slim                          1.1.0\n",
            "thinc                            8.1.10\n",
            "threadpoolctl                    3.2.0\n",
            "tifffile                         2023.7.10\n",
            "tinycss2                         1.2.1\n",
            "toml                             0.10.2\n",
            "tomli                            2.0.1\n",
            "toolz                            0.12.0\n",
            "torch                            2.0.1+cu118\n",
            "torchaudio                       2.0.2+cu118\n",
            "torchdata                        0.6.1\n",
            "torchsummary                     1.5.1\n",
            "torchtext                        0.15.2\n",
            "torchvision                      0.15.2+cu118\n",
            "tornado                          6.3.1\n",
            "tqdm                             4.65.0\n",
            "traitlets                        5.7.1\n",
            "triton                           2.0.0\n",
            "tweepy                           4.13.0\n",
            "typer                            0.9.0\n",
            "types-setuptools                 68.0.0.2\n",
            "typing_extensions                4.7.1\n",
            "tzlocal                          5.0.1\n",
            "uritemplate                      4.1.1\n",
            "urllib3                          1.26.16\n",
            "vega-datasets                    0.9.0\n",
            "wadllib                          1.3.6\n",
            "wasabi                           1.1.2\n",
            "wcwidth                          0.2.6\n",
            "webcolors                        1.13\n",
            "webencodings                     0.5.1\n",
            "websocket-client                 1.6.1\n",
            "Werkzeug                         2.3.6\n",
            "wheel                            0.40.0\n",
            "widgetsnbextension               3.6.4\n",
            "wordcloud                        1.8.2.2\n",
            "wrapt                            1.14.1\n",
            "xarray                           2022.12.0\n",
            "xarray-einstats                  0.6.0\n",
            "xgboost                          1.7.6\n",
            "xlrd                             2.0.1\n",
            "yarl                             1.9.2\n",
            "yellowbrick                      1.5\n",
            "yfinance                         0.2.25\n",
            "zict                             3.0.0\n",
            "zipp                             3.16.2\n"
          ]
        }
      ],
      "source": [
        "!pip list"
      ]
    },
    {
      "cell_type": "markdown",
      "source": [
        "## Deep Learning 모델 설계"
      ],
      "metadata": {
        "id": "TTaUJg0rzGuY"
      }
    },
    {
      "cell_type": "markdown",
      "source": [
        "1. 환경 준비"
      ],
      "metadata": {
        "id": "R8SNygqRmgHt"
      }
    },
    {
      "cell_type": "code",
      "source": [
        "# tensorflow 라이브러리 안에 있는 케라스 API에서 필요한 함수들을 불러온다.\n",
        "from tensorflow.keras.models import Sequential\n",
        "from tensorflow.keras.layers import Dense\n",
        "\n",
        "# 데이터를 다루는 데 필요한 라이브러리를 불러온다\n",
        "import numpy as np"
      ],
      "metadata": {
        "id": "MIOs5uT1kqrs"
      },
      "execution_count": 2,
      "outputs": []
    },
    {
      "cell_type": "markdown",
      "source": [
        "2. 데이터 준비"
      ],
      "metadata": {
        "id": "eM7aPl5PtiPT"
      }
    },
    {
      "cell_type": "code",
      "source": [
        "# 준비된 수술 환자 데이터를 불러오기\n",
        "Data_set = np.loadtxt('./DL_data/ThoraricSurgery3.csv', delimiter=',')\n",
        "X = Data_set[:, 0:16] # 환자의 진찰 기록을 X로 지정\n",
        "y = Data_set[:, 16] # 수술 1년 후 사망/생존 여부를 y로 지정"
      ],
      "metadata": {
        "id": "eGzcRIxTthwk"
      },
      "execution_count": 3,
      "outputs": []
    },
    {
      "cell_type": "markdown",
      "source": [
        "3. 구조 결정"
      ],
      "metadata": {
        "id": "z2SyHw7zypyW"
      }
    },
    {
      "cell_type": "code",
      "source": [
        "# 딥러닝 모델의 구조를 결정\n",
        "model = Sequential()\n",
        "model.add(Dense(30, input_dim=16, activation='relu'))\n",
        "model.add(Dense(1, activation='sigmoid'))"
      ],
      "metadata": {
        "id": "Z2ugbEsXypbM"
      },
      "execution_count": 4,
      "outputs": []
    },
    {
      "cell_type": "markdown",
      "source": [
        "4. 모델 실행"
      ],
      "metadata": {
        "id": "d3tpez91y8A6"
      }
    },
    {
      "cell_type": "code",
      "source": [
        "# 딥러닝 모델을 실행\n",
        "model.compile(loss='binary_crossentropy', optimizer='adam', metrics=['accuracy'])\n",
        "history=model.fit(X, y, epochs=30, batch_size=16)"
      ],
      "metadata": {
        "colab": {
          "base_uri": "https://localhost:8080/"
        },
        "id": "Pd4CuH8ry7P9",
        "outputId": "abadb596-965a-48a4-bfd6-ddd5d9107c4c"
      },
      "execution_count": 5,
      "outputs": [
        {
          "output_type": "stream",
          "name": "stdout",
          "text": [
            "Epoch 1/30\n",
            "30/30 [==============================] - 1s 2ms/step - loss: 1.6715 - accuracy: 0.8511\n",
            "Epoch 2/30\n",
            "30/30 [==============================] - 0s 2ms/step - loss: 0.6202 - accuracy: 0.8489\n",
            "Epoch 3/30\n",
            "30/30 [==============================] - 0s 2ms/step - loss: 0.4408 - accuracy: 0.8511\n",
            "Epoch 4/30\n",
            "30/30 [==============================] - 0s 2ms/step - loss: 0.4328 - accuracy: 0.8511\n",
            "Epoch 5/30\n",
            "30/30 [==============================] - 0s 2ms/step - loss: 0.4277 - accuracy: 0.8511\n",
            "Epoch 6/30\n",
            "30/30 [==============================] - 0s 2ms/step - loss: 0.4265 - accuracy: 0.8511\n",
            "Epoch 7/30\n",
            "30/30 [==============================] - 0s 2ms/step - loss: 0.4234 - accuracy: 0.8511\n",
            "Epoch 8/30\n",
            "30/30 [==============================] - 0s 2ms/step - loss: 0.4240 - accuracy: 0.8511\n",
            "Epoch 9/30\n",
            "30/30 [==============================] - 0s 2ms/step - loss: 0.4263 - accuracy: 0.8511\n",
            "Epoch 10/30\n",
            "30/30 [==============================] - 0s 3ms/step - loss: 0.4216 - accuracy: 0.8511\n",
            "Epoch 11/30\n",
            "30/30 [==============================] - 0s 2ms/step - loss: 0.4175 - accuracy: 0.8511\n",
            "Epoch 12/30\n",
            "30/30 [==============================] - 0s 2ms/step - loss: 0.4203 - accuracy: 0.8511\n",
            "Epoch 13/30\n",
            "30/30 [==============================] - 0s 2ms/step - loss: 0.4113 - accuracy: 0.8511\n",
            "Epoch 14/30\n",
            "30/30 [==============================] - 0s 2ms/step - loss: 0.4077 - accuracy: 0.8511\n",
            "Epoch 15/30\n",
            "30/30 [==============================] - 0s 2ms/step - loss: 0.4115 - accuracy: 0.8511\n",
            "Epoch 16/30\n",
            "30/30 [==============================] - 0s 2ms/step - loss: 0.4161 - accuracy: 0.8447\n",
            "Epoch 17/30\n",
            "30/30 [==============================] - 0s 2ms/step - loss: 0.4064 - accuracy: 0.8511\n",
            "Epoch 18/30\n",
            "30/30 [==============================] - 0s 2ms/step - loss: 0.4031 - accuracy: 0.8511\n",
            "Epoch 19/30\n",
            "30/30 [==============================] - 0s 2ms/step - loss: 0.4099 - accuracy: 0.8511\n",
            "Epoch 20/30\n",
            "30/30 [==============================] - 0s 2ms/step - loss: 0.4027 - accuracy: 0.8511\n",
            "Epoch 21/30\n",
            "30/30 [==============================] - 0s 2ms/step - loss: 0.4021 - accuracy: 0.8511\n",
            "Epoch 22/30\n",
            "30/30 [==============================] - 0s 2ms/step - loss: 0.4041 - accuracy: 0.8511\n",
            "Epoch 23/30\n",
            "30/30 [==============================] - 0s 2ms/step - loss: 0.4062 - accuracy: 0.8511\n",
            "Epoch 24/30\n",
            "30/30 [==============================] - 0s 2ms/step - loss: 0.3991 - accuracy: 0.8511\n",
            "Epoch 25/30\n",
            "30/30 [==============================] - 0s 2ms/step - loss: 0.4079 - accuracy: 0.8511\n",
            "Epoch 26/30\n",
            "30/30 [==============================] - 0s 2ms/step - loss: 0.3984 - accuracy: 0.8511\n",
            "Epoch 27/30\n",
            "30/30 [==============================] - 0s 2ms/step - loss: 0.4038 - accuracy: 0.8511\n",
            "Epoch 28/30\n",
            "30/30 [==============================] - 0s 2ms/step - loss: 0.4135 - accuracy: 0.8532\n",
            "Epoch 29/30\n",
            "30/30 [==============================] - 0s 2ms/step - loss: 0.3998 - accuracy: 0.8489\n",
            "Epoch 30/30\n",
            "30/30 [==============================] - 0s 2ms/step - loss: 0.3978 - accuracy: 0.8511\n"
          ]
        }
      ]
    },
    {
      "cell_type": "code",
      "source": [
        "print('\\n Accuracy: %.4f' %(model.evaluate(X, y)[1]))"
      ],
      "metadata": {
        "colab": {
          "base_uri": "https://localhost:8080/"
        },
        "id": "P_WWzinKzVqA",
        "outputId": "77c9a5b9-befc-4850-b21b-3a78b66563aa"
      },
      "execution_count": 6,
      "outputs": [
        {
          "output_type": "stream",
          "name": "stdout",
          "text": [
            "15/15 [==============================] - 0s 2ms/step - loss: 0.3922 - accuracy: 0.8511\n",
            "\n",
            " Accuracy: 0.8511\n"
          ]
        }
      ]
    },
    {
      "cell_type": "code",
      "source": [
        "print('\\n loss: %.4f' %(model.evaluate(X, y)[0]))"
      ],
      "metadata": {
        "colab": {
          "base_uri": "https://localhost:8080/"
        },
        "id": "vXdZK7QkzfP-",
        "outputId": "f2e31bec-ce62-4a44-9830-fe2e4bbe8731"
      },
      "execution_count": 7,
      "outputs": [
        {
          "output_type": "stream",
          "name": "stdout",
          "text": [
            "15/15 [==============================] - 0s 2ms/step - loss: 0.3922 - accuracy: 0.8511\n",
            "\n",
            " loss: 0.3922\n"
          ]
        }
      ]
    },
    {
      "cell_type": "markdown",
      "source": [
        "5. 파라미터 변경하며 실행"
      ],
      "metadata": {
        "id": "j3kGrz8fzrIl"
      }
    },
    {
      "cell_type": "code",
      "source": [
        "model = Sequential()\n",
        "model.add(Dense(30, input_dim=16, activation='sigmoid'))\n",
        "model.add(Dense(1, activation='sigmoid'))"
      ],
      "metadata": {
        "id": "kNClkwHfzxdX"
      },
      "execution_count": 8,
      "outputs": []
    },
    {
      "cell_type": "code",
      "source": [
        "model.compile(loss='binary_crossentropy', optimizer='adam', metrics=['accuracy'])\n",
        "history=model.fit(X, y, epochs=30, batch_size=16)"
      ],
      "metadata": {
        "colab": {
          "base_uri": "https://localhost:8080/"
        },
        "id": "RqGq_ZV5znyi",
        "outputId": "c4dd45e6-c044-41dd-a618-660ebbec794f"
      },
      "execution_count": 9,
      "outputs": [
        {
          "output_type": "stream",
          "name": "stdout",
          "text": [
            "Epoch 1/30\n",
            "30/30 [==============================] - 1s 2ms/step - loss: 0.9305 - accuracy: 0.1489\n",
            "Epoch 2/30\n",
            "30/30 [==============================] - 0s 2ms/step - loss: 0.6882 - accuracy: 0.5043\n",
            "Epoch 3/30\n",
            "30/30 [==============================] - 0s 2ms/step - loss: 0.4818 - accuracy: 0.8511\n",
            "Epoch 4/30\n",
            "30/30 [==============================] - 0s 2ms/step - loss: 0.4380 - accuracy: 0.8511\n",
            "Epoch 5/30\n",
            "30/30 [==============================] - 0s 2ms/step - loss: 0.4303 - accuracy: 0.8511\n",
            "Epoch 6/30\n",
            "30/30 [==============================] - 0s 2ms/step - loss: 0.4256 - accuracy: 0.8511\n",
            "Epoch 7/30\n",
            "30/30 [==============================] - 0s 2ms/step - loss: 0.4234 - accuracy: 0.8511\n",
            "Epoch 8/30\n",
            "30/30 [==============================] - 0s 2ms/step - loss: 0.4222 - accuracy: 0.8511\n",
            "Epoch 9/30\n",
            "30/30 [==============================] - 0s 2ms/step - loss: 0.4210 - accuracy: 0.8511\n",
            "Epoch 10/30\n",
            "30/30 [==============================] - 0s 2ms/step - loss: 0.4203 - accuracy: 0.8511\n",
            "Epoch 11/30\n",
            "30/30 [==============================] - 0s 2ms/step - loss: 0.4201 - accuracy: 0.8511\n",
            "Epoch 12/30\n",
            "30/30 [==============================] - 0s 2ms/step - loss: 0.4202 - accuracy: 0.8511\n",
            "Epoch 13/30\n",
            "30/30 [==============================] - 0s 2ms/step - loss: 0.4201 - accuracy: 0.8511\n",
            "Epoch 14/30\n",
            "30/30 [==============================] - 0s 2ms/step - loss: 0.4198 - accuracy: 0.8511\n",
            "Epoch 15/30\n",
            "30/30 [==============================] - 0s 2ms/step - loss: 0.4194 - accuracy: 0.8511\n",
            "Epoch 16/30\n",
            "30/30 [==============================] - 0s 2ms/step - loss: 0.4194 - accuracy: 0.8511\n",
            "Epoch 17/30\n",
            "30/30 [==============================] - 0s 2ms/step - loss: 0.4194 - accuracy: 0.8511\n",
            "Epoch 18/30\n",
            "30/30 [==============================] - 0s 2ms/step - loss: 0.4193 - accuracy: 0.8511\n",
            "Epoch 19/30\n",
            "30/30 [==============================] - 0s 2ms/step - loss: 0.4190 - accuracy: 0.8511\n",
            "Epoch 20/30\n",
            "30/30 [==============================] - 0s 2ms/step - loss: 0.4190 - accuracy: 0.8511\n",
            "Epoch 21/30\n",
            "30/30 [==============================] - 0s 2ms/step - loss: 0.4183 - accuracy: 0.8511\n",
            "Epoch 22/30\n",
            "30/30 [==============================] - 0s 2ms/step - loss: 0.4184 - accuracy: 0.8511\n",
            "Epoch 23/30\n",
            "30/30 [==============================] - 0s 2ms/step - loss: 0.4180 - accuracy: 0.8511\n",
            "Epoch 24/30\n",
            "30/30 [==============================] - 0s 2ms/step - loss: 0.4174 - accuracy: 0.8511\n",
            "Epoch 25/30\n",
            "30/30 [==============================] - 0s 2ms/step - loss: 0.4167 - accuracy: 0.8511\n",
            "Epoch 26/30\n",
            "30/30 [==============================] - 0s 2ms/step - loss: 0.4172 - accuracy: 0.8511\n",
            "Epoch 27/30\n",
            "30/30 [==============================] - 0s 2ms/step - loss: 0.4163 - accuracy: 0.8511\n",
            "Epoch 28/30\n",
            "30/30 [==============================] - 0s 2ms/step - loss: 0.4160 - accuracy: 0.8511\n",
            "Epoch 29/30\n",
            "30/30 [==============================] - 0s 2ms/step - loss: 0.4162 - accuracy: 0.8511\n",
            "Epoch 30/30\n",
            "30/30 [==============================] - 0s 2ms/step - loss: 0.4150 - accuracy: 0.8511\n"
          ]
        }
      ]
    },
    {
      "cell_type": "code",
      "source": [
        "print('\\n Accuracy: %.4f' %(model.evaluate(X, y)[1]))"
      ],
      "metadata": {
        "colab": {
          "base_uri": "https://localhost:8080/"
        },
        "id": "u1DGqBvHz4Ls",
        "outputId": "df82bc9f-ef10-4d2d-f9ec-76e481ec417b"
      },
      "execution_count": 10,
      "outputs": [
        {
          "output_type": "stream",
          "name": "stdout",
          "text": [
            "15/15 [==============================] - 0s 2ms/step - loss: 0.4144 - accuracy: 0.8511\n",
            "\n",
            " Accuracy: 0.8511\n"
          ]
        }
      ]
    },
    {
      "cell_type": "code",
      "source": [
        "print('\\n loss: %.4f' %(model.evaluate(X, y)[0]))"
      ],
      "metadata": {
        "colab": {
          "base_uri": "https://localhost:8080/"
        },
        "id": "UPrPF_wsz6wT",
        "outputId": "0751edda-9359-42f8-8f52-2176149b80ac"
      },
      "execution_count": 11,
      "outputs": [
        {
          "output_type": "stream",
          "name": "stdout",
          "text": [
            "15/15 [==============================] - 0s 3ms/step - loss: 0.4144 - accuracy: 0.8511\n",
            "\n",
            " loss: 0.4144\n"
          ]
        }
      ]
    },
    {
      "cell_type": "code",
      "source": [
        "model = Sequential()\n",
        "model.add(Dense(30, input_dim=16, activation='relu'))\n",
        "model.add(Dense(50, activation='sigmoid'))\n",
        "model.add(Dense(1, activation='sigmoid'))\n",
        "\n",
        "model.compile(loss='binary_crossentropy', optimizer='adam', metrics=['accuracy'])\n",
        "history=model.fit(X, y, epochs=30, batch_size=16)"
      ],
      "metadata": {
        "colab": {
          "base_uri": "https://localhost:8080/"
        },
        "id": "quvrg3OHz9Pu",
        "outputId": "e3a21008-2b4a-4cc4-d700-27c5a75ab490"
      },
      "execution_count": 16,
      "outputs": [
        {
          "output_type": "stream",
          "name": "stdout",
          "text": [
            "Epoch 1/30\n",
            "30/30 [==============================] - 1s 2ms/step - loss: 0.5841 - accuracy: 0.6723\n",
            "Epoch 2/30\n",
            "30/30 [==============================] - 0s 2ms/step - loss: 0.4210 - accuracy: 0.8511\n",
            "Epoch 3/30\n",
            "30/30 [==============================] - 0s 2ms/step - loss: 0.4219 - accuracy: 0.8511\n",
            "Epoch 4/30\n",
            "30/30 [==============================] - 0s 2ms/step - loss: 0.4199 - accuracy: 0.8511\n",
            "Epoch 5/30\n",
            "30/30 [==============================] - 0s 2ms/step - loss: 0.4231 - accuracy: 0.8511\n",
            "Epoch 6/30\n",
            "30/30 [==============================] - 0s 2ms/step - loss: 0.4195 - accuracy: 0.8511\n",
            "Epoch 7/30\n",
            "30/30 [==============================] - 0s 2ms/step - loss: 0.4192 - accuracy: 0.8511\n",
            "Epoch 8/30\n",
            "30/30 [==============================] - 0s 2ms/step - loss: 0.4212 - accuracy: 0.8511\n",
            "Epoch 9/30\n",
            "30/30 [==============================] - 0s 2ms/step - loss: 0.4204 - accuracy: 0.8511\n",
            "Epoch 10/30\n",
            "30/30 [==============================] - 0s 2ms/step - loss: 0.4203 - accuracy: 0.8511\n",
            "Epoch 11/30\n",
            "30/30 [==============================] - 0s 2ms/step - loss: 0.4201 - accuracy: 0.8511\n",
            "Epoch 12/30\n",
            "30/30 [==============================] - 0s 2ms/step - loss: 0.4173 - accuracy: 0.8511\n",
            "Epoch 13/30\n",
            "30/30 [==============================] - 0s 2ms/step - loss: 0.4172 - accuracy: 0.8511\n",
            "Epoch 14/30\n",
            "30/30 [==============================] - 0s 2ms/step - loss: 0.4168 - accuracy: 0.8511\n",
            "Epoch 15/30\n",
            "30/30 [==============================] - 0s 2ms/step - loss: 0.4160 - accuracy: 0.8511\n",
            "Epoch 16/30\n",
            "30/30 [==============================] - 0s 2ms/step - loss: 0.4163 - accuracy: 0.8511\n",
            "Epoch 17/30\n",
            "30/30 [==============================] - 0s 2ms/step - loss: 0.4150 - accuracy: 0.8511\n",
            "Epoch 18/30\n",
            "30/30 [==============================] - 0s 2ms/step - loss: 0.4174 - accuracy: 0.8511\n",
            "Epoch 19/30\n",
            "30/30 [==============================] - 0s 2ms/step - loss: 0.4173 - accuracy: 0.8511\n",
            "Epoch 20/30\n",
            "30/30 [==============================] - 0s 2ms/step - loss: 0.4131 - accuracy: 0.8511\n",
            "Epoch 21/30\n",
            "30/30 [==============================] - 0s 2ms/step - loss: 0.4113 - accuracy: 0.8511\n",
            "Epoch 22/30\n",
            "30/30 [==============================] - 0s 2ms/step - loss: 0.4105 - accuracy: 0.8511\n",
            "Epoch 23/30\n",
            "30/30 [==============================] - 0s 2ms/step - loss: 0.4128 - accuracy: 0.8511\n",
            "Epoch 24/30\n",
            "30/30 [==============================] - 0s 2ms/step - loss: 0.4100 - accuracy: 0.8511\n",
            "Epoch 25/30\n",
            "30/30 [==============================] - 0s 2ms/step - loss: 0.4088 - accuracy: 0.8511\n",
            "Epoch 26/30\n",
            "30/30 [==============================] - 0s 2ms/step - loss: 0.4070 - accuracy: 0.8511\n",
            "Epoch 27/30\n",
            "30/30 [==============================] - 0s 2ms/step - loss: 0.4037 - accuracy: 0.8511\n",
            "Epoch 28/30\n",
            "30/30 [==============================] - 0s 2ms/step - loss: 0.4070 - accuracy: 0.8511\n",
            "Epoch 29/30\n",
            "30/30 [==============================] - 0s 2ms/step - loss: 0.4077 - accuracy: 0.8511\n",
            "Epoch 30/30\n",
            "30/30 [==============================] - 0s 2ms/step - loss: 0.3997 - accuracy: 0.8511\n"
          ]
        }
      ]
    },
    {
      "cell_type": "code",
      "source": [
        "print('\\n Accuracy: %.4f' %(model.evaluate(X, y)[1]))\n",
        "print('\\n loss: %.4f' %(model.evaluate(X, y)[0]))"
      ],
      "metadata": {
        "colab": {
          "base_uri": "https://localhost:8080/"
        },
        "id": "Pkga7BT-0fvr",
        "outputId": "123a07cc-df50-4ae9-cdb1-e18da1bd075c"
      },
      "execution_count": 17,
      "outputs": [
        {
          "output_type": "stream",
          "name": "stdout",
          "text": [
            "15/15 [==============================] - 0s 2ms/step - loss: 0.4162 - accuracy: 0.8511\n",
            "\n",
            " Accuracy: 0.8511\n",
            "15/15 [==============================] - 0s 2ms/step - loss: 0.4162 - accuracy: 0.8511\n",
            "\n",
            " loss: 0.4162\n"
          ]
        }
      ]
    },
    {
      "cell_type": "code",
      "source": [
        "model = Sequential()\n",
        "model.add(Dense(30, input_dim=16, activation='relu'))\n",
        "model.add(Dense(50, activation='relu'))\n",
        "model.add(Dense(1, activation='sigmoid'))\n",
        "\n",
        "model.compile(loss='binary_crossentropy', optimizer='adam', metrics=['accuracy'])\n",
        "history=model.fit(X, y, epochs=30, batch_size=16)"
      ],
      "metadata": {
        "colab": {
          "base_uri": "https://localhost:8080/"
        },
        "id": "MCEh3rmf0jeh",
        "outputId": "02a75b01-b31a-4ec8-8b93-fc2f72a40cb5"
      },
      "execution_count": 18,
      "outputs": [
        {
          "output_type": "stream",
          "name": "stdout",
          "text": [
            "Epoch 1/30\n",
            "30/30 [==============================] - 1s 3ms/step - loss: 0.6044 - accuracy: 0.8106\n",
            "Epoch 2/30\n",
            "30/30 [==============================] - 0s 3ms/step - loss: 0.4648 - accuracy: 0.8511\n",
            "Epoch 3/30\n",
            "30/30 [==============================] - 0s 3ms/step - loss: 0.4411 - accuracy: 0.8511\n",
            "Epoch 4/30\n",
            "30/30 [==============================] - 0s 3ms/step - loss: 0.4386 - accuracy: 0.8511\n",
            "Epoch 5/30\n",
            "30/30 [==============================] - 0s 3ms/step - loss: 0.4333 - accuracy: 0.8511\n",
            "Epoch 6/30\n",
            "30/30 [==============================] - 0s 3ms/step - loss: 0.4671 - accuracy: 0.8468\n",
            "Epoch 7/30\n",
            "30/30 [==============================] - 0s 3ms/step - loss: 0.5035 - accuracy: 0.8489\n",
            "Epoch 8/30\n",
            "30/30 [==============================] - 0s 3ms/step - loss: 0.4602 - accuracy: 0.8489\n",
            "Epoch 9/30\n",
            "30/30 [==============================] - 0s 3ms/step - loss: 0.4507 - accuracy: 0.8511\n",
            "Epoch 10/30\n",
            "30/30 [==============================] - 0s 3ms/step - loss: 0.4781 - accuracy: 0.8255\n",
            "Epoch 11/30\n",
            "30/30 [==============================] - 0s 3ms/step - loss: 0.4523 - accuracy: 0.8426\n",
            "Epoch 12/30\n",
            "30/30 [==============================] - 0s 4ms/step - loss: 0.4164 - accuracy: 0.8511\n",
            "Epoch 13/30\n",
            "30/30 [==============================] - 0s 3ms/step - loss: 0.4132 - accuracy: 0.8511\n",
            "Epoch 14/30\n",
            "30/30 [==============================] - 0s 3ms/step - loss: 0.4388 - accuracy: 0.8511\n",
            "Epoch 15/30\n",
            "30/30 [==============================] - 0s 3ms/step - loss: 0.4192 - accuracy: 0.8511\n",
            "Epoch 16/30\n",
            "30/30 [==============================] - 0s 3ms/step - loss: 0.4149 - accuracy: 0.8511\n",
            "Epoch 17/30\n",
            "30/30 [==============================] - 0s 3ms/step - loss: 0.4509 - accuracy: 0.8511\n",
            "Epoch 18/30\n",
            "30/30 [==============================] - 0s 3ms/step - loss: 0.4214 - accuracy: 0.8511\n",
            "Epoch 19/30\n",
            "30/30 [==============================] - 0s 3ms/step - loss: 0.4039 - accuracy: 0.8511\n",
            "Epoch 20/30\n",
            "30/30 [==============================] - 0s 3ms/step - loss: 0.4194 - accuracy: 0.8511\n",
            "Epoch 21/30\n",
            "30/30 [==============================] - 0s 3ms/step - loss: 0.4320 - accuracy: 0.8532\n",
            "Epoch 22/30\n",
            "30/30 [==============================] - 0s 3ms/step - loss: 0.4293 - accuracy: 0.8447\n",
            "Epoch 23/30\n",
            "30/30 [==============================] - 0s 3ms/step - loss: 0.4020 - accuracy: 0.8511\n",
            "Epoch 24/30\n",
            "30/30 [==============================] - 0s 3ms/step - loss: 0.4135 - accuracy: 0.8511\n",
            "Epoch 25/30\n",
            "30/30 [==============================] - 0s 3ms/step - loss: 0.3974 - accuracy: 0.8532\n",
            "Epoch 26/30\n",
            "30/30 [==============================] - 0s 3ms/step - loss: 0.4274 - accuracy: 0.8468\n",
            "Epoch 27/30\n",
            "30/30 [==============================] - 0s 3ms/step - loss: 0.4209 - accuracy: 0.8532\n",
            "Epoch 28/30\n",
            "30/30 [==============================] - 0s 3ms/step - loss: 0.4331 - accuracy: 0.8447\n",
            "Epoch 29/30\n",
            "30/30 [==============================] - 0s 3ms/step - loss: 0.4002 - accuracy: 0.8489\n",
            "Epoch 30/30\n",
            "30/30 [==============================] - 0s 3ms/step - loss: 0.3922 - accuracy: 0.8532\n"
          ]
        }
      ]
    },
    {
      "cell_type": "code",
      "source": [
        "print('\\n Accuracy: %.4f' %(model.evaluate(X, y)[1]))\n",
        "print('\\n loss: %.4f' %(model.evaluate(X, y)[0]))"
      ],
      "metadata": {
        "colab": {
          "base_uri": "https://localhost:8080/"
        },
        "id": "fGPOwSyD2N4t",
        "outputId": "348c8eab-8373-4b5b-8a17-42ed6e17e527"
      },
      "execution_count": 19,
      "outputs": [
        {
          "output_type": "stream",
          "name": "stdout",
          "text": [
            "15/15 [==============================] - 0s 2ms/step - loss: 0.3960 - accuracy: 0.8511\n",
            "\n",
            " Accuracy: 0.8511\n",
            "15/15 [==============================] - 0s 2ms/step - loss: 0.3960 - accuracy: 0.8511\n",
            "\n",
            " loss: 0.3960\n"
          ]
        }
      ]
    },
    {
      "cell_type": "code",
      "source": [
        "model = Sequential()\n",
        "model.add(Dense(30, input_dim=16, activation='relu'))\n",
        "model.add(Dense(50, activation='sigmoid'))\n",
        "model.add(Dense(1, activation='sigmoid'))\n",
        "\n",
        "model.compile(loss='binary_crossentropy', optimizer='adam', metrics=['accuracy'])\n",
        "history=model.fit(X, y, epochs=30, batch_size=16)"
      ],
      "metadata": {
        "colab": {
          "base_uri": "https://localhost:8080/"
        },
        "id": "cazFgnZT2QMo",
        "outputId": "3df80196-7f94-4f36-aa44-bce42490b8da"
      },
      "execution_count": 23,
      "outputs": [
        {
          "output_type": "stream",
          "name": "stdout",
          "text": [
            "Epoch 1/30\n",
            "30/30 [==============================] - 1s 2ms/step - loss: 0.4300 - accuracy: 0.8511\n",
            "Epoch 2/30\n",
            "30/30 [==============================] - 0s 2ms/step - loss: 0.4236 - accuracy: 0.8511\n",
            "Epoch 3/30\n",
            "30/30 [==============================] - 0s 2ms/step - loss: 0.4232 - accuracy: 0.8511\n",
            "Epoch 4/30\n",
            "30/30 [==============================] - 0s 3ms/step - loss: 0.4195 - accuracy: 0.8511\n",
            "Epoch 5/30\n",
            "30/30 [==============================] - 0s 2ms/step - loss: 0.4196 - accuracy: 0.8511\n",
            "Epoch 6/30\n",
            "30/30 [==============================] - 0s 2ms/step - loss: 0.4180 - accuracy: 0.8511\n",
            "Epoch 7/30\n",
            "30/30 [==============================] - 0s 2ms/step - loss: 0.4159 - accuracy: 0.8511\n",
            "Epoch 8/30\n",
            "30/30 [==============================] - 0s 2ms/step - loss: 0.4140 - accuracy: 0.8511\n",
            "Epoch 9/30\n",
            "30/30 [==============================] - 0s 2ms/step - loss: 0.4162 - accuracy: 0.8511\n",
            "Epoch 10/30\n",
            "30/30 [==============================] - 0s 2ms/step - loss: 0.4127 - accuracy: 0.8511\n",
            "Epoch 11/30\n",
            "30/30 [==============================] - 0s 2ms/step - loss: 0.4120 - accuracy: 0.8511\n",
            "Epoch 12/30\n",
            "30/30 [==============================] - 0s 2ms/step - loss: 0.4162 - accuracy: 0.8511\n",
            "Epoch 13/30\n",
            "30/30 [==============================] - 0s 2ms/step - loss: 0.4071 - accuracy: 0.8511\n",
            "Epoch 14/30\n",
            "30/30 [==============================] - 0s 2ms/step - loss: 0.4087 - accuracy: 0.8511\n",
            "Epoch 15/30\n",
            "30/30 [==============================] - 0s 2ms/step - loss: 0.4055 - accuracy: 0.8511\n",
            "Epoch 16/30\n",
            "30/30 [==============================] - 0s 2ms/step - loss: 0.4037 - accuracy: 0.8511\n",
            "Epoch 17/30\n",
            "30/30 [==============================] - 0s 2ms/step - loss: 0.4046 - accuracy: 0.8511\n",
            "Epoch 18/30\n",
            "30/30 [==============================] - 0s 2ms/step - loss: 0.4021 - accuracy: 0.8511\n",
            "Epoch 19/30\n",
            "30/30 [==============================] - 0s 2ms/step - loss: 0.3976 - accuracy: 0.8511\n",
            "Epoch 20/30\n",
            "30/30 [==============================] - 0s 2ms/step - loss: 0.4002 - accuracy: 0.8511\n",
            "Epoch 21/30\n",
            "30/30 [==============================] - 0s 2ms/step - loss: 0.4015 - accuracy: 0.8511\n",
            "Epoch 22/30\n",
            "30/30 [==============================] - 0s 2ms/step - loss: 0.3974 - accuracy: 0.8511\n",
            "Epoch 23/30\n",
            "30/30 [==============================] - 0s 2ms/step - loss: 0.4072 - accuracy: 0.8511\n",
            "Epoch 24/30\n",
            "30/30 [==============================] - 0s 2ms/step - loss: 0.3955 - accuracy: 0.8511\n",
            "Epoch 25/30\n",
            "30/30 [==============================] - 0s 2ms/step - loss: 0.3960 - accuracy: 0.8511\n",
            "Epoch 26/30\n",
            "30/30 [==============================] - 0s 2ms/step - loss: 0.3950 - accuracy: 0.8511\n",
            "Epoch 27/30\n",
            "30/30 [==============================] - 0s 2ms/step - loss: 0.4025 - accuracy: 0.8511\n",
            "Epoch 28/30\n",
            "30/30 [==============================] - 0s 2ms/step - loss: 0.3898 - accuracy: 0.8511\n",
            "Epoch 29/30\n",
            "30/30 [==============================] - 0s 2ms/step - loss: 0.3927 - accuracy: 0.8511\n",
            "Epoch 30/30\n",
            "30/30 [==============================] - 0s 2ms/step - loss: 0.3939 - accuracy: 0.8511\n"
          ]
        }
      ]
    },
    {
      "cell_type": "code",
      "source": [
        "print('\\n Accuracy: %.4f' %(model.evaluate(X, y)[1]))\n",
        "print('\\n loss: %.4f' %(model.evaluate(X, y)[0]))"
      ],
      "metadata": {
        "colab": {
          "base_uri": "https://localhost:8080/"
        },
        "id": "bRMcptVW2tK-",
        "outputId": "7dbf6836-b215-4736-c534-f8a6b1f807e9"
      },
      "execution_count": 24,
      "outputs": [
        {
          "output_type": "stream",
          "name": "stdout",
          "text": [
            "15/15 [==============================] - 0s 2ms/step - loss: 0.3982 - accuracy: 0.8511\n",
            "\n",
            " Accuracy: 0.8511\n",
            "15/15 [==============================] - 0s 2ms/step - loss: 0.3982 - accuracy: 0.8511\n",
            "\n",
            " loss: 0.3982\n"
          ]
        }
      ]
    },
    {
      "cell_type": "code",
      "source": [
        "model = Sequential()\n",
        "model.add(Dense(50, input_dim=16, activation='relu'))\n",
        "model.add(Dense(50, activation='sigmoid'))\n",
        "model.add(Dense(1, activation='sigmoid'))\n",
        "\n",
        "model.compile(loss='binary_crossentropy', optimizer='adam', metrics=['accuracy'])\n",
        "history=model.fit(X, y, epochs=30, batch_size=16)"
      ],
      "metadata": {
        "colab": {
          "base_uri": "https://localhost:8080/"
        },
        "id": "AU-X4aeJ25Af",
        "outputId": "625d6e05-edae-43b8-d5ff-27ccb2527bc3"
      },
      "execution_count": 25,
      "outputs": [
        {
          "output_type": "stream",
          "name": "stdout",
          "text": [
            "Epoch 1/30\n",
            "30/30 [==============================] - 1s 2ms/step - loss: 0.4264 - accuracy: 0.8511\n",
            "Epoch 2/30\n",
            "30/30 [==============================] - 0s 2ms/step - loss: 0.4192 - accuracy: 0.8511\n",
            "Epoch 3/30\n",
            "30/30 [==============================] - 0s 2ms/step - loss: 0.4203 - accuracy: 0.8511\n",
            "Epoch 4/30\n",
            "30/30 [==============================] - 0s 2ms/step - loss: 0.4193 - accuracy: 0.8511\n",
            "Epoch 5/30\n",
            "30/30 [==============================] - 0s 2ms/step - loss: 0.4176 - accuracy: 0.8511\n",
            "Epoch 6/30\n",
            "30/30 [==============================] - 0s 2ms/step - loss: 0.4232 - accuracy: 0.8511\n",
            "Epoch 7/30\n",
            "30/30 [==============================] - 0s 2ms/step - loss: 0.4222 - accuracy: 0.8511\n",
            "Epoch 8/30\n",
            "30/30 [==============================] - 0s 2ms/step - loss: 0.4164 - accuracy: 0.8511\n",
            "Epoch 9/30\n",
            "30/30 [==============================] - 0s 2ms/step - loss: 0.4177 - accuracy: 0.8511\n",
            "Epoch 10/30\n",
            "30/30 [==============================] - 0s 2ms/step - loss: 0.4182 - accuracy: 0.8511\n",
            "Epoch 11/30\n",
            "30/30 [==============================] - 0s 2ms/step - loss: 0.4155 - accuracy: 0.8511\n",
            "Epoch 12/30\n",
            "30/30 [==============================] - 0s 2ms/step - loss: 0.4157 - accuracy: 0.8511\n",
            "Epoch 13/30\n",
            "30/30 [==============================] - 0s 2ms/step - loss: 0.4131 - accuracy: 0.8511\n",
            "Epoch 14/30\n",
            "30/30 [==============================] - 0s 2ms/step - loss: 0.4142 - accuracy: 0.8511\n",
            "Epoch 15/30\n",
            "30/30 [==============================] - 0s 2ms/step - loss: 0.4113 - accuracy: 0.8511\n",
            "Epoch 16/30\n",
            "30/30 [==============================] - 0s 3ms/step - loss: 0.4087 - accuracy: 0.8511\n",
            "Epoch 17/30\n",
            "30/30 [==============================] - 0s 2ms/step - loss: 0.4122 - accuracy: 0.8511\n",
            "Epoch 18/30\n",
            "30/30 [==============================] - 0s 2ms/step - loss: 0.4090 - accuracy: 0.8511\n",
            "Epoch 19/30\n",
            "30/30 [==============================] - 0s 2ms/step - loss: 0.4032 - accuracy: 0.8511\n",
            "Epoch 20/30\n",
            "30/30 [==============================] - 0s 2ms/step - loss: 0.4079 - accuracy: 0.8511\n",
            "Epoch 21/30\n",
            "30/30 [==============================] - 0s 2ms/step - loss: 0.4055 - accuracy: 0.8511\n",
            "Epoch 22/30\n",
            "30/30 [==============================] - 0s 2ms/step - loss: 0.4076 - accuracy: 0.8511\n",
            "Epoch 23/30\n",
            "30/30 [==============================] - 0s 2ms/step - loss: 0.4023 - accuracy: 0.8511\n",
            "Epoch 24/30\n",
            "30/30 [==============================] - 0s 2ms/step - loss: 0.4053 - accuracy: 0.8511\n",
            "Epoch 25/30\n",
            "30/30 [==============================] - 0s 2ms/step - loss: 0.3995 - accuracy: 0.8511\n",
            "Epoch 26/30\n",
            "30/30 [==============================] - 0s 2ms/step - loss: 0.3945 - accuracy: 0.8511\n",
            "Epoch 27/30\n",
            "30/30 [==============================] - 0s 2ms/step - loss: 0.4045 - accuracy: 0.8511\n",
            "Epoch 28/30\n",
            "30/30 [==============================] - 0s 2ms/step - loss: 0.4006 - accuracy: 0.8511\n",
            "Epoch 29/30\n",
            "30/30 [==============================] - 0s 2ms/step - loss: 0.3937 - accuracy: 0.8511\n",
            "Epoch 30/30\n",
            "30/30 [==============================] - 0s 2ms/step - loss: 0.3981 - accuracy: 0.8511\n"
          ]
        }
      ]
    },
    {
      "cell_type": "code",
      "source": [
        "print('\\n Accuracy: %.4f' %(model.evaluate(X, y)[1]))\n",
        "print('\\n loss: %.4f' %(model.evaluate(X, y)[0]))"
      ],
      "metadata": {
        "colab": {
          "base_uri": "https://localhost:8080/"
        },
        "id": "24171lXY2-HL",
        "outputId": "26a56529-fc29-4f2f-8ff7-730125996db1"
      },
      "execution_count": 26,
      "outputs": [
        {
          "output_type": "stream",
          "name": "stdout",
          "text": [
            "15/15 [==============================] - 0s 2ms/step - loss: 0.3915 - accuracy: 0.8511\n",
            "\n",
            " Accuracy: 0.8511\n",
            "15/15 [==============================] - 0s 2ms/step - loss: 0.3915 - accuracy: 0.8511\n",
            "\n",
            " loss: 0.3915\n"
          ]
        }
      ]
    },
    {
      "cell_type": "code",
      "source": [
        "model = Sequential()\n",
        "model.add(Dense(50, input_dim=16, activation='relu'))\n",
        "model.add(Dense(80, activation='sigmoid'))\n",
        "model.add(Dense(1, activation='sigmoid'))\n",
        "\n",
        "model.compile(loss='binary_crossentropy', optimizer='adam', metrics=['accuracy'])\n",
        "history=model.fit(X, y, epochs=30, batch_size=16)"
      ],
      "metadata": {
        "colab": {
          "base_uri": "https://localhost:8080/"
        },
        "id": "NxarqdKk2_vg",
        "outputId": "6d285439-7e05-4840-b440-b2df11b7b715"
      },
      "execution_count": 27,
      "outputs": [
        {
          "output_type": "stream",
          "name": "stdout",
          "text": [
            "Epoch 1/30\n",
            "30/30 [==============================] - 1s 2ms/step - loss: 0.4854 - accuracy: 0.8085\n",
            "Epoch 2/30\n",
            "30/30 [==============================] - 0s 2ms/step - loss: 0.4219 - accuracy: 0.8511\n",
            "Epoch 3/30\n",
            "30/30 [==============================] - 0s 2ms/step - loss: 0.4205 - accuracy: 0.8511\n",
            "Epoch 4/30\n",
            "30/30 [==============================] - 0s 2ms/step - loss: 0.4210 - accuracy: 0.8511\n",
            "Epoch 5/30\n",
            "30/30 [==============================] - 0s 2ms/step - loss: 0.4206 - accuracy: 0.8511\n",
            "Epoch 6/30\n",
            "30/30 [==============================] - 0s 2ms/step - loss: 0.4189 - accuracy: 0.8511\n",
            "Epoch 7/30\n",
            "30/30 [==============================] - 0s 2ms/step - loss: 0.4223 - accuracy: 0.8511\n",
            "Epoch 8/30\n",
            "30/30 [==============================] - 0s 2ms/step - loss: 0.4209 - accuracy: 0.8511\n",
            "Epoch 9/30\n",
            "30/30 [==============================] - 0s 2ms/step - loss: 0.4196 - accuracy: 0.8511\n",
            "Epoch 10/30\n",
            "30/30 [==============================] - 0s 2ms/step - loss: 0.4199 - accuracy: 0.8511\n",
            "Epoch 11/30\n",
            "30/30 [==============================] - 0s 2ms/step - loss: 0.4173 - accuracy: 0.8511\n",
            "Epoch 12/30\n",
            "30/30 [==============================] - 0s 2ms/step - loss: 0.4179 - accuracy: 0.8511\n",
            "Epoch 13/30\n",
            "30/30 [==============================] - 0s 2ms/step - loss: 0.4185 - accuracy: 0.8511\n",
            "Epoch 14/30\n",
            "30/30 [==============================] - 0s 2ms/step - loss: 0.4195 - accuracy: 0.8511\n",
            "Epoch 15/30\n",
            "30/30 [==============================] - 0s 2ms/step - loss: 0.4173 - accuracy: 0.8511\n",
            "Epoch 16/30\n",
            "30/30 [==============================] - 0s 2ms/step - loss: 0.4154 - accuracy: 0.8511\n",
            "Epoch 17/30\n",
            "30/30 [==============================] - 0s 2ms/step - loss: 0.4157 - accuracy: 0.8511\n",
            "Epoch 18/30\n",
            "30/30 [==============================] - 0s 2ms/step - loss: 0.4149 - accuracy: 0.8511\n",
            "Epoch 19/30\n",
            "30/30 [==============================] - 0s 2ms/step - loss: 0.4155 - accuracy: 0.8511\n",
            "Epoch 20/30\n",
            "30/30 [==============================] - 0s 2ms/step - loss: 0.4193 - accuracy: 0.8511\n",
            "Epoch 21/30\n",
            "30/30 [==============================] - 0s 2ms/step - loss: 0.4168 - accuracy: 0.8511\n",
            "Epoch 22/30\n",
            "30/30 [==============================] - 0s 2ms/step - loss: 0.4120 - accuracy: 0.8511\n",
            "Epoch 23/30\n",
            "30/30 [==============================] - 0s 2ms/step - loss: 0.4137 - accuracy: 0.8511\n",
            "Epoch 24/30\n",
            "30/30 [==============================] - 0s 2ms/step - loss: 0.4121 - accuracy: 0.8511\n",
            "Epoch 25/30\n",
            "30/30 [==============================] - 0s 2ms/step - loss: 0.4113 - accuracy: 0.8511\n",
            "Epoch 26/30\n",
            "30/30 [==============================] - 0s 2ms/step - loss: 0.4132 - accuracy: 0.8511\n",
            "Epoch 27/30\n",
            "30/30 [==============================] - 0s 2ms/step - loss: 0.4048 - accuracy: 0.8511\n",
            "Epoch 28/30\n",
            "30/30 [==============================] - 0s 2ms/step - loss: 0.4010 - accuracy: 0.8511\n",
            "Epoch 29/30\n",
            "30/30 [==============================] - 0s 2ms/step - loss: 0.4118 - accuracy: 0.8511\n",
            "Epoch 30/30\n",
            "30/30 [==============================] - 0s 2ms/step - loss: 0.3995 - accuracy: 0.8511\n"
          ]
        }
      ]
    },
    {
      "cell_type": "code",
      "source": [
        "print('\\n Accuracy: %.4f' %(model.evaluate(X, y)[1]))\n",
        "print('\\n loss: %.4f' %(model.evaluate(X, y)[0]))"
      ],
      "metadata": {
        "colab": {
          "base_uri": "https://localhost:8080/"
        },
        "id": "84rzEN0N4LGO",
        "outputId": "e2000ab1-3143-43db-91a6-5211d647de93"
      },
      "execution_count": 28,
      "outputs": [
        {
          "output_type": "stream",
          "name": "stdout",
          "text": [
            "15/15 [==============================] - 0s 2ms/step - loss: 0.4028 - accuracy: 0.8511\n",
            "\n",
            " Accuracy: 0.8511\n",
            "15/15 [==============================] - 0s 3ms/step - loss: 0.4028 - accuracy: 0.8511\n",
            "\n",
            " loss: 0.4028\n"
          ]
        }
      ]
    },
    {
      "cell_type": "code",
      "source": [],
      "metadata": {
        "id": "H9SCSgeO4Mtd"
      },
      "execution_count": null,
      "outputs": []
    }
  ]
}