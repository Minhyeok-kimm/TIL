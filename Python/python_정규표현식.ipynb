{
 "cells": [
  {
   "attachments": {},
   "cell_type": "markdown",
   "metadata": {},
   "source": [
    "# 정규표현식"
   ]
  },
  {
   "cell_type": "code",
   "execution_count": 1,
   "metadata": {},
   "outputs": [],
   "source": [
    "import re\n",
    "sentence = 'This is a sample string'"
   ]
  },
  {
   "cell_type": "code",
   "execution_count": 2,
   "metadata": {},
   "outputs": [
    {
     "name": "stdout",
     "output_type": "stream",
     "text": [
      "<re.Match object; span=(2, 4), match='is'>\n",
      "True\n",
      "False\n"
     ]
    }
   ],
   "source": [
    "# 1) re.search(pattern, string, flags) 함수\n",
    "\n",
    "print(re.search(r\"is\", sentence))\n",
    "print(bool(re.search(r\"is\", sentence)))\n",
    "print(bool(re.search(r\"xyz\", sentence)))"
   ]
  },
  {
   "cell_type": "code",
   "execution_count": 3,
   "metadata": {},
   "outputs": [
    {
     "name": "stdout",
     "output_type": "stream",
     "text": [
      "False\n",
      "True\n"
     ]
    }
   ],
   "source": [
    "# flag 사용하여 대소문자 무시\n",
    "sentence = 'This is a sample string'\n",
    "print(bool(re.search(r'this', sentence)))\n",
    "print(bool(re.search(r'this', sentence, flags=re.I)))"
   ]
  },
  {
   "cell_type": "code",
   "execution_count": 5,
   "metadata": {},
   "outputs": [
    {
     "name": "stdout",
     "output_type": "stream",
     "text": [
      "True\n",
      "True\n",
      "True\n",
      "True\n"
     ]
    }
   ],
   "source": [
    "# 2) re.compile( pattern,  flags ) 함수 사용 pattern 재사용\n",
    "sentence = 'This is a sample string'\n",
    "sentence2 = 'is This a sample string?'\n",
    "\n",
    "# 패턴 중복\n",
    "print(bool(re.search(r'this', sentence, flags=re.I)))\n",
    "print(bool(re.search(r'this', sentence2, flags=re.I)))\n",
    "\n",
    "pet = re.compile(r'this', flags=re.I) # 패턴을 변환\n",
    "print(bool(pet.search(sentence))) # 패턴.search(문장)\n",
    "print(bool(pet.search(sentence2)))"
   ]
  },
  {
   "cell_type": "code",
   "execution_count": 6,
   "metadata": {},
   "outputs": [
    {
     "name": "stdout",
     "output_type": "stream",
     "text": [
      "XBC\n"
     ]
    }
   ],
   "source": [
    "# 3) re.sub(search, rep, str ) 함수 사용한 치환\n",
    "print(re.sub(r'A', 'X', \"ABC\")) # XBC"
   ]
  },
  {
   "cell_type": "code",
   "execution_count": 11,
   "metadata": {},
   "outputs": [
    {
     "name": "stdout",
     "output_type": "stream",
     "text": [
      "True\n",
      "True\n",
      "False\n",
      "True\n",
      "True\n",
      "False\n"
     ]
    }
   ],
   "source": [
    "# 4) 패턴 한정\n",
    "    #  String anchors\n",
    "    #  1. \\A, ^:  문자열의 시작 부분으로 패턴 한정\n",
    "    #  2. \\Z, $ :  문자열의 끝 부분으로 패턴 한정\n",
    "print(bool(re.search(r'\\Acat', 'cater')))\n",
    "\n",
    "print(bool(re.search(r'cat', 'concatenation'))) # cat이 들어가면 True\n",
    "print(bool(re.search(r'\\Acat', 'concatenation')))\n",
    "\n",
    "print(bool(re.search(r'^cat', 'cater')))\n",
    "\n",
    "print(bool(re.search(r'cat', 'concatenation'))) # cat이 들어가면 True\n",
    "print(bool(re.search(r'^cat', 'concatenation')))"
   ]
  },
  {
   "cell_type": "code",
   "execution_count": 13,
   "metadata": {},
   "outputs": [
    {
     "name": "stdout",
     "output_type": "stream",
     "text": [
      "True\n",
      "True\n",
      "False\n",
      "True\n",
      "True\n",
      "False\n"
     ]
    }
   ],
   "source": [
    "print(bool(re.search(r'are\\Z', 'spare')))\n",
    "\n",
    "print(bool(re.search(r'are', 'nearest')))\n",
    "print(bool(re.search(r'are\\Z', 'nearest')))\n",
    "\n",
    "print(bool(re.search(r'are$', 'spare')))    # True\n",
    "\n",
    "print(bool(re.search(r'are', 'nearest')))  # True\n",
    "print(bool(re.search(r'are$', 'nearest')))  # False"
   ]
  },
  {
   "cell_type": "code",
   "execution_count": 14,
   "metadata": {},
   "outputs": [
    {
     "name": "stdout",
     "output_type": "stream",
     "text": [
      "True\n",
      "True\n",
      "False\n"
     ]
    }
   ],
   "source": [
    "# 5) 선택 ( Alternation ) 및 그룹화\n",
    "\n",
    "    # 선택 ( Alternation ) \n",
    "\n",
    "    # 1.  | 이용\n",
    "    # 2. abd | acd = a(b|c)d\n",
    "    \n",
    "pet = re.compile(r'cat|dog')\n",
    "print(bool(pet.search('I like cats'))) # True\n",
    "print(bool(pet.search('I like dogs'))) # True\n",
    "print(bool(pet.search('I like parrots'))) # False"
   ]
  },
  {
   "cell_type": "code",
   "execution_count": 15,
   "metadata": {},
   "outputs": [
    {
     "name": "stdout",
     "output_type": "stream",
     "text": [
      "red X read arX\n",
      "red X read arX\n",
      "red X read arX\n"
     ]
    }
   ],
   "source": [
    "# without grouping\n",
    "print(re.sub(r'reform|rest', 'X', 'red reform read arrest'))   # red X read arX\n",
    "# with grouping\n",
    "print(re.sub(r're(form|st)', 'X', 'red reform read arrest'))   # red X read arX\n",
    "\n",
    "alt = re.compile(r're(form|st)')\n",
    "print(alt.sub('X', 'red reform read arrest')) # red X read arX"
   ]
  },
  {
   "cell_type": "code",
   "execution_count": 16,
   "metadata": {},
   "outputs": [
    {
     "name": "stdout",
     "output_type": "stream",
     "text": [
      "True\n",
      "True\n",
      "True\n",
      "False\n",
      "True\n"
     ]
    }
   ],
   "source": [
    "# 6) dot\n",
    "\n",
    "        #  1. 줄바꿈 문자인 \\n 제외한 모든 문자(하나)와 매치 ( 한글, 숫자 포함 )\n",
    "        #  2.  .x  ==> x 앞에 어떤 문자가 있다.\n",
    "\n",
    "print(bool(re.search(r'a.b','axb')))\n",
    "print(bool(re.search(r'a.b','a0b')))\n",
    "print(bool(re.search(r'a.b','a홍b')))\n",
    "print(bool(re.search(r'a.b','axxb')) )\n",
    "\n",
    "print(bool(re.search(r'a[.]b','a.b')))"
   ]
  },
  {
   "cell_type": "code",
   "execution_count": 17,
   "metadata": {},
   "outputs": [
    {
     "name": "stdout",
     "output_type": "stream",
     "text": [
      "False\n",
      "True\n",
      "True\n",
      "False\n"
     ]
    }
   ],
   "source": [
    "# 6) +\n",
    "#              1. 반복 처리\n",
    "#              2.  x+  ==> x가 1번 이상 반복될 수 있다.\n",
    "\n",
    "print(bool(re.search(r'ca+b','cb'))) # False\n",
    "print(bool(re.search(r'ca+b','cab'))) # true\n",
    "print(bool(re.search(r'ca+b','caaaab'))) # true\n",
    "print(bool(re.search(r'ca+b','cacb')) ) # False"
   ]
  },
  {
   "cell_type": "code",
   "execution_count": 18,
   "metadata": {},
   "outputs": [
    {
     "name": "stdout",
     "output_type": "stream",
     "text": [
      "True\n",
      "True\n",
      "False\n",
      "False\n"
     ]
    }
   ],
   "source": [
    "# 7) ?\n",
    "#              1. 없거나 1번 있거나\n",
    "#              2.  x?  ==> x가 1번 나오거나 안나올수 있다.\n",
    "\n",
    "print(bool(re.search(r'ca?b','cb')))\n",
    "print(bool(re.search(r'ca?b','cab')))\n",
    "print(bool(re.search(r'ca?b','caab')))\n",
    "print(bool(re.search(r'ca?b','caaab')))"
   ]
  },
  {
   "cell_type": "code",
   "execution_count": 19,
   "metadata": {},
   "outputs": [
    {
     "name": "stdout",
     "output_type": "stream",
     "text": [
      "True\n",
      "True\n",
      "True\n"
     ]
    }
   ],
   "source": [
    "# 8) *\n",
    "#              1. 없거나  여러번 있거나\n",
    "#              2.  x*  ==> x가 없거나 여러번 나올수 있다.\n",
    "\n",
    "print(bool(re.search(r'ca*b','cb'))) # true\n",
    "print(bool(re.search(r'ca*b','cab'))) # true\n",
    "print(bool(re.search(r'ca*b','caaaab'))) # true"
   ]
  },
  {
   "cell_type": "code",
   "execution_count": 20,
   "metadata": {},
   "outputs": [
    {
     "name": "stdout",
     "output_type": "stream",
     "text": [
      "False\n",
      "False\n",
      "True\n"
     ]
    }
   ],
   "source": [
    "# 9) {n,[m]}\n",
    "#               x{n}: n번 반복\n",
    "#               x{n, } : n번 이상 반복\n",
    "#               x{,m} : 없거나 m번 이하 반복\n",
    "#               x{n,m} : n번 이상 m 번 이하 반복\n",
    "\n",
    "#  a가 3번 반복\n",
    "print(bool(re.search(r'ca{3}b','cb')))\n",
    "print(bool(re.search(r'ca{3}b','cab')))\n",
    "print(bool(re.search(r'ca{3}b','caaab')))"
   ]
  },
  {
   "cell_type": "code",
   "execution_count": 21,
   "metadata": {},
   "outputs": [
    {
     "name": "stdout",
     "output_type": "stream",
     "text": [
      "False\n",
      "False\n",
      "True\n",
      "True\n"
     ]
    }
   ],
   "source": [
    "#  a가 2번 이상 반복\n",
    "print(bool(re.search(r'ca{2,}b','cb')))\n",
    "print(bool(re.search(r'ca{2,}b','cab')))\n",
    "print(bool(re.search(r'ca{2,}b','caab')))\n",
    "print(bool(re.search(r'ca{2,}b','caaab')))"
   ]
  },
  {
   "cell_type": "code",
   "execution_count": 22,
   "metadata": {},
   "outputs": [
    {
     "name": "stdout",
     "output_type": "stream",
     "text": [
      "False\n",
      "True\n",
      "True\n",
      "False\n"
     ]
    }
   ],
   "source": [
    "#  a가 1번 이상 2번 이하 반복\n",
    "print(bool(re.search(r'ca{1,2}b','cb')))\n",
    "print(bool(re.search(r'ca{1,2}b','cab')))\n",
    "print(bool(re.search(r'ca{1,2}b','caab')))\n",
    "print(bool(re.search(r'ca{1,2}b','caaab')))"
   ]
  },
  {
   "cell_type": "code",
   "execution_count": 23,
   "metadata": {},
   "outputs": [
    {
     "name": "stdout",
     "output_type": "stream",
     "text": [
      "True\n",
      "False\n",
      "True\n",
      "False\n",
      "True\n",
      "True\n",
      "True\n",
      "True\n"
     ]
    }
   ],
   "source": [
    "# 10) x[ab]\n",
    "#   [] 안의 문자중 하나, 만약  a-b 사용하면 from ~ to 의미\n",
    "#\n",
    "#              [bts] : b 또는 t 또는 s\n",
    "#              [a-z] : 알파벳 소문자 하나\n",
    "#              [A-Z] : 알파벳 대문자 하나\n",
    "#              [0-9] : 숫자 하나\n",
    "#              [가-힣]: 한글 하나\n",
    "#              [a-zA-Z0-9] : 알파벳 대/소, 숫자중 하나\n",
    "\n",
    "#  1. 문자중 하나\n",
    "print(bool(re.search(r'[abc]' , \"abcx\")))\n",
    "print(bool(re.search(r'[abc]' , \"xyz\")))\n",
    "\n",
    "# 2. 범위중 하나\n",
    "print(bool(re.search(r'[a-d]', \"xdbc\")))\n",
    "print(bool(re.search(r'[a-d]', \"xyz\")))\n",
    "print(bool(re.search(r'[A-Z]',\"Abc\")))\n",
    "print(bool(re.search(r'[0-9]',\"9Abc\")))\n",
    "print(bool(re.search(r'[a-zA-Z]',\"xAbc\")))\n",
    "print(bool(re.search(r'[a-zA-Z0-9가-힣]',\"99xAbc\")))"
   ]
  },
  {
   "cell_type": "code",
   "execution_count": 26,
   "metadata": {},
   "outputs": [
    {
     "name": "stdout",
     "output_type": "stream",
     "text": [
      "['x', 'A', 'b', 'c']\n",
      "['홍', '박', '제', '주']\n"
     ]
    }
   ],
   "source": [
    "# findall() : 정규식과 일치하는 모든 문자열을 찾아서 list 로 반환\n",
    "result = re.findall(r'[a-zA-Z]',\"99xAbc\") # ['x', 'A', 'b', 'c']\n",
    "print(result)\n",
    "result = re.findall(r'[가-힣]',\"홍99박xAbc제주\") # ['홍', '박', '제', '주']\n",
    "print(result)"
   ]
  },
  {
   "cell_type": "code",
   "execution_count": null,
   "metadata": {},
   "outputs": [],
   "source": [
    "# 11) x[^ab]\n",
    "#  1. [^] : [] 안에 ^이 사용되면 시작문자가 아닌 부정의 의미\n",
    "#\n",
    "#              [^bts] : b 또는 t 또는 s 가 아닌것\n",
    "#              [^a-z] : 알파벳 소문자 하나가 아닌것\n",
    "#              [^A-Z] : 알파벳 대문자 하나가 아닌것\n",
    "#              [^0-9] : 숫자 하나가 아닌것\n",
    "#              [^가-힣]: 한글 하나가 아닌것\n",
    "#              [^a-zA-Z0-9] : 알파벳 대/소, 숫자중 하나가 아닌것"
   ]
  },
  {
   "cell_type": "code",
   "execution_count": null,
   "metadata": {},
   "outputs": [],
   "source": [
    "# 12) escape 문자\n",
    "#    \\d :   [0-9]와 동일\n",
    "#    \\D :   [^0-9]와 동일\n",
    "#    \\s :   whitespace 문자와 일치\n",
    "#    \\S :   whitespace 문자가 아닌 문자와 일치\n",
    "#    \\w :   [a-zA-Z0-9가-힣_]와  동일\n",
    "#    \\W :   [^a-zA-Z0-9가-힣_]와  동일\n",
    "#    \\. :   . 문자와 동일\n",
    "#    \\* :   * 문자와 동일\n",
    "#    \\+ :   + 문자와 동일\n",
    "#    \\? :   ? 문자와 동일\n",
    "#    \\$ :   $ 문자와 동일"
   ]
  },
  {
   "cell_type": "code",
   "execution_count": 28,
   "metadata": {},
   "outputs": [
    {
     "name": "stdout",
     "output_type": "stream",
     "text": [
      "True\n",
      "True\n",
      "True\n",
      "True\n",
      "True\n",
      "True\n",
      "True\n",
      "False\n",
      "True\n",
      "True\n",
      "True\n",
      "True\n",
      "True\n",
      "True\n"
     ]
    }
   ],
   "source": [
    "result = re.search(r'\\d',\"9Abc\") # [0-9]와 동일\n",
    "print(bool(result))\n",
    "result = re.search(r'\\D', \"Abc\")  # [^0-9]와 동일\n",
    "print(bool(result))\n",
    "result = re.search(r'\\s', ' 9Abc') # [ \\n\\t\\r\\f\\v]와  동일, 즉 whitespace 문자와 일치\n",
    "print(bool(result))\n",
    "result = re.search(r'\\s', '9 Abc') # [ \\n\\t\\r\\f\\v]와  동일, 즉 whitespace 문자와 일치\n",
    "print(bool(result))\n",
    "result = re.search(r'\\S','9Abc') # [^ \\n\\t\\r\\f\\v]와  동일,\n",
    "print(bool(result))\n",
    "result = re.search(r'\\w', '홍9Abc') # [a-zA-Z0-9가-힣_]와  동일, 문자,숫자와 일치 ==> 한글포함\n",
    "print(bool(result))\n",
    "result = re.search(r'\\w', '홍길동') # [a-zA-Z0-9가-힣_]와  동일, 문자,숫자와 일치 ==> 한글포함\n",
    "print(bool(result))\n",
    "result = re.search(r'\\W', '9Abc') # None, [^a-zA-Z0-9가-힣_]와  동일,\n",
    "print(bool(result))\n",
    "result = re.search(r'\\W', '9Abc%$') #  [^a-zA-Z0-9가-힣_]와  동일,\n",
    "print(bool(result))\n",
    "result = re.search(r'\\.', '9Ab.c')  #  . 문자와 동일\n",
    "print(bool(result))\n",
    "result = re.search(r'\\*', '9Ab*c')  #  * 문자와 동일\n",
    "print(bool(result))\n",
    "result = re.search(r'\\+', '9A+b*c') #  + 문자와 동일\n",
    "print(bool(result))\n",
    "result = re.search(r'\\?', '9A+b*c?') # ? 문자와 동일\n",
    "print(bool(result))\n",
    "result = re.search(r'\\$', '9$A+b*c?') # $ 문자와 동일\n",
    "print(bool(result))"
   ]
  },
  {
   "cell_type": "code",
   "execution_count": null,
   "metadata": {},
   "outputs": [],
   "source": []
  }
 ],
 "metadata": {
  "kernelspec": {
   "display_name": "Python 3",
   "language": "python",
   "name": "python3"
  },
  "language_info": {
   "codemirror_mode": {
    "name": "ipython",
    "version": 3
   },
   "file_extension": ".py",
   "mimetype": "text/x-python",
   "name": "python",
   "nbconvert_exporter": "python",
   "pygments_lexer": "ipython3",
   "version": "3.11.3"
  },
  "orig_nbformat": 4
 },
 "nbformat": 4,
 "nbformat_minor": 2
}
