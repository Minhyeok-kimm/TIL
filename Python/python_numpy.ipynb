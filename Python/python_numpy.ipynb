{
 "cells": [
  {
   "attachments": {},
   "cell_type": "markdown",
   "metadata": {},
   "source": [
    "## 6/9(금)"
   ]
  },
  {
   "attachments": {},
   "cell_type": "markdown",
   "metadata": {},
   "source": [
    "### numpy 작동 확인\n",
    "- uninstall 방법 `pip uninstall numpy`"
   ]
  },
  {
   "cell_type": "code",
   "execution_count": 1,
   "metadata": {},
   "outputs": [],
   "source": [
    "import numpy as np"
   ]
  },
  {
   "cell_type": "code",
   "execution_count": 2,
   "metadata": {},
   "outputs": [
    {
     "name": "stdout",
     "output_type": "stream",
     "text": [
      "1.24.3\n"
     ]
    }
   ],
   "source": [
    "print(np.__version__)"
   ]
  },
  {
   "attachments": {},
   "cell_type": "markdown",
   "metadata": {},
   "source": [
    "### 1차원 배열"
   ]
  },
  {
   "attachments": {},
   "cell_type": "markdown",
   "metadata": {},
   "source": [
    "#### 1. 1차원 배열 생성"
   ]
  },
  {
   "cell_type": "code",
   "execution_count": 3,
   "metadata": {},
   "outputs": [
    {
     "name": "stdout",
     "output_type": "stream",
     "text": [
      "[10, 20, 30] <class 'list'>\n",
      "[10 20 30] <class 'numpy.ndarray'> int32\n"
     ]
    }
   ],
   "source": [
    "# 배열 생성: np.array() 사용\n",
    "\n",
    "list_value = [10,20,30]  # list, tuple, set , 정수의 기본 dtype은  int32 ( 4byte )\n",
    "vector1 = np.array(list_value)\n",
    "print(list_value, type(list_value))\n",
    "print(vector1, type(vector1), vector1.dtype)"
   ]
  },
  {
   "cell_type": "code",
   "execution_count": 4,
   "metadata": {},
   "outputs": [
    {
     "name": "stdout",
     "output_type": "stream",
     "text": [
      "[10. 20. 30.] <class 'numpy.ndarray'> float64\n"
     ]
    }
   ],
   "source": [
    "list_value = [10.,20.,30.]\n",
    "vector1 = np.array(list_value)\n",
    "print(vector1, type(vector1), vector1.dtype)"
   ]
  },
  {
   "cell_type": "code",
   "execution_count": 5,
   "metadata": {},
   "outputs": [
    {
     "name": "stdout",
     "output_type": "stream",
     "text": [
      "[10. 20. 30.] <class 'numpy.ndarray'> float64\n"
     ]
    }
   ],
   "source": [
    "# upcasting: 자동으로 큰 데이터 타입으로 변경되는 것\n",
    "list_value = [10.,20,30]\n",
    "vector1 = np.array(list_value)\n",
    "print(vector1, type(vector1), vector1.dtype)"
   ]
  },
  {
   "cell_type": "code",
   "execution_count": 8,
   "metadata": {},
   "outputs": [
    {
     "name": "stdout",
     "output_type": "stream",
     "text": [
      "[10 20 30] <class 'numpy.ndarray'> int32\n"
     ]
    }
   ],
   "source": [
    "# 명시적으로 데이터 타입을 변경 가능\n",
    "list_value = [10.,20.,30.]\n",
    "vector1 = np.array(list_value, dtype=np.int32)\n",
    "print(vector1, type(vector1), vector1.dtype)"
   ]
  },
  {
   "attachments": {},
   "cell_type": "markdown",
   "metadata": {},
   "source": [
    "#### 2. ndarray의 속성"
   ]
  },
  {
   "cell_type": "code",
   "execution_count": 10,
   "metadata": {},
   "outputs": [
    {
     "name": "stdout",
     "output_type": "stream",
     "text": [
      "[10 20 30] <class 'numpy.ndarray'> int32\n"
     ]
    }
   ],
   "source": [
    "list_value = [10,20,30]\n",
    "vector1 = np.array(list_value)\n",
    "print(vector1, type(vector1), vector1.dtype)\n",
    "\n",
    "# print(dir(vector1))\n",
    "\n",
    "# 'T', 'all', 'any', 'argmax', 'argmin', 'argpartition', 'argsort', 'astype', 'base', 'byteswap', \n",
    "# 'choose', 'clip', 'compress', 'conj', 'conjugate', 'copy', 'ctypes', 'cumprod', 'cumsum', 'data', \n",
    "# 'diagonal', 'dot', 'dtype', 'dump', 'dumps', 'fill', 'flags', 'flat', 'flatten', 'getfield', 'imag', \n",
    "# 'item', 'itemset', 'itemsize', 'max', 'mean', 'min', 'nbytes', 'ndim', 'newbyteorder', 'nonzero', \n",
    "# 'partition', 'prod', 'ptp', 'put', 'ravel', 'real', 'repeat', 'reshape', 'resize', 'round', 'searchsorted', \n",
    "# 'setfield', 'setflags', 'shape', 'size', 'sort', 'squeeze', 'std', 'strides', 'sum', 'swapaxes', 'take', \n",
    "# 'tobytes', 'tofile', 'tolist', 'tostring', 'trace', 'transpose', 'var', 'view'"
   ]
  },
  {
   "cell_type": "code",
   "execution_count": 11,
   "metadata": {},
   "outputs": [
    {
     "name": "stdout",
     "output_type": "stream",
     "text": [
      "1. 벡터의 차원(dimension,axis)갯수: 1\n",
      "2. 벡터의 각 차원의 크기(shape): (3,)\n",
      "3. 벡터의 총 요소 갯수(size): 3\n",
      "4. 벡터의 저장 데이터 type(dtype): int32\n"
     ]
    }
   ],
   "source": [
    "print(\"1. 벡터의 차원(dimension,axis)갯수:\", vector1.ndim)\n",
    "print(\"2. 벡터의 각 차원의 크기(shape):\", vector1.shape) # tuple로 반환된다.\n",
    "print(\"3. 벡터의 총 요소 갯수(size):\", vector1.size)\n",
    "print(\"4. 벡터의 저장 데이터 type(dtype):\", vector1.dtype)"
   ]
  },
  {
   "attachments": {},
   "cell_type": "markdown",
   "metadata": {},
   "source": [
    "#### 3. 랜덤함수로 벡터 생성"
   ]
  },
  {
   "cell_type": "code",
   "execution_count": 16,
   "metadata": {},
   "outputs": [
    {
     "name": "stdout",
     "output_type": "stream",
     "text": [
      "1. random(5)\n",
      "[0.62210877 0.43772774 0.78535858 0.77997581 0.27259261] <class 'numpy.ndarray'> float64\n"
     ]
    }
   ],
   "source": [
    "# 1) 랜덤값 고정\n",
    "np.random.seed(1234)\n",
    "\n",
    "# 2) np.random.random([갯수])\n",
    "# 0.0 <= 값 < 1.0 사이의 임의의 float 5개 랜덤값 반환. 갯수 생략하면  1개반환\n",
    "print(\"1. random(5)\")\n",
    "arr = np.random.random()\n",
    "arr = np.random.random(5)\n",
    "print(arr, type(arr), arr.dtype)"
   ]
  },
  {
   "cell_type": "code",
   "execution_count": 19,
   "metadata": {},
   "outputs": [
    {
     "name": "stdout",
     "output_type": "stream",
     "text": [
      "2. rand(5)\n",
      "[0.37025075 0.56119619 0.50308317 0.01376845 0.77282662] <class 'numpy.ndarray'> float64\n"
     ]
    }
   ],
   "source": [
    "# 3) np.random.rand([갯수])\n",
    "# 0 ~ 1의 균등분포에서 표본 추출. 갯수 생략하면  1개반환\n",
    "print(\"2. rand(5)\")\n",
    "arr = np.random.rand()\n",
    "arr = np.random.rand(5)\n",
    "print(arr, type(arr), arr.dtype)"
   ]
  },
  {
   "cell_type": "code",
   "execution_count": 22,
   "metadata": {},
   "outputs": [
    {
     "name": "stdout",
     "output_type": "stream",
     "text": [
      "3. randn(5)\n",
      "[-0.28694235  0.44143825 -0.76987271 -0.97456841  0.70900741]\n"
     ]
    }
   ],
   "source": [
    "# 3) np.random.randn([갯수])\n",
    "# 표준편차가 1이고 평균값이 0인 정규분포에서 표본 추출. 갯수 생략하면  1개반환\n",
    "print(\"3. randn(5)\")\n",
    "arr = np.random.randn()\n",
    "arr = np.random.randn(5)\n",
    "print(arr)"
   ]
  },
  {
   "cell_type": "code",
   "execution_count": 28,
   "metadata": {},
   "outputs": [
    {
     "name": "stdout",
     "output_type": "stream",
     "text": [
      "4. randint(1,10,3)\n",
      "[5 3 8]\n"
     ]
    }
   ],
   "source": [
    "# 4) np.random.randint(low, high, n)\n",
    "# 주어진 최소/최대 범위 안에서 임의의 난수 n개 추출\n",
    "print(\"4. randint(1,10,3)\")\n",
    "arr = np.random.randint(1,10,3)\n",
    "print(arr)"
   ]
  },
  {
   "cell_type": "code",
   "execution_count": 31,
   "metadata": {},
   "outputs": [
    {
     "name": "stdout",
     "output_type": "stream",
     "text": [
      "4. randint(5, size=4): \n",
      "[2 1 2 1]\n"
     ]
    }
   ],
   "source": [
    "# 4) np.random.randint(high, size=n)\n",
    "# 0 ~ 최대(exclusive) 범위안에서 임의의 정수 n개 반환, 복원추출\n",
    "print(\"4. randint(5, size=4): \")\n",
    "arr = np.random.randint(5, size=4)\n",
    "print(arr)"
   ]
  },
  {
   "cell_type": "code",
   "execution_count": 34,
   "metadata": {},
   "outputs": [
    {
     "name": "stdout",
     "output_type": "stream",
     "text": [
      "5. np.random.choice(['foo','bar','baz'])\n",
      "bar\n"
     ]
    }
   ],
   "source": [
    "# 5) np.random.choice(리스트)\n",
    "# 주어진 리스트에서 임의의 값 1개 반환\n",
    "print(\"5. np.random.choice(['foo','bar','baz'])\")\n",
    "choice_value = np.random.choice(['foo','bar','baz'])\n",
    "print(choice_value)"
   ]
  },
  {
   "cell_type": "code",
   "execution_count": 35,
   "metadata": {},
   "outputs": [
    {
     "name": "stdout",
     "output_type": "stream",
     "text": [
      "6. np.random.shuffle(1,3,56,7,98])\n",
      "[56, 1, 3, 7, 98]\n"
     ]
    }
   ],
   "source": [
    "# 6) np.random.shuffle(리스트)\n",
    "# 주어진 리스트를 shuffle 함.  in-place(True)로 동작됨.\n",
    "print(\"6. np.random.shuffle(1,3,56,7,98])\")\n",
    "shuffle_value = [1,3,56,7,98]\n",
    "np.random.shuffle(shuffle_value)\n",
    "print(shuffle_value)"
   ]
  },
  {
   "attachments": {},
   "cell_type": "markdown",
   "metadata": {},
   "source": [
    "#### 4. 특정 값으로 벡터를 생성"
   ]
  },
  {
   "cell_type": "code",
   "execution_count": 37,
   "metadata": {},
   "outputs": [
    {
     "name": "stdout",
     "output_type": "stream",
     "text": [
      "1. np.zeros(5):\n",
      "[0. 0. 0. 0. 0.] float64\n",
      "[0 0 0 0 0] int32\n"
     ]
    }
   ],
   "source": [
    "# 1. np.zeros(shape)\n",
    "# shape만큼 0으로 채움. 기본 type은 float64\n",
    "print(\"1. np.zeros(5):\")\n",
    "data = np.zeros(5)\n",
    "print(data, data.dtype)\n",
    "data = np.zeros(5, dtype=np.int32)\n",
    "print(data, data.dtype)"
   ]
  },
  {
   "cell_type": "code",
   "execution_count": 38,
   "metadata": {},
   "outputs": [
    {
     "name": "stdout",
     "output_type": "stream",
     "text": [
      "2. np.ones(5):\n",
      "[1. 1. 1. 1. 1.] float64\n",
      "[1 1 1 1 1] int32\n"
     ]
    }
   ],
   "source": [
    "# 2. np.ones(shape)\n",
    "# shape만큼  1.0 으로 채움. 기본 type은 float64\n",
    "print(\"2. np.ones(5):\")\n",
    "data = np.ones(5)\n",
    "print(data , data.dtype)\n",
    "data = np.ones(5, dtype=np.int32)\n",
    "print(data, data.dtype)"
   ]
  },
  {
   "cell_type": "code",
   "execution_count": 42,
   "metadata": {},
   "outputs": [
    {
     "name": "stdout",
     "output_type": "stream",
     "text": [
      "3. np.empty(3)\n",
      "[10. 20. 30.] float64\n",
      "[5 3 8] int32\n"
     ]
    }
   ],
   "source": [
    "# 3. np.empty(shape)\n",
    "# shape 만큼 임의의 값으로 채워짐 ==> 임의의 값으로 초기화 시킨 것\n",
    "print(\"3. np.empty(3)\")\n",
    "data = np.empty(3)\n",
    "print(data , data.dtype)\n",
    "data = np.empty(3, dtype=np.int32)\n",
    "print(data , data.dtype)"
   ]
  },
  {
   "cell_type": "code",
   "execution_count": 43,
   "metadata": {},
   "outputs": [
    {
     "name": "stdout",
     "output_type": "stream",
     "text": [
      "4. full(5, 10)\n",
      "[10 10 10 10 10]\n"
     ]
    }
   ],
   "source": [
    "# 4. np.full(shape, 값)\n",
    "# shape 만큼 지정된 값으로 채워짐\n",
    "print(\"4. full(5, 10)\")\n",
    "data = np.full(5, 10)\n",
    "print(data)"
   ]
  },
  {
   "attachments": {},
   "cell_type": "markdown",
   "metadata": {},
   "source": [
    "#### 5. np.arange"
   ]
  },
  {
   "cell_type": "code",
   "execution_count": 46,
   "metadata": {},
   "outputs": [
    {
     "name": "stdout",
     "output_type": "stream",
     "text": [
      "1. arange(10)\n",
      "[0 1 2 3 4 5 6 7 8 9]\n",
      "2. arange(1,11)\n",
      "[ 1  2  3  4  5  6  7  8  9 10]\n",
      "3. arange(1,11,2)\n",
      "[1 3 5 7 9]\n"
     ]
    }
   ],
   "source": [
    "print(\"1. arange(10)\")\n",
    "data = np.arange(10)  # [0,10) 형식으로 표현\n",
    "print(data)\n",
    "\n",
    "print(\"2. arange(1,11)\")\n",
    "data = np.arange(1,11) # [1,11)형식으로 표현\n",
    "print(data)\n",
    "\n",
    "print(\"3. arange(1,11,2)\")\n",
    "data = np.arange(1,11,2) # start, end(exclusive), step\n",
    "print(data)"
   ]
  },
  {
   "cell_type": "code",
   "execution_count": 47,
   "metadata": {},
   "outputs": [
    {
     "name": "stdout",
     "output_type": "stream",
     "text": [
      "4. float으로 설정1\n",
      "[0. 1. 2. 3. 4.]\n",
      "4. float으로 설정2\n",
      "[0. 1. 2. 3. 4.]\n"
     ]
    }
   ],
   "source": [
    "# float값으로 설정하기\n",
    "print(\"4. float으로 설정1\")\n",
    "data = np.arange(5, dtype=np.float32)\n",
    "print(data) # [0. 1. 2. 3. 4.]\n",
    "\n",
    "print(\"4. float으로 설정2\")\n",
    "# float값 지정하면 float 값 반환됨.\n",
    "data = np.arange(5.0)\n",
    "print(data) # [0. 1. 2. 3. 4.]"
   ]
  },
  {
   "attachments": {},
   "cell_type": "markdown",
   "metadata": {},
   "source": [
    "#### 6. np.linspace\n",
    "- np.linspace(start, stop, [num=50, endpoint=True])\n",
    "- 기본적으로 stop값이 범위에 포함되고, 포함시키지 않으려면 endpoint=Flase로 지정한다."
   ]
  },
  {
   "cell_type": "code",
   "execution_count": 50,
   "metadata": {},
   "outputs": [
    {
     "name": "stdout",
     "output_type": "stream",
     "text": [
      "1. np.linspace(0, 1, 11)\n",
      "[0.  0.1 0.2 0.3 0.4 0.5 0.6 0.7 0.8 0.9 1. ] float64\n",
      "2. np.linspace(0, 0.9, 10)\n",
      "[0.  0.1 0.2 0.3 0.4 0.5 0.6 0.7 0.8 0.9]\n",
      "3. np.linspace(0, 0.9, 10, endpoint=False)\n",
      "[0.   0.09 0.18 0.27 0.36 0.45 0.54 0.63 0.72 0.81]\n"
     ]
    }
   ],
   "source": [
    "print(\"1. np.linspace(0, 1, 11)\")\n",
    "# 0 <= 값 <= 1 사이의 값을 11개 생성\n",
    "data = np.linspace(0, 1, 11 )\n",
    "print(data, data.dtype)\n",
    "\n",
    "print(\"2. np.linspace(0, 0.9, 10)\")\n",
    "# 0 <= 값 <= 0.9 사이의 값을 10개 생성\n",
    "data = np.linspace(0, 0.9, 10)\n",
    "print(data)\n",
    "\n",
    "print(\"3. np.linspace(0, 0.9, 10, endpoint=False)\")\n",
    "# 0 <= 값 <= 0.9 사이의 값을 10개 생성\n",
    "data = np.linspace(0, 0.9, 10, endpoint=False)\n",
    "print(data)"
   ]
  },
  {
   "attachments": {},
   "cell_type": "markdown",
   "metadata": {},
   "source": [
    "#### 7. 1차원 배열 삭제\n",
    "arr = np.delete(arr, idx|fancy|slice, axis )\n",
    "\n",
    "      - 삭제된 새로운 배열을 반환(in-place false, 원본이 유지된다.)\n",
    "      - 순방향, 역방향 모두 가능\n",
    "      - axis=None 이면 flatten 적용됨. => 다차원이 1차원으로 변경\n",
    "      - slice인 경우에는  np.s_[::2]  형식 사용한다."
   ]
  },
  {
   "cell_type": "code",
   "execution_count": 55,
   "metadata": {},
   "outputs": [
    {
     "name": "stdout",
     "output_type": "stream",
     "text": [
      "1. idx로 삭제\n",
      "[9 8 7 5 4 3]\n",
      "[8 7 5 4 3]\n",
      "[9 7 5 4 3]\n",
      "[9 8 7 5 4]\n",
      "2. fancy 삭제\n",
      "[9 8 7 5 4 3]\n",
      "[8 7 4]\n",
      "[8 7]\n",
      "3. slice 삭제,  np.s_[::2]\n",
      "[9 8 7 5 4 3]\n",
      "[4 3]\n"
     ]
    }
   ],
   "source": [
    "# 1. idx|fancy|slice 삭제\n",
    "print(\"1. idx로 삭제\")\n",
    "arr = np.array([9,8,7,5,4,3])\n",
    "print(arr)\n",
    "new_arr = np.delete(arr,0)\n",
    "print(new_arr)\n",
    "new_arr = np.delete(arr,1)\n",
    "print(new_arr)\n",
    "new_arr = np.delete(arr,-1)\n",
    "print(new_arr)\n",
    "\n",
    "print(\"2. fancy 삭제\") #  [idx, idx2, idx3] 여러 idx를 지정하는 방식. numpy에만 지원\n",
    "arr = np.array([9,8,7,5,4,3])\n",
    "print(arr)\n",
    "new_arr = np.delete(arr, [0,3,5] ) # fancy 인덱싱(정수배열 인덱싱)\n",
    "print(new_arr)\n",
    "new_arr = np.delete(arr, [0,3,5,-2] )\n",
    "print(new_arr)\n",
    "\n",
    "print(\"3. slice 삭제,  np.s_[::2]\") # 대괄호만 쓰면 error 발생\n",
    "arr = np.array([9,8,7,5,4,3])\n",
    "print(arr)\n",
    "new_arr = np.delete(arr, np.s_[0:4] ) # slice 삭제\n",
    "print(new_arr)"
   ]
  },
  {
   "cell_type": "code",
   "execution_count": null,
   "metadata": {},
   "outputs": [],
   "source": []
  }
 ],
 "metadata": {
  "kernelspec": {
   "display_name": "Python 3",
   "language": "python",
   "name": "python3"
  },
  "language_info": {
   "codemirror_mode": {
    "name": "ipython",
    "version": 3
   },
   "file_extension": ".py",
   "mimetype": "text/x-python",
   "name": "python",
   "nbconvert_exporter": "python",
   "pygments_lexer": "ipython3",
   "version": "3.11.3"
  },
  "orig_nbformat": 4
 },
 "nbformat": 4,
 "nbformat_minor": 2
}
