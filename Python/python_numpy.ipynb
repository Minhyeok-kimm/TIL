{
 "cells": [
  {
   "attachments": {},
   "cell_type": "markdown",
   "metadata": {},
   "source": [
    "## 6/9(금)"
   ]
  },
  {
   "attachments": {},
   "cell_type": "markdown",
   "metadata": {},
   "source": [
    "### numpy 작동 확인\n",
    "- uninstall 방법 `pip uninstall numpy`"
   ]
  },
  {
   "cell_type": "code",
   "execution_count": 1,
   "metadata": {},
   "outputs": [],
   "source": [
    "import numpy as np"
   ]
  },
  {
   "cell_type": "code",
   "execution_count": 2,
   "metadata": {},
   "outputs": [
    {
     "name": "stdout",
     "output_type": "stream",
     "text": [
      "1.24.3\n"
     ]
    }
   ],
   "source": [
    "print(np.__version__)"
   ]
  },
  {
   "attachments": {},
   "cell_type": "markdown",
   "metadata": {},
   "source": [
    "### 1차원 배열"
   ]
  },
  {
   "attachments": {},
   "cell_type": "markdown",
   "metadata": {},
   "source": [
    "#### 1. 1차원 배열 생성"
   ]
  },
  {
   "cell_type": "code",
   "execution_count": 3,
   "metadata": {},
   "outputs": [
    {
     "name": "stdout",
     "output_type": "stream",
     "text": [
      "[10, 20, 30] <class 'list'>\n",
      "[10 20 30] <class 'numpy.ndarray'> int32\n"
     ]
    }
   ],
   "source": [
    "# 배열 생성: np.array() 사용\n",
    "\n",
    "list_value = [10,20,30]  # list, tuple, set , 정수의 기본 dtype은  int32 ( 4byte )\n",
    "vector1 = np.array(list_value)\n",
    "print(list_value, type(list_value))\n",
    "print(vector1, type(vector1), vector1.dtype)"
   ]
  },
  {
   "cell_type": "code",
   "execution_count": 4,
   "metadata": {},
   "outputs": [
    {
     "name": "stdout",
     "output_type": "stream",
     "text": [
      "[10. 20. 30.] <class 'numpy.ndarray'> float64\n"
     ]
    }
   ],
   "source": [
    "list_value = [10.,20.,30.]\n",
    "vector1 = np.array(list_value)\n",
    "print(vector1, type(vector1), vector1.dtype)"
   ]
  },
  {
   "cell_type": "code",
   "execution_count": 5,
   "metadata": {},
   "outputs": [
    {
     "name": "stdout",
     "output_type": "stream",
     "text": [
      "[10. 20. 30.] <class 'numpy.ndarray'> float64\n"
     ]
    }
   ],
   "source": [
    "# upcasting: 자동으로 큰 데이터 타입으로 변경되는 것\n",
    "list_value = [10.,20,30]\n",
    "vector1 = np.array(list_value)\n",
    "print(vector1, type(vector1), vector1.dtype)"
   ]
  },
  {
   "cell_type": "code",
   "execution_count": 8,
   "metadata": {},
   "outputs": [
    {
     "name": "stdout",
     "output_type": "stream",
     "text": [
      "[10 20 30] <class 'numpy.ndarray'> int32\n"
     ]
    }
   ],
   "source": [
    "# 명시적으로 데이터 타입을 변경 가능\n",
    "list_value = [10.,20.,30.]\n",
    "vector1 = np.array(list_value, dtype=np.int32)\n",
    "print(vector1, type(vector1), vector1.dtype)"
   ]
  },
  {
   "attachments": {},
   "cell_type": "markdown",
   "metadata": {},
   "source": [
    "#### 2. ndarray의 속성"
   ]
  },
  {
   "cell_type": "code",
   "execution_count": 10,
   "metadata": {},
   "outputs": [
    {
     "name": "stdout",
     "output_type": "stream",
     "text": [
      "[10 20 30] <class 'numpy.ndarray'> int32\n"
     ]
    }
   ],
   "source": [
    "list_value = [10,20,30]\n",
    "vector1 = np.array(list_value)\n",
    "print(vector1, type(vector1), vector1.dtype)\n",
    "\n",
    "# print(dir(vector1))\n",
    "\n",
    "# 'T', 'all', 'any', 'argmax', 'argmin', 'argpartition', 'argsort', 'astype', 'base', 'byteswap', \n",
    "# 'choose', 'clip', 'compress', 'conj', 'conjugate', 'copy', 'ctypes', 'cumprod', 'cumsum', 'data', \n",
    "# 'diagonal', 'dot', 'dtype', 'dump', 'dumps', 'fill', 'flags', 'flat', 'flatten', 'getfield', 'imag', \n",
    "# 'item', 'itemset', 'itemsize', 'max', 'mean', 'min', 'nbytes', 'ndim', 'newbyteorder', 'nonzero', \n",
    "# 'partition', 'prod', 'ptp', 'put', 'ravel', 'real', 'repeat', 'reshape', 'resize', 'round', 'searchsorted', \n",
    "# 'setfield', 'setflags', 'shape', 'size', 'sort', 'squeeze', 'std', 'strides', 'sum', 'swapaxes', 'take', \n",
    "# 'tobytes', 'tofile', 'tolist', 'tostring', 'trace', 'transpose', 'var', 'view'"
   ]
  },
  {
   "cell_type": "code",
   "execution_count": 63,
   "metadata": {},
   "outputs": [
    {
     "name": "stdout",
     "output_type": "stream",
     "text": [
      "1. 벡터의 차원(dimension,axis)갯수: 1\n",
      "2. 벡터의 각 차원의 크기(shape): (3,)\n",
      "3. 벡터의 총 요소 갯수(size): 3\n",
      "4. 벡터의 저장 데이터 type(dtype): int32\n"
     ]
    }
   ],
   "source": [
    "print(\"1. 벡터의 차원(dimension,axis)갯수:\", vector1.ndim)\n",
    "print(\"2. 벡터의 각 차원의 크기(shape):\", vector1.shape) # tuple로 반환된다.\n",
    "print(\"3. 벡터의 총 요소 갯수(size):\", vector1.size)\n",
    "print(\"4. 벡터의 저장 데이터 type(dtype):\", vector1.dtype)"
   ]
  },
  {
   "attachments": {},
   "cell_type": "markdown",
   "metadata": {},
   "source": [
    "#### 3. 랜덤함수로 벡터 생성"
   ]
  },
  {
   "cell_type": "code",
   "execution_count": 16,
   "metadata": {},
   "outputs": [
    {
     "name": "stdout",
     "output_type": "stream",
     "text": [
      "1. random(5)\n",
      "[0.62210877 0.43772774 0.78535858 0.77997581 0.27259261] <class 'numpy.ndarray'> float64\n"
     ]
    }
   ],
   "source": [
    "# 1) 랜덤값 고정\n",
    "np.random.seed(1234)\n",
    "\n",
    "# 2) np.random.random([갯수])\n",
    "# 0.0 <= 값 < 1.0 사이의 임의의 float 5개 랜덤값 반환. 갯수 생략하면  1개반환\n",
    "print(\"1. random(5)\")\n",
    "arr = np.random.random()\n",
    "arr = np.random.random(5)\n",
    "print(arr, type(arr), arr.dtype)"
   ]
  },
  {
   "cell_type": "code",
   "execution_count": 19,
   "metadata": {},
   "outputs": [
    {
     "name": "stdout",
     "output_type": "stream",
     "text": [
      "2. rand(5)\n",
      "[0.37025075 0.56119619 0.50308317 0.01376845 0.77282662] <class 'numpy.ndarray'> float64\n"
     ]
    }
   ],
   "source": [
    "# 3) np.random.rand([갯수])\n",
    "# 0 ~ 1의 균등분포에서 표본 추출. 갯수 생략하면  1개반환\n",
    "print(\"2. rand(5)\")\n",
    "arr = np.random.rand()\n",
    "arr = np.random.rand(5)\n",
    "print(arr, type(arr), arr.dtype)"
   ]
  },
  {
   "cell_type": "code",
   "execution_count": 22,
   "metadata": {},
   "outputs": [
    {
     "name": "stdout",
     "output_type": "stream",
     "text": [
      "3. randn(5)\n",
      "[-0.28694235  0.44143825 -0.76987271 -0.97456841  0.70900741]\n"
     ]
    }
   ],
   "source": [
    "# 3) np.random.randn([갯수])\n",
    "# 표준편차가 1이고 평균값이 0인 정규분포에서 표본 추출. 갯수 생략하면  1개반환\n",
    "print(\"3. randn(5)\")\n",
    "arr = np.random.randn()\n",
    "arr = np.random.randn(5)\n",
    "print(arr)"
   ]
  },
  {
   "cell_type": "code",
   "execution_count": 28,
   "metadata": {},
   "outputs": [
    {
     "name": "stdout",
     "output_type": "stream",
     "text": [
      "4. randint(1,10,3)\n",
      "[5 3 8]\n"
     ]
    }
   ],
   "source": [
    "# 4) np.random.randint(low, high, n)\n",
    "# 주어진 최소/최대 범위 안에서 임의의 난수 n개 추출\n",
    "print(\"4. randint(1,10,3)\")\n",
    "arr = np.random.randint(1,10,3)\n",
    "print(arr)"
   ]
  },
  {
   "cell_type": "code",
   "execution_count": 31,
   "metadata": {},
   "outputs": [
    {
     "name": "stdout",
     "output_type": "stream",
     "text": [
      "4. randint(5, size=4): \n",
      "[2 1 2 1]\n"
     ]
    }
   ],
   "source": [
    "# 4) np.random.randint(high, size=n)\n",
    "# 0 ~ 최대(exclusive) 범위안에서 임의의 정수 n개 반환, 복원추출\n",
    "print(\"4. randint(5, size=4): \")\n",
    "arr = np.random.randint(5, size=4)\n",
    "print(arr)"
   ]
  },
  {
   "cell_type": "code",
   "execution_count": 34,
   "metadata": {},
   "outputs": [
    {
     "name": "stdout",
     "output_type": "stream",
     "text": [
      "5. np.random.choice(['foo','bar','baz'])\n",
      "bar\n"
     ]
    }
   ],
   "source": [
    "# 5) np.random.choice(리스트)\n",
    "# 주어진 리스트에서 임의의 값 1개 반환\n",
    "print(\"5. np.random.choice(['foo','bar','baz'])\")\n",
    "choice_value = np.random.choice(['foo','bar','baz'])\n",
    "print(choice_value)"
   ]
  },
  {
   "cell_type": "code",
   "execution_count": 35,
   "metadata": {},
   "outputs": [
    {
     "name": "stdout",
     "output_type": "stream",
     "text": [
      "6. np.random.shuffle(1,3,56,7,98])\n",
      "[56, 1, 3, 7, 98]\n"
     ]
    }
   ],
   "source": [
    "# 6) np.random.shuffle(리스트)\n",
    "# 주어진 리스트를 shuffle 함.  in-place(True)로 동작됨.\n",
    "print(\"6. np.random.shuffle(1,3,56,7,98])\")\n",
    "shuffle_value = [1,3,56,7,98]\n",
    "np.random.shuffle(shuffle_value)\n",
    "print(shuffle_value)"
   ]
  },
  {
   "attachments": {},
   "cell_type": "markdown",
   "metadata": {},
   "source": [
    "#### 4. 특정 값으로 벡터를 생성"
   ]
  },
  {
   "cell_type": "code",
   "execution_count": 37,
   "metadata": {},
   "outputs": [
    {
     "name": "stdout",
     "output_type": "stream",
     "text": [
      "1. np.zeros(5):\n",
      "[0. 0. 0. 0. 0.] float64\n",
      "[0 0 0 0 0] int32\n"
     ]
    }
   ],
   "source": [
    "# 1. np.zeros(shape)\n",
    "# shape만큼 0으로 채움. 기본 type은 float64\n",
    "print(\"1. np.zeros(5):\")\n",
    "data = np.zeros(5)\n",
    "print(data, data.dtype)\n",
    "data = np.zeros(5, dtype=np.int32)\n",
    "print(data, data.dtype)"
   ]
  },
  {
   "cell_type": "code",
   "execution_count": 38,
   "metadata": {},
   "outputs": [
    {
     "name": "stdout",
     "output_type": "stream",
     "text": [
      "2. np.ones(5):\n",
      "[1. 1. 1. 1. 1.] float64\n",
      "[1 1 1 1 1] int32\n"
     ]
    }
   ],
   "source": [
    "# 2. np.ones(shape)\n",
    "# shape만큼  1.0 으로 채움. 기본 type은 float64\n",
    "print(\"2. np.ones(5):\")\n",
    "data = np.ones(5)\n",
    "print(data , data.dtype)\n",
    "data = np.ones(5, dtype=np.int32)\n",
    "print(data, data.dtype)"
   ]
  },
  {
   "cell_type": "code",
   "execution_count": 42,
   "metadata": {},
   "outputs": [
    {
     "name": "stdout",
     "output_type": "stream",
     "text": [
      "3. np.empty(3)\n",
      "[10. 20. 30.] float64\n",
      "[5 3 8] int32\n"
     ]
    }
   ],
   "source": [
    "# 3. np.empty(shape)\n",
    "# shape 만큼 임의의 값으로 채워짐 ==> 임의의 값으로 초기화 시킨 것\n",
    "print(\"3. np.empty(3)\")\n",
    "data = np.empty(3)\n",
    "print(data , data.dtype)\n",
    "data = np.empty(3, dtype=np.int32)\n",
    "print(data , data.dtype)"
   ]
  },
  {
   "cell_type": "code",
   "execution_count": 43,
   "metadata": {},
   "outputs": [
    {
     "name": "stdout",
     "output_type": "stream",
     "text": [
      "4. full(5, 10)\n",
      "[10 10 10 10 10]\n"
     ]
    }
   ],
   "source": [
    "# 4. np.full(shape, 값)\n",
    "# shape 만큼 지정된 값으로 채워짐\n",
    "print(\"4. full(5, 10)\")\n",
    "data = np.full(5, 10)\n",
    "print(data)"
   ]
  },
  {
   "attachments": {},
   "cell_type": "markdown",
   "metadata": {},
   "source": [
    "#### 5. np.arange"
   ]
  },
  {
   "cell_type": "code",
   "execution_count": 46,
   "metadata": {},
   "outputs": [
    {
     "name": "stdout",
     "output_type": "stream",
     "text": [
      "1. arange(10)\n",
      "[0 1 2 3 4 5 6 7 8 9]\n",
      "2. arange(1,11)\n",
      "[ 1  2  3  4  5  6  7  8  9 10]\n",
      "3. arange(1,11,2)\n",
      "[1 3 5 7 9]\n"
     ]
    }
   ],
   "source": [
    "print(\"1. arange(10)\")\n",
    "data = np.arange(10)  # [0,10) 형식으로 표현\n",
    "print(data)\n",
    "\n",
    "print(\"2. arange(1,11)\")\n",
    "data = np.arange(1,11) # [1,11)형식으로 표현\n",
    "print(data)\n",
    "\n",
    "print(\"3. arange(1,11,2)\")\n",
    "data = np.arange(1,11,2) # start, end(exclusive), step\n",
    "print(data)"
   ]
  },
  {
   "cell_type": "code",
   "execution_count": 47,
   "metadata": {},
   "outputs": [
    {
     "name": "stdout",
     "output_type": "stream",
     "text": [
      "4. float으로 설정1\n",
      "[0. 1. 2. 3. 4.]\n",
      "4. float으로 설정2\n",
      "[0. 1. 2. 3. 4.]\n"
     ]
    }
   ],
   "source": [
    "# float값으로 설정하기\n",
    "print(\"4. float으로 설정1\")\n",
    "data = np.arange(5, dtype=np.float32)\n",
    "print(data) # [0. 1. 2. 3. 4.]\n",
    "\n",
    "print(\"4. float으로 설정2\")\n",
    "# float값 지정하면 float 값 반환됨.\n",
    "data = np.arange(5.0)\n",
    "print(data) # [0. 1. 2. 3. 4.]"
   ]
  },
  {
   "attachments": {},
   "cell_type": "markdown",
   "metadata": {},
   "source": [
    "#### 6. np.linspace\n",
    "- np.linspace(start, stop, [num=50, endpoint=True])\n",
    "- 기본적으로 stop값이 범위에 포함되고, 포함시키지 않으려면 endpoint=Flase로 지정한다."
   ]
  },
  {
   "cell_type": "code",
   "execution_count": 50,
   "metadata": {},
   "outputs": [
    {
     "name": "stdout",
     "output_type": "stream",
     "text": [
      "1. np.linspace(0, 1, 11)\n",
      "[0.  0.1 0.2 0.3 0.4 0.5 0.6 0.7 0.8 0.9 1. ] float64\n",
      "2. np.linspace(0, 0.9, 10)\n",
      "[0.  0.1 0.2 0.3 0.4 0.5 0.6 0.7 0.8 0.9]\n",
      "3. np.linspace(0, 0.9, 10, endpoint=False)\n",
      "[0.   0.09 0.18 0.27 0.36 0.45 0.54 0.63 0.72 0.81]\n"
     ]
    }
   ],
   "source": [
    "print(\"1. np.linspace(0, 1, 11)\")\n",
    "# 0 <= 값 <= 1 사이의 값을 11개 생성\n",
    "data = np.linspace(0, 1, 11 )\n",
    "print(data, data.dtype)\n",
    "\n",
    "print(\"2. np.linspace(0, 0.9, 10)\")\n",
    "# 0 <= 값 <= 0.9 사이의 값을 10개 생성\n",
    "data = np.linspace(0, 0.9, 10)\n",
    "print(data)\n",
    "\n",
    "print(\"3. np.linspace(0, 0.9, 10, endpoint=False)\")\n",
    "# 0 <= 값 <= 0.9 사이의 값을 10개 생성\n",
    "data = np.linspace(0, 0.9, 10, endpoint=False)\n",
    "print(data)"
   ]
  },
  {
   "attachments": {},
   "cell_type": "markdown",
   "metadata": {},
   "source": [
    "#### 7. 벡터 삭제\n",
    "arr = np.delete(arr, idx|fancy|slice, axis )\n",
    "\n",
    "      - 삭제된 새로운 배열을 반환(in-place false, 원본이 유지된다.)\n",
    "      - 순방향, 역방향 모두 가능\n",
    "      - axis=None 이면 flatten 적용됨. => 다차원이 1차원으로 변경\n",
    "      - slice인 경우에는  np.s_[::2]  형식 사용한다."
   ]
  },
  {
   "cell_type": "code",
   "execution_count": 55,
   "metadata": {},
   "outputs": [
    {
     "name": "stdout",
     "output_type": "stream",
     "text": [
      "1. idx로 삭제\n",
      "[9 8 7 5 4 3]\n",
      "[8 7 5 4 3]\n",
      "[9 7 5 4 3]\n",
      "[9 8 7 5 4]\n",
      "2. fancy 삭제\n",
      "[9 8 7 5 4 3]\n",
      "[8 7 4]\n",
      "[8 7]\n",
      "3. slice 삭제,  np.s_[::2]\n",
      "[9 8 7 5 4 3]\n",
      "[4 3]\n"
     ]
    }
   ],
   "source": [
    "# 1. idx|fancy|slice 삭제\n",
    "print(\"1. idx로 삭제\")\n",
    "arr = np.array([9,8,7,5,4,3])\n",
    "print(arr)\n",
    "new_arr = np.delete(arr,0)\n",
    "print(new_arr)\n",
    "new_arr = np.delete(arr,1)\n",
    "print(new_arr)\n",
    "new_arr = np.delete(arr,-1)\n",
    "print(new_arr)\n",
    "\n",
    "print(\"2. fancy 삭제\") #  [idx, idx2, idx3] 여러 idx를 지정하는 방식. numpy에만 지원\n",
    "arr = np.array([9,8,7,5,4,3])\n",
    "print(arr)\n",
    "new_arr = np.delete(arr, [0,3,5] ) # fancy 인덱싱(정수배열 인덱싱)\n",
    "print(new_arr)\n",
    "new_arr = np.delete(arr, [0,3,5,-2] )\n",
    "print(new_arr)\n",
    "\n",
    "print(\"3. slice 삭제,  np.s_[::2]\") # 대괄호만 쓰면 error 발생\n",
    "arr = np.array([9,8,7,5,4,3])\n",
    "print(arr)\n",
    "new_arr = np.delete(arr, np.s_[0:4] ) # slice 삭제\n",
    "print(new_arr)"
   ]
  },
  {
   "cell_type": "code",
   "execution_count": 59,
   "metadata": {},
   "outputs": [
    {
     "name": "stdout",
     "output_type": "stream",
     "text": [
      "(array([3], dtype=int64),)\n",
      "(array([1, 3], dtype=int64),)\n",
      "(array([1, 3, 5], dtype=int64),)\n",
      "[9 8 7 5 4 3]\n",
      "[9 8 7 4 3]\n",
      "[9 8 7 5 4 3]\n",
      "[9 7 4 3]\n"
     ]
    }
   ],
   "source": [
    "# 2. 값으로 삭제하는 방법\n",
    "arr = np.array([9,8,7,5,4,3])\n",
    "\n",
    "print(np.where(arr == 5))\n",
    "print(np.where((arr == 5)|(arr==8)))\n",
    "print(np.where((arr == 5)|(arr==8)|(arr==3)))\n",
    "\n",
    "xx = np.delete(arr, np.where(arr == 5)) # 5 값 삭제,\n",
    "print(arr)\n",
    "print(xx)\n",
    "\n",
    "xx = np.delete(arr, np.where((arr==5)|(arr==8))) # 5 와 8 값 삭제,\n",
    "print(arr)\n",
    "print(xx)"
   ]
  },
  {
   "attachments": {},
   "cell_type": "markdown",
   "metadata": {},
   "source": [
    "#### 8. 벡터 추가 및 삽입\n",
    "    - 추가: arr = np.append(arr, values, axis=None)\n",
    "    - 삽입: arr = np.insert(arr, idx|fancy|slice, value, axis)"
   ]
  },
  {
   "cell_type": "code",
   "execution_count": 60,
   "metadata": {},
   "outputs": [
    {
     "name": "stdout",
     "output_type": "stream",
     "text": [
      "[9 8 7 5 4 3]\n",
      "[9 8 7 5 4 3 1 2 3]\n"
     ]
    }
   ],
   "source": [
    "#  1. ndarray 추가\n",
    "arr = np.array([9,8,7,5,4,3])\n",
    "new_arr = np.append(arr, [1,2,3])\n",
    "print(arr)\n",
    "print(new_arr)"
   ]
  },
  {
   "cell_type": "code",
   "execution_count": 62,
   "metadata": {},
   "outputs": [
    {
     "name": "stdout",
     "output_type": "stream",
     "text": [
      "[9 8 7 5 4 3]\n",
      "[1 2 3 9 8 7 5 4 3]\n",
      "[9 8 7 5 4 3]\n",
      "[1 9 3 8 7 2 5 4 3]\n",
      "[9 8 7 5 4 3]\n",
      "[1 9 2 8 7 5 4 3]\n"
     ]
    }
   ],
   "source": [
    "#  2. ndarray 삽입\n",
    "\n",
    "# 가. idx 이용\n",
    "arr = np.array([9,8,7,5,4,3])\n",
    "new_arr = np.insert(arr, 0, [1,2,3])\n",
    "print(arr)\n",
    "print(new_arr)\n",
    "\n",
    "# 나. fancy 이용: 1대1 대응으로 삽입됨\n",
    "arr = np.array([9,8,7,5,4,3])\n",
    "new_arr = np.insert(arr, [0,3,1], [1,2,3])  # 0->1 , 3->2, 1->3 삽입됨. 따라서 갯수가 일치해야 된다.\n",
    "print(arr)        #  [9 8 7 5 4 3]\n",
    "                  #   1 9 8 7 5 4 3  <- 0에 1 삽입후\n",
    "                  #   1 9 8 7 2 5 4 3  <- 3에 2 삽입후\n",
    "                  #   1 9 3 8 7 2 5 4 3  <- 1에 3 삽입후\n",
    "print(new_arr)    #  [1 9 3 8 7 2 5 4 3]\n",
    "\n",
    "# 다. slice 이용\n",
    "arr = np.array([9,8,7,5,4,3])\n",
    "new_arr = np.insert(arr, np.s_[0:2], [1,2])\n",
    "print(arr)  # [9 8 7 5 4 3]\n",
    "            #  1 9 8 7 5 4 3 <- 0에 1 삽입후\n",
    "            #  1 9 2 8 7 5 4 3 <- 1에 2 삽입후\n",
    "print(new_arr)  # [1 9 2 8 7 5 4 3]"
   ]
  },
  {
   "attachments": {},
   "cell_type": "markdown",
   "metadata": {},
   "source": [
    "### 2차원 배열"
   ]
  },
  {
   "attachments": {},
   "cell_type": "markdown",
   "metadata": {},
   "source": [
    "#### 1. 2차원 배열(행렬) 생성"
   ]
  },
  {
   "cell_type": "code",
   "execution_count": 70,
   "metadata": {},
   "outputs": [
    {
     "name": "stdout",
     "output_type": "stream",
     "text": [
      "1. 2차원 행렬 생성: \n",
      " [[1 2 3]\n",
      " [4 5 6]] <class 'numpy.ndarray'>\n",
      "\n",
      "arr1D: [1 2 3 4 5 6] \n",
      "\n",
      "2. 1차원을 2차원으로 변경: \n",
      " [[1 2 3]\n",
      " [4 5 6]]\n",
      "\n",
      "2. 1차원을 2차원으로 변경: \n",
      " [[1 2 3]\n",
      " [4 5 6]]\n",
      "\n",
      "2. 1차원을 2차원으로 변경: \n",
      " [[1 2]\n",
      " [3 4]\n",
      " [5 6]]\n",
      "\n"
     ]
    }
   ],
   "source": [
    "# 1) np.array(중첩리스트) 이용\n",
    "arr1 = [[1,2,3],[4,5,6]]\n",
    "arr2D = np.array(arr1)\n",
    "print(\"1. 2차원 행렬 생성: \\n\", arr2D, type(arr2D))\n",
    "print()\n",
    "\n",
    "# 2) 1차원을 2차원으로 변경, shape 속성 사용 / 중요\n",
    "arr1D = np.array([1,2,3,4,5,6])\n",
    "print('arr1D:', arr1D, '\\n')\n",
    "\n",
    "arr1D.shape=(2, 3) # 행 * 열 = ndarray 크기와 일치되어야 함\n",
    "print(\"2. 1차원을 2차원으로 변경: \\n\", arr1D) # [[1 2 3][4 5 6]]\n",
    "print()\n",
    "arr1D.shape=(2, -1) # 행크기에 의해서 열크기가 자동 지정됨\n",
    "print(\"2. 1차원을 2차원으로 변경: \\n\", arr1D) # [[1 2 3][4 5 6]]\n",
    "print()\n",
    "arr1D.shape=(-1, 2)   # 열크기에 의해서 행크기가 자동 지정됨\n",
    "print(\"2. 1차원을 2차원으로 변경: \\n\", arr1D)\n",
    "print()"
   ]
  },
  {
   "cell_type": "code",
   "execution_count": 76,
   "metadata": {},
   "outputs": [
    {
     "name": "stdout",
     "output_type": "stream",
     "text": [
      "[[[1]\n",
      "  [2]\n",
      "  [3]]\n",
      "\n",
      " [[4]\n",
      "  [5]\n",
      "  [6]]] \n",
      "\n",
      "[[[1 2]]\n",
      "\n",
      " [[3 4]]\n",
      "\n",
      " [[5 6]]]\n"
     ]
    }
   ],
   "source": [
    "# 다차원 shape 해석하기 -> 맨 뒤부터 읽어가면서 그림을 그리며 해석하기\n",
    "arr1D = np.array([1,2,3,4,5,6])\n",
    "arr1D.shape= (2, 3, 1)\n",
    "print(arr1D, '\\n')\n",
    "arr1D.shape= (3, 1, 2)\n",
    "print(arr1D)"
   ]
  },
  {
   "attachments": {},
   "cell_type": "markdown",
   "metadata": {},
   "source": [
    "#### 2. 속성"
   ]
  },
  {
   "cell_type": "code",
   "execution_count": 77,
   "metadata": {},
   "outputs": [
    {
     "name": "stdout",
     "output_type": "stream",
     "text": [
      "[10 20 30] <class 'numpy.ndarray'> int32\n",
      "1. 2차원 행렬 생성: \n",
      " [[1 2 3]\n",
      " [4 5 6]] <class 'numpy.ndarray'>\n",
      "1. 벡터의 차원(dimension,axis)갯수: 2\n",
      "2. 벡터의 각 차원의 크기(shape): (2, 3)\n",
      "3. 벡터의 총 요소 갯수(size): 6\n",
      "4. 벡터의 저장 데이터 type(dtype): int32\n"
     ]
    }
   ],
   "source": [
    "arr1 = [[1, 2, 3], [4, 5, 6]]\n",
    "arr2D = np.array(arr1)\n",
    "print(vector1, type(vector1), vector1.dtype)\n",
    "\n",
    "print(\"1. 2차원 행렬 생성: \\n\", arr2D, type(arr2D))\n",
    "print(\"1. 행렬의 차원(dimension,axis)갯수:\", arr2D.ndim)\n",
    "print(\"2. 행렬의 각 차원의 크기(shape):\", arr2D.shape) # tuple로 반환된다.\n",
    "print(\"3. 행렬의 총 요소 갯수(size):\", arr2D.size)\n",
    "print(\"4. 행렬의 저장 데이터 type(dtype):\", arr2D.dtype)"
   ]
  },
  {
   "attachments": {},
   "cell_type": "markdown",
   "metadata": {},
   "source": [
    "#### 3. 랜덤함수로 행렬 생성"
   ]
  },
  {
   "cell_type": "code",
   "execution_count": 78,
   "metadata": {},
   "outputs": [
    {
     "name": "stdout",
     "output_type": "stream",
     "text": [
      "1. random(size=(행,열))\n",
      "[[0.62210877 0.43772774 0.78535858]\n",
      " [0.77997581 0.27259261 0.27646426]] <class 'numpy.ndarray'> float64\n"
     ]
    }
   ],
   "source": [
    "# 1) 랜덤값 고정\n",
    "np.random.seed(1234)\n",
    "\n",
    "# 2) np.random.random(size=(행,열))\n",
    "print(\"1. random(size=(행,열))\")\n",
    "arr = np.random.random()\n",
    "arr = np.random.random(size=(2, 3))\n",
    "print(arr, type(arr), arr.dtype)"
   ]
  },
  {
   "cell_type": "code",
   "execution_count": 81,
   "metadata": {},
   "outputs": [
    {
     "name": "stdout",
     "output_type": "stream",
     "text": [
      "2. rand(행, 열)\n",
      "[[0.71270203 0.37025075 0.56119619]\n",
      " [0.50308317 0.01376845 0.77282662]] <class 'numpy.ndarray'> float64\n"
     ]
    }
   ],
   "source": [
    "# 3) np.random.rand(행, 열)\n",
    "# 0 ~ 1의 균등분포에서 표본 추출. 갯수 생략하면  1개반환\n",
    "print(\"2. rand(2, 3)\")\n",
    "arr = np.random.rand(2, 3)\n",
    "print(arr, type(arr), arr.dtype)"
   ]
  },
  {
   "cell_type": "code",
   "execution_count": 82,
   "metadata": {},
   "outputs": [
    {
     "name": "stdout",
     "output_type": "stream",
     "text": [
      "3. randn(5)\n",
      "[[-0.30426018  0.861661   -0.68992667]\n",
      " [ 0.18749737  0.60430874 -0.18301422]]\n"
     ]
    }
   ],
   "source": [
    "# 3) np.random.randn(행, 열)\n",
    "# 표준편차가 1이고 평균값이 0인 정규분포에서 표본 추출. 갯수 생략하면  1개반환\n",
    "print(\"3. randn(2, 3)\")\n",
    "arr = np.random.randn(2, 3)\n",
    "print(arr)"
   ]
  },
  {
   "cell_type": "code",
   "execution_count": 83,
   "metadata": {},
   "outputs": [
    {
     "name": "stdout",
     "output_type": "stream",
     "text": [
      "4. randint(1,10,size=(2, 3))\n",
      "[[2 4 2]\n",
      " [4 8 2]]\n"
     ]
    }
   ],
   "source": [
    "# 4) np.random.randint(low, high, size=(행, 열))\n",
    "# 주어진 최소/최대 범위 안에서 임의의 난수 n개 추출\n",
    "print(\"4. randint(1,10,size=(2, 3))\")\n",
    "arr = np.random.randint(1,10,size=(2, 3))\n",
    "print(arr)"
   ]
  },
  {
   "cell_type": "code",
   "execution_count": 84,
   "metadata": {},
   "outputs": [
    {
     "name": "stdout",
     "output_type": "stream",
     "text": [
      "4. randint(5, size=(2, 3)): \n",
      "[[4 0 4]\n",
      " [1 1 4]]\n"
     ]
    }
   ],
   "source": [
    "# 4) np.random.randint(high, size=(행, 열))\n",
    "# 0 ~ 최대(exclusive) 범위안에서 임의의 정수 n개 반환, 복원추출\n",
    "print(\"4. randint(5, size=(2, 3)): \")\n",
    "arr = np.random.randint(5, size=(2, 3))\n",
    "print(arr)"
   ]
  },
  {
   "attachments": {},
   "cell_type": "markdown",
   "metadata": {},
   "source": [
    "#### 4. 특정 값으로 행렬 생성"
   ]
  },
  {
   "cell_type": "code",
   "execution_count": 87,
   "metadata": {},
   "outputs": [
    {
     "name": "stdout",
     "output_type": "stream",
     "text": [
      "1. np.zeros((2, 3)):\n",
      "[[0. 0. 0.]\n",
      " [0. 0. 0.]] float64 \n",
      "\n",
      "[[0 0 0]\n",
      " [0 0 0]] int32\n"
     ]
    }
   ],
   "source": [
    "# 1. np.zeros((행, 열))\n",
    "# shape만큼 0으로 채움. 기본 type은 float64\n",
    "print(\"1. np.zeros((2, 3)):\")\n",
    "data = np.zeros((2, 3))\n",
    "print(data, data.dtype, '\\n')\n",
    "data = np.zeros((2, 3), dtype=np.int32)\n",
    "print(data, data.dtype)"
   ]
  },
  {
   "cell_type": "code",
   "execution_count": 91,
   "metadata": {},
   "outputs": [
    {
     "name": "stdout",
     "output_type": "stream",
     "text": [
      "2. np.ones((2, 3)):\n",
      "[[1. 1. 1.]\n",
      " [1. 1. 1.]] float64\n",
      "[[1 1 1]\n",
      " [1 1 1]] int32\n"
     ]
    }
   ],
   "source": [
    "# 2. np.ones((행, 열))\n",
    "# shape만큼  1.0 으로 채움. 기본 type은 float64\n",
    "print(\"2. np.ones((2, 3)):\")\n",
    "data = np.ones((2, 3))\n",
    "print(data , data.dtype)\n",
    "data = np.ones((2, 3), dtype=np.int32)\n",
    "print(data, data.dtype)"
   ]
  },
  {
   "cell_type": "code",
   "execution_count": 90,
   "metadata": {},
   "outputs": [
    {
     "name": "stdout",
     "output_type": "stream",
     "text": [
      "3. np.empty(3)\n",
      "[[6.23042070e-307 4.67296746e-307 1.69121096e-306 1.39077217e-307\n",
      "  1.89146896e-307 7.56571288e-307 3.11525958e-307 1.24610723e-306\n",
      "  1.37962320e-306]\n",
      " [1.29060871e-306 2.22518251e-306 1.33511969e-306 1.78022342e-306\n",
      "  1.05700345e-307 3.11525958e-307 8.90092016e-307 1.24611062e-306\n",
      "  1.42410974e-306]] float64\n",
      "[[ 1889785610  1068960317  1889785610  1070008893   343597384  1070679982\n",
      "   1889785610  1071057469  -858993460]\n",
      " [ 1071434956   343597384  1071728558 -1030792151  1071917301  1889785610\n",
      "   1072106045   515396075  1072294789]] int32\n"
     ]
    }
   ],
   "source": [
    "# 3. np.empty((행, 열))\n",
    "# shape 만큼 임의의 값으로 채워짐 ==> 임의의 값으로 초기화 시킨 것\n",
    "print(\"3. np.empty((2, 3))\")\n",
    "data = np.empty((2, 9))\n",
    "print(data , data.dtype)\n",
    "data = np.empty((2, 9), dtype=np.int32)\n",
    "print(data , data.dtype)"
   ]
  },
  {
   "cell_type": "code",
   "execution_count": 92,
   "metadata": {},
   "outputs": [
    {
     "name": "stdout",
     "output_type": "stream",
     "text": [
      "4. full((2, 3), 10)\n",
      "[[10 10 10]\n",
      " [10 10 10]]\n"
     ]
    }
   ],
   "source": [
    "# 4. np.full((행, 열), 값)\n",
    "# shape 만큼 지정된 값으로 채워짐\n",
    "print(\"4. full((2, 3), 10)\")\n",
    "data = np.full((2, 3), 10)\n",
    "print(data)"
   ]
  },
  {
   "attachments": {},
   "cell_type": "markdown",
   "metadata": {},
   "source": [
    "#### 5. arange + reshape 사용하여 행렬 생성"
   ]
  },
  {
   "cell_type": "code",
   "execution_count": 93,
   "metadata": {},
   "outputs": [
    {
     "name": "stdout",
     "output_type": "stream",
     "text": [
      "1. arange(10)\n",
      "[[0 1 2 3 4]\n",
      " [5 6 7 8 9]]\n"
     ]
    }
   ],
   "source": [
    "# 1차원 벡터를 reshape를 이용해 2차원 행렬 생성\n",
    "print(\"1. arange(10)\")\n",
    "data = np.arange(10).reshape((2, 5))\n",
    "print(data)"
   ]
  },
  {
   "attachments": {},
   "cell_type": "markdown",
   "metadata": {},
   "source": [
    "#### 6. 행렬 삭제\n",
    "    - arr = np.delete(arr, idx|fancy|slice, axis)\n",
    "    - axis = None: flatten / axis = 0: 행 제거 / axis = 1: 열 제거"
   ]
  },
  {
   "cell_type": "code",
   "execution_count": 94,
   "metadata": {},
   "outputs": [
    {
     "name": "stdout",
     "output_type": "stream",
     "text": [
      "[[ 0  1  2  3  4]\n",
      " [ 5  6  7  8  9]\n",
      " [10 11 12 13 14]\n",
      " [15 16 17 18 19]\n",
      " [20 21 22 23 24]]\n"
     ]
    }
   ],
   "source": [
    "arr2D = np.arange(25).reshape(5,5)\n",
    "print(arr2D)"
   ]
  },
  {
   "attachments": {},
   "cell_type": "markdown",
   "metadata": {},
   "source": [
    "##### axis 미지정(None)"
   ]
  },
  {
   "cell_type": "code",
   "execution_count": 95,
   "metadata": {},
   "outputs": [
    {
     "name": "stdout",
     "output_type": "stream",
     "text": [
      "[ 0  1  2  3  4  5  6  7  8  9 10 11 12 13 14 15 16 17 18 19 20 21 22 23]\n"
     ]
    }
   ],
   "source": [
    "# 1. idx 이용한 삭제\n",
    "# 2차원에서 axis 지정하지 않으면 flatten 된다.\n",
    "xxx = np.delete(arr2D, -1)\n",
    "print(xxx)"
   ]
  },
  {
   "cell_type": "code",
   "execution_count": 96,
   "metadata": {},
   "outputs": [
    {
     "name": "stdout",
     "output_type": "stream",
     "text": [
      "[ 1  2  3  4  5  6  7  8  9 10 11 12 13 14 15 16 17 18 19 20 21 22 23]\n"
     ]
    }
   ],
   "source": [
    "# 2. fancy 이용한 삭제\n",
    "# 2차원에서 axis 지정하지 않으면 flatten 된다.\n",
    "xxx = np.delete(arr2D, [0,-1])\n",
    "print(xxx)"
   ]
  },
  {
   "cell_type": "code",
   "execution_count": 97,
   "metadata": {},
   "outputs": [
    {
     "name": "stdout",
     "output_type": "stream",
     "text": [
      "[ 8  9 10 11 12 13 14 15 16 17 18 19 20 21 22 23 24]\n"
     ]
    }
   ],
   "source": [
    "# 3. slice 이용한 삭제\n",
    "# 2차원에서 axis 지정하지 않으면 flatten 된다.\n",
    "xxx = np.delete(arr2D, np.s_[:8])\n",
    "print(xxx)"
   ]
  },
  {
   "attachments": {},
   "cell_type": "markdown",
   "metadata": {},
   "source": [
    "##### axis = 0"
   ]
  },
  {
   "cell_type": "code",
   "execution_count": 98,
   "metadata": {},
   "outputs": [
    {
     "name": "stdout",
     "output_type": "stream",
     "text": [
      "[[ 0  1  2  3  4]\n",
      " [ 5  6  7  8  9]\n",
      " [10 11 12 13 14]\n",
      " [15 16 17 18 19]]\n"
     ]
    }
   ],
   "source": [
    "# 4. idx + axis=0 이용한 삭제 ==> 행이 삭제됨\n",
    "xxx = np.delete(arr2D, -1, axis=0)\n",
    "print(xxx)"
   ]
  },
  {
   "cell_type": "code",
   "execution_count": 99,
   "metadata": {},
   "outputs": [
    {
     "name": "stdout",
     "output_type": "stream",
     "text": [
      "[[ 5  6  7  8  9]\n",
      " [10 11 12 13 14]\n",
      " [15 16 17 18 19]]\n"
     ]
    }
   ],
   "source": [
    "# 5. fancy + axis=0 이용한 삭제 ==> 행이 삭제됨\n",
    "xxx = np.delete(arr2D, [0,-1], axis=0)\n",
    "print(xxx)"
   ]
  },
  {
   "cell_type": "code",
   "execution_count": 100,
   "metadata": {},
   "outputs": [
    {
     "name": "stdout",
     "output_type": "stream",
     "text": [
      "[[15 16 17 18 19]\n",
      " [20 21 22 23 24]]\n"
     ]
    }
   ],
   "source": [
    "# 6. slice + axis=0 이용한 삭제 ==> 행이 삭제됨\n",
    "xxx = np.delete(arr2D, np.s_[:3], axis=0)\n",
    "print(xxx)"
   ]
  },
  {
   "attachments": {},
   "cell_type": "markdown",
   "metadata": {},
   "source": [
    "##### axis = 1"
   ]
  },
  {
   "cell_type": "code",
   "execution_count": 101,
   "metadata": {},
   "outputs": [
    {
     "name": "stdout",
     "output_type": "stream",
     "text": [
      "[[ 0  1  2  3]\n",
      " [ 5  6  7  8]\n",
      " [10 11 12 13]\n",
      " [15 16 17 18]\n",
      " [20 21 22 23]]\n"
     ]
    }
   ],
   "source": [
    "# 7. idx + axis=1 이용한 삭제 ==> 열이 삭제됨\n",
    "xxx = np.delete(arr2D, -1, axis=1)\n",
    "print(xxx)"
   ]
  },
  {
   "cell_type": "code",
   "execution_count": 102,
   "metadata": {},
   "outputs": [
    {
     "name": "stdout",
     "output_type": "stream",
     "text": [
      "[[ 1  2  3]\n",
      " [ 6  7  8]\n",
      " [11 12 13]\n",
      " [16 17 18]\n",
      " [21 22 23]]\n"
     ]
    }
   ],
   "source": [
    "# 8. fancy + axis=1 이용한 삭제 ==> 열이 삭제됨\n",
    "xxx = np.delete(arr2D, [0,-1], axis=1)\n",
    "print(xxx)"
   ]
  },
  {
   "cell_type": "code",
   "execution_count": 103,
   "metadata": {},
   "outputs": [
    {
     "name": "stdout",
     "output_type": "stream",
     "text": [
      "[[ 3  4]\n",
      " [ 8  9]\n",
      " [13 14]\n",
      " [18 19]\n",
      " [23 24]]\n"
     ]
    }
   ],
   "source": [
    "# 9. slice + axis=1 이용한 삭제 ==> 열이 삭제됨\n",
    "xxx = np.delete(arr2D, np.s_[:3], axis=1)\n",
    "print(xxx)"
   ]
  },
  {
   "attachments": {},
   "cell_type": "markdown",
   "metadata": {},
   "source": [
    "#### 7. 행렬 추가 및 삽입\n",
    "    - 벡터와 차이점은 axis 지정 여부에 따라 출력이 달라진다."
   ]
  },
  {
   "cell_type": "code",
   "execution_count": 108,
   "metadata": {},
   "outputs": [
    {
     "name": "stdout",
     "output_type": "stream",
     "text": [
      "[  1   2   3   4   5   6 100 200 300 400] \n",
      "\n",
      "[[  1   2   3]\n",
      " [  4   5   6]\n",
      " [100 200 300]] \n",
      "\n",
      "[[  1   2   3 100]\n",
      " [  4   5   6 200]]\n"
     ]
    }
   ],
   "source": [
    "arr = np.array([[1,2,3],[4,5,6]])\n",
    "\n",
    "# 1. append 함수\n",
    "# 1) axis=None 지정한 추가\n",
    "# 2차원에서 axis 지정하지 않으면 flatten 되어 추가됨. 따라서 dimension 일치하지 않아도 된다.\n",
    "xxx = np.append(arr, [100,200,300,400])\n",
    "print(xxx, '\\n')\n",
    "\n",
    "# 2) axis=0 지정한 추가 ==> 행 추가\n",
    "xxx = np.append(arr, [[100,200,300]], axis=0)\n",
    "print(xxx, '\\n')\n",
    "\n",
    "# 3) axis=1 지정한 추가 ==> 열 추가\n",
    "xxx = np.append(arr, [[100],[200]], axis=1)\n",
    "print(xxx)"
   ]
  },
  {
   "cell_type": "code",
   "execution_count": 109,
   "metadata": {},
   "outputs": [
    {
     "name": "stdout",
     "output_type": "stream",
     "text": [
      "[100 200 300 400   1   2   3   4   5   6] \n",
      "\n",
      "[[100 200 300]\n",
      " [  1   2   3]\n",
      " [  4   5   6]] \n",
      "\n",
      "[[100 200   1   2   3]\n",
      " [100 200   4   5   6]]\n"
     ]
    }
   ],
   "source": [
    "# 2. insert 함수\n",
    "arr = np.array([[1,2,3],[4,5,6]])\n",
    "\n",
    "# 1) axis=None 지정한 삽입\n",
    "# 2차원에서 axis 지정하지 않으면 flatten 되어 추가됨. 따라서 dimension 일치하지 않아도 된다.\n",
    "xxx = np.insert(arr, 0,  [100,200,300,400])\n",
    "print(xxx, '\\n')\n",
    "\n",
    "# 2) axis=0 지정한 삽입 ==> 행 삽입\n",
    "xxx = np.insert(arr, 0,  [[100,200,300]], axis=0)\n",
    "print(xxx, '\\n')\n",
    "\n",
    "# 3) axis=1 지정한 삽입 ==> 열 삽입\n",
    "xxx = np.insert(arr, 0, [[100],[200]], axis=1)\n",
    "print(xxx)"
   ]
  },
  {
   "attachments": {},
   "cell_type": "markdown",
   "metadata": {},
   "source": [
    "### Type 변환\n",
    "- 다차원 배열의 모든 요소가 한꺼번에 변경된다.(벡터 연산)\n",
    "    - dtype 속성 이용\n",
    "    - astype 함수 이용(많이 사용)"
   ]
  },
  {
   "cell_type": "code",
   "execution_count": 110,
   "metadata": {},
   "outputs": [
    {
     "name": "stdout",
     "output_type": "stream",
     "text": [
      "1. 원본 데이터:  int32 [10 20 30]\n",
      "2. int값을 float으로 변경 1:  float64 [10. 20. 30.]\n",
      "2. int값을 float으로 변경 2:  float64 [10. 20. 30.]\n"
     ]
    }
   ],
   "source": [
    "# 1. int32 --> float64으로\n",
    "data = [10,20,30]\n",
    "arr1 = np.array(data)\n",
    "arr2 = np.array(data , dtype=np.float64)\n",
    "arr3 = arr1.astype(np.float64)\n",
    "print(\"1. 원본 데이터: \", arr1.dtype , arr1)\n",
    "print(\"2. int값을 float으로 변경 1: \", arr2.dtype , arr2)\n",
    "print(\"2. int값을 float으로 변경 2: \", arr3.dtype , arr3)"
   ]
  },
  {
   "cell_type": "code",
   "execution_count": 113,
   "metadata": {},
   "outputs": [
    {
     "name": "stdout",
     "output_type": "stream",
     "text": [
      "3. 원본 데이터:  float64 [ 10.5   20.7   30.23 100.  ]\n",
      "4. float 값을 int 으로 변경 1:  int64 [ 10  20  30 100]\n",
      "4. float 값을 int 으로 변경 2:  int64 [ 10  20  30 100]\n"
     ]
    }
   ],
   "source": [
    "# 2. float --> int 으로\n",
    "data = [10.5, 20.7, 30.23, 100]\n",
    "arr1 = np.array(data)\n",
    "arr2 = np.array(data , dtype=np.int64)\n",
    "arr3 = arr1.astype(np.int64)\n",
    "print(\"3. 원본 데이터: \", arr1.dtype , arr1)\n",
    "print(\"4. float 값을 int 으로 변경 1: \", arr2.dtype , arr2)\n",
    "print(\"4. float 값을 int 으로 변경 2: \", arr3.dtype , arr3)"
   ]
  },
  {
   "cell_type": "code",
   "execution_count": 116,
   "metadata": {},
   "outputs": [
    {
     "name": "stdout",
     "output_type": "stream",
     "text": [
      "5. 원본 데이터:  int32 [10 20 30]\n",
      "6. int 값을 bytes 으로 변경 1:  |S2 [b'10' b'20' b'30']\n",
      "6. int 값을 bytes 으로 변경 2:  |S11 [b'10' b'20' b'30']\n",
      "7. int 값을 str 으로 변경 :  <U2 ['10' '20' '30']\n",
      "7. int 값을 str 으로 변경 :  <U11 ['10' '20' '30']\n"
     ]
    }
   ],
   "source": [
    "# 3. int --> bytes , str\n",
    "data = [10,20,30]\n",
    "arr1 = np.array(data)\n",
    "arr2 = np.array(data , dtype=np.string_)  # bytes 타입,  np.string 안됨.\n",
    "arr3 = arr1.astype(np.string_)\n",
    "arr4 = np.array(data , dtype=np.str_)   # str 타입 , dtype=np.str 안됨.\n",
    "arr5 = arr1.astype(np.str_)\n",
    "print(\"5. 원본 데이터: \", arr1.dtype , arr1)\n",
    "print(\"6. int 값을 bytes 으로 변경 1: \", arr2.dtype , arr2)\n",
    "print(\"6. int 값을 bytes 으로 변경 2: \", arr3.dtype , arr3)\n",
    "print(\"7. int 값을 str 으로 변경 : \", arr4.dtype , arr4)\n",
    "print(\"7. int 값을 str 으로 변경 : \", arr5.dtype , arr5)\n",
    "\n",
    "# print(dir(np))"
   ]
  },
  {
   "cell_type": "code",
   "execution_count": 119,
   "metadata": {},
   "outputs": [
    {
     "name": "stdout",
     "output_type": "stream",
     "text": [
      "원본: ['10' '20' '30'] <U2\n",
      "8. str 값을 int 으로 변경 : [10 20 30] int32\n",
      "[10 20 30] int32\n"
     ]
    }
   ],
   "source": [
    "# 4. str --> int\n",
    "data =['10','20','30']\n",
    "arr1 = np.array(data)\n",
    "print(\"원본:\", arr1, arr1.dtype)\n",
    "arr2 = arr1.astype(np.int32)\n",
    "print(\"8. str 값을 int 으로 변경 :\", arr2, arr2.dtype) # [10 20 30]\n",
    "\n",
    "arr3 = np.array(data).astype(np.int32)\n",
    "print(arr3, arr2.dtype) # [10 20 30]"
   ]
  },
  {
   "attachments": {},
   "cell_type": "markdown",
   "metadata": {},
   "source": [
    "### 벡터 연산"
   ]
  },
  {
   "cell_type": "code",
   "execution_count": 120,
   "metadata": {},
   "outputs": [
    {
     "name": "stdout",
     "output_type": "stream",
     "text": [
      "1. 파이썬의 리스트 + 리스트\n",
      "[10, 20, 30, 10, 20, 30]\n",
      "2. 기본 파이썬의 리스트 + 스칼라\n",
      "[10, 20, 30, 10, 20, 30, 10, 20, 30]\n"
     ]
    }
   ],
   "source": [
    "# 1. 기본 파이썬 연산\n",
    "print(\"1. 파이썬의 리스트 + 리스트\")\n",
    "print([10,20,30]+[10,20,30])\n",
    "\n",
    "print(\"2. 기본 파이썬의 리스트 + 스칼라\")\n",
    "# print([10,20,30] + 2)  # TypeError: can only concatenate list (not \"int\") to list\n",
    "print([10,20,30] * 3)"
   ]
  },
  {
   "cell_type": "code",
   "execution_count": 121,
   "metadata": {},
   "outputs": [
    {
     "name": "stdout",
     "output_type": "stream",
     "text": [
      "3. numpy의 벡터간 연산 처리\n",
      "[15 24 33]\n",
      "[ 5 16 27]\n",
      "[50 80 90]\n",
      "[ 2.  5. 10.]\n"
     ]
    }
   ],
   "source": [
    "# 2. 다차원 배열 + 다차원 배열 ==> 요소간 연산, 반드시 shape 일치해야 된다.\n",
    "arr1D_1 = np.array([10,20,30])\n",
    "arr1D_2 = np.array([5,4,3])\n",
    "print(\"3. numpy의 벡터간 연산 처리\")\n",
    "print(arr1D_1 + arr1D_2)\n",
    "print(arr1D_1 - arr1D_2)\n",
    "print(arr1D_1 * arr1D_2)\n",
    "print(arr1D_1 / arr1D_2)"
   ]
  },
  {
   "cell_type": "code",
   "execution_count": 122,
   "metadata": {},
   "outputs": [
    {
     "name": "stdout",
     "output_type": "stream",
     "text": [
      "4. numpy의 벡터 + 스칼라 연산 처리\n",
      "[12 22 32]\n",
      "[ 8 18 28]\n",
      "[20 40 60]\n",
      "[ 5. 10. 15.]\n"
     ]
    }
   ],
   "source": [
    "# 3. 백터 + 스칼라 ==> 자동으로 브로드캐스팅(개수를 맞춰줌) 되어 연산됨.\n",
    "# 브로드캐스팅(broadcasting): 서로 다른 차원을 가지고 있는 두 개의 값을 산술하는 도중에\n",
    "# 연산이 가능하도록 차원을 자동으로 맞추어 주는 작업을 의미한다.\n",
    "arr1D_1 = np.array([10,20,30])\n",
    "print(\"4. numpy의 벡터 + 스칼라 연산 처리\")\n",
    "print(arr1D_1 + 2)\n",
    "print(arr1D_1 - 2)\n",
    "print(arr1D_1 * 2)\n",
    "print(arr1D_1 / 2)"
   ]
  },
  {
   "cell_type": "code",
   "execution_count": 125,
   "metadata": {},
   "outputs": [
    {
     "name": "stdout",
     "output_type": "stream",
     "text": [
      "5. 벡터의 비교 연산처리1:  [False False  True]\n",
      "5. 벡터의 비교 연산처리2:  [False  True  True]\n",
      "5. 벡터의 비교 연산처리3:  [False False  True]\n"
     ]
    }
   ],
   "source": [
    "# 4. 비교 연산도 벡터화 가능\n",
    "print(\"5. 벡터의 비교 연산처리1: \", arr1D_1%3 == 0)\n",
    "print(\"5. 벡터의 비교 연산처리2: \", arr1D_1 > 15)\n",
    "print(\"5. 벡터의 비교 연산처리3: \", (arr1D_1 > 15) & ( arr1D_1%6 == 0))"
   ]
  },
  {
   "attachments": {},
   "cell_type": "markdown",
   "metadata": {},
   "source": [
    "### 색인"
   ]
  },
  {
   "attachments": {},
   "cell_type": "markdown",
   "metadata": {},
   "source": [
    "#### 1. 1차원 배열(벡터) 색인"
   ]
  },
  {
   "cell_type": "code",
   "execution_count": 145,
   "metadata": {},
   "outputs": [
    {
     "name": "stdout",
     "output_type": "stream",
     "text": [
      "원본: [0 1 2 3 4 5 6 7 8 9]\n",
      "1. 인덱싱: 0 9\n",
      "2. 슬라이싱: [1 2 3 4] [0 1 2 3 4] [1 2 3 4 5 6 7 8 9] [1 3 5 7 9] [0 1 2 3 4 5 6 7 8 9] [0 1 2 3 4 5 6 7 8 9]\n"
     ]
    }
   ],
   "source": [
    "arr = np.arange(10)\n",
    "print(\"원본:\", arr)\n",
    "\n",
    "# 1. 인덱싱\n",
    "print(\"1. 인덱싱:\", arr[0], arr[-1])\n",
    "\n",
    "# 2. 슬라이싱\n",
    "print(\"2. 슬라이싱:\", arr[1:5], arr[:5], arr[1:], arr[1:10:2], arr[:], arr[...]) # [...]은 numpy에서만 지원"
   ]
  },
  {
   "cell_type": "code",
   "execution_count": 146,
   "metadata": {},
   "outputs": [
    {
     "name": "stdout",
     "output_type": "stream",
     "text": [
      "3. original: [  0 100 200 300 400 500 600 700 800 900]\n",
      "3-1. fancy data[[1, 3, 5]]: [100 300 500]\n",
      "3-2. fancy data[[8, 1, 5]]: [800 100 500]\n"
     ]
    }
   ],
   "source": [
    "# 3. fancy 색인\n",
    "data = np.arange(10) * 100\n",
    "print(\"3. original:\", data)\n",
    "# print(data[1, 3, 5]) -> error\n",
    "print(\"3-1. fancy data[[1, 3, 5]]:\", data[[1, 3, 5]])\n",
    "print(\"3-2. fancy data[[8, 1, 5]]:\", data[[8, 1, 5]])"
   ]
  },
  {
   "cell_type": "code",
   "execution_count": 144,
   "metadata": {},
   "outputs": [
    {
     "name": "stdout",
     "output_type": "stream",
     "text": [
      "4. original:  [1 2 3 4 5]\n",
      "4-1. 벡터연산,  data%2==0:  [False  True False  True False]\n",
      "4-2. boolean 색인, [True,True,True,True,False]: [1 2 3 4]\n",
      "4-3. boolean 색인 활용, data[data%2==0]: [2 4]\n",
      "4-4. boolean 색인 활용, data[data > 3 ]: [4 5]\n",
      "4-5. boolean 색인의 & 연산자: [4]\n",
      "4-6. boolean 색인의 | 연산자 [1 2 3 5]\n",
      "4-7. boolean 색인 활용, data[data > 3 ]: [1 2 3]\n"
     ]
    }
   ],
   "source": [
    "# 4. boolean 색인 -> True의 결과값을 가진 요소만 나온다, 반드시 색인 대상과 길이가 같아야 함\n",
    "data = np.array([1,2,3,4,5])\n",
    "print(\"4. original: \" , data)\n",
    "print(\"4-1. 벡터연산,  data%2==0: \" , data%2==0)\n",
    "print(\"4-2. boolean 색인, [True,True,True,True,False]:\",data[[True,True,True,True,False]])\n",
    "print(\"4-3. boolean 색인 활용, data[data%2==0]:\",data[data%2==0])\n",
    "print(\"4-4. boolean 색인 활용, data[data > 3 ]:\",data[data > 3])\n",
    "print(\"4-5. boolean 색인의 & 연산자:\" , data[(data%2==0) & (data >2)]) \n",
    "print(\"4-6. boolean 색인의 | 연산자\" , data[(data%2!=0) | (data < 4)])\n",
    "print(\"4-7. boolean 색인 활용, data[data > 3 ]:\",data[~(data > 3)])"
   ]
  },
  {
   "cell_type": "code",
   "execution_count": 151,
   "metadata": {},
   "outputs": [
    {
     "name": "stdout",
     "output_type": "stream",
     "text": [
      "['홍길동' '홍길동' '홍길동']\n",
      "['홍길동', '홍길동', '홍길동']\n"
     ]
    }
   ],
   "source": [
    "# 실습: 특정 이름 검색\n",
    "names = np.array(['홍길동', '세종',\"홍길동\",\"이순신\",\"정조\",\"홍길동\"])\n",
    "\n",
    "# 홍길동\n",
    "print(names[names=='홍길동'])\n",
    "print([i for i in names if i=='홍길동'])"
   ]
  },
  {
   "cell_type": "code",
   "execution_count": null,
   "metadata": {},
   "outputs": [],
   "source": []
  }
 ],
 "metadata": {
  "kernelspec": {
   "display_name": "Python 3",
   "language": "python",
   "name": "python3"
  },
  "language_info": {
   "codemirror_mode": {
    "name": "ipython",
    "version": 3
   },
   "file_extension": ".py",
   "mimetype": "text/x-python",
   "name": "python",
   "nbconvert_exporter": "python",
   "pygments_lexer": "ipython3",
   "version": "3.11.3"
  },
  "orig_nbformat": 4
 },
 "nbformat": 4,
 "nbformat_minor": 2
}
