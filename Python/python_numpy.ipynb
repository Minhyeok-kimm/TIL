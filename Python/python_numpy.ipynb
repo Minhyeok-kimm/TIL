{
 "cells": [
  {
   "attachments": {},
   "cell_type": "markdown",
   "metadata": {},
   "source": [
    "## 6/9(금)"
   ]
  },
  {
   "attachments": {},
   "cell_type": "markdown",
   "metadata": {},
   "source": [
    "### numpy 작동 확인\n",
    "- uninstall 방법 `pip uninstall numpy`"
   ]
  },
  {
   "cell_type": "code",
   "execution_count": 2,
   "metadata": {},
   "outputs": [],
   "source": [
    "import numpy as np"
   ]
  },
  {
   "cell_type": "code",
   "execution_count": 2,
   "metadata": {},
   "outputs": [
    {
     "name": "stdout",
     "output_type": "stream",
     "text": [
      "1.24.3\n"
     ]
    }
   ],
   "source": [
    "print(np.__version__)"
   ]
  },
  {
   "attachments": {},
   "cell_type": "markdown",
   "metadata": {},
   "source": [
    "### 1차원 배열"
   ]
  },
  {
   "attachments": {},
   "cell_type": "markdown",
   "metadata": {},
   "source": [
    "#### 1. 1차원 배열 생성"
   ]
  },
  {
   "cell_type": "code",
   "execution_count": 3,
   "metadata": {},
   "outputs": [
    {
     "name": "stdout",
     "output_type": "stream",
     "text": [
      "[10, 20, 30] <class 'list'>\n",
      "[10 20 30] <class 'numpy.ndarray'> int32\n"
     ]
    }
   ],
   "source": [
    "# 배열 생성: np.array() 사용\n",
    "\n",
    "list_value = [10,20,30]  # list, tuple, set , 정수의 기본 dtype은  int32 ( 4byte )\n",
    "vector1 = np.array(list_value)\n",
    "print(list_value, type(list_value))\n",
    "print(vector1, type(vector1), vector1.dtype)"
   ]
  },
  {
   "cell_type": "code",
   "execution_count": 4,
   "metadata": {},
   "outputs": [
    {
     "name": "stdout",
     "output_type": "stream",
     "text": [
      "[10. 20. 30.] <class 'numpy.ndarray'> float64\n"
     ]
    }
   ],
   "source": [
    "list_value = [10.,20.,30.]\n",
    "vector1 = np.array(list_value)\n",
    "print(vector1, type(vector1), vector1.dtype)"
   ]
  },
  {
   "cell_type": "code",
   "execution_count": 5,
   "metadata": {},
   "outputs": [
    {
     "name": "stdout",
     "output_type": "stream",
     "text": [
      "[10. 20. 30.] <class 'numpy.ndarray'> float64\n"
     ]
    }
   ],
   "source": [
    "# upcasting: 자동으로 큰 데이터 타입으로 변경되는 것\n",
    "list_value = [10.,20,30]\n",
    "vector1 = np.array(list_value)\n",
    "print(vector1, type(vector1), vector1.dtype)"
   ]
  },
  {
   "cell_type": "code",
   "execution_count": 8,
   "metadata": {},
   "outputs": [
    {
     "name": "stdout",
     "output_type": "stream",
     "text": [
      "[10 20 30] <class 'numpy.ndarray'> int32\n"
     ]
    }
   ],
   "source": [
    "# 명시적으로 데이터 타입을 변경 가능\n",
    "list_value = [10.,20.,30.]\n",
    "vector1 = np.array(list_value, dtype=np.int32)\n",
    "print(vector1, type(vector1), vector1.dtype)"
   ]
  },
  {
   "attachments": {},
   "cell_type": "markdown",
   "metadata": {},
   "source": [
    "#### 2. ndarray의 속성"
   ]
  },
  {
   "cell_type": "code",
   "execution_count": 46,
   "metadata": {},
   "outputs": [
    {
     "name": "stdout",
     "output_type": "stream",
     "text": [
      "[10 20 30] <class 'numpy.ndarray'> int32\n"
     ]
    }
   ],
   "source": [
    "list_value = [10,20,30]\n",
    "vector1 = np.array(list_value)\n",
    "print(vector1, type(vector1), vector1.dtype)\n",
    "\n",
    "# print(dir(vector1))\n",
    "\n",
    "# 'T', 'all', 'any', 'argmax', 'argmin', 'argpartition', 'argsort', 'astype', 'base', 'byteswap', \n",
    "# 'choose', 'clip', 'compress', 'conj', 'conjugate', 'copy', 'ctypes', 'cumprod', 'cumsum', 'data', \n",
    "# 'diagonal', 'dot', 'dtype', 'dump', 'dumps', 'fill', 'flags', 'flat', 'flatten', 'getfield', 'imag', \n",
    "# 'item', 'itemset', 'itemsize', 'max', 'mean', 'min', 'nbytes', 'ndim', 'newbyteorder', 'nonzero', \n",
    "# 'partition', 'prod', 'ptp', 'put', 'ravel', 'real', 'repeat', 'reshape', 'resize', 'round', 'searchsorted', \n",
    "# 'setfield', 'setflags', 'shape', 'size', 'sort', 'squeeze', 'std', 'strides', 'sum', 'swapaxes', 'take', \n",
    "# 'tobytes', 'tofile', 'tolist', 'tostring', 'trace', 'transpose', 'var', 'view'\n",
    "\n",
    "# print(dir(np))\n",
    "\n",
    "# 'ALLOW_THREADS', 'AxisError', 'BUFSIZE', 'CLIP', 'ComplexWarning', 'DataSource', 'ERR_CALL', 'ERR_DEFAULT', 'ERR_IGNORE', 'ERR_LOG', 'ERR_PRINT', 'ERR_RAISE', 'ERR_WARN', \n",
    "# 'FLOATING_POINT_SUPPORT', 'FPE_DIVIDEBYZERO', 'FPE_INVALID', 'FPE_OVERFLOW', 'FPE_UNDERFLOW', 'False_', 'Inf', 'Infinity', 'MAXDIMS', 'MAY_SHARE_BOUNDS', 'MAY_SHARE_EXACT', \n",
    "# 'ModuleDeprecationWarning', 'NAN', 'NINF', 'NZERO', 'NaN', 'PINF', 'PZERO', 'RAISE', 'RankWarning', 'SHIFT_DIVIDEBYZERO', 'SHIFT_INVALID', 'SHIFT_OVERFLOW', 'SHIFT_UNDERFLOW', \n",
    "# 'ScalarType', 'Tester', 'TooHardError', 'True_', 'UFUNC_BUFSIZE_DEFAULT', 'UFUNC_PYVALS_NAME', 'VisibleDeprecationWarning', 'WRAP', '_CopyMode', '_NoValue', '_UFUNC_API', '__NUMPY_SETUP__',\n",
    "# '__all__', '__builtins__', '__cached__', '__config__', '__deprecated_attrs__', '__dir__', '__doc__', '__expired_functions__', '__file__', '__former_attrs__', '__future_scalars__', '__getattr__',\n",
    "# '__git_version__', '__loader__', '__name__', '__package__', '__path__', '__spec__', '__version__', '_add_newdoc_ufunc', '_builtins', '_distributor_init', '_financial_names',\n",
    "# '_get_promotion_state', '_globals', '_int_extended_msg', '_mat', '_no_nep50_warning', '_pyinstaller_hooks_dir', '_pytesttester', '_set_promotion_state', '_specific_msg',\n",
    "# '_version', 'abs', 'absolute', 'add', 'add_docstring', 'add_newdoc', 'add_newdoc_ufunc', 'all', 'allclose', 'alltrue', 'amax', 'amin', 'angle', 'any', 'append', 'apply_along_axis',\n",
    "# 'apply_over_axes', 'arange', 'arccos', 'arccosh', 'arcsin', 'arcsinh', 'arctan', 'arctan2', 'arctanh', 'argmax', 'argmin', 'argpartition', 'argsort', 'argwhere', 'around', 'array', \n",
    "# 'array2string', 'array_equal', 'array_equiv', 'array_repr', 'array_split', 'array_str', 'asanyarray', 'asarray', 'asarray_chkfinite', 'ascontiguousarray', 'asfarray', 'asfortranarray',\n",
    "# 'asmatrix', 'atleast_1d', 'atleast_2d', 'atleast_3d', 'average', 'bartlett', 'base_repr', 'binary_repr', 'bincount', 'bitwise_and', 'bitwise_not', 'bitwise_or', 'bitwise_xor', 'blackman',\n",
    "# 'block', 'bmat', 'bool_', 'broadcast', 'broadcast_arrays', 'broadcast_shapes', 'broadcast_to', 'busday_count', 'busday_offset', 'busdaycalendar', 'byte', 'byte_bounds', 'bytes_', 'c_',\n",
    "# 'can_cast', 'cast', 'cbrt', 'cdouble', 'ceil', 'cfloat', 'char', 'character', 'chararray', 'choose', 'clip', 'clongdouble', 'clongfloat', 'column_stack', 'common_type', 'compare_chararrays', \n",
    "# 'compat', 'complex128', 'complex64', 'complex_', 'complexfloating', 'compress', 'concatenate', 'conj', 'conjugate', 'convolve', 'copy', 'copysign', 'copyto', 'corrcoef', 'correlate', 'cos',\n",
    "# 'cosh', 'count_nonzero', 'cov', 'cross', 'csingle', 'ctypeslib', 'cumprod', 'cumproduct', 'cumsum', 'datetime64', 'datetime_as_string', 'datetime_data', 'deg2rad', 'degrees', 'delete', \n",
    "# 'deprecate', 'deprecate_with_doc', 'diag', 'diag_indices', 'diag_indices_from', 'diagflat', 'diagonal', 'diff', 'digitize', 'disp', 'divide', 'divmod', 'dot', 'double', 'dsplit', 'dstack',\n",
    "# 'dtype', 'e', 'ediff1d', 'einsum', 'einsum_path', 'emath', 'empty', 'empty_like', 'equal', 'errstate', 'euler_gamma', 'exp', 'exp2', 'expand_dims', 'expm1', 'extract', 'eye', 'fabs',\n",
    "# 'fastCopyAndTranspose', 'fft', 'fill_diagonal', 'find_common_type', 'finfo', 'fix', 'flatiter', 'flatnonzero', 'flexible', 'flip', 'fliplr', 'flipud', 'float16', 'float32', 'float64',\n",
    "# 'float_', 'float_power', 'floating', 'floor', 'floor_divide', 'fmax', 'fmin', 'fmod', 'format_float_positional', 'format_float_scientific', 'format_parser', 'frexp', 'from_dlpack', 'frombuffer',\n",
    "# 'fromfile', 'fromfunction', 'fromiter', 'frompyfunc', 'fromregex', 'fromstring', 'full', 'full_like', 'gcd', 'generic', 'genfromtxt', 'geomspace', 'get_array_wrap', 'get_include',\n",
    "# 'get_printoptions', 'getbufsize', 'geterr', 'geterrcall', 'geterrobj', 'gradient', 'greater', 'greater_equal', 'half', 'hamming', 'hanning', 'heaviside', 'histogram', 'histogram2d',\n",
    "# 'histogram_bin_edges', 'histogramdd', 'hsplit', 'hstack', 'hypot', 'i0', 'identity', 'iinfo', 'imag', 'in1d', 'index_exp', 'indices', 'inexact', 'inf', 'info', 'infty', 'inner', 'insert', \n",
    "# 'int16', 'int32', 'int64', 'int8', 'int_', 'intc', 'integer', 'interp', 'intersect1d', 'intp', 'invert', 'is_busday', 'isclose', 'iscomplex', 'iscomplexobj', 'isfinite', 'isfortran', 'isin', \n",
    "# 'isinf', 'isnan', 'isnat', 'isneginf', 'isposinf', 'isreal', 'isrealobj', 'isscalar', 'issctype', 'issubclass_', 'issubdtype', 'issubsctype', 'iterable', 'ix_', 'kaiser', 'kron', 'lcm', 'ldexp',\n",
    "# 'left_shift', 'less', 'less_equal', 'lexsort', 'lib', 'linalg', 'linspace', 'little_endian', 'load', 'loadtxt', 'log', 'log10', 'log1p', 'log2', 'logaddexp', 'logaddexp2', 'logical_and',\n",
    "# 'logical_not', 'logical_or', 'logical_xor', 'logspace', 'longcomplex', 'longdouble', 'longfloat', 'longlong', 'lookfor', 'ma', 'mask_indices', 'mat', 'math', 'matmul', 'matrix', 'max', 'maximum',\n",
    "# 'maximum_sctype', 'may_share_memory', 'mean', 'median', 'memmap', 'meshgrid', 'mgrid', 'min', 'min_scalar_type', 'minimum', 'mintypecode', 'mod', 'modf', 'moveaxis', 'msort', 'multiply',\n",
    "# 'nan', 'nan_to_num', 'nanargmax', 'nanargmin', 'nancumprod', 'nancumsum', 'nanmax', 'nanmean', 'nanmedian', 'nanmin', 'nanpercentile', 'nanprod', 'nanquantile', 'nanstd', 'nansum', 'nanvar',\n",
    "# 'nbytes', 'ndarray', 'ndenumerate', 'ndim', 'ndindex', 'nditer', 'negative', 'nested_iters', 'newaxis', 'nextafter', 'nonzero', 'not_equal', 'numarray', 'number', 'obj2sctype', 'object_',\n",
    "# 'ogrid', 'oldnumeric', 'ones', 'ones_like', 'outer', 'packbits', 'pad', 'partition', 'percentile', 'pi', 'piecewise', 'place', 'poly', 'poly1d', 'polyadd', 'polyder', 'polydiv', 'polyfit',\n",
    "# 'polyint', 'polymul', 'polynomial', 'polysub', 'polyval', 'positive', 'power', 'printoptions', 'prod', 'product', 'promote_types', 'ptp', 'put', 'put_along_axis', 'putmask', 'quantile', 'r_',\n",
    "# 'rad2deg', 'radians', 'random', 'ravel', 'ravel_multi_index', 'real', 'real_if_close', 'rec', 'recarray', 'recfromcsv', 'recfromtxt', 'reciprocal', 'record', 'remainder', 'repeat', 'require', \n",
    "# 'reshape', 'resize', 'result_type', 'right_shift', 'rint', 'roll', 'rollaxis', 'roots', 'rot90', 'round', 'round_', 'row_stack', 's_', 'safe_eval', 'save', 'savetxt', 'savez', 'savez_compressed',\n",
    "# 'sctype2char', 'sctypeDict', 'sctypes', 'searchsorted', 'select', 'set_numeric_ops', 'set_printoptions', 'set_string_function', 'setbufsize', 'setdiff1d', 'seterr', 'seterrcall', 'seterrobj',\n",
    "# 'setxor1d', 'shape', 'shares_memory', 'short', 'show_config', 'show_runtime', 'sign', 'signbit', 'signedinteger', 'sin', 'sinc', 'single', 'singlecomplex', 'sinh', 'size', 'sometrue', 'sort',\n",
    "# 'sort_complex', 'source', 'spacing', 'split', 'sqrt', 'square', 'squeeze', 'stack', 'std', 'str_', 'string_', 'subtract', 'sum', 'swapaxes', 'take', 'take_along_axis', 'tan', 'tanh', 'tensordot',\n",
    "# 'test', 'testing', 'tile', 'timedelta64', 'trace', 'tracemalloc_domain', 'transpose', 'trapz', 'tri', 'tril', 'tril_indices', 'tril_indices_from', 'trim_zeros', 'triu', 'triu_indices',\n",
    "# 'triu_indices_from', 'true_divide', 'trunc', 'typecodes', 'typename', 'ubyte', 'ufunc', 'uint', 'uint16', 'uint32', 'uint64', 'uint8', 'uintc', 'uintp', 'ulonglong', 'unicode_', 'union1d',\n",
    "# 'unique', 'unpackbits', 'unravel_index', 'unsignedinteger', 'unwrap', 'use_hugepage', 'ushort', 'vander', 'var', 'vdot', 'vectorize', 'version', 'void', 'vsplit', 'vstack', 'where', 'who',\n",
    "# 'zeros', 'zeros_like'"
   ]
  },
  {
   "cell_type": "code",
   "execution_count": 63,
   "metadata": {},
   "outputs": [
    {
     "name": "stdout",
     "output_type": "stream",
     "text": [
      "1. 벡터의 차원(dimension,axis)갯수: 1\n",
      "2. 벡터의 각 차원의 크기(shape): (3,)\n",
      "3. 벡터의 총 요소 갯수(size): 3\n",
      "4. 벡터의 저장 데이터 type(dtype): int32\n"
     ]
    }
   ],
   "source": [
    "print(\"1. 벡터의 차원(dimension,axis)갯수:\", vector1.ndim)\n",
    "print(\"2. 벡터의 각 차원의 크기(shape):\", vector1.shape) # tuple로 반환된다.\n",
    "print(\"3. 벡터의 총 요소 갯수(size):\", vector1.size)\n",
    "print(\"4. 벡터의 저장 데이터 type(dtype):\", vector1.dtype)"
   ]
  },
  {
   "attachments": {},
   "cell_type": "markdown",
   "metadata": {},
   "source": [
    "#### 3. 랜덤함수로 벡터 생성"
   ]
  },
  {
   "cell_type": "code",
   "execution_count": 16,
   "metadata": {},
   "outputs": [
    {
     "name": "stdout",
     "output_type": "stream",
     "text": [
      "1. random(5)\n",
      "[0.62210877 0.43772774 0.78535858 0.77997581 0.27259261] <class 'numpy.ndarray'> float64\n"
     ]
    }
   ],
   "source": [
    "# 1) 랜덤값 고정\n",
    "np.random.seed(1234)\n",
    "\n",
    "# 2) np.random.random([갯수])\n",
    "# 0.0 <= 값 < 1.0 사이의 임의의 float 5개 랜덤값 반환. 갯수 생략하면  1개반환\n",
    "print(\"1. random(5)\")\n",
    "arr = np.random.random()\n",
    "arr = np.random.random(5)\n",
    "print(arr, type(arr), arr.dtype)"
   ]
  },
  {
   "cell_type": "code",
   "execution_count": 19,
   "metadata": {},
   "outputs": [
    {
     "name": "stdout",
     "output_type": "stream",
     "text": [
      "2. rand(5)\n",
      "[0.37025075 0.56119619 0.50308317 0.01376845 0.77282662] <class 'numpy.ndarray'> float64\n"
     ]
    }
   ],
   "source": [
    "# 3) np.random.rand([갯수])\n",
    "# 0 ~ 1의 균등분포에서 표본 추출. 갯수 생략하면  1개반환\n",
    "print(\"2. rand(5)\")\n",
    "arr = np.random.rand()\n",
    "arr = np.random.rand(5)\n",
    "print(arr, type(arr), arr.dtype)"
   ]
  },
  {
   "cell_type": "code",
   "execution_count": 22,
   "metadata": {},
   "outputs": [
    {
     "name": "stdout",
     "output_type": "stream",
     "text": [
      "3. randn(5)\n",
      "[-0.28694235  0.44143825 -0.76987271 -0.97456841  0.70900741]\n"
     ]
    }
   ],
   "source": [
    "# 3) np.random.randn([갯수])\n",
    "# 표준편차가 1이고 평균값이 0인 정규분포에서 표본 추출. 갯수 생략하면  1개반환\n",
    "print(\"3. randn(5)\")\n",
    "arr = np.random.randn()\n",
    "arr = np.random.randn(5)\n",
    "print(arr)"
   ]
  },
  {
   "cell_type": "code",
   "execution_count": 28,
   "metadata": {},
   "outputs": [
    {
     "name": "stdout",
     "output_type": "stream",
     "text": [
      "4. randint(1,10,3)\n",
      "[5 3 8]\n"
     ]
    }
   ],
   "source": [
    "# 4) np.random.randint(low, high, n)\n",
    "# 주어진 최소/최대 범위 안에서 임의의 난수 n개 추출\n",
    "print(\"4. randint(1,10,3)\")\n",
    "arr = np.random.randint(1,10,3)\n",
    "print(arr)"
   ]
  },
  {
   "cell_type": "code",
   "execution_count": 31,
   "metadata": {},
   "outputs": [
    {
     "name": "stdout",
     "output_type": "stream",
     "text": [
      "4. randint(5, size=4): \n",
      "[2 1 2 1]\n"
     ]
    }
   ],
   "source": [
    "# 4) np.random.randint(high, size=n)\n",
    "# 0 ~ 최대(exclusive) 범위안에서 임의의 정수 n개 반환, 복원추출\n",
    "print(\"4. randint(5, size=4): \")\n",
    "arr = np.random.randint(5, size=4)\n",
    "print(arr)"
   ]
  },
  {
   "cell_type": "code",
   "execution_count": 34,
   "metadata": {},
   "outputs": [
    {
     "name": "stdout",
     "output_type": "stream",
     "text": [
      "5. np.random.choice(['foo','bar','baz'])\n",
      "bar\n"
     ]
    }
   ],
   "source": [
    "# 5) np.random.choice(리스트)\n",
    "# 주어진 리스트에서 임의의 값 1개 반환\n",
    "print(\"5. np.random.choice(['foo','bar','baz'])\")\n",
    "choice_value = np.random.choice(['foo','bar','baz'])\n",
    "print(choice_value)"
   ]
  },
  {
   "cell_type": "code",
   "execution_count": 35,
   "metadata": {},
   "outputs": [
    {
     "name": "stdout",
     "output_type": "stream",
     "text": [
      "6. np.random.shuffle(1,3,56,7,98])\n",
      "[56, 1, 3, 7, 98]\n"
     ]
    }
   ],
   "source": [
    "# 6) np.random.shuffle(리스트)\n",
    "# 주어진 리스트를 shuffle 함.  in-place(True)로 동작됨.\n",
    "print(\"6. np.random.shuffle(1,3,56,7,98])\")\n",
    "shuffle_value = [1,3,56,7,98]\n",
    "np.random.shuffle(shuffle_value)\n",
    "print(shuffle_value)"
   ]
  },
  {
   "attachments": {},
   "cell_type": "markdown",
   "metadata": {},
   "source": [
    "#### 4. 특정 값으로 벡터를 생성"
   ]
  },
  {
   "cell_type": "code",
   "execution_count": 37,
   "metadata": {},
   "outputs": [
    {
     "name": "stdout",
     "output_type": "stream",
     "text": [
      "1. np.zeros(5):\n",
      "[0. 0. 0. 0. 0.] float64\n",
      "[0 0 0 0 0] int32\n"
     ]
    }
   ],
   "source": [
    "# 1. np.zeros(shape)\n",
    "# shape만큼 0으로 채움. 기본 type은 float64\n",
    "print(\"1. np.zeros(5):\")\n",
    "data = np.zeros(5)\n",
    "print(data, data.dtype)\n",
    "data = np.zeros(5, dtype=np.int32)\n",
    "print(data, data.dtype)"
   ]
  },
  {
   "cell_type": "code",
   "execution_count": 38,
   "metadata": {},
   "outputs": [
    {
     "name": "stdout",
     "output_type": "stream",
     "text": [
      "2. np.ones(5):\n",
      "[1. 1. 1. 1. 1.] float64\n",
      "[1 1 1 1 1] int32\n"
     ]
    }
   ],
   "source": [
    "# 2. np.ones(shape)\n",
    "# shape만큼  1.0 으로 채움. 기본 type은 float64\n",
    "print(\"2. np.ones(5):\")\n",
    "data = np.ones(5)\n",
    "print(data , data.dtype)\n",
    "data = np.ones(5, dtype=np.int32)\n",
    "print(data, data.dtype)"
   ]
  },
  {
   "cell_type": "code",
   "execution_count": 42,
   "metadata": {},
   "outputs": [
    {
     "name": "stdout",
     "output_type": "stream",
     "text": [
      "3. np.empty(3)\n",
      "[10. 20. 30.] float64\n",
      "[5 3 8] int32\n"
     ]
    }
   ],
   "source": [
    "# 3. np.empty(shape)\n",
    "# shape 만큼 임의의 값으로 채워짐 ==> 임의의 값으로 초기화 시킨 것\n",
    "print(\"3. np.empty(3)\")\n",
    "data = np.empty(3)\n",
    "print(data , data.dtype)\n",
    "data = np.empty(3, dtype=np.int32)\n",
    "print(data , data.dtype)"
   ]
  },
  {
   "cell_type": "code",
   "execution_count": 43,
   "metadata": {},
   "outputs": [
    {
     "name": "stdout",
     "output_type": "stream",
     "text": [
      "4. full(5, 10)\n",
      "[10 10 10 10 10]\n"
     ]
    }
   ],
   "source": [
    "# 4. np.full(shape, 값)\n",
    "# shape 만큼 지정된 값으로 채워짐\n",
    "print(\"4. full(5, 10)\")\n",
    "data = np.full(5, 10)\n",
    "print(data)"
   ]
  },
  {
   "attachments": {},
   "cell_type": "markdown",
   "metadata": {},
   "source": [
    "#### 5. np.arange"
   ]
  },
  {
   "cell_type": "code",
   "execution_count": 46,
   "metadata": {},
   "outputs": [
    {
     "name": "stdout",
     "output_type": "stream",
     "text": [
      "1. arange(10)\n",
      "[0 1 2 3 4 5 6 7 8 9]\n",
      "2. arange(1,11)\n",
      "[ 1  2  3  4  5  6  7  8  9 10]\n",
      "3. arange(1,11,2)\n",
      "[1 3 5 7 9]\n"
     ]
    }
   ],
   "source": [
    "print(\"1. arange(10)\")\n",
    "data = np.arange(10)  # [0,10) 형식으로 표현\n",
    "print(data)\n",
    "\n",
    "print(\"2. arange(1,11)\")\n",
    "data = np.arange(1,11) # [1,11)형식으로 표현\n",
    "print(data)\n",
    "\n",
    "print(\"3. arange(1,11,2)\")\n",
    "data = np.arange(1,11,2) # start, end(exclusive), step\n",
    "print(data)"
   ]
  },
  {
   "cell_type": "code",
   "execution_count": 47,
   "metadata": {},
   "outputs": [
    {
     "name": "stdout",
     "output_type": "stream",
     "text": [
      "4. float으로 설정1\n",
      "[0. 1. 2. 3. 4.]\n",
      "4. float으로 설정2\n",
      "[0. 1. 2. 3. 4.]\n"
     ]
    }
   ],
   "source": [
    "# float값으로 설정하기\n",
    "print(\"4. float으로 설정1\")\n",
    "data = np.arange(5, dtype=np.float32)\n",
    "print(data) # [0. 1. 2. 3. 4.]\n",
    "\n",
    "print(\"4. float으로 설정2\")\n",
    "# float값 지정하면 float 값 반환됨.\n",
    "data = np.arange(5.0)\n",
    "print(data) # [0. 1. 2. 3. 4.]"
   ]
  },
  {
   "attachments": {},
   "cell_type": "markdown",
   "metadata": {},
   "source": [
    "#### 6. np.linspace\n",
    "- np.linspace(start, stop, [num=50, endpoint=True])\n",
    "- 기본적으로 stop값이 범위에 포함되고, 포함시키지 않으려면 endpoint=Flase로 지정한다."
   ]
  },
  {
   "cell_type": "code",
   "execution_count": 50,
   "metadata": {},
   "outputs": [
    {
     "name": "stdout",
     "output_type": "stream",
     "text": [
      "1. np.linspace(0, 1, 11)\n",
      "[0.  0.1 0.2 0.3 0.4 0.5 0.6 0.7 0.8 0.9 1. ] float64\n",
      "2. np.linspace(0, 0.9, 10)\n",
      "[0.  0.1 0.2 0.3 0.4 0.5 0.6 0.7 0.8 0.9]\n",
      "3. np.linspace(0, 0.9, 10, endpoint=False)\n",
      "[0.   0.09 0.18 0.27 0.36 0.45 0.54 0.63 0.72 0.81]\n"
     ]
    }
   ],
   "source": [
    "print(\"1. np.linspace(0, 1, 11)\")\n",
    "# 0 <= 값 <= 1 사이의 값을 11개 생성\n",
    "data = np.linspace(0, 1, 11 )\n",
    "print(data, data.dtype)\n",
    "\n",
    "print(\"2. np.linspace(0, 0.9, 10)\")\n",
    "# 0 <= 값 <= 0.9 사이의 값을 10개 생성\n",
    "data = np.linspace(0, 0.9, 10)\n",
    "print(data)\n",
    "\n",
    "print(\"3. np.linspace(0, 0.9, 10, endpoint=False)\")\n",
    "# 0 <= 값 <= 0.9 사이의 값을 10개 생성\n",
    "data = np.linspace(0, 0.9, 10, endpoint=False)\n",
    "print(data)"
   ]
  },
  {
   "attachments": {},
   "cell_type": "markdown",
   "metadata": {},
   "source": [
    "#### 7. 벡터 삭제\n",
    "arr = np.delete(arr, idx|fancy|slice, axis )\n",
    "\n",
    "      - 삭제된 새로운 배열을 반환(in-place false, 원본이 유지된다.)\n",
    "      - 순방향, 역방향 모두 가능\n",
    "      - axis=None 이면 flatten 적용됨. => 다차원이 1차원으로 변경\n",
    "      - slice인 경우에는  np.s_[::2]  형식 사용한다."
   ]
  },
  {
   "cell_type": "code",
   "execution_count": 55,
   "metadata": {},
   "outputs": [
    {
     "name": "stdout",
     "output_type": "stream",
     "text": [
      "1. idx로 삭제\n",
      "[9 8 7 5 4 3]\n",
      "[8 7 5 4 3]\n",
      "[9 7 5 4 3]\n",
      "[9 8 7 5 4]\n",
      "2. fancy 삭제\n",
      "[9 8 7 5 4 3]\n",
      "[8 7 4]\n",
      "[8 7]\n",
      "3. slice 삭제,  np.s_[::2]\n",
      "[9 8 7 5 4 3]\n",
      "[4 3]\n"
     ]
    }
   ],
   "source": [
    "# 1. idx|fancy|slice 삭제\n",
    "print(\"1. idx로 삭제\")\n",
    "arr = np.array([9,8,7,5,4,3])\n",
    "print(arr)\n",
    "new_arr = np.delete(arr,0)\n",
    "print(new_arr)\n",
    "new_arr = np.delete(arr,1)\n",
    "print(new_arr)\n",
    "new_arr = np.delete(arr,-1)\n",
    "print(new_arr)\n",
    "\n",
    "print(\"2. fancy 삭제\") #  [idx, idx2, idx3] 여러 idx를 지정하는 방식. numpy에만 지원\n",
    "arr = np.array([9,8,7,5,4,3])\n",
    "print(arr)\n",
    "new_arr = np.delete(arr, [0,3,5] ) # fancy 인덱싱(정수배열 인덱싱)\n",
    "print(new_arr)\n",
    "new_arr = np.delete(arr, [0,3,5,-2] )\n",
    "print(new_arr)\n",
    "\n",
    "print(\"3. slice 삭제,  np.s_[::2]\") # 대괄호만 쓰면 error 발생\n",
    "arr = np.array([9,8,7,5,4,3])\n",
    "print(arr)\n",
    "new_arr = np.delete(arr, np.s_[0:4] ) # slice 삭제\n",
    "print(new_arr)"
   ]
  },
  {
   "cell_type": "code",
   "execution_count": 59,
   "metadata": {},
   "outputs": [
    {
     "name": "stdout",
     "output_type": "stream",
     "text": [
      "(array([3], dtype=int64),)\n",
      "(array([1, 3], dtype=int64),)\n",
      "(array([1, 3, 5], dtype=int64),)\n",
      "[9 8 7 5 4 3]\n",
      "[9 8 7 4 3]\n",
      "[9 8 7 5 4 3]\n",
      "[9 7 4 3]\n"
     ]
    }
   ],
   "source": [
    "# 2. 값으로 삭제하는 방법\n",
    "arr = np.array([9,8,7,5,4,3])\n",
    "\n",
    "print(np.where(arr == 5))\n",
    "print(np.where((arr == 5)|(arr==8)))\n",
    "print(np.where((arr == 5)|(arr==8)|(arr==3)))\n",
    "\n",
    "xx = np.delete(arr, np.where(arr == 5)) # 5 값 삭제,\n",
    "print(arr)\n",
    "print(xx)\n",
    "\n",
    "xx = np.delete(arr, np.where((arr==5)|(arr==8))) # 5 와 8 값 삭제,\n",
    "print(arr)\n",
    "print(xx)"
   ]
  },
  {
   "attachments": {},
   "cell_type": "markdown",
   "metadata": {},
   "source": [
    "#### 8. 벡터 추가 및 삽입\n",
    "    - 추가: arr = np.append(arr, values, axis=None)\n",
    "    - 삽입: arr = np.insert(arr, idx|fancy|slice, value, axis)"
   ]
  },
  {
   "cell_type": "code",
   "execution_count": 60,
   "metadata": {},
   "outputs": [
    {
     "name": "stdout",
     "output_type": "stream",
     "text": [
      "[9 8 7 5 4 3]\n",
      "[9 8 7 5 4 3 1 2 3]\n"
     ]
    }
   ],
   "source": [
    "#  1. ndarray 추가\n",
    "arr = np.array([9,8,7,5,4,3])\n",
    "new_arr = np.append(arr, [1,2,3])\n",
    "print(arr)\n",
    "print(new_arr)"
   ]
  },
  {
   "cell_type": "code",
   "execution_count": 62,
   "metadata": {},
   "outputs": [
    {
     "name": "stdout",
     "output_type": "stream",
     "text": [
      "[9 8 7 5 4 3]\n",
      "[1 2 3 9 8 7 5 4 3]\n",
      "[9 8 7 5 4 3]\n",
      "[1 9 3 8 7 2 5 4 3]\n",
      "[9 8 7 5 4 3]\n",
      "[1 9 2 8 7 5 4 3]\n"
     ]
    }
   ],
   "source": [
    "#  2. ndarray 삽입\n",
    "\n",
    "# 가. idx 이용\n",
    "arr = np.array([9,8,7,5,4,3])\n",
    "new_arr = np.insert(arr, 0, [1,2,3])\n",
    "print(arr)\n",
    "print(new_arr)\n",
    "\n",
    "# 나. fancy 이용: 1대1 대응으로 삽입됨\n",
    "arr = np.array([9,8,7,5,4,3])\n",
    "new_arr = np.insert(arr, [0,3,1], [1,2,3])  # 0->1 , 3->2, 1->3 삽입됨. 따라서 갯수가 일치해야 된다.\n",
    "print(arr)        #  [9 8 7 5 4 3]\n",
    "                  #   1 9 8 7 5 4 3  <- 0에 1 삽입후\n",
    "                  #   1 9 8 7 2 5 4 3  <- 3에 2 삽입후\n",
    "                  #   1 9 3 8 7 2 5 4 3  <- 1에 3 삽입후\n",
    "print(new_arr)    #  [1 9 3 8 7 2 5 4 3]\n",
    "\n",
    "# 다. slice 이용\n",
    "arr = np.array([9,8,7,5,4,3])\n",
    "new_arr = np.insert(arr, np.s_[0:2], [1,2])\n",
    "print(arr)  # [9 8 7 5 4 3]\n",
    "            #  1 9 8 7 5 4 3 <- 0에 1 삽입후\n",
    "            #  1 9 2 8 7 5 4 3 <- 1에 2 삽입후\n",
    "print(new_arr)  # [1 9 2 8 7 5 4 3]"
   ]
  },
  {
   "attachments": {},
   "cell_type": "markdown",
   "metadata": {},
   "source": [
    "### 2차원 배열"
   ]
  },
  {
   "attachments": {},
   "cell_type": "markdown",
   "metadata": {},
   "source": [
    "#### 1. 2차원 배열(행렬) 생성"
   ]
  },
  {
   "cell_type": "code",
   "execution_count": 70,
   "metadata": {},
   "outputs": [
    {
     "name": "stdout",
     "output_type": "stream",
     "text": [
      "1. 2차원 행렬 생성: \n",
      " [[1 2 3]\n",
      " [4 5 6]] <class 'numpy.ndarray'>\n",
      "\n",
      "arr1D: [1 2 3 4 5 6] \n",
      "\n",
      "2. 1차원을 2차원으로 변경: \n",
      " [[1 2 3]\n",
      " [4 5 6]]\n",
      "\n",
      "2. 1차원을 2차원으로 변경: \n",
      " [[1 2 3]\n",
      " [4 5 6]]\n",
      "\n",
      "2. 1차원을 2차원으로 변경: \n",
      " [[1 2]\n",
      " [3 4]\n",
      " [5 6]]\n",
      "\n"
     ]
    }
   ],
   "source": [
    "# 1) np.array(중첩리스트) 이용\n",
    "arr1 = [[1,2,3],[4,5,6]]\n",
    "arr2D = np.array(arr1)\n",
    "print(\"1. 2차원 행렬 생성: \\n\", arr2D, type(arr2D))\n",
    "print()\n",
    "\n",
    "# 2) 1차원을 2차원으로 변경, shape 속성 사용 / 중요\n",
    "arr1D = np.array([1,2,3,4,5,6])\n",
    "print('arr1D:', arr1D, '\\n')\n",
    "\n",
    "arr1D.shape=(2, 3) # 행 * 열 = ndarray 크기와 일치되어야 함\n",
    "print(\"2. 1차원을 2차원으로 변경: \\n\", arr1D) # [[1 2 3][4 5 6]]\n",
    "print()\n",
    "arr1D.shape=(2, -1) # 행크기에 의해서 열크기가 자동 지정됨\n",
    "print(\"2. 1차원을 2차원으로 변경: \\n\", arr1D) # [[1 2 3][4 5 6]]\n",
    "print()\n",
    "arr1D.shape=(-1, 2)   # 열크기에 의해서 행크기가 자동 지정됨\n",
    "print(\"2. 1차원을 2차원으로 변경: \\n\", arr1D)\n",
    "print()"
   ]
  },
  {
   "cell_type": "code",
   "execution_count": 76,
   "metadata": {},
   "outputs": [
    {
     "name": "stdout",
     "output_type": "stream",
     "text": [
      "[[[1]\n",
      "  [2]\n",
      "  [3]]\n",
      "\n",
      " [[4]\n",
      "  [5]\n",
      "  [6]]] \n",
      "\n",
      "[[[1 2]]\n",
      "\n",
      " [[3 4]]\n",
      "\n",
      " [[5 6]]]\n"
     ]
    }
   ],
   "source": [
    "# 다차원 shape 해석하기 -> 맨 뒤부터 읽어가면서 그림을 그리며 해석하기\n",
    "arr1D = np.array([1,2,3,4,5,6])\n",
    "arr1D.shape= (2, 3, 1)\n",
    "print(arr1D, '\\n')\n",
    "arr1D.shape= (3, 1, 2)\n",
    "print(arr1D)"
   ]
  },
  {
   "attachments": {},
   "cell_type": "markdown",
   "metadata": {},
   "source": [
    "#### 2. 속성"
   ]
  },
  {
   "cell_type": "code",
   "execution_count": 77,
   "metadata": {},
   "outputs": [
    {
     "name": "stdout",
     "output_type": "stream",
     "text": [
      "[10 20 30] <class 'numpy.ndarray'> int32\n",
      "1. 2차원 행렬 생성: \n",
      " [[1 2 3]\n",
      " [4 5 6]] <class 'numpy.ndarray'>\n",
      "1. 벡터의 차원(dimension,axis)갯수: 2\n",
      "2. 벡터의 각 차원의 크기(shape): (2, 3)\n",
      "3. 벡터의 총 요소 갯수(size): 6\n",
      "4. 벡터의 저장 데이터 type(dtype): int32\n"
     ]
    }
   ],
   "source": [
    "arr1 = [[1, 2, 3], [4, 5, 6]]\n",
    "arr2D = np.array(arr1)\n",
    "print(vector1, type(vector1), vector1.dtype)\n",
    "\n",
    "print(\"1. 2차원 행렬 생성: \\n\", arr2D, type(arr2D))\n",
    "print(\"1. 행렬의 차원(dimension,axis)갯수:\", arr2D.ndim)\n",
    "print(\"2. 행렬의 각 차원의 크기(shape):\", arr2D.shape) # tuple로 반환된다.\n",
    "print(\"3. 행렬의 총 요소 갯수(size):\", arr2D.size)\n",
    "print(\"4. 행렬의 저장 데이터 type(dtype):\", arr2D.dtype)"
   ]
  },
  {
   "attachments": {},
   "cell_type": "markdown",
   "metadata": {},
   "source": [
    "#### 3. 랜덤함수로 행렬 생성"
   ]
  },
  {
   "cell_type": "code",
   "execution_count": 78,
   "metadata": {},
   "outputs": [
    {
     "name": "stdout",
     "output_type": "stream",
     "text": [
      "1. random(size=(행,열))\n",
      "[[0.62210877 0.43772774 0.78535858]\n",
      " [0.77997581 0.27259261 0.27646426]] <class 'numpy.ndarray'> float64\n"
     ]
    }
   ],
   "source": [
    "# 1) 랜덤값 고정\n",
    "np.random.seed(1234)\n",
    "\n",
    "# 2) np.random.random(size=(행,열))\n",
    "print(\"1. random(size=(행,열))\")\n",
    "arr = np.random.random()\n",
    "arr = np.random.random(size=(2, 3))\n",
    "print(arr, type(arr), arr.dtype)"
   ]
  },
  {
   "cell_type": "code",
   "execution_count": 81,
   "metadata": {},
   "outputs": [
    {
     "name": "stdout",
     "output_type": "stream",
     "text": [
      "2. rand(행, 열)\n",
      "[[0.71270203 0.37025075 0.56119619]\n",
      " [0.50308317 0.01376845 0.77282662]] <class 'numpy.ndarray'> float64\n"
     ]
    }
   ],
   "source": [
    "# 3) np.random.rand(행, 열)\n",
    "# 0 ~ 1의 균등분포에서 표본 추출. 갯수 생략하면  1개반환\n",
    "print(\"2. rand(2, 3)\")\n",
    "arr = np.random.rand(2, 3)\n",
    "print(arr, type(arr), arr.dtype)"
   ]
  },
  {
   "cell_type": "code",
   "execution_count": 82,
   "metadata": {},
   "outputs": [
    {
     "name": "stdout",
     "output_type": "stream",
     "text": [
      "3. randn(5)\n",
      "[[-0.30426018  0.861661   -0.68992667]\n",
      " [ 0.18749737  0.60430874 -0.18301422]]\n"
     ]
    }
   ],
   "source": [
    "# 3) np.random.randn(행, 열)\n",
    "# 표준편차가 1이고 평균값이 0인 정규분포에서 표본 추출. 갯수 생략하면  1개반환\n",
    "print(\"3. randn(2, 3)\")\n",
    "arr = np.random.randn(2, 3)\n",
    "print(arr)"
   ]
  },
  {
   "cell_type": "code",
   "execution_count": 83,
   "metadata": {},
   "outputs": [
    {
     "name": "stdout",
     "output_type": "stream",
     "text": [
      "4. randint(1,10,size=(2, 3))\n",
      "[[2 4 2]\n",
      " [4 8 2]]\n"
     ]
    }
   ],
   "source": [
    "# 4) np.random.randint(low, high, size=(행, 열))\n",
    "# 주어진 최소/최대 범위 안에서 임의의 난수 n개 추출\n",
    "print(\"4. randint(1,10,size=(2, 3))\")\n",
    "arr = np.random.randint(1,10,size=(2, 3))\n",
    "print(arr)"
   ]
  },
  {
   "cell_type": "code",
   "execution_count": 84,
   "metadata": {},
   "outputs": [
    {
     "name": "stdout",
     "output_type": "stream",
     "text": [
      "4. randint(5, size=(2, 3)): \n",
      "[[4 0 4]\n",
      " [1 1 4]]\n"
     ]
    }
   ],
   "source": [
    "# 4) np.random.randint(high, size=(행, 열))\n",
    "# 0 ~ 최대(exclusive) 범위안에서 임의의 정수 n개 반환, 복원추출\n",
    "print(\"4. randint(5, size=(2, 3)): \")\n",
    "arr = np.random.randint(5, size=(2, 3))\n",
    "print(arr)"
   ]
  },
  {
   "attachments": {},
   "cell_type": "markdown",
   "metadata": {},
   "source": [
    "#### 4. 특정 값으로 행렬 생성"
   ]
  },
  {
   "cell_type": "code",
   "execution_count": 87,
   "metadata": {},
   "outputs": [
    {
     "name": "stdout",
     "output_type": "stream",
     "text": [
      "1. np.zeros((2, 3)):\n",
      "[[0. 0. 0.]\n",
      " [0. 0. 0.]] float64 \n",
      "\n",
      "[[0 0 0]\n",
      " [0 0 0]] int32\n"
     ]
    }
   ],
   "source": [
    "# 1. np.zeros((행, 열))\n",
    "# shape만큼 0으로 채움. 기본 type은 float64\n",
    "print(\"1. np.zeros((2, 3)):\")\n",
    "data = np.zeros((2, 3))\n",
    "print(data, data.dtype, '\\n')\n",
    "data = np.zeros((2, 3), dtype=np.int32)\n",
    "print(data, data.dtype)"
   ]
  },
  {
   "cell_type": "code",
   "execution_count": 91,
   "metadata": {},
   "outputs": [
    {
     "name": "stdout",
     "output_type": "stream",
     "text": [
      "2. np.ones((2, 3)):\n",
      "[[1. 1. 1.]\n",
      " [1. 1. 1.]] float64\n",
      "[[1 1 1]\n",
      " [1 1 1]] int32\n"
     ]
    }
   ],
   "source": [
    "# 2. np.ones((행, 열))\n",
    "# shape만큼  1.0 으로 채움. 기본 type은 float64\n",
    "print(\"2. np.ones((2, 3)):\")\n",
    "data = np.ones((2, 3))\n",
    "print(data , data.dtype)\n",
    "data = np.ones((2, 3), dtype=np.int32)\n",
    "print(data, data.dtype)"
   ]
  },
  {
   "cell_type": "code",
   "execution_count": 90,
   "metadata": {},
   "outputs": [
    {
     "name": "stdout",
     "output_type": "stream",
     "text": [
      "3. np.empty(3)\n",
      "[[6.23042070e-307 4.67296746e-307 1.69121096e-306 1.39077217e-307\n",
      "  1.89146896e-307 7.56571288e-307 3.11525958e-307 1.24610723e-306\n",
      "  1.37962320e-306]\n",
      " [1.29060871e-306 2.22518251e-306 1.33511969e-306 1.78022342e-306\n",
      "  1.05700345e-307 3.11525958e-307 8.90092016e-307 1.24611062e-306\n",
      "  1.42410974e-306]] float64\n",
      "[[ 1889785610  1068960317  1889785610  1070008893   343597384  1070679982\n",
      "   1889785610  1071057469  -858993460]\n",
      " [ 1071434956   343597384  1071728558 -1030792151  1071917301  1889785610\n",
      "   1072106045   515396075  1072294789]] int32\n"
     ]
    }
   ],
   "source": [
    "# 3. np.empty((행, 열))\n",
    "# shape 만큼 임의의 값으로 채워짐 ==> 임의의 값으로 초기화 시킨 것\n",
    "print(\"3. np.empty((2, 3))\")\n",
    "data = np.empty((2, 9))\n",
    "print(data , data.dtype)\n",
    "data = np.empty((2, 9), dtype=np.int32)\n",
    "print(data , data.dtype)"
   ]
  },
  {
   "cell_type": "code",
   "execution_count": 92,
   "metadata": {},
   "outputs": [
    {
     "name": "stdout",
     "output_type": "stream",
     "text": [
      "4. full((2, 3), 10)\n",
      "[[10 10 10]\n",
      " [10 10 10]]\n"
     ]
    }
   ],
   "source": [
    "# 4. np.full((행, 열), 값)\n",
    "# shape 만큼 지정된 값으로 채워짐\n",
    "print(\"4. full((2, 3), 10)\")\n",
    "data = np.full((2, 3), 10)\n",
    "print(data)"
   ]
  },
  {
   "attachments": {},
   "cell_type": "markdown",
   "metadata": {},
   "source": [
    "#### 5. arange + reshape 사용하여 행렬 생성"
   ]
  },
  {
   "cell_type": "code",
   "execution_count": 93,
   "metadata": {},
   "outputs": [
    {
     "name": "stdout",
     "output_type": "stream",
     "text": [
      "1. arange(10)\n",
      "[[0 1 2 3 4]\n",
      " [5 6 7 8 9]]\n"
     ]
    }
   ],
   "source": [
    "# 1차원 벡터를 reshape를 이용해 2차원 행렬 생성\n",
    "print(\"1. arange(10)\")\n",
    "data = np.arange(10).reshape((2, 5))\n",
    "print(data)"
   ]
  },
  {
   "attachments": {},
   "cell_type": "markdown",
   "metadata": {},
   "source": [
    "#### 6. 행렬 삭제\n",
    "    - arr = np.delete(arr, idx|fancy|slice, axis)\n",
    "    - axis = None: flatten / axis = 0: 행 제거 / axis = 1: 열 제거"
   ]
  },
  {
   "cell_type": "code",
   "execution_count": 94,
   "metadata": {},
   "outputs": [
    {
     "name": "stdout",
     "output_type": "stream",
     "text": [
      "[[ 0  1  2  3  4]\n",
      " [ 5  6  7  8  9]\n",
      " [10 11 12 13 14]\n",
      " [15 16 17 18 19]\n",
      " [20 21 22 23 24]]\n"
     ]
    }
   ],
   "source": [
    "arr2D = np.arange(25).reshape(5,5)\n",
    "print(arr2D)"
   ]
  },
  {
   "attachments": {},
   "cell_type": "markdown",
   "metadata": {},
   "source": [
    "##### axis 미지정(None)"
   ]
  },
  {
   "cell_type": "code",
   "execution_count": 95,
   "metadata": {},
   "outputs": [
    {
     "name": "stdout",
     "output_type": "stream",
     "text": [
      "[ 0  1  2  3  4  5  6  7  8  9 10 11 12 13 14 15 16 17 18 19 20 21 22 23]\n"
     ]
    }
   ],
   "source": [
    "# 1. idx 이용한 삭제\n",
    "# 2차원에서 axis 지정하지 않으면 flatten 된다.\n",
    "xxx = np.delete(arr2D, -1)\n",
    "print(xxx)"
   ]
  },
  {
   "cell_type": "code",
   "execution_count": 96,
   "metadata": {},
   "outputs": [
    {
     "name": "stdout",
     "output_type": "stream",
     "text": [
      "[ 1  2  3  4  5  6  7  8  9 10 11 12 13 14 15 16 17 18 19 20 21 22 23]\n"
     ]
    }
   ],
   "source": [
    "# 2. fancy 이용한 삭제\n",
    "# 2차원에서 axis 지정하지 않으면 flatten 된다.\n",
    "xxx = np.delete(arr2D, [0,-1])\n",
    "print(xxx)"
   ]
  },
  {
   "cell_type": "code",
   "execution_count": 97,
   "metadata": {},
   "outputs": [
    {
     "name": "stdout",
     "output_type": "stream",
     "text": [
      "[ 8  9 10 11 12 13 14 15 16 17 18 19 20 21 22 23 24]\n"
     ]
    }
   ],
   "source": [
    "# 3. slice 이용한 삭제\n",
    "# 2차원에서 axis 지정하지 않으면 flatten 된다.\n",
    "xxx = np.delete(arr2D, np.s_[:8])\n",
    "print(xxx)"
   ]
  },
  {
   "attachments": {},
   "cell_type": "markdown",
   "metadata": {},
   "source": [
    "##### axis = 0"
   ]
  },
  {
   "cell_type": "code",
   "execution_count": 98,
   "metadata": {},
   "outputs": [
    {
     "name": "stdout",
     "output_type": "stream",
     "text": [
      "[[ 0  1  2  3  4]\n",
      " [ 5  6  7  8  9]\n",
      " [10 11 12 13 14]\n",
      " [15 16 17 18 19]]\n"
     ]
    }
   ],
   "source": [
    "# 4. idx + axis=0 이용한 삭제 ==> 행이 삭제됨\n",
    "xxx = np.delete(arr2D, -1, axis=0)\n",
    "print(xxx)"
   ]
  },
  {
   "cell_type": "code",
   "execution_count": 99,
   "metadata": {},
   "outputs": [
    {
     "name": "stdout",
     "output_type": "stream",
     "text": [
      "[[ 5  6  7  8  9]\n",
      " [10 11 12 13 14]\n",
      " [15 16 17 18 19]]\n"
     ]
    }
   ],
   "source": [
    "# 5. fancy + axis=0 이용한 삭제 ==> 행이 삭제됨\n",
    "xxx = np.delete(arr2D, [0,-1], axis=0)\n",
    "print(xxx)"
   ]
  },
  {
   "cell_type": "code",
   "execution_count": 100,
   "metadata": {},
   "outputs": [
    {
     "name": "stdout",
     "output_type": "stream",
     "text": [
      "[[15 16 17 18 19]\n",
      " [20 21 22 23 24]]\n"
     ]
    }
   ],
   "source": [
    "# 6. slice + axis=0 이용한 삭제 ==> 행이 삭제됨\n",
    "xxx = np.delete(arr2D, np.s_[:3], axis=0)\n",
    "print(xxx)"
   ]
  },
  {
   "attachments": {},
   "cell_type": "markdown",
   "metadata": {},
   "source": [
    "##### axis = 1"
   ]
  },
  {
   "cell_type": "code",
   "execution_count": 101,
   "metadata": {},
   "outputs": [
    {
     "name": "stdout",
     "output_type": "stream",
     "text": [
      "[[ 0  1  2  3]\n",
      " [ 5  6  7  8]\n",
      " [10 11 12 13]\n",
      " [15 16 17 18]\n",
      " [20 21 22 23]]\n"
     ]
    }
   ],
   "source": [
    "# 7. idx + axis=1 이용한 삭제 ==> 열이 삭제됨\n",
    "xxx = np.delete(arr2D, -1, axis=1)\n",
    "print(xxx)"
   ]
  },
  {
   "cell_type": "code",
   "execution_count": 102,
   "metadata": {},
   "outputs": [
    {
     "name": "stdout",
     "output_type": "stream",
     "text": [
      "[[ 1  2  3]\n",
      " [ 6  7  8]\n",
      " [11 12 13]\n",
      " [16 17 18]\n",
      " [21 22 23]]\n"
     ]
    }
   ],
   "source": [
    "# 8. fancy + axis=1 이용한 삭제 ==> 열이 삭제됨\n",
    "xxx = np.delete(arr2D, [0,-1], axis=1)\n",
    "print(xxx)"
   ]
  },
  {
   "cell_type": "code",
   "execution_count": 103,
   "metadata": {},
   "outputs": [
    {
     "name": "stdout",
     "output_type": "stream",
     "text": [
      "[[ 3  4]\n",
      " [ 8  9]\n",
      " [13 14]\n",
      " [18 19]\n",
      " [23 24]]\n"
     ]
    }
   ],
   "source": [
    "# 9. slice + axis=1 이용한 삭제 ==> 열이 삭제됨\n",
    "xxx = np.delete(arr2D, np.s_[:3], axis=1)\n",
    "print(xxx)"
   ]
  },
  {
   "attachments": {},
   "cell_type": "markdown",
   "metadata": {},
   "source": [
    "#### 7. 행렬 추가 및 삽입\n",
    "    - 벡터와 차이점은 axis 지정 여부에 따라 출력이 달라진다."
   ]
  },
  {
   "cell_type": "code",
   "execution_count": 108,
   "metadata": {},
   "outputs": [
    {
     "name": "stdout",
     "output_type": "stream",
     "text": [
      "[  1   2   3   4   5   6 100 200 300 400] \n",
      "\n",
      "[[  1   2   3]\n",
      " [  4   5   6]\n",
      " [100 200 300]] \n",
      "\n",
      "[[  1   2   3 100]\n",
      " [  4   5   6 200]]\n"
     ]
    }
   ],
   "source": [
    "arr = np.array([[1,2,3],[4,5,6]])\n",
    "\n",
    "# 1. append 함수\n",
    "# 1) axis=None 지정한 추가\n",
    "# 2차원에서 axis 지정하지 않으면 flatten 되어 추가됨. 따라서 dimension 일치하지 않아도 된다.\n",
    "xxx = np.append(arr, [100,200,300,400])\n",
    "print(xxx, '\\n')\n",
    "\n",
    "# 2) axis=0 지정한 추가 ==> 행 추가\n",
    "xxx = np.append(arr, [[100,200,300]], axis=0)\n",
    "print(xxx, '\\n')\n",
    "\n",
    "# 3) axis=1 지정한 추가 ==> 열 추가\n",
    "xxx = np.append(arr, [[100],[200]], axis=1)\n",
    "print(xxx)"
   ]
  },
  {
   "cell_type": "code",
   "execution_count": 109,
   "metadata": {},
   "outputs": [
    {
     "name": "stdout",
     "output_type": "stream",
     "text": [
      "[100 200 300 400   1   2   3   4   5   6] \n",
      "\n",
      "[[100 200 300]\n",
      " [  1   2   3]\n",
      " [  4   5   6]] \n",
      "\n",
      "[[100 200   1   2   3]\n",
      " [100 200   4   5   6]]\n"
     ]
    }
   ],
   "source": [
    "# 2. insert 함수\n",
    "arr = np.array([[1,2,3],[4,5,6]])\n",
    "\n",
    "# 1) axis=None 지정한 삽입\n",
    "# 2차원에서 axis 지정하지 않으면 flatten 되어 추가됨. 따라서 dimension 일치하지 않아도 된다.\n",
    "xxx = np.insert(arr, 0,  [100,200,300,400])\n",
    "print(xxx, '\\n')\n",
    "\n",
    "# 2) axis=0 지정한 삽입 ==> 행 삽입\n",
    "xxx = np.insert(arr, 0,  [[100,200,300]], axis=0)\n",
    "print(xxx, '\\n')\n",
    "\n",
    "# 3) axis=1 지정한 삽입 ==> 열 삽입\n",
    "xxx = np.insert(arr, 0, [[100],[200]], axis=1)\n",
    "print(xxx)"
   ]
  },
  {
   "attachments": {},
   "cell_type": "markdown",
   "metadata": {},
   "source": [
    "### Type 변환\n",
    "- 다차원 배열의 모든 요소가 한꺼번에 변경된다.(벡터 연산)\n",
    "    - dtype 속성 이용\n",
    "    - astype 함수 이용(많이 사용)"
   ]
  },
  {
   "cell_type": "code",
   "execution_count": 110,
   "metadata": {},
   "outputs": [
    {
     "name": "stdout",
     "output_type": "stream",
     "text": [
      "1. 원본 데이터:  int32 [10 20 30]\n",
      "2. int값을 float으로 변경 1:  float64 [10. 20. 30.]\n",
      "2. int값을 float으로 변경 2:  float64 [10. 20. 30.]\n"
     ]
    }
   ],
   "source": [
    "# 1. int32 --> float64으로\n",
    "data = [10,20,30]\n",
    "arr1 = np.array(data)\n",
    "arr2 = np.array(data , dtype=np.float64)\n",
    "arr3 = arr1.astype(np.float64)\n",
    "print(\"1. 원본 데이터: \", arr1.dtype , arr1)\n",
    "print(\"2. int값을 float으로 변경 1: \", arr2.dtype , arr2)\n",
    "print(\"2. int값을 float으로 변경 2: \", arr3.dtype , arr3)"
   ]
  },
  {
   "cell_type": "code",
   "execution_count": 113,
   "metadata": {},
   "outputs": [
    {
     "name": "stdout",
     "output_type": "stream",
     "text": [
      "3. 원본 데이터:  float64 [ 10.5   20.7   30.23 100.  ]\n",
      "4. float 값을 int 으로 변경 1:  int64 [ 10  20  30 100]\n",
      "4. float 값을 int 으로 변경 2:  int64 [ 10  20  30 100]\n"
     ]
    }
   ],
   "source": [
    "# 2. float --> int 으로\n",
    "data = [10.5, 20.7, 30.23, 100]\n",
    "arr1 = np.array(data)\n",
    "arr2 = np.array(data , dtype=np.int64)\n",
    "arr3 = arr1.astype(np.int64)\n",
    "print(\"3. 원본 데이터: \", arr1.dtype , arr1)\n",
    "print(\"4. float 값을 int 으로 변경 1: \", arr2.dtype , arr2)\n",
    "print(\"4. float 값을 int 으로 변경 2: \", arr3.dtype , arr3)"
   ]
  },
  {
   "cell_type": "code",
   "execution_count": 116,
   "metadata": {},
   "outputs": [
    {
     "name": "stdout",
     "output_type": "stream",
     "text": [
      "5. 원본 데이터:  int32 [10 20 30]\n",
      "6. int 값을 bytes 으로 변경 1:  |S2 [b'10' b'20' b'30']\n",
      "6. int 값을 bytes 으로 변경 2:  |S11 [b'10' b'20' b'30']\n",
      "7. int 값을 str 으로 변경 :  <U2 ['10' '20' '30']\n",
      "7. int 값을 str 으로 변경 :  <U11 ['10' '20' '30']\n"
     ]
    }
   ],
   "source": [
    "# 3. int --> bytes , str\n",
    "data = [10,20,30]\n",
    "arr1 = np.array(data)\n",
    "arr2 = np.array(data , dtype=np.string_)  # bytes 타입,  np.string 안됨.\n",
    "arr3 = arr1.astype(np.string_)\n",
    "arr4 = np.array(data , dtype=np.str_)   # str 타입 , dtype=np.str 안됨.\n",
    "arr5 = arr1.astype(np.str_)\n",
    "print(\"5. 원본 데이터: \", arr1.dtype , arr1)\n",
    "print(\"6. int 값을 bytes 으로 변경 1: \", arr2.dtype , arr2)\n",
    "print(\"6. int 값을 bytes 으로 변경 2: \", arr3.dtype , arr3)\n",
    "print(\"7. int 값을 str 으로 변경 : \", arr4.dtype , arr4)\n",
    "print(\"7. int 값을 str 으로 변경 : \", arr5.dtype , arr5)\n",
    "\n",
    "# print(dir(np))"
   ]
  },
  {
   "cell_type": "code",
   "execution_count": 119,
   "metadata": {},
   "outputs": [
    {
     "name": "stdout",
     "output_type": "stream",
     "text": [
      "원본: ['10' '20' '30'] <U2\n",
      "8. str 값을 int 으로 변경 : [10 20 30] int32\n",
      "[10 20 30] int32\n"
     ]
    }
   ],
   "source": [
    "# 4. str --> int\n",
    "data =['10','20','30']\n",
    "arr1 = np.array(data)\n",
    "print(\"원본:\", arr1, arr1.dtype)\n",
    "arr2 = arr1.astype(np.int32)\n",
    "print(\"8. str 값을 int 으로 변경 :\", arr2, arr2.dtype) # [10 20 30]\n",
    "\n",
    "arr3 = np.array(data).astype(np.int32)\n",
    "print(arr3, arr2.dtype) # [10 20 30]"
   ]
  },
  {
   "attachments": {},
   "cell_type": "markdown",
   "metadata": {},
   "source": [
    "### 벡터 연산"
   ]
  },
  {
   "cell_type": "code",
   "execution_count": 120,
   "metadata": {},
   "outputs": [
    {
     "name": "stdout",
     "output_type": "stream",
     "text": [
      "1. 파이썬의 리스트 + 리스트\n",
      "[10, 20, 30, 10, 20, 30]\n",
      "2. 기본 파이썬의 리스트 + 스칼라\n",
      "[10, 20, 30, 10, 20, 30, 10, 20, 30]\n"
     ]
    }
   ],
   "source": [
    "# 1. 기본 파이썬 연산\n",
    "print(\"1. 파이썬의 리스트 + 리스트\")\n",
    "print([10,20,30]+[10,20,30])\n",
    "\n",
    "print(\"2. 기본 파이썬의 리스트 + 스칼라\")\n",
    "# print([10,20,30] + 2)  # TypeError: can only concatenate list (not \"int\") to list\n",
    "print([10,20,30] * 3)"
   ]
  },
  {
   "cell_type": "code",
   "execution_count": 121,
   "metadata": {},
   "outputs": [
    {
     "name": "stdout",
     "output_type": "stream",
     "text": [
      "3. numpy의 벡터간 연산 처리\n",
      "[15 24 33]\n",
      "[ 5 16 27]\n",
      "[50 80 90]\n",
      "[ 2.  5. 10.]\n"
     ]
    }
   ],
   "source": [
    "# 2. 다차원 배열 + 다차원 배열 ==> 요소간 연산, 반드시 shape 일치해야 된다.\n",
    "arr1D_1 = np.array([10,20,30])\n",
    "arr1D_2 = np.array([5,4,3])\n",
    "print(\"3. numpy의 벡터간 연산 처리\")\n",
    "print(arr1D_1 + arr1D_2)\n",
    "print(arr1D_1 - arr1D_2)\n",
    "print(arr1D_1 * arr1D_2)\n",
    "print(arr1D_1 / arr1D_2)"
   ]
  },
  {
   "cell_type": "code",
   "execution_count": 122,
   "metadata": {},
   "outputs": [
    {
     "name": "stdout",
     "output_type": "stream",
     "text": [
      "4. numpy의 벡터 + 스칼라 연산 처리\n",
      "[12 22 32]\n",
      "[ 8 18 28]\n",
      "[20 40 60]\n",
      "[ 5. 10. 15.]\n"
     ]
    }
   ],
   "source": [
    "# 3. 백터 + 스칼라 ==> 자동으로 브로드캐스팅(개수를 맞춰줌) 되어 연산됨.\n",
    "# 브로드캐스팅(broadcasting): 서로 다른 차원을 가지고 있는 두 개의 값을 산술하는 도중에\n",
    "# 연산이 가능하도록 차원을 자동으로 맞추어 주는 작업을 의미한다.\n",
    "arr1D_1 = np.array([10,20,30])\n",
    "print(\"4. numpy의 벡터 + 스칼라 연산 처리\")\n",
    "print(arr1D_1 + 2)\n",
    "print(arr1D_1 - 2)\n",
    "print(arr1D_1 * 2)\n",
    "print(arr1D_1 / 2)"
   ]
  },
  {
   "cell_type": "code",
   "execution_count": 125,
   "metadata": {},
   "outputs": [
    {
     "name": "stdout",
     "output_type": "stream",
     "text": [
      "5. 벡터의 비교 연산처리1:  [False False  True]\n",
      "5. 벡터의 비교 연산처리2:  [False  True  True]\n",
      "5. 벡터의 비교 연산처리3:  [False False  True]\n"
     ]
    }
   ],
   "source": [
    "# 4. 비교 연산도 벡터화 가능\n",
    "print(\"5. 벡터의 비교 연산처리1: \", arr1D_1%3 == 0)\n",
    "print(\"5. 벡터의 비교 연산처리2: \", arr1D_1 > 15)\n",
    "print(\"5. 벡터의 비교 연산처리3: \", (arr1D_1 > 15) & ( arr1D_1%6 == 0))"
   ]
  },
  {
   "attachments": {},
   "cell_type": "markdown",
   "metadata": {},
   "source": [
    "### 색인"
   ]
  },
  {
   "attachments": {},
   "cell_type": "markdown",
   "metadata": {},
   "source": [
    "#### 1. 1차원 배열(벡터) 색인"
   ]
  },
  {
   "cell_type": "code",
   "execution_count": 145,
   "metadata": {},
   "outputs": [
    {
     "name": "stdout",
     "output_type": "stream",
     "text": [
      "원본: [0 1 2 3 4 5 6 7 8 9]\n",
      "1. 인덱싱: 0 9\n",
      "2. 슬라이싱: [1 2 3 4] [0 1 2 3 4] [1 2 3 4 5 6 7 8 9] [1 3 5 7 9] [0 1 2 3 4 5 6 7 8 9] [0 1 2 3 4 5 6 7 8 9]\n"
     ]
    }
   ],
   "source": [
    "arr = np.arange(10)\n",
    "print(\"원본:\", arr)\n",
    "\n",
    "# 1. 인덱싱\n",
    "print(\"1. 인덱싱:\", arr[0], arr[-1])\n",
    "\n",
    "# 2. 슬라이싱\n",
    "print(\"2. 슬라이싱:\", arr[1:5], arr[:5], arr[1:], arr[1:10:2], arr[:], arr[...]) # [...]은 numpy에서만 지원"
   ]
  },
  {
   "cell_type": "code",
   "execution_count": 146,
   "metadata": {},
   "outputs": [
    {
     "name": "stdout",
     "output_type": "stream",
     "text": [
      "3. original: [  0 100 200 300 400 500 600 700 800 900]\n",
      "3-1. fancy data[[1, 3, 5]]: [100 300 500]\n",
      "3-2. fancy data[[8, 1, 5]]: [800 100 500]\n"
     ]
    }
   ],
   "source": [
    "# 3. fancy 색인\n",
    "data = np.arange(10) * 100\n",
    "print(\"3. original:\", data)\n",
    "# print(data[1, 3, 5]) -> error\n",
    "print(\"3-1. fancy data[[1, 3, 5]]:\", data[[1, 3, 5]])\n",
    "print(\"3-2. fancy data[[8, 1, 5]]:\", data[[8, 1, 5]])"
   ]
  },
  {
   "cell_type": "code",
   "execution_count": 144,
   "metadata": {},
   "outputs": [
    {
     "name": "stdout",
     "output_type": "stream",
     "text": [
      "4. original:  [1 2 3 4 5]\n",
      "4-1. 벡터연산,  data%2==0:  [False  True False  True False]\n",
      "4-2. boolean 색인, [True,True,True,True,False]: [1 2 3 4]\n",
      "4-3. boolean 색인 활용, data[data%2==0]: [2 4]\n",
      "4-4. boolean 색인 활용, data[data > 3 ]: [4 5]\n",
      "4-5. boolean 색인의 & 연산자: [4]\n",
      "4-6. boolean 색인의 | 연산자 [1 2 3 5]\n",
      "4-7. boolean 색인 활용, data[data > 3 ]: [1 2 3]\n"
     ]
    }
   ],
   "source": [
    "# 4. boolean 색인 -> True의 결과값을 가진 요소만 나온다, 반드시 색인 대상과 길이가 같아야 함\n",
    "data = np.array([1,2,3,4,5])\n",
    "print(\"4. original: \" , data)\n",
    "print(\"4-1. 벡터연산,  data%2==0: \" , data%2==0)\n",
    "print(\"4-2. boolean 색인, [True,True,True,True,False]:\",data[[True,True,True,True,False]])\n",
    "print(\"4-3. boolean 색인 활용, data[data%2==0]:\",data[data%2==0])\n",
    "print(\"4-4. boolean 색인 활용, data[data > 3 ]:\",data[data > 3])\n",
    "print(\"4-5. boolean 색인의 & 연산자:\" , data[(data%2==0) & (data >2)]) \n",
    "print(\"4-6. boolean 색인의 | 연산자\" , data[(data%2!=0) | (data < 4)])\n",
    "print(\"4-7. boolean 색인 활용, data[data > 3 ]:\",data[~(data > 3)])"
   ]
  },
  {
   "cell_type": "code",
   "execution_count": 151,
   "metadata": {},
   "outputs": [
    {
     "name": "stdout",
     "output_type": "stream",
     "text": [
      "['홍길동' '홍길동' '홍길동']\n",
      "['홍길동', '홍길동', '홍길동']\n"
     ]
    }
   ],
   "source": [
    "# 실습: 특정 이름 검색\n",
    "names = np.array(['홍길동', '세종',\"홍길동\",\"이순신\",\"정조\",\"홍길동\"])\n",
    "\n",
    "# 홍길동\n",
    "print(names[names=='홍길동'])\n",
    "print([i for i in names if i=='홍길동'])"
   ]
  },
  {
   "attachments": {},
   "cell_type": "markdown",
   "metadata": {},
   "source": [
    "## 6/12(월)"
   ]
  },
  {
   "cell_type": "code",
   "execution_count": 2,
   "metadata": {},
   "outputs": [],
   "source": [
    "import numpy as np"
   ]
  },
  {
   "attachments": {},
   "cell_type": "markdown",
   "metadata": {},
   "source": [
    "### 색인"
   ]
  },
  {
   "attachments": {},
   "cell_type": "markdown",
   "metadata": {},
   "source": [
    "#### 2차원 색인\n",
    "- 기본적으로 arr[행, 열] 형식을 따른다."
   ]
  },
  {
   "cell_type": "code",
   "execution_count": 3,
   "metadata": {},
   "outputs": [
    {
     "name": "stdout",
     "output_type": "stream",
     "text": [
      "1. original:  [[   1    2    3]\n",
      " [  10   20   30]\n",
      " [ 100  200  300]\n",
      " [1000 2000 3000]]\n",
      "2. 1행만 반환1 [1 2 3]\n",
      "2. 1행만 반환2 [1 2 3]\n",
      "3. 마지막 행만 반환 [1000 2000 3000]\n",
      "3. 1행의 1열 반환  2\n",
      "4. 1행의 마지막 열 반환  3\n",
      "5. 1행의 2열이후 반환  [2 3]\n",
      "6. 1열만 반환1  [   1   10  100 1000]\n",
      "6. 1열만 반환2  [   1   10  100 1000]\n",
      "7. 2열이후 반환  [[   2    3]\n",
      " [  20   30]\n",
      " [ 200  300]\n",
      " [2000 3000]]\n",
      "8. 2행이후 2열이후 반환  [[  20   30]\n",
      " [ 200  300]\n",
      " [2000 3000]]\n"
     ]
    }
   ],
   "source": [
    "# 1) 인덱싱 및 슬라이싱\n",
    "arr = np.array([[1,2,3],[10,20,30],[100,200,300],[1000,2000,3000]])\n",
    "print(\"1. original: \", arr)  \n",
    "print(\"2. 1행만 반환1\",    arr[0]) \n",
    "print(\"2. 1행만 반환2\",    arr[0,...])  \n",
    "print(\"3. 마지막 행만 반환\",    arr[-1])  \n",
    "\n",
    "print(\"3. 1행의 1열 반환 \" , arr[0,1])  \n",
    "print(\"4. 1행의 마지막 열 반환 \" ,arr[0, -1]) \n",
    "print(\"5. 1행의 2열이후 반환 \" ,arr[0, 1:]) \n",
    "\n",
    "print(\"6. 1열만 반환1 \" , arr[:, 0])  \n",
    "print(\"6. 1열만 반환2 \" , arr[..., 0]) \n",
    "print(\"7. 2열이후 반환 \" , arr[:, 1:]) \n",
    "\n",
    "print(\"8. 2행이후 2열이후 반환 \" , arr[1:, 1:]) "
   ]
  },
  {
   "cell_type": "code",
   "execution_count": 4,
   "metadata": {},
   "outputs": [
    {
     "name": "stdout",
     "output_type": "stream",
     "text": [
      "1. original:  [[  1   2   3]\n",
      " [ 10  20  30]\n",
      " [100 200 300]]\n",
      "2. 1행과 3행만 반환 [[  1   2   3]\n",
      " [100 200 300]]\n",
      "3. 1행과 3행에서 2열만 반환:  [  2 200]\n",
      "4. 1행과 3행에서 2열 이후 반환 [[  2   3]\n",
      " [200 300]]\n",
      "5. 2열과 3열만 반환 [[  2   3]\n",
      " [ 20  30]\n",
      " [200 300]]\n"
     ]
    }
   ],
   "source": [
    "# 2) fancy 색인\n",
    "arr = np.array([[1,2,3],[10,20,30],[100,200,300]])\n",
    "print(\"1. original: \", arr) \n",
    "print(\"2. 1행과 3행만 반환\", arr[[0, 2]])  \n",
    "\n",
    "print(\"3. 1행과 3행에서 2열만 반환: \", arr[[0, 2], [1]]) \n",
    "print(\"4. 1행과 3행에서 2열 이후 반환\", arr[[0, 2], 1:])  \n",
    "print(\"5. 2열과 3열만 반환\", arr[:, [1, 2]])"
   ]
  },
  {
   "cell_type": "code",
   "execution_count": 5,
   "metadata": {},
   "outputs": [
    {
     "name": "stdout",
     "output_type": "stream",
     "text": [
      "1. original:  [[  1   2   3]\n",
      " [ 10  20  30]\n",
      " [100 200 300]]\n",
      "2. arr%2==0:  [[False  True False]\n",
      " [ True  True  True]\n",
      " [ True  True  True]]\n",
      "3. arr[arr%2==0]:  [  2  10  20  30 100 200 300]\n",
      "4. arr[(arr%2!=0) | (arr < 100)]  [ 1  2  3 10 20 30]\n"
     ]
    }
   ],
   "source": [
    "# 3) boolean 색인\n",
    "arr = np.array([[1,2,3],[10,20,30],[100,200,300]])\n",
    "print(\"1. original: \", arr) \n",
    "print(\"2. arr%2==0: \", arr%2==0) \n",
    "print(\"3. arr[arr%2==0]: \", arr[arr%2==0])  \n",
    "print(\"4. arr[(arr%2!=0) | (arr < 100)] \" , arr[(arr%2!=0) | (arr < 100)])"
   ]
  },
  {
   "attachments": {},
   "cell_type": "markdown",
   "metadata": {},
   "source": [
    "#### 색인을 이용한 값 변경"
   ]
  },
  {
   "cell_type": "code",
   "execution_count": 9,
   "metadata": {},
   "outputs": [
    {
     "name": "stdout",
     "output_type": "stream",
     "text": [
      "0. original: [0 1 2 3 4 5 6 7 8 9]\n",
      "1. indexing: [100   1   2   3   4   5   6   7   8   9]\n",
      "2. slicing: [100 200 200 200   4   5   6   7   8   9]\n",
      "3. fancy: [100 200 200 200   4   5   6  50  50  50]\n",
      "4. boolean: [ 0  0  0  0  4  5  6 50 50 50]\n",
      "5. 모든 값 1 변경: [1 1 1 1 1 1 1 1 1 1]\n"
     ]
    }
   ],
   "source": [
    "arr = np.arange(10)\n",
    "print('0. original:', arr)\n",
    "\n",
    "# 1) indexing을 이용한 값 변경\n",
    "arr[0] = 100\n",
    "print('1. indexing:', arr)\n",
    "\n",
    "# 2) slicing\n",
    "arr[1:4] = 200\n",
    "print('2. slicing:', arr)\n",
    "\n",
    "# 3) fancy 색인\n",
    "arr[[-1, -2, -3]] = 50\n",
    "print('3. fancy:', arr)\n",
    "\n",
    "# 4) boolean 색인\n",
    "arr[arr>=100] = 0\n",
    "print('4. boolean:', arr)\n",
    "\n",
    "# 5) 모든 값을 1로 변경\n",
    "arr[:] = 1\n",
    "print('5. 모든 값 1 변경:', arr)"
   ]
  },
  {
   "attachments": {},
   "cell_type": "markdown",
   "metadata": {},
   "source": [
    "#### 얕은 복사, 깊은 복사"
   ]
  },
  {
   "cell_type": "code",
   "execution_count": 11,
   "metadata": {},
   "outputs": [
    {
     "name": "stdout",
     "output_type": "stream",
     "text": [
      "2533216421056 2533216421056\n",
      "[100, 2, 3] [100, 2, 3]\n"
     ]
    }
   ],
   "source": [
    "# 1) Python 얕은 복사\n",
    "x = [1, 2, 3]\n",
    "x2 = x\n",
    "print(id(x), id(x2))\n",
    "\n",
    "x2[0] = 100\n",
    "print(x, x2)"
   ]
  },
  {
   "cell_type": "code",
   "execution_count": 14,
   "metadata": {},
   "outputs": [
    {
     "name": "stdout",
     "output_type": "stream",
     "text": [
      "2533216193920 2533216433536\n",
      "[1, 2, 3] [1, 100, 3]\n"
     ]
    }
   ],
   "source": [
    "# 2) Python 깊은 복사\n",
    "x = [1, 2, 3]\n",
    "x3 = x[:]\n",
    "x3 = x.copy()\n",
    "x3 = list(x)\n",
    "print(id(x), id(x3))\n",
    "\n",
    "x3[1] = 100\n",
    "print(x, x3)"
   ]
  },
  {
   "cell_type": "code",
   "execution_count": 16,
   "metadata": {},
   "outputs": [
    {
     "name": "stdout",
     "output_type": "stream",
     "text": [
      "[1 2 3]\n",
      "2532837217104 2532837213264\n",
      "[100   2   3] [100   2   3]\n"
     ]
    }
   ],
   "source": [
    "# 3) Numpy 얕은 복사\n",
    "arr = np.array([1, 2, 3])\n",
    "print(arr)\n",
    "\n",
    "arr2 = arr[:]\n",
    "print(id(arr), id(arr2))\n",
    "\n",
    "arr2[0] = 100\n",
    "print(arr, arr2)"
   ]
  },
  {
   "cell_type": "code",
   "execution_count": 18,
   "metadata": {},
   "outputs": [
    {
     "name": "stdout",
     "output_type": "stream",
     "text": [
      "2532837212592 2532836818736\n",
      "[1 2 3] [100   2   3]\n"
     ]
    }
   ],
   "source": [
    "# 4) Numpy 깊은 복사\n",
    "arr = np.array([1, 2, 3])\n",
    "arr3 = np.copy(arr)\n",
    "print(id(arr), id(arr3))\n",
    "\n",
    "arr3[0] = 100\n",
    "print(arr, arr3)"
   ]
  },
  {
   "attachments": {},
   "cell_type": "markdown",
   "metadata": {},
   "source": [
    "#### 병합"
   ]
  },
  {
   "cell_type": "code",
   "execution_count": 23,
   "metadata": {},
   "outputs": [
    {
     "name": "stdout",
     "output_type": "stream",
     "text": [
      "0. original:\n",
      "[[0 1 2]\n",
      " [3 4 5]\n",
      " [6 7 8]]\n",
      "[[ 0  2  4]\n",
      " [ 6  8 10]\n",
      " [12 14 16]]\n",
      "1. np.hstack:\n",
      "[[ 0  1  2  0  2  4]\n",
      " [ 3  4  5  6  8 10]\n",
      " [ 6  7  8 12 14 16]]\n",
      "2. np.hstack:\n",
      "[[ 0  1  2  0  2  4]\n",
      " [ 3  4  5  6  8 10]\n",
      " [ 6  7  8 12 14 16]]\n",
      "3. np.hstack:\n",
      "[[ 0  1  2  0  2  4]\n",
      " [ 3  4  5  6  8 10]\n",
      " [ 6  7  8 12 14 16]]\n"
     ]
    }
   ],
   "source": [
    "# 열 병합\n",
    "arr = np.arange(9).reshape(3,3)\n",
    "arr2 = arr * 2\n",
    "column_merge = np.hstack((arr,arr2))\n",
    "column_merge2 = np.concatenate((arr,arr2) , axis=1)\n",
    "column_merge3= np.column_stack((arr, arr2))\n",
    "print('0. original:', arr, arr2, sep='\\n')\n",
    "\n",
    "print('1. np.hstack:', column_merge, sep='\\n')\n",
    "print('2. np.concatenate(axis=1):', column_merge2, sep='\\n')\n",
    "print('3. np.column_stack:', column_merge3, sep='\\n')"
   ]
  },
  {
   "cell_type": "code",
   "execution_count": 24,
   "metadata": {},
   "outputs": [
    {
     "name": "stdout",
     "output_type": "stream",
     "text": [
      "1. vstack(튜플): \n",
      " [[ 0  1  2]\n",
      " [ 3  4  5]\n",
      " [ 6  7  8]\n",
      " [ 0  2  4]\n",
      " [ 6  8 10]\n",
      " [12 14 16]]\n",
      "2. concatenate(튜플, axis=0): \n",
      " [[ 0  1  2]\n",
      " [ 3  4  5]\n",
      " [ 6  7  8]\n",
      " [ 0  2  4]\n",
      " [ 6  8 10]\n",
      " [12 14 16]]\n",
      "3. row_stack(튜플): \n",
      " [[ 0  1  2]\n",
      " [ 3  4  5]\n",
      " [ 6  7  8]\n",
      " [ 0  2  4]\n",
      " [ 6  8 10]\n",
      " [12 14 16]]\n"
     ]
    }
   ],
   "source": [
    "# 행 병합\n",
    "arr = np.arange(9).reshape(3,3)\n",
    "arr2 = arr * 2\n",
    "row_merge = np.vstack((arr,arr2))\n",
    "row_merge2 = np.concatenate((arr,arr2) , axis=0)\n",
    "row_merge3= np.row_stack((arr, arr2))\n",
    "print(\"1. vstack(튜플): \\n\",row_merge)\n",
    "print(\"2. concatenate(튜플, axis=0): \\n\",row_merge2)\n",
    "print(\"3. row_stack(튜플): \\n\",row_merge3)"
   ]
  },
  {
   "attachments": {},
   "cell_type": "markdown",
   "metadata": {},
   "source": [
    "#### 분할"
   ]
  },
  {
   "cell_type": "code",
   "execution_count": 28,
   "metadata": {},
   "outputs": [
    {
     "name": "stdout",
     "output_type": "stream",
     "text": [
      "1. column_split: \n",
      " [[0 1]\n",
      " [4 5]\n",
      " [8 9]]\n",
      "1. column_split2: \n",
      " [[ 2  3]\n",
      " [ 6  7]\n",
      " [10 11]]\n",
      "2. column_split: \n",
      " [[0 1]\n",
      " [4 5]\n",
      " [8 9]]\n",
      "2. column_split2: \n",
      " [[ 2  3]\n",
      " [ 6  7]\n",
      " [10 11]]\n"
     ]
    }
   ],
   "source": [
    "arr = np.arange(12).reshape(3, 4)\n",
    "\n",
    "# 1. 열 분할\n",
    "column_split, column_split2 = np.hsplit(arr, 2)\n",
    "print(\"1. column_split: \\n\", column_split)\n",
    "print(\"1. column_split2: \\n\", column_split2)\n",
    "\n",
    "column_split, column_split2 = np.split(arr, 2, axis=1)\n",
    "print(\"2. column_split: \\n\", column_split)\n",
    "print(\"2. column_split2: \\n\", column_split2)"
   ]
  },
  {
   "cell_type": "code",
   "execution_count": 31,
   "metadata": {},
   "outputs": [
    {
     "name": "stdout",
     "output_type": "stream",
     "text": [
      "1. vsplit(arr,3):  [[0 1 2 3]] [[4 5 6 7]] [[ 8  9 10 11]]\n",
      "2. vsplit(arr,3):  [[0 1 2 3]] [[4 5 6 7]] [[ 8  9 10 11]]\n"
     ]
    }
   ],
   "source": [
    "arr = np.arange(12).reshape(3, 4)\n",
    "# 2. 행분할\n",
    "row_split,row_split2, row_split3 = np.vsplit(arr, 3)\n",
    "print(\"1. vsplit(arr,3): \", row_split, row_split2, row_split3)\n",
    "\n",
    "row_split,row_split2, row_split3 = np.split(arr, 3, axis=0)\n",
    "print(\"2. vsplit(arr,3): \", row_split, row_split2, row_split3)"
   ]
  },
  {
   "attachments": {},
   "cell_type": "markdown",
   "metadata": {},
   "source": [
    "#### 함수"
   ]
  },
  {
   "attachments": {},
   "cell_type": "markdown",
   "metadata": {},
   "source": [
    "##### 범용 함수(universal function)"
   ]
  },
  {
   "attachments": {},
   "cell_type": "markdown",
   "metadata": {},
   "source": [
    "###### 단항 유니버셜 함수"
   ]
  },
  {
   "cell_type": "code",
   "execution_count": 37,
   "metadata": {},
   "outputs": [
    {
     "name": "stdout",
     "output_type": "stream",
     "text": [
      "1. original:  [-4.62 -2.19  0.    1.57  3.4   4.06]\n",
      "2. np.abs(arr):  [4.62 2.19 0.   1.57 3.4  4.06]\n",
      "3. original:  [-4.62 -2.19  0.    1.57  3.4   4.06]\n",
      "4. np.around(arr):  [-5. -2.  0.  2.  3.  4.]\n",
      "5. original:  [-4.62985 -2.19568  0.       1.5754   3.4056   4.06898]\n",
      "6. np.round(arr, 1):  [-4.6 -2.2  0.   1.6  3.4  4.1]\n",
      "6. np.round(arr, 3):  [-4.63  -2.196  0.     1.575  3.406  4.069]\n"
     ]
    }
   ],
   "source": [
    "# 1. np.abs: 절대값\n",
    "arr = np.array([-4.62, -2.19, 0, 1.57, 3.40, 4.06])\n",
    "print(\"1. original: \" , arr)\n",
    "print(\"2. np.abs(arr): \" , np.abs(arr))\n",
    "\n",
    "# 2. np.around: 0.5를 기준으로 올림 혹은 내림 -> 0.5까지 내림, 그 이상은 올림\n",
    "arr = np.array([-4.62, -2.19, 0, 1.57, 3.40, 4.06])\n",
    "print(\"3. original: \" , arr)\n",
    "print(\"4. np.around(arr): \" , np.around(arr))\n",
    "\n",
    "# 3. np.round: N 소수점 자릿수까지 반올림\n",
    "arr = np.array([-4.62985, -2.19568, 0, 1.5754, 3.4056, 4.06898])\n",
    "print(\"5. original: \" , arr)\n",
    "print(\"6. np.round(arr, 1): \" , np.round(arr, 1))\n",
    "print(\"6. np.round(arr, 3): \" , np.round(arr, 3))"
   ]
  },
  {
   "cell_type": "code",
   "execution_count": 33,
   "metadata": {},
   "outputs": [
    {
     "name": "stdout",
     "output_type": "stream",
     "text": [
      "7. original:  [-4.62 -2.19  0.    1.57  3.4   4.06]\n",
      "8. np.rint(arr):  [-5. -2.  0.  2.  3.  4.]\n",
      "9. original:  [-4.62 -2.19  0.    1.57  3.4   4.06]\n",
      "10. np.fix(arr):  [-4. -2.  0.  1.  3.  4.]\n",
      "11. original:  [-4.62 -2.19  0.    1.57  3.4   4.06]\n",
      "12. np.ceil(arr):  [-4. -2.  0.  2.  4.  5.]\n"
     ]
    }
   ],
   "source": [
    "# 4. np.rint: 가장 가까운 정수로 올림 혹은 내림\n",
    "arr = np.array([-4.62, -2.19, 0, 1.57, 3.40, 4.06])\n",
    "print(\"7. original: \", arr)\n",
    "print(\"8. np.rint(arr): \", np.rint(arr))\n",
    "\n",
    "# 5. np.fix: 0 방향으로 가장 가까운 정수로 올림 혹은 내림\n",
    "arr = np.array([-4.62, -2.19, 0, 1.57, 3.40, 4.06])\n",
    "print(\"9. original: \", arr)\n",
    "print(\"10. np.fix(arr): \", np.fix(arr))\n",
    "\n",
    "# 6. np.ceil: 각 원소보다 크거나 같은 가장 작은 정수값으로 올림\n",
    "arr = np.array([-4.62, -2.19, 0, 1.57, 3.40, 4.06])\n",
    "print(\"11. original: \" , arr)\n",
    "print(\"12. np.ceil(arr): \" , np.ceil(arr))"
   ]
  },
  {
   "cell_type": "code",
   "execution_count": 34,
   "metadata": {},
   "outputs": [
    {
     "name": "stdout",
     "output_type": "stream",
     "text": [
      "13. original:  [-4.62 -2.19  0.    1.57  3.4   4.06]\n",
      "14. np.floor(arr):  [-5. -3.  0.  1.  3.  4.]\n",
      "15. original:  [-4.62 -2.19  0.    1.57  3.4   4.06]\n",
      "16. np.trunc(arr):  [-4. -2.  0.  1.  3.  4.]\n",
      "17. original:  [ 1  4  9 16 25]\n",
      "18. np.sqrt(arr):  [1. 2. 3. 4. 5.]\n",
      "19. np.reciprocal 1:  [1 0 0]\n",
      "20. np.reciprocal 2:  [1.         0.5        0.33333333]\n"
     ]
    }
   ],
   "source": [
    "# 7. np.floor: 각 원소보다 작거나 같은 가장 큰 정수값으로 내림\n",
    "arr = np.array([-4.62, -2.19, 0, 1.57, 3.40, 4.06])\n",
    "print(\"13. original: \" , arr)\n",
    "print(\"14. np.floor(arr): \" , np.floor(arr))\n",
    "\n",
    "# 8. np.trunc: 각 원소의 소수점 부분은 잘라버리고 정수값만 남김\n",
    "arr = np.array([-4.62, -2.19, 0, 1.57, 3.40, 4.06])\n",
    "print(\"15. original: \" , arr)\n",
    "print(\"16. np.trunc(arr): \" , np.trunc(arr))\n",
    "\n",
    "# 9. np.sqrt: 제곱근\n",
    "arr = np.array([1,4,9,16,25])\n",
    "print(\"17. original: \" ,arr)\n",
    "print(\"18. np.sqrt(arr): \" , np.sqrt(arr))\n",
    "\n",
    "# 10. np.reciprocal : 각 요소의 역수\n",
    "print(\"19. np.reciprocal 1: \", np.reciprocal([1,2,3]))\n",
    "print(\"20. np.reciprocal 2: \", np.reciprocal([1.,2.,3.]))"
   ]
  },
  {
   "attachments": {},
   "cell_type": "markdown",
   "metadata": {},
   "source": [
    "---"
   ]
  },
  {
   "cell_type": "code",
   "execution_count": 67,
   "metadata": {},
   "outputs": [
    {
     "name": "stdout",
     "output_type": "stream",
     "text": [
      "1. original:  [1 2 3 4]\n",
      "2. np.sum:  10\n",
      "3. np.sum(keepdims=True):  [10]\n",
      "4. original:  [[1 2]\n",
      " [3 4]\n",
      " [5 6]]\n",
      "5. np.sum(axis=0):  [ 9 12]\n",
      "6. np.sum(axis=1):  [ 3  7 11]\n"
     ]
    }
   ],
   "source": [
    "# 1. np.sum: 1차원 배열 원소간 합\n",
    "b = np.array([1, 2, 3, 4])\n",
    "#print(\"average:\" , np.average(b))\n",
    "print(\"1. original: \" , b ) # [1 2 3 4]\n",
    "print(\"2. np.sum: \" , np.sum(b) ) # 1+2+3+4 = 10                        , 스칼라 값으로 배월 원소 간 합을 반환\n",
    "print(\"3. np.sum(keepdims=True): \" , np.sum(b , keepdims=True) ) # [10] , 1차원 배열로 배열 원소 간 합을 반환\n",
    "\n",
    "# 2. np.sum: 2차원 배열 원소간 합\n",
    "c = np.array([[1, 2], [3, 4],[5,6]])\n",
    "print(\"4. original: \" , c )\n",
    "print(\"5. np.sum(axis=0): \" , np.sum(c , axis=0) ) # [ 9 12]    위 + 아래  ( axis=0 인 행축 기준 )\n",
    "print(\"6. np.sum(axis=1): \" , np.sum(c , axis=1) ) # [ 3  7 11] 왼쪽 + 오른쪽 ( axis=1인 열축 기준 )"
   ]
  },
  {
   "cell_type": "code",
   "execution_count": 69,
   "metadata": {},
   "outputs": [
    {
     "name": "stdout",
     "output_type": "stream",
     "text": [
      "7. original:  [[ 1.  2.]\n",
      " [ 3. nan]]\n",
      "8. np.sum(axis=0):  [ 4. nan]\n",
      "9. np.sum(axis=1):  [ 3. nan]\n",
      "10. np.nansum(axis=0):  [4. 2.]\n",
      "11. np.nansum(axis=1):  [3. 3.]\n",
      "12. original:  [[1 2]\n",
      " [3 4]\n",
      " [5 6]]\n",
      "13. np.cumsum(axis=0):  [[ 1  2]\n",
      " [ 4  6]\n",
      " [ 9 12]]\n",
      "14. np.cumsum(axis=1):  [[ 1  3]\n",
      " [ 3  7]\n",
      " [ 5 11]]\n",
      "9.  1차원 배열 np.mean(arr) :  2.5\n",
      "10. 2차원 배열 np.mean(arr, axis=0):  [1. 2. 3. 4.]\n",
      "11. 2차원 배열 np.mean(arr, axis=1): [2.5 2.5]\n"
     ]
    }
   ],
   "source": [
    "# 3. np.nansum: NaN 을 0로 간주하고 배열 원소 간 합처리\n",
    "c = np.array([[1, 2], [3, np.nan]])\n",
    "print(\"7. original: \" , c )\n",
    "print(\"8. np.sum(axis=0): \" , np.sum(c , axis=0) ) # [ 4. nan]       위 + 아래\n",
    "print(\"9. np.sum(axis=1): \" , np.sum(c , axis=1) ) # [ 3. nan]       왼쪽 + 오른쪽\n",
    "print(\"10. np.nansum(axis=0): \" , np.nansum(c , axis=0) ) # [4. 2.]  위 + 아래\n",
    "print(\"11. np.nansum(axis=1): \" , np.nansum(c , axis=1) ) # [3. 3.]  왼쪽 + 오른쪽\n",
    "\n",
    "# 4. np.cumsum: 배열 원소간 누적 합하기(중요)\n",
    "c = np.array([[1, 2], [3, 4],[5,6]])\n",
    "print(\"12. original: \" , c )\n",
    "print(\"13. np.cumsum(axis=0): \", np.cumsum(c, axis=0) ) # [[ 1 2][1+3 2+4][1+3+5 2+4+6]]\n",
    "print(\"14. np.cumsum(axis=1): \", np.cumsum(c, axis=1) ) # [[ 1 1+2][3 3+4][5 5+6]]\n",
    "\n",
    "# 5. np.mean ==> 평균 (sql -> avg / python - 제공 안 됨)\n",
    "print(\"9.  1차원 배열 np.mean(arr) : \", np.mean([1, 2, 3, 4]))  # 2.5\n",
    "print(\"10. 2차원 배열 np.mean(arr, axis=0): \",\n",
    "      np.mean([[1, 2, 3, 4],[1, 2, 3, 4]], axis=0))  # [1. 2. 3. 4.]\n",
    "print(\"11. 2차원 배열 np.mean(arr, axis=1):\",\n",
    "      np.mean([[1, 2, 3, 4],[1, 2, 3, 4]], axis=1))  # [2.5 2.5]"
   ]
  },
  {
   "cell_type": "code",
   "execution_count": 73,
   "metadata": {},
   "outputs": [
    {
     "name": "stdout",
     "output_type": "stream",
     "text": [
      "[6. 8. 3. 5. 1]의 중앙값: 5.0\n",
      "[6, 8, 3, 5, 1, 9]의 중앙값: [6 8 3 5 1 9]\n",
      "12. 1차원 배열 np.var(arr):  246.5\n",
      "13. 2차원 배열 np.var(arr, axis=0):  [  2.25  49.     4.   400.  ]\n",
      "14. 2차원 배열 np.var(arr, axis=1):  [ 246.5    1037.1875]\n",
      "15. 1차원 배열 np.std(arr):  15.700318468107582 15.700318468107582\n",
      "16. 2차원 배열 np.std(arr, axis=0):  [ 1.5  7.   2.  20. ]\n",
      "17. 2차원 배열 np.std(arr, axis=1):  [15.70031847 32.20539551]\n"
     ]
    }
   ],
   "source": [
    "# 6. np.median ==> 중앙값 (내부적으로 정렬하고 가운데 있는 값을 반환)\n",
    "arr = np.array([6, 8, 3, 5, 1])\n",
    "print(\"[6. 8. 3. 5. 1]의 중앙값:\", np.median(arr))\n",
    "arr2 = np.array([6, 8, 3, 5, 1, 9])\n",
    "print(\"[6, 8, 3, 5, 1, 9]의 중앙값:\", arr2)\n",
    "\n",
    "# 7. np.var ==> 분산 ( 관측값에서 평균을 뺀값을 제곱하고 모두 더해서 갯수로 나눈다. 즉, 차이값(잔차)의 제곱의 평균이다.\n",
    "print(\"12. 1차원 배열 np.var(arr): \", np.var([1, 20, 3, 40]))  # 246.5\n",
    "print(\"13. 2차원 배열 np.var(arr, axis=0): \",\n",
    "      np.var([[1, 20, 3, 40],[4, 6, 7, 80]], axis=0))  # [  2.25  49.     4.   400.\n",
    "print(\"14. 2차원 배열 np.var(arr, axis=1): \",\n",
    "      np.var([[1, 20, 3, 40],[4, 6, 7, 80]], axis=1))  # [ 246.5    1037.1875]\n",
    "\n",
    "# 8. np.std ==> 표준 편차 ( 분산을 제곱근한 것이다. 제곱해서 값이 부풀려진 것을 다시 원래대로 복원)\n",
    "print(\"15. 1차원 배열 np.std(arr): \", np.std([1, 20, 3, 40]), np.sqrt(np.var([1, 20, 3, 40])))  # 15.700318468107582\n",
    "print(\"16. 2차원 배열 np.std(arr, axis=0): \",\n",
    "      np.std([[1, 20, 3, 40],[4, 6, 7, 80]], axis=0))  # [ 1.5  7.   2.  20. ]\n",
    "print(\"17. 2차원 배열 np.std(arr, axis=1): \",\n",
    "      np.std([[1, 20, 3, 40],[4, 6, 7, 80]], axis=1))  # [15.70031847 32.20539551]"
   ]
  },
  {
   "attachments": {},
   "cell_type": "markdown",
   "metadata": {},
   "source": [
    "###### 이항 유니버셜 함수"
   ]
  },
  {
   "cell_type": "code",
   "execution_count": 42,
   "metadata": {},
   "outputs": [
    {
     "name": "stdout",
     "output_type": "stream",
     "text": [
      "1. original:  [1 2 3 4]\n",
      "2. b+b:  [2 4 6 8]\n",
      "3. np.add(b,b):  [2 4 6 8]\n",
      "----------------------------------------------------------------------------------------------------\n",
      "1. original:  [1 2 3 4]\n",
      "2. b*2-b:  [1 2 3 4]\n",
      "3. np.subtract(b*2,b):  [1 2 3 4]\n",
      "----------------------------------------------------------------------------------------------------\n",
      "1. original:  [1 2 3 4]\n",
      "2. b*b:  [ 1  4  9 16]\n",
      "3. np.multiply(b,b):  [ 1  4  9 16]\n",
      "----------------------------------------------------------------------------------------------------\n",
      "1. original:  [1 2 3 4]\n",
      "2. b/b:  [1. 1. 1. 1.]\n",
      "3. np.divide(b,b):  [1. 1. 1. 1.]\n"
     ]
    }
   ],
   "source": [
    "# 1. np.add:  + 연산과 동일\n",
    "b = np.array([1, 2, 3, 4])\n",
    "print(\"1. original: \" , b )\n",
    "print(\"2. b+b: \" , b+b )\n",
    "print(\"3. np.add(b,b): \" , np.add(b,b) )\n",
    "print('-'*100)\n",
    "# 2. np.subtract:  - 연산과 동일\n",
    "b = np.array([1, 2, 3, 4])\n",
    "print(\"1. original: \" , b )\n",
    "print(\"2. b*2-b: \" , b*2-b )\n",
    "print(\"3. np.subtract(b*2,b): \" , np.subtract(b*2,b) )\n",
    "print('-'*100)\n",
    "# 3. np.multiply:  * 연산과 동일\n",
    "b = np.array([1, 2, 3, 4])\n",
    "print(\"1. original: \" , b )\n",
    "print(\"2. b*b: \" , b*b )\n",
    "print(\"3. np.multiply(b,b): \" , np.multiply(b,b) )\n",
    "print('-'*100)\n",
    "# 4. np.divide:  / 연산과 동일\n",
    "b = np.array([1, 2, 3, 4])\n",
    "print(\"1. original: \" , b )\n",
    "print(\"2. b/b: \" , b/b )\n",
    "print(\"3. np.divide(b,b): \" , np.divide(b,b) )"
   ]
  },
  {
   "cell_type": "code",
   "execution_count": 43,
   "metadata": {},
   "outputs": [
    {
     "name": "stdout",
     "output_type": "stream",
     "text": [
      "1. original:  [5 6 7 8]\n",
      "2. b//b2:  [1 2 2 2]\n",
      "3. np.floor_divide(b,b):  [1 2 2 2]\n",
      "----------------------------------------------------------------------------------------------------\n",
      "1. original:  [5 6 7 8]\n",
      "2. b%b2:  [2 0 1 2]\n",
      "3. np.mod(b,b2):  [2 0 1 2]\n",
      "4. np.remainder(b,b2):  [2 0 1 2]\n"
     ]
    }
   ],
   "source": [
    "# 5. np.floor_divide:  // 연산과 동일 ( 몫 연산 )\n",
    "b = np.array([5,6,7,8])\n",
    "b2 = np.array([3,3,3,3])\n",
    "print(\"1. original: \" , b ) # [5 6 7 8]\n",
    "print(\"2. b//b2: \" , b//b2 ) # [1 2 2 2]\n",
    "print(\"3. np.floor_divide(b,b): \" , np.floor_divide(b,b2) ) # [1 2 2 2]\n",
    "print('-'*100)\n",
    "# 6. np.mod:  % 연산과 동일 ( 나머지 연산 )\n",
    "b = np.array([5,6,7,8])\n",
    "b2 = np.array([3,3,3,3])\n",
    "print(\"1. original: \" , b ) # [5 6 7 8]\n",
    "print(\"2. b%b2: \" , b%b2 ) # [2 0 1 2]\n",
    "print(\"3. np.mod(b,b2): \" , np.mod(b,b2) ) # [2 0 1 2]\n",
    "print(\"4. np.remainder(b,b2): \" , np.remainder(b,b2) ) # [2 0 1 2]"
   ]
  },
  {
   "cell_type": "code",
   "execution_count": 44,
   "metadata": {},
   "outputs": [
    {
     "name": "stdout",
     "output_type": "stream",
     "text": [
      "1. original:  [5 6 7 8]\n",
      "2. np.maximum(b,b2):  [5 9 7 8]\n",
      "3. np.minimum(b,b2):  [1 6 6 8]\n",
      "4. np.greater(b,b2):  [ True False  True False]\n",
      "5. np.greater_equal(b,b2):  [ True False  True  True]\n",
      "6. np.less(b,b2):  [False  True False False]\n",
      "7. np.less_equal(b,b2):  [False  True False  True]\n",
      "8. np.equal(b,b2):  [False False False  True]\n",
      "9. np.not_equal(b,b2):  [ True  True  True False]\n",
      "----------------------------------------------------------------------------------------------------\n",
      "1. np.power: 8\n"
     ]
    }
   ],
   "source": [
    "# 7. np.maximum  인덱스별로 큰 값 반환\n",
    "b = np.array([5,6,7,8])\n",
    "b2 = np.array([1,9,6,8])\n",
    "print(\"1. original: \" , b ) # [5 6 7 8]\n",
    "print(\"2. np.maximum(b,b2): \" , np.maximum(b,b2) ) # [5 9 7 8]\n",
    "print(\"3. np.minimum(b,b2): \" , np.minimum(b,b2) ) #  [1 6 6 8]\n",
    "print(\"4. np.greater(b,b2): \" , np.greater(b,b2) ) #  [ True False  True False]\n",
    "print(\"5. np.greater_equal(b,b2): \" , np.greater_equal(b,b2) ) #  [ True False  True  True]\n",
    "print(\"6. np.less(b,b2): \" , np.less(b,b2) ) #  [False  True False False]\n",
    "print(\"7. np.less_equal(b,b2): \" , np.less_equal(b,b2) ) #  [False  True False  True]\n",
    "print(\"8. np.equal(b,b2): \" , np.equal(b,b2) ) #  [False False False  True]\n",
    "print(\"9. np.not_equal(b,b2): \" , np.not_equal(b,b2) ) #  [ True  True  True False]\n",
    "print('-'*100)\n",
    "# 8. np.power : 제곱\n",
    "print(\"1. np.power:\" , np.power(2, 3))  # 8"
   ]
  },
  {
   "attachments": {},
   "cell_type": "markdown",
   "metadata": {},
   "source": [
    "###### 문자열 유니버셜 함수\n",
    "https://numpy.org/devdocs/reference/routines.char.html#module-numpy.char"
   ]
  },
  {
   "cell_type": "code",
   "execution_count": 61,
   "metadata": {},
   "outputs": [
    {
     "name": "stdout",
     "output_type": "stream",
     "text": [
      "1. np.char.add(x1,x2): ['Hello world' 'Say something']\n",
      "2. np.char.multiply(x, 3): ['Hello Hello Hello ' 'Say Say Say ']\n",
      "3. capitalized = ['Hello world' 'Say something']\n",
      "4. lowered = ['hello world' 'say something']\n",
      "5. uppered = ['HELLO WORLD' 'SAY SOMETHING']\n",
      "6. swapcased = ['HEllO WOrlD' 'sAY SoMETHING']\n",
      "7. titlecased = ['Hello World' 'Say Something']\n"
     ]
    }
   ],
   "source": [
    "# 1. np.char.add\n",
    "x1 = np.array(['Hello', 'Say'], dtype=str)\n",
    "x2 = np.array([' world', ' something'], dtype=str)\n",
    "out = np.char.add(x1, x2)\n",
    "print(\"1. np.char.add(x1,x2):\", out) # ['Hello world' 'Say something']\n",
    "\n",
    "# 2. np.char.multiply\n",
    "x = np.array(['Hello ', 'Say '], dtype=str)\n",
    "out = np.char.multiply(x, 3)\n",
    "print(\"2. np.char.multiply(x, 3):\", out) # ['Hello Hello Hello ' 'Say Say Say ']\n",
    "\n",
    "# 2. np.char.함수\n",
    "x = np.array(['heLLo woRLd', 'Say sOmething'], dtype=str)\n",
    "capitalized = np.char.capitalize(x)\n",
    "# python\n",
    "# print('heLLo woRLd'.lower())\n",
    "# print('heLLo woRLd'.upper())\n",
    "# print('heLLo woRLd'.swapcase())\n",
    "lowered = np.char.lower(x)\n",
    "uppered = np.char.upper(x)\n",
    "swapcased = np.char.swapcase(x)\n",
    "titlecased = np.char.title(x)\n",
    "print(\"3. capitalized =\", capitalized) # ['Hello world' 'Say something']\n",
    "print(\"4. lowered =\", lowered) # ['hello world' 'say something']\n",
    "print(\"5. uppered =\", uppered) #  ['HELLO WORLD' 'SAY SOMETHING']\n",
    "print(\"6. swapcased =\", swapcased) # ['HEllO WOrlD' 'sAY SoMETHING']\n",
    "print(\"7. titlecased =\", titlecased) # ['Hello World' 'Say Something']"
   ]
  },
  {
   "cell_type": "code",
   "execution_count": 48,
   "metadata": {},
   "outputs": [
    {
     "name": "stdout",
     "output_type": "stream",
     "text": [
      "8. centered = ['____hello world_____' '___say something____']\n",
      "9. left = ['hello world_________' 'say something_______']\n",
      "10. right = ['_________hello world' '_______say something']\n",
      "11. encoded = [b'\\x88\\x85\\x93\\x93\\x96@\\xa6\\x96\\x99\\x93\\x84'\n",
      " b'\\xa2\\x81\\xa8@\\xa2\\x96\\x94\\x85\\xa3\\x88\\x89\\x95\\x87']\n",
      "12. decoded = ['hello world' 'say something']\n"
     ]
    }
   ],
   "source": [
    "# 3. np.char.center,  np.char.ljust, np.char.rjust\n",
    "x = np.array(['hello world', 'say something'], dtype=str)\n",
    "centered = np.char.center(x, 20, fillchar='_')\n",
    "left = np.char.ljust(x, 20, fillchar='_')\n",
    "right = np.char.rjust(x, 20, fillchar='_')\n",
    "\n",
    "print(\"8. centered =\", centered) # ['____hello world_____' '___say something____']\n",
    "print(\"9. left =\", left)       # ['hello world_________' 'say something_______']\n",
    "print(\"10. right =\", right)    # ['_________hello world' '_______say something']\n",
    "\n",
    "# 4. np.char.encode,  np.char.decode\n",
    "x = np.array(['hello world', 'say something'], dtype=str)\n",
    "encoded = np.char.encode(x, 'cp500')\n",
    "decoded = np.char.decode(encoded,'cp500')\n",
    "print(\"11. encoded =\", encoded) # b'\\x88\\x85\\x93\\x93\\x96@\\xa6\\x96\\x99\\x93\\x84'\n",
    "print(\"12. decoded =\", decoded) # ['hello world' 'say something']\n",
    "\n"
   ]
  },
  {
   "cell_type": "code",
   "execution_count": 62,
   "metadata": {},
   "outputs": [
    {
     "name": "stdout",
     "output_type": "stream",
     "text": [
      "13. join = ['h,e,l,l,o, ,w,o,r,l,d' 's,a,y, ,s,o,m,e,t,h,i,n,g']\n",
      "13. join = h,e,l,l,o\n",
      "13. join = ['1' '2' '3']\n",
      "14. stripped = ['hello world' 'say something']\n",
      "15. lstripped = ['hello world   ' 'say something\\n']\n",
      "16. rstripped = ['   hello world' '\\tsay something']\n",
      "16.  ['AaAaA' '  aA  ' 'bBABb']\n",
      "16.  ['AaAaA' '  aA  ' 'bBABba']\n",
      "16.  ['aAaAaA' '  aA  ' 'abBABb']\n"
     ]
    }
   ],
   "source": [
    "# 5. np.char.join\n",
    "x = np.array(['hello world', 'say something'], dtype=str)\n",
    "# python\n",
    "# print(','.join(['A', 'B']))\n",
    "out = np.char.join(\",\", x)\n",
    "print(\"13. join =\", out)  # ['h,e,l,l,o, ,w,o,r,l,d' 's,a,y, ,s,o,m,e,t,h,i,n,g']\n",
    "\n",
    "x = np.array(\"hello\", dtype=str)\n",
    "out = np.char.join(\",\", x)\n",
    "print(\"13. join =\", out) # h,e,l,l,o\n",
    "\n",
    "x = np.array([1,2,3], dtype=str)\n",
    "out = np.char.join(\",\", x)\n",
    "print(\"13. join =\", out) # ['1' '2' '3']\n",
    "\n",
    "# 5. np.char.strip => 기본은 공백제거\n",
    "x = np.array(['   hello world   ', '\\tsay something\\n'], dtype=str)\n",
    "stripped = np.char.strip(x)\n",
    "lstripped = np.char.lstrip(x)\n",
    "rstripped = np.char.rstrip(x)\n",
    "print(\"14. stripped =\", stripped) # ['hello world' 'say something']\n",
    "print(\"15. lstripped =\", lstripped) # ['hello world   ' 'say something\\n']\n",
    "print(\"16. rstripped =\", rstripped) # ['   hello world' '\\tsay something']\n",
    "\n",
    "x =np.array(['aAaAaA', '  aA  ', 'abBABba'])\n",
    "print(\"16. \", np.char.strip(x, 'a')) # ['AaAaA' '  aA  ' 'bBABb']\n",
    "print(\"16. \", np.char.lstrip(x, 'a')) # ['AaAaA' '  aA  ' 'bBABba']\n",
    "print(\"16. \", np.char.rstrip(x, 'a')) # ['aAaAaA' '  aA  ' 'abBABb']"
   ]
  },
  {
   "cell_type": "code",
   "execution_count": 54,
   "metadata": {},
   "outputs": [
    {
     "name": "stdout",
     "output_type": "stream",
     "text": [
      "17. split = [list(['Hello', 'my', 'name', 'is', 'John'])] ['Hello', 'my', 'name', 'is', 'John']\n",
      "17. split = [list(['He', 'llo', 'm', 'ynameisJ', 'ohn'])] ['He', 'llo', 'm', 'ynameisJ', 'ohn']\n",
      "18. replace = ['Jim Hello my name is John']\n",
      "\n",
      "19. find = [1 7]\n",
      "20. count = [2 0 0 0 1]\n"
     ]
    }
   ],
   "source": [
    "# 6. np.char.split ==> 기본은 공백으로 분리\n",
    "x = np.array(['Hello my name is John'], dtype=str)\n",
    "out = np.char.split(x)\n",
    "print(\"17. split =\", out, out[0]) # [list(['Hello', 'my', 'name', 'is', 'John'])] Hello\n",
    "\n",
    "x = np.array(['He/llo/m/ynameisJ/ohn'], dtype=str)\n",
    "out = np.char.split(x, '/')\n",
    "print(\"17. split =\", out, out[0])\n",
    "\n",
    "# 7. np.char.replace ==> 기본적으로 모두 변경됨. count지정하여 변경갯수 설정가능\n",
    "x = np.array(['John Hello my name is John'], dtype=str)\n",
    "out = np.char.replace(x, \"John\", \"Jim\", count=1)\n",
    "print(\"18. replace =\", out) # ['Hello my name is Jim']\n",
    "print()\n",
    "\n",
    "# 8. np.char.find\n",
    "x = np.array(['hello world', 'say something'], dtype=str)\n",
    "out = np.char.find(x, 'e')  # 'e' 문자의 인덱스 값 반환\n",
    "print(\"19. find =\", out) # [1 7]\n",
    "\n",
    "# 9. np.char.count\n",
    "x = np.array(['Hello', 'my', 'name', 'is', 'Lily'], dtype=str)\n",
    "out = np.char.count(x, \"l\")\n",
    "print(\"20. count =\", out) # [2 0 0 0 1]"
   ]
  },
  {
   "cell_type": "code",
   "execution_count": 55,
   "metadata": {},
   "outputs": [
    {
     "name": "stdout",
     "output_type": "stream",
     "text": [
      "21. startswith = [False  True  True  True]\n",
      "22. endswith = [False  True False  True]\n",
      "[ True  True  True  True False]\n",
      "[False False False False  True]\n",
      "Digits only = [False False False  True False False]\n",
      "Lower cases only = [False False  True False  True  True]\n",
      "Upper cases only = [False  True False False False False]\n",
      "Alpha cases only = [ True  True  True False  True  True]\n"
     ]
    }
   ],
   "source": [
    "# 10. np.char.startswith\n",
    "x = np.array(['he', 'his', 'him', 'his'], dtype=str)\n",
    "out = np.char.startswith(x, \"hi\")\n",
    "print(\"21. startswith =\", out) # [False  True  True  True]\n",
    "\n",
    "# 11. np.char.endswith\n",
    "x = np.array(['he', 'his', 'him', 'his'], dtype=str)\n",
    "out = np.char.endswith(x, \"s\")\n",
    "print(\"22. endswith =\", out) # [False  True False  True]\n",
    "\n",
    "# 12. np.char.equal , np.char.not_equal\n",
    "x1 = np.array(['Hello', 'my', 'name', 'is', 'John'], dtype=str)\n",
    "x2 = np.array(['Hello', 'my', 'name', 'is', 'Jim'], dtype=str)\n",
    "out = np.char.equal(x1, x2)\n",
    "print(out)  # [ True  True  True  True False]\n",
    "\n",
    "x1 = np.array(['Hello', 'my', 'name', 'is', 'John'], dtype=str)\n",
    "x2 = np.array(['Hello', 'my', 'name', 'is', 'Jim'], dtype=str)\n",
    "out = np.char.not_equal(x1, x2)\n",
    "print(out)  # [False False False False  True]\n",
    "\n",
    "#  13. isdigit, islower, isupper\n",
    "x = np.array(['Hello', 'I', 'am', '20', 'years', 'old'], dtype=np.str_)\n",
    "out1 = np.char.isdigit(x)\n",
    "out2 = np.char.islower(x)\n",
    "out3 = np.char.isupper(x)\n",
    "out4 = np.char.isalpha(x)\n",
    "print(\"Digits only =\", out1) # [False False False  True False False]\n",
    "print(\"Lower cases only =\", out2)  # [False False  True False  True  True]\n",
    "print(\"Upper cases only =\", out3)  # [False  True False False False False]\n",
    "print(\"Alpha cases only =\", out4) # [ True  True  True False  True  True]"
   ]
  },
  {
   "attachments": {},
   "cell_type": "markdown",
   "metadata": {},
   "source": [
    "##### 유틸리티 함수"
   ]
  },
  {
   "cell_type": "code",
   "execution_count": 66,
   "metadata": {},
   "outputs": [
    {
     "name": "stdout",
     "output_type": "stream",
     "text": [
      "1. original:  [1 2 3 4]\n",
      "2. np.prod(arr):  24\n",
      "3. original:\n",
      " [[1 2]\n",
      " [3 4]\n",
      " [5 6]]\n",
      "4. np.prod(axis=0):  [15 48]\n",
      "5. np.prod(axis=1):  [ 2 12 30]\n"
     ]
    }
   ],
   "source": [
    "# 1. np.prod: 1차원 배열 원소간 곱계산인 product\n",
    "b = np.array([1, 2, 3, 4])\n",
    "print(\"1. original: \" , b ) # [1 2 3 4]\n",
    "print(\"2. np.prod(arr): \" , np.prod(b) ) # 1*2*3*4 = 24\n",
    "\n",
    "# 2. np.prod: 2차원 배열 원소간 곱계산인 product\n",
    "c = np.array([[1, 2], [3, 4],[5,6]])\n",
    "print(\"3. original:\\n\" , c )\n",
    "print(\"4. np.prod(axis=0): \" , np.prod(c , axis=0) ) # [15 48]    위 * 아래 ( axis=0 인 행축 기준 )\n",
    "print(\"5. np.prod(axis=1): \" , np.prod(c , axis=1) ) # [ 2 12 30] 왼쪽 * 오른쪽 ( axis=1인 열축 기준 )"
   ]
  },
  {
   "cell_type": "code",
   "execution_count": 65,
   "metadata": {},
   "outputs": [
    {
     "name": "stdout",
     "output_type": "stream",
     "text": [
      "6.original:  [[ 1.  2.]\n",
      " [ 3. nan]]\n",
      "7. np.prod(axis=0):  [ 3. nan]\n",
      "8. np.prod(axis=1):  [ 2. nan]\n",
      "9. np.nanprod(axis=0):  [3. 2.]\n",
      "10. np.nanprod(axis=1):  [2. 3.]\n",
      "11. original:  [[1 2]\n",
      " [3 4]\n",
      " [5 6]]\n",
      "12. np.cumprod(axis=0):  [[ 1  2]\n",
      " [ 3  8]\n",
      " [15 48]]\n",
      "13. np.cumprod(axis=1):  [[ 1  2]\n",
      " [ 3 12]\n",
      " [ 5 30]]\n"
     ]
    }
   ],
   "source": [
    "# 3. np.nanprod: NaN 을 1로 간주하고 배열 원소 간 곱처리\n",
    "c = np.array([[1, 2], [3, np.nan]])\n",
    "print(\"6.original: \" , c )\n",
    "print(\"7. np.prod(axis=0): \" , np.prod(c , axis=0) ) # [ 3. nan]      위 * 아래 ( axis=0 인 행축 기준 )\n",
    "print(\"8. np.prod(axis=1): \" , np.prod(c , axis=1) ) # [ 2. nan]      왼쪽 * 오른쪽 ( axis=1인 열축 기준 )\n",
    "print(\"9. np.nanprod(axis=0): \" , np.nanprod(c , axis=0) ) # [3. 2.]  위 * 아래\n",
    "print(\"10. np.nanprod(axis=1): \" , np.nanprod(c , axis=1) ) # [2. 3.] 왼쪽 * 오른쪽\n",
    "\n",
    "# 4. np.cumprod: 배열 원소간 누적 곱하기\n",
    "c = np.array([[1, 2], [3, 4],[5,6]])\n",
    "print(\"11. original: \" , c )\n",
    "print(\"12. np.cumprod(axis=0): \", np.cumprod(c, axis=0)) # [[ 1 2][ 1*3 2*4] [1*3*5 2*4*6]]\n",
    "print(\"13. np.cumprod(axis=1): \", np.cumprod(c, axis=1)) # [[ 1 1*2] [3 3*4] [5 5*6]]"
   ]
  },
  {
   "cell_type": "code",
   "execution_count": 76,
   "metadata": {},
   "outputs": [
    {
     "name": "stdout",
     "output_type": "stream",
     "text": [
      "1. 1차원 배열 np.max(arr):  10\n",
      "2. 1차원 배열 np.min(arr):  1\n",
      "[[ 0  1  2  3]\n",
      " [ 4  5  6  7]\n",
      " [ 8  9 10 11]\n",
      " [12 13 14 15]]\n",
      "3. 2차원 배열, 각 열에서 최대값: [12 13 14 15]\n",
      "4. 2차원 배열, 각 열에서 최소값: [0 1 2 3]\n",
      "5. 2차원 배열, 각 행에서 최대값: [ 3  7 11 15]\n",
      "6. 2차원 배열, 각 행에서 최소값: [ 0  4  8 12]\n",
      "1. 1차원 배열 최대 index값:  10 4\n",
      "2. 1차원 배열 최소 index값:  1 5\n",
      "[[ 6  2  4]\n",
      " [10  1 54]\n",
      " [66  3 21]]\n",
      "3. 2차원 배열, 각 열에서 최대 index값: [2 2 1]\n",
      "4. 2차원 배열, 각 열에서 최소 index값: [0 1 0]\n",
      "5. 2차원 배열, 각 행에서 최대 index값: [0 2 0]\n",
      "6. 2차원 배열, 각 행에서 최소 index값: [1 1 1]\n"
     ]
    }
   ],
   "source": [
    "# 5. 최대/최소값\n",
    "data = np.array([8,2,4,5,10,1])\n",
    "print(\"1. 1차원 배열 np.max(arr): \" , np.max(data))\n",
    "print(\"2. 1차원 배열 np.min(arr): \" , np.min(data))\n",
    "\n",
    "data = np.array(np.arange(16).reshape(4,4))\n",
    "print(data)\n",
    "print(\"3. 2차원 배열, 각 열에서 최대값:\" , np.max(data,  axis=0)) # [12 13 14 15]\n",
    "print(\"4. 2차원 배열, 각 열에서 최소값:\" , np.min(data,  axis=0 )) # [0 1 2 3]\n",
    "print(\"5. 2차원 배열, 각 행에서 최대값:\" , np.max(data,  axis=1)) # [ 3  7 11 15]\n",
    "print(\"6. 2차원 배열, 각 행에서 최소값:\" , np.min(data,  axis=1 )) # [ 0  4  8 12]\n",
    "\n",
    "# 6.  최대/최소값에 해당하는 인덱스 반환\n",
    "data = np.array([8,2,4,5,10,1])\n",
    "print(\"1. 1차원 배열 최대 index값: \" , np.max(data), np.argmax(data)) # 10 4\n",
    "print(\"2. 1차원 배열 최소 index값: \" , np.min(data), np.argmin(data)) # 1  5\n",
    "\n",
    "data = np.array([[6,2,4],[10,1,54],[66,3,21]])\n",
    "print(data)\n",
    "print(\"3. 2차원 배열, 각 열에서 최대 index값:\" , np.argmax(data,  axis=0)) # [2 2 1]\n",
    "print(\"4. 2차원 배열, 각 열에서 최소 index값:\" , np.argmin(data,  axis=0 )) # [0 1 0]\n",
    "print(\"5. 2차원 배열, 각 행에서 최대 index값:\" , np.argmax(data,  axis=1)) # [0 2 0]\n",
    "print(\"6. 2차원 배열, 각 행에서 최소 index값:\" , np.argmin(data,  axis=1 )) # [1 1 1]"
   ]
  },
  {
   "cell_type": "code",
   "execution_count": 77,
   "metadata": {},
   "outputs": [
    {
     "name": "stdout",
     "output_type": "stream",
     "text": [
      "1. 1차원 배열 sort 전:  [ 8  2  4  5 10  1]\n",
      "2. 1차원 배열 sort 후(오름차순):  [ 1  2  4  5  8 10]\n",
      "3. 1차원 배열 sort 후(내림차순):  [10  8  5  4  2  1]\n",
      "\n",
      "6. axis=None(flattened): [  1   2   4   5   8  10  33  66  67  77  90 100]\n",
      "\n",
      "[[  8   2   4]\n",
      " [ 99  44  33]\n",
      " [100  67  77]]\n",
      "[[  2   4   8]\n",
      " [ 33  67 100]\n",
      " [ 44  77  99]]\n"
     ]
    }
   ],
   "source": [
    "# Python에서의 정렬\n",
    "# 1. sorted(값)\n",
    "#  - __builtins__객체의 함수\n",
    "#  - 정렬된 복사본 반환\n",
    "    \n",
    "# 2. 객체.sort(reverse=True)\n",
    "#  - 객체의 함수\n",
    "#  - 자신이 정렬\n",
    "\n",
    "# 7.  1차원 정렬 - 내림차순으로 반환해주는 파라미터가 없음\n",
    "\n",
    "data = np.array([8,2,4,5,10,1])\n",
    "print(\"1. 1차원 배열 sort 전: \",data) # [ 8  2  4  5 10  1]\n",
    "print(\"2. 1차원 배열 sort 후(오름차순): \",np.sort(data)) # [ 1  2  4  5  8 10]\n",
    "print(\"3. 1차원 배열 sort 후(내림차순): \",np.sort(data)[::-1]) # [10  8  5  4  2  1]\n",
    "print()\n",
    "\n",
    "# 8. 2차원 정렬\n",
    "data = np.array([[8,2,4,5,10,1],[100,67,33,77,66,90]])\n",
    "\n",
    "data3 = np.sort(data, axis=None) # flattened\n",
    "print(\"6. axis=None(flattened):\", data3) # [  1   2   4   5   8  10  33  66  67  77  90 100]\n",
    "print()\n",
    "arr = np.array([[8,2,4],[100,67,33],[99,44,77]])\n",
    "# [[  8   2   4]\n",
    "#  [100  67  33]\n",
    "#  [ 99  44  77]]\n",
    "data4 = np.sort(arr, axis=0) # 컬럼단위로 정렬\n",
    "print(data4)\n",
    "# [[  8   2   4]\n",
    "#  [ 99  44  33]\n",
    "#  [100  67  77]]\n",
    "data4 = np.sort(arr, axis=1)  # 행단위로 정렬\n",
    "print(data4)\n",
    "# [[  2   4   8]\n",
    "#  [ 33  67 100]\n",
    "#  [ 44  77  99]]"
   ]
  },
  {
   "cell_type": "code",
   "execution_count": 81,
   "metadata": {},
   "outputs": [
    {
     "name": "stdout",
     "output_type": "stream",
     "text": [
      "1. 모든 값이 True 냐?:  True\n",
      "2. np.all(arr):  False\n",
      "3. np.any(arr):  True\n",
      "[False False  True  True]\n",
      "all a>b ?: False\n",
      "any a>b ?: True\n"
     ]
    }
   ],
   "source": [
    "# 5. np.all, np.any ==> 논리값을 가진 다차원 배열을 하나의 논리값으로 처리할 때 사용\n",
    "print(\"1. 모든 값이 True 냐?: \", np.all([True, True])) #  True\n",
    "x = np.array([1,0,0,0])\n",
    "print(\"2. np.all(arr): \", np.all(x)) #  False\n",
    "print(\"3. np.any(arr): \", np.any(x)) #  True\n",
    "\n",
    "# 6. np.all, np.any 활용\n",
    "a = np.array([1, 2, 3, 4])\n",
    "b = np.array([4, 3, 2, 1])\n",
    "print(a>b)\n",
    "print(\"all a>b ?:\", np.all(a > b)) # False\n",
    "print(\"any a>b ?:\", np.any(a > b)) # False"
   ]
  },
  {
   "cell_type": "code",
   "execution_count": 82,
   "metadata": {},
   "outputs": [
    {
     "name": "stdout",
     "output_type": "stream",
     "text": [
      "1. original:  [[ 0  1  2  3  4]\n",
      " [ 5  6  7  8  9]\n",
      " [10 11 12 13 14]]\n",
      "\n",
      "2. T: [[ 0  5 10]\n",
      " [ 1  6 11]\n",
      " [ 2  7 12]\n",
      " [ 3  8 13]\n",
      " [ 4  9 14]]\n",
      "3. transpose() [[ 0  5 10]\n",
      " [ 1  6 11]\n",
      " [ 2  7 12]\n",
      " [ 3  8 13]\n",
      " [ 4  9 14]]\n",
      "1. original:  [[0 1]\n",
      " [2 3]]\n",
      "2. np.dot(arr, arr2) - 행렬곱:   [[ 2  3]\n",
      " [ 6 11]]\n",
      "4. arr @ arr2) - 행렬곱:   [[ 2  3]\n",
      " [ 6 11]]\n",
      "5. 벡터 내적:  14\n"
     ]
    }
   ],
   "source": [
    "# 7. 전치  (Transpose)\n",
    "arr = np.arange(15).reshape(3,5)\n",
    "print(\"1. original: \", arr)\n",
    "print()\n",
    "print(\"2. T:\", arr.T)  # Transpose\n",
    "print(\"3. transpose()\",arr.transpose())  # Transpose\n",
    "\n",
    "# 8. 행렬곱( dot product(점곱), 곱해서 합 ) ==>  np.dot(a,b),  a @ b (중요)\n",
    "'''\n",
    "  벡터 내적: 1차원인 벡터간의 곱연산후 합 의미\n",
    "  행렬곱(점곱, dot product): 행렬간의 곱연산후 합 의미\n",
    "'''\n",
    "arr = np.arange(4).reshape(2,2)\n",
    "print(\"1. original: \",arr)\n",
    "print(\"2. np.dot(arr, arr2) - 행렬곱:  \",  np.dot(arr,arr))\n",
    "print(\"4. arr @ arr2) - 행렬곱:  \",  arr @ arr )\n",
    "arr = np.arange(4)\n",
    "print(\"5. 벡터 내적: \", np.dot(arr, arr)) # 0*0 + 1*1 + 2*2 + 3*3 = 14"
   ]
  },
  {
   "attachments": {},
   "cell_type": "markdown",
   "metadata": {},
   "source": [
    "#### 차원 변경"
   ]
  },
  {
   "cell_type": "code",
   "execution_count": 90,
   "metadata": {},
   "outputs": [
    {
     "name": "stdout",
     "output_type": "stream",
     "text": [
      "[1 2 3] (3,)\n",
      "[[1 2 3]] (1, 3)\n",
      "----------------------------------------------------------------------------------------------------\n",
      "[[1 2 3]] (1, 3)\n",
      "----------------------------------------------------------------------------------------------------\n",
      "[[1 2 3]] (1, 3)\n"
     ]
    }
   ],
   "source": [
    "# 차원 증가\n",
    "# 1) reshape((행, 열))\n",
    "arr1D = np.array([1, 2, 3])\n",
    "print(arr1D, arr1D.shape)\n",
    "\n",
    "arr2D = arr1D.reshape((1, -1)) # (1, 3)\n",
    "print(arr2D, arr2D.shape)\n",
    "print('-'*100)\n",
    "\n",
    "# 2) np.expand_dims(arr1D, axis=0)\n",
    "arr1D = np.array([1, 2, 3])\n",
    "arr2D = np.expand_dims(arr1D, axis=0)\n",
    "print(arr2D, arr2D.shape)\n",
    "print('-'*100)\n",
    "\n",
    "# 3) arr1D[np.newaxis, …(:)] -> 최근 많이 사용\n",
    "arr1D = np.array([1, 2, 3])\n",
    "arr2D = arr1D[np.newaxis, :]\n",
    "print(arr2D, arr2D.shape)"
   ]
  },
  {
   "cell_type": "code",
   "execution_count": 106,
   "metadata": {},
   "outputs": [
    {
     "name": "stdout",
     "output_type": "stream",
     "text": [
      "[[0 1 2]] (1, 3)\n",
      "[0 1 2] (3,)\n",
      "----------------------------------------------------------------------------------------------------\n",
      "[[100   1   2]]\n",
      "flatten: [0 1 2]\n",
      "ravel: [100   1   2]\n"
     ]
    }
   ],
   "source": [
    "# 차원 감소\n",
    "# 1) np.squeeze(arr2D, axis=0): n차원 -> n-1차원\n",
    "arr2D = np.arange(3).reshape(1, 3)\n",
    "print(arr2D, arr2D.shape)\n",
    "arr1D = np.squeeze(arr2D, axis=0)\n",
    "print(arr1D, arr1D.shape)\n",
    "print('-'*100)\n",
    "\n",
    "# 2) arrND.flatten(): n차원 -> 1차원, 복사본 반환(원본 영향 X)\n",
    "# 3) arrND.ravel(): n차원 -> 1차원, view 반환(원본 영향 O)\n",
    "xxx = arr2D.flatten()   # 복사본 반환\n",
    "yyy = arr2D.ravel()     # 원본과 연결\n",
    "\n",
    "arr2D[0, 0] = 100\n",
    "print(arr2D)\n",
    "print(\"flatten:\", xxx)\n",
    "print('ravel:', yyy)"
   ]
  },
  {
   "cell_type": "code",
   "execution_count": 4,
   "metadata": {},
   "outputs": [
    {
     "name": "stdout",
     "output_type": "stream",
     "text": [
      "색인1: [1 4]\n",
      "색인2: [[1]\n",
      " [4]]\n",
      "[[100 200   1   2   3]\n",
      " [100 200   4   5   6]]\n",
      "[[100   1   2   3]\n",
      " [200   4   5   6]]\n"
     ]
    },
    {
     "data": {
      "text/plain": [
       "'\\n[[100   1   2   3]\\n [200   4   5   6]]\\n'"
      ]
     },
     "execution_count": 4,
     "metadata": {},
     "output_type": "execute_result"
    }
   ],
   "source": [
    "arr = np.array([[1,2,3],[4,5,6]])\n",
    "'''\n",
    "[[1 2 3]\n",
    " [4 5 6]]\n",
    "'''\n",
    "print(\"색인1:\", arr[..., 0])\n",
    "print(\"색인2:\", arr[..., [0]])\n",
    "\n",
    "xxx = np.insert(arr, 0,  [[100],[200]], axis=1)\n",
    "print(xxx)\n",
    "'''\n",
    "[[100 200   1   2   3]\n",
    " [100 200   4   5   6]]\n",
    "'''\n",
    "xxx = np.insert(arr, [0], [[100],[200]], axis=1)\n",
    "print(xxx)\n",
    "'''\n",
    "[[100   1   2   3]\n",
    " [200   4   5   6]]\n",
    "'''"
   ]
  }
 ],
 "metadata": {
  "kernelspec": {
   "display_name": "Python 3",
   "language": "python",
   "name": "python3"
  },
  "language_info": {
   "codemirror_mode": {
    "name": "ipython",
    "version": 3
   },
   "file_extension": ".py",
   "mimetype": "text/x-python",
   "name": "python",
   "nbconvert_exporter": "python",
   "pygments_lexer": "ipython3",
   "version": "3.11.3"
  },
  "orig_nbformat": 4
 },
 "nbformat": 4,
 "nbformat_minor": 2
}
