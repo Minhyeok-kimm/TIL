{
 "cells": [
  {
   "attachments": {},
   "cell_type": "markdown",
   "metadata": {},
   "source": [
    "## 6/12(월)"
   ]
  },
  {
   "attachments": {},
   "cell_type": "markdown",
   "metadata": {},
   "source": [
    "### Pandas 작동 확인"
   ]
  },
  {
   "cell_type": "code",
   "execution_count": 2,
   "metadata": {},
   "outputs": [],
   "source": [
    "import pandas as pd\n",
    "import numpy as np"
   ]
  },
  {
   "cell_type": "code",
   "execution_count": 3,
   "metadata": {},
   "outputs": [
    {
     "name": "stdout",
     "output_type": "stream",
     "text": [
      "2.0.1\n"
     ]
    }
   ],
   "source": [
    "print(pd.__version__)"
   ]
  },
  {
   "attachments": {},
   "cell_type": "markdown",
   "metadata": {},
   "source": [
    "### Pandas 메서드"
   ]
  },
  {
   "cell_type": "code",
   "execution_count": 4,
   "metadata": {},
   "outputs": [
    {
     "name": "stdout",
     "output_type": "stream",
     "text": [
      "['ArrowDtype', 'BooleanDtype', 'Categorical', 'CategoricalDtype', 'CategoricalIndex', 'DataFrame', 'DateOffset', 'DatetimeIndex', 'DatetimeTZDtype', 'ExcelFile', 'ExcelWriter', 'Flags', 'Float32Dtype', 'Float64Dtype', 'Grouper', 'HDFStore', 'Index', 'IndexSlice', 'Int16Dtype', 'Int32Dtype', 'Int64Dtype', 'Int8Dtype', 'Interval', 'IntervalDtype', 'IntervalIndex', 'MultiIndex', 'NA', 'NaT', 'NamedAgg', 'Period', 'PeriodDtype', 'PeriodIndex', 'RangeIndex', 'Series', 'SparseDtype', 'StringDtype', 'Timedelta', 'TimedeltaIndex', 'Timestamp', 'UInt16Dtype', 'UInt32Dtype', 'UInt64Dtype', 'UInt8Dtype', '__all__', '__builtins__', '__cached__', '__doc__', '__docformat__', '__file__', '__git_version__', '__loader__', '__name__', '__package__', '__path__', '__spec__', '__version__', '_config', '_is_numpy_dev', '_libs', '_testing', '_typing', '_version', 'annotations', 'api', 'array', 'arrays', 'bdate_range', 'compat', 'concat', 'core', 'crosstab', 'cut', 'date_range', 'describe_option', 'errors', 'eval', 'factorize', 'from_dummies', 'get_dummies', 'get_option', 'infer_freq', 'interval_range', 'io', 'isna', 'isnull', 'json_normalize', 'lreshape', 'melt', 'merge', 'merge_asof', 'merge_ordered', 'notna', 'notnull', 'offsets', 'option_context', 'options', 'pandas', 'period_range', 'pivot', 'pivot_table', 'plotting', 'qcut', 'read_clipboard', 'read_csv', 'read_excel', 'read_feather', 'read_fwf', 'read_gbq', 'read_hdf', 'read_html', 'read_json', 'read_orc', 'read_parquet', 'read_pickle', 'read_sas', 'read_spss', 'read_sql', 'read_sql_query', 'read_sql_table', 'read_stata', 'read_table', 'read_xml', 'reset_option', 'set_eng_float_format', 'set_option', 'show_versions', 'test', 'testing', 'timedelta_range', 'to_datetime', 'to_numeric', 'to_pickle', 'to_timedelta', 'tseries', 'unique', 'util', 'value_counts', 'wide_to_long']\n"
     ]
    }
   ],
   "source": [
    "print(dir(pd))\n",
    "\n",
    "# 'ArrowDtype', 'BooleanDtype', 'Categorical', 'CategoricalDtype', 'CategoricalIndex', 'DataFrame', 'DateOffset',\n",
    "# 'DatetimeIndex', 'DatetimeTZDtype', 'ExcelFile', 'ExcelWriter', 'Flags', 'Float32Dtype', 'Float64Dtype',\n",
    "# 'Grouper', 'HDFStore', 'Index', 'IndexSlice', 'Int16Dtype', 'Int32Dtype', 'Int64Dtype', 'Int8Dtype', 'Interval',\n",
    "# 'IntervalDtype', 'IntervalIndex', 'MultiIndex', 'NA', 'NaT', 'NamedAgg', 'Period', 'PeriodDtype', 'PeriodIndex',\n",
    "# 'RangeIndex', 'Series', 'SparseDtype', 'StringDtype', 'Timedelta', 'TimedeltaIndex', 'Timestamp', 'UInt16Dtype',\n",
    "# 'UInt32Dtype', 'UInt64Dtype', 'UInt8Dtype', '__all__', '__builtins__', '__cached__', '__doc__', '__docformat__',\n",
    "# '__file__', '__git_version__', '__loader__', '__name__', '__package__', '__path__', '__spec__', '__version__',\n",
    "# '_config', '_is_numpy_dev', '_libs', '_testing', '_typing', '_version',\n",
    "\n",
    "# 'annotations', 'api', 'array', 'arrays', 'bdate_range', 'compat', 'concat', 'core', 'crosstab', 'cut',\n",
    "# 'date_range', 'describe_option', 'errors', 'eval', 'factorize', 'from_dummies', 'get_dummies', 'get_option',\n",
    "# 'infer_freq', 'interval_range', 'io', 'isna', 'isnull', 'json_normalize', 'lreshape', 'melt', 'merge',\n",
    "# 'merge_asof', 'merge_ordered', 'notna', 'notnull', 'offsets', 'option_context', 'options', 'pandas',\n",
    "# 'period_range', 'pivot', 'pivot_table', 'plotting', 'qcut', 'read_clipboard', 'read_csv', 'read_excel',\n",
    "# 'read_feather', 'read_fwf', 'read_gbq', 'read_hdf', 'read_html', 'read_json', 'read_orc', 'read_parquet',\n",
    "# 'read_pickle', 'read_sas', 'read_spss', 'read_sql', 'read_sql_query', 'read_sql_table', 'read_stata',\n",
    "# 'read_table', 'read_xml', 'reset_option', 'set_eng_float_format', 'set_option', 'show_versions', 'test',\n",
    "# 'testing', 'timedelta_range', 'to_datetime', 'to_numeric', 'to_pickle', 'to_timedelta', 'tseries', 'unique',\n",
    "# 'util', 'value_counts', 'wide_to_long'"
   ]
  },
  {
   "cell_type": "code",
   "execution_count": 6,
   "metadata": {},
   "outputs": [
    {
     "name": "stdout",
     "output_type": "stream",
     "text": [
      "['T', '_AXIS_LEN', '_AXIS_ORDERS', '_AXIS_TO_AXIS_NUMBER', '_HANDLED_TYPES', '__abs__', '__add__', '__and__', '__annotations__', '__array__', '__array_priority__', '__array_ufunc__', '__bool__', '__class__', '__contains__', '__copy__', '__dataframe__', '__deepcopy__', '__delattr__', '__delitem__', '__dict__', '__dir__', '__divmod__', '__doc__', '__eq__', '__finalize__', '__floordiv__', '__format__', '__ge__', '__getattr__', '__getattribute__', '__getitem__', '__getstate__', '__gt__', '__hash__', '__iadd__', '__iand__', '__ifloordiv__', '__imod__', '__imul__', '__init__', '__init_subclass__', '__invert__', '__ior__', '__ipow__', '__isub__', '__iter__', '__itruediv__', '__ixor__', '__le__', '__len__', '__lt__', '__matmul__', '__mod__', '__module__', '__mul__', '__ne__', '__neg__', '__new__', '__nonzero__', '__or__', '__pos__', '__pow__', '__radd__', '__rand__', '__rdivmod__', '__reduce__', '__reduce_ex__', '__repr__', '__rfloordiv__', '__rmatmul__', '__rmod__', '__rmul__', '__ror__', '__round__', '__rpow__', '__rsub__', '__rtruediv__', '__rxor__', '__setattr__', '__setitem__', '__setstate__', '__sizeof__', '__str__', '__sub__', '__subclasshook__', '__truediv__', '__weakref__', '__xor__', '_accessors', '_accum_func', '_add_numeric_operations', '_agg_examples_doc', '_agg_summary_and_see_also_doc', '_align_frame', '_align_series', '_append', '_arith_method', '_as_manager', '_box_col_values', '_can_fast_transpose', '_check_inplace_and_allows_duplicate_labels', '_check_inplace_setting', '_check_is_chained_assignment_possible', '_check_label_or_level_ambiguity', '_check_setitem_copy', '_clear_item_cache', '_clip_with_one_bound', '_clip_with_scalar', '_cmp_method', '_combine_frame', '_consolidate', '_consolidate_inplace', '_construct_axes_dict', '_construct_result', '_constructor', '_constructor_sliced', '_create_data_for_split_and_tight_to_dict', '_data', '_dir_additions', '_dir_deletions', '_dispatch_frame_op', '_drop_axis', '_drop_labels_or_levels', '_ensure_valid_index', '_find_valid_index', '_from_arrays', '_get_agg_axis', '_get_axis', '_get_axis_name', '_get_axis_number', '_get_axis_resolvers', '_get_block_manager_axis', '_get_bool_data', '_get_cleaned_column_resolvers', '_get_column_array', '_get_index_resolvers', '_get_item_cache', '_get_label_or_level_values', '_get_numeric_data', '_get_value', '_getitem_bool_array', '_getitem_multilevel', '_getitem_nocopy', '_gotitem', '_hidden_attrs', '_indexed_same', '_info_axis', '_info_axis_name', '_info_axis_number', '_info_repr', '_init_mgr', '_inplace_method', '_internal_names', '_internal_names_set', '_is_copy', '_is_homogeneous_type', '_is_label_or_level_reference', '_is_label_reference', '_is_level_reference', '_is_mixed_type', '_is_view', '_iset_item', '_iset_item_mgr', '_iset_not_inplace', '_iter_column_arrays', '_ixs', '_join_compat', '_logical_func', '_logical_method', '_maybe_cache_changed', '_maybe_update_cacher', '_metadata', '_min_count_stat_function', '_needs_reindex_multi', '_protect_consolidate', '_reduce', '_reduce_axis1', '_reindex_axes', '_reindex_columns', '_reindex_index', '_reindex_multi', '_reindex_with_indexers', '_rename', '_replace_columnwise', '_repr_data_resource_', '_repr_fits_horizontal_', '_repr_fits_vertical_', '_repr_html_', '_repr_latex_', '_reset_cache', '_reset_cacher', '_sanitize_column', '_series', '_set_axis', '_set_axis_name', '_set_axis_nocheck', '_set_is_copy', '_set_item', '_set_item_frame_value', '_set_item_mgr', '_set_value', '_setitem_array', '_setitem_frame', '_setitem_slice', '_slice', '_stat_axis', '_stat_axis_name', '_stat_axis_number', '_stat_function', '_stat_function_ddof', '_take', '_take_with_is_copy', '_to_dict_of_blocks', '_to_latex_via_styler', '_typ', '_update_inplace', '_validate_dtype', '_values', '_where', 'abs', 'add', 'add_prefix', 'add_suffix', 'agg', 'aggregate', 'align', 'all', 'any', 'apply', 'applymap', 'asfreq', 'asof', 'assign', 'astype', 'at', 'at_time', 'attrs', 'axes', 'backfill', 'between_time', 'bfill', 'bool', 'boxplot', 'clip', 'columns', 'combine', 'combine_first', 'compare', 'convert_dtypes', 'copy', 'corr', 'corrwith', 'count', 'cov', 'cummax', 'cummin', 'cumprod', 'cumsum', 'describe', 'diff', 'div', 'divide', 'dot', 'drop', 'drop_duplicates', 'droplevel', 'dropna', 'dtypes', 'duplicated', 'empty', 'eq', 'equals', 'eval', 'ewm', 'expanding', 'explode', 'ffill', 'fillna', 'filter', 'first', 'first_valid_index', 'flags', 'floordiv', 'from_dict', 'from_records', 'ge', 'get', 'groupby', 'gt', 'head', 'hist', 'iat', 'idxmax', 'idxmin', 'iloc', 'index', 'infer_objects', 'info', 'insert', 'interpolate', 'isetitem', 'isin', 'isna', 'isnull', 'items', 'iterrows', 'itertuples', 'join', 'keys', 'kurt', 'kurtosis', 'last', 'last_valid_index', 'le', 'loc', 'lt', 'mask', 'max', 'mean', 'median', 'melt', 'memory_usage', 'merge', 'min', 'mod', 'mode', 'mul', 'multiply', 'ndim', 'ne', 'nlargest', 'notna', 'notnull', 'nsmallest', 'nunique', 'pad', 'pct_change', 'pipe', 'pivot', 'pivot_table', 'plot', 'pop', 'pow', 'prod', 'product', 'quantile', 'query', 'radd', 'rank', 'rdiv', 'reindex', 'reindex_like', 'rename', 'rename_axis', 'reorder_levels', 'replace', 'resample', 'reset_index', 'rfloordiv', 'rmod', 'rmul', 'rolling', 'round', 'rpow', 'rsub', 'rtruediv', 'sample', 'select_dtypes', 'sem', 'set_axis', 'set_flags', 'set_index', 'shape', 'shift', 'size', 'skew', 'sort_index', 'sort_values', 'sparse', 'squeeze', 'stack', 'std', 'style', 'sub', 'subtract', 'sum', 'swapaxes', 'swaplevel', 'tail', 'take', 'to_clipboard', 'to_csv', 'to_dict', 'to_excel', 'to_feather', 'to_gbq', 'to_hdf', 'to_html', 'to_json', 'to_latex', 'to_markdown', 'to_numpy', 'to_orc', 'to_parquet', 'to_period', 'to_pickle', 'to_records', 'to_sql', 'to_stata', 'to_string', 'to_timestamp', 'to_xarray', 'to_xml', 'transform', 'transpose', 'truediv', 'truncate', 'tz_convert', 'tz_localize', 'unstack', 'update', 'value_counts', 'values', 'var', 'where', 'xs']\n"
     ]
    }
   ],
   "source": [
    "print(dir(pd.DataFrame))\n",
    "\n",
    "# 'T', 'abs', 'add', 'add_prefix', 'add_suffix', 'agg', 'aggregate', 'align', 'all', 'any', 'apply', 'applymap',\n",
    "# 'asfreq', 'asof', 'assign', 'astype', 'at', 'at_time', 'attrs', 'axes', 'backfill', 'between_time',\n",
    "# 'bfill', 'bool', 'boxplot', 'clip', 'columns', 'combine', 'combine_first', 'compare', 'convert_dtypes',\n",
    "# 'copy', 'corr', 'corrwith', 'count', 'cov', 'cummax', 'cummin', 'cumprod', 'cumsum', 'describe', 'diff',\n",
    "# 'div', 'divide', 'dot', 'drop', 'drop_duplicates', 'droplevel', 'dropna', 'dtypes', 'duplicated', 'empty',\n",
    "# 'eq', 'equals', 'eval', 'ewm', 'expanding', 'explode', 'ffill', 'fillna', 'filter', 'first', 'first_valid_index',\n",
    "# 'flags', 'floordiv', 'from_dict', 'from_records', 'ge', 'get', 'groupby', 'gt', 'head', 'hist', 'iat', 'idxmax',\n",
    "# 'idxmin', 'iloc', 'index', 'infer_objects', 'info', 'insert', 'interpolate', 'isetitem', 'isin', 'isna', 'isnull',\n",
    "# 'items', 'iterrows', 'itertuples', 'join', 'keys', 'kurt', 'kurtosis', 'last', 'last_valid_index', 'le', 'loc',\n",
    "# 'lt', 'mask', 'max', 'mean', 'median', 'melt', 'memory_usage', 'merge', 'min', 'mod', 'mode', 'mul', 'multiply',\n",
    "# 'ndim', 'ne', 'nlargest', 'notna', 'notnull', 'nsmallest', 'nunique', 'pad', 'pct_change', 'pipe', 'pivot',\n",
    "# 'pivot_table', 'plot', 'pop', 'pow', 'prod', 'product', 'quantile', 'query', 'radd', 'rank', 'rdiv', 'reindex',\n",
    "# 'reindex_like', 'rename', 'rename_axis', 'reorder_levels', 'replace', 'resample', 'reset_index', 'rfloordiv',\n",
    "# 'rmod', 'rmul', 'rolling', 'round', 'rpow', 'rsub', 'rtruediv', 'sample', 'select_dtypes', 'sem', 'set_axis',\n",
    "# 'set_flags', 'set_index', 'shape', 'shift', 'size', 'skew', 'sort_index', 'sort_values', 'sparse', 'squeeze', \n",
    "# 'stack', 'std', 'style', 'sub', 'subtract', 'sum', 'swapaxes', 'swaplevel', 'tail', 'take', 'to_clipboard', \n",
    "# 'to_csv', 'to_dict', 'to_excel', 'to_feather', 'to_gbq', 'to_hdf', 'to_html', 'to_json', 'to_latex', \n",
    "# 'to_markdown', 'to_numpy', 'to_orc', 'to_parquet', 'to_period', 'to_pickle', 'to_records', 'to_sql', \n",
    "# 'to_stata', 'to_string', 'to_timestamp', 'to_xarray', 'to_xml', 'transform', 'transpose', 'truediv', \n",
    "# 'truncate', 'tz_convert', 'tz_localize', 'unstack', 'update', 'value_counts', 'values', 'var', 'where', 'xs'"
   ]
  },
  {
   "cell_type": "code",
   "execution_count": 7,
   "metadata": {},
   "outputs": [
    {
     "name": "stdout",
     "output_type": "stream",
     "text": [
      "['T', '_AXIS_LEN', '_AXIS_ORDERS', '_AXIS_TO_AXIS_NUMBER', '_HANDLED_TYPES', '__abs__', '__add__', '__and__', '__annotations__', '__array__', '__array_priority__', '__array_ufunc__', '__bool__', '__class__', '__contains__', '__copy__', '__deepcopy__', '__delattr__', '__delitem__', '__dict__', '__dir__', '__divmod__', '__doc__', '__eq__', '__finalize__', '__float__', '__floordiv__', '__format__', '__ge__', '__getattr__', '__getattribute__', '__getitem__', '__getstate__', '__gt__', '__hash__', '__iadd__', '__iand__', '__ifloordiv__', '__imod__', '__imul__', '__init__', '__init_subclass__', '__int__', '__invert__', '__ior__', '__ipow__', '__isub__', '__iter__', '__itruediv__', '__ixor__', '__le__', '__len__', '__lt__', '__matmul__', '__mod__', '__module__', '__mul__', '__ne__', '__neg__', '__new__', '__nonzero__', '__or__', '__pos__', '__pow__', '__radd__', '__rand__', '__rdivmod__', '__reduce__', '__reduce_ex__', '__repr__', '__rfloordiv__', '__rmatmul__', '__rmod__', '__rmul__', '__ror__', '__round__', '__rpow__', '__rsub__', '__rtruediv__', '__rxor__', '__setattr__', '__setitem__', '__setstate__', '__sizeof__', '__str__', '__sub__', '__subclasshook__', '__truediv__', '__weakref__', '__xor__', '_accessors', '_accum_func', '_add_numeric_operations', '_agg_examples_doc', '_agg_see_also_doc', '_align_frame', '_align_series', '_append', '_arith_method', '_as_manager', '_binop', '_can_hold_na', '_check_inplace_and_allows_duplicate_labels', '_check_inplace_setting', '_check_is_chained_assignment_possible', '_check_label_or_level_ambiguity', '_check_setitem_copy', '_clear_item_cache', '_clip_with_one_bound', '_clip_with_scalar', '_cmp_method', '_consolidate', '_consolidate_inplace', '_construct_axes_dict', '_construct_result', '_constructor', '_constructor_expanddim', '_convert_dtypes', '_data', '_dir_additions', '_dir_deletions', '_drop_axis', '_drop_labels_or_levels', '_duplicated', '_find_valid_index', '_get_axis', '_get_axis_name', '_get_axis_number', '_get_axis_resolvers', '_get_block_manager_axis', '_get_bool_data', '_get_cacher', '_get_cleaned_column_resolvers', '_get_index_resolvers', '_get_label_or_level_values', '_get_numeric_data', '_get_value', '_get_values', '_get_values_tuple', '_get_with', '_gotitem', '_hidden_attrs', '_indexed_same', '_info_axis', '_info_axis_name', '_info_axis_number', '_init_dict', '_init_mgr', '_inplace_method', '_internal_names', '_internal_names_set', '_is_cached', '_is_copy', '_is_label_or_level_reference', '_is_label_reference', '_is_level_reference', '_is_mixed_type', '_is_view', '_ixs', '_logical_func', '_logical_method', '_map_values', '_maybe_update_cacher', '_memory_usage', '_metadata', '_min_count_stat_function', '_needs_reindex_multi', '_protect_consolidate', '_reduce', '_references', '_reindex_axes', '_reindex_indexer', '_reindex_multi', '_reindex_with_indexers', '_rename', '_replace_single', '_repr_data_resource_', '_repr_latex_', '_reset_cache', '_reset_cacher', '_set_as_cached', '_set_axis', '_set_axis_name', '_set_axis_nocheck', '_set_is_copy', '_set_labels', '_set_name', '_set_value', '_set_values', '_set_with', '_set_with_engine', '_slice', '_stat_axis', '_stat_axis_name', '_stat_axis_number', '_stat_function', '_stat_function_ddof', '_take', '_take_with_is_copy', '_to_latex_via_styler', '_typ', '_update_inplace', '_validate_dtype', '_values', '_where', 'abs', 'add', 'add_prefix', 'add_suffix', 'agg', 'aggregate', 'align', 'all', 'any', 'apply', 'argmax', 'argmin', 'argsort', 'array', 'asfreq', 'asof', 'astype', 'at', 'at_time', 'attrs', 'autocorr', 'axes', 'backfill', 'between', 'between_time', 'bfill', 'bool', 'cat', 'clip', 'combine', 'combine_first', 'compare', 'convert_dtypes', 'copy', 'corr', 'count', 'cov', 'cummax', 'cummin', 'cumprod', 'cumsum', 'describe', 'diff', 'div', 'divide', 'divmod', 'dot', 'drop', 'drop_duplicates', 'droplevel', 'dropna', 'dt', 'dtype', 'dtypes', 'duplicated', 'empty', 'eq', 'equals', 'ewm', 'expanding', 'explode', 'factorize', 'ffill', 'fillna', 'filter', 'first', 'first_valid_index', 'flags', 'floordiv', 'ge', 'get', 'groupby', 'gt', 'hasnans', 'head', 'hist', 'iat', 'idxmax', 'idxmin', 'iloc', 'index', 'infer_objects', 'info', 'interpolate', 'is_monotonic_decreasing', 'is_monotonic_increasing', 'is_unique', 'isin', 'isna', 'isnull', 'item', 'items', 'keys', 'kurt', 'kurtosis', 'last', 'last_valid_index', 'le', 'loc', 'lt', 'map', 'mask', 'max', 'mean', 'median', 'memory_usage', 'min', 'mod', 'mode', 'mul', 'multiply', 'name', 'nbytes', 'ndim', 'ne', 'nlargest', 'notna', 'notnull', 'nsmallest', 'nunique', 'pad', 'pct_change', 'pipe', 'plot', 'pop', 'pow', 'prod', 'product', 'quantile', 'radd', 'rank', 'ravel', 'rdiv', 'rdivmod', 'reindex', 'reindex_like', 'rename', 'rename_axis', 'reorder_levels', 'repeat', 'replace', 'resample', 'reset_index', 'rfloordiv', 'rmod', 'rmul', 'rolling', 'round', 'rpow', 'rsub', 'rtruediv', 'sample', 'searchsorted', 'sem', 'set_axis', 'set_flags', 'shape', 'shift', 'size', 'skew', 'sort_index', 'sort_values', 'sparse', 'squeeze', 'std', 'str', 'sub', 'subtract', 'sum', 'swapaxes', 'swaplevel', 'tail', 'take', 'to_clipboard', 'to_csv', 'to_dict', 'to_excel', 'to_frame', 'to_hdf', 'to_json', 'to_latex', 'to_list', 'to_markdown', 'to_numpy', 'to_period', 'to_pickle', 'to_sql', 'to_string', 'to_timestamp', 'to_xarray', 'tolist', 'transform', 'transpose', 'truediv', 'truncate', 'tz_convert', 'tz_localize', 'unique', 'unstack', 'update', 'value_counts', 'values', 'var', 'view', 'where', 'xs']\n"
     ]
    }
   ],
   "source": [
    "print(dir(pd.Series))\n",
    "\n",
    "# 'T', 'abs', 'add', 'add_prefix', 'add_suffix', 'agg', 'aggregate', 'align', 'all', 'any', 'apply', \n",
    "# 'argmax', 'argmin', 'argsort', 'array', 'asfreq', 'asof', 'astype', 'at', 'at_time', 'attrs', 'autocorr',\n",
    "# 'axes', 'backfill', 'between', 'between_time', 'bfill', 'bool', 'cat', 'clip', 'combine', 'combine_first', \n",
    "# 'compare', 'convert_dtypes', 'copy', 'corr', 'count', 'cov', 'cummax', 'cummin', 'cumprod', 'cumsum', \n",
    "# 'describe', 'diff', 'div', 'divide', 'divmod', 'dot', 'drop', 'drop_duplicates', 'droplevel', 'dropna',\n",
    "# 'dt', 'dtype', 'dtypes', 'duplicated', 'empty', 'eq', 'equals', 'ewm', 'expanding', 'explode', 'factorize',\n",
    "# 'ffill', 'fillna', 'filter', 'first', 'first_valid_index', 'flags', 'floordiv', 'ge', 'get', 'groupby', 'gt',\n",
    "# 'hasnans', 'head', 'hist', 'iat', 'idxmax', 'idxmin', 'iloc', 'index', 'infer_objects', 'info', 'interpolate',\n",
    "# 'is_monotonic_decreasing', 'is_monotonic_increasing', 'is_unique', 'isin', 'isna', 'isnull', 'item', 'items',\n",
    "# 'keys', 'kurt', 'kurtosis', 'last', 'last_valid_index', 'le', 'loc', 'lt', 'map', 'mask', 'max', 'mean',\n",
    "# 'median', 'memory_usage', 'min', 'mod', 'mode', 'mul', 'multiply', 'name', 'nbytes', 'ndim', 'ne', 'nlargest',\n",
    "# 'notna', 'notnull', 'nsmallest', 'nunique', 'pad', 'pct_change', 'pipe', 'plot', 'pop', 'pow', 'prod', 'product',\n",
    "# 'quantile', 'radd', 'rank', 'ravel', 'rdiv', 'rdivmod', 'reindex', 'reindex_like', 'rename', 'rename_axis',\n",
    "# 'reorder_levels', 'repeat', 'replace', 'resample', 'reset_index', 'rfloordiv', 'rmod', 'rmul', 'rolling', \n",
    "# 'round', 'rpow', 'rsub', 'rtruediv', 'sample', 'searchsorted', 'sem', 'set_axis', 'set_flags', 'shape', 'shift',\n",
    "# 'size', 'skew', 'sort_index', 'sort_values', 'sparse', 'squeeze', 'std', 'str', 'sub', 'subtract', 'sum',\n",
    "# 'swapaxes', 'swaplevel', 'tail', 'take', 'to_clipboard', 'to_csv', 'to_dict', 'to_excel', 'to_frame', 'to_hdf', \n",
    "# 'to_json', 'to_latex', 'to_list', 'to_markdown', 'to_numpy', 'to_period', 'to_pickle', 'to_sql', 'to_string', \n",
    "# 'to_timestamp', 'to_xarray', 'tolist', 'transform', 'transpose', 'truediv', 'truncate', 'tz_convert',\n",
    "# 'tz_localize', 'unique', 'unstack', 'update', 'value_counts', 'values', 'var', 'view', 'where', 'xs'"
   ]
  },
  {
   "attachments": {},
   "cell_type": "markdown",
   "metadata": {},
   "source": [
    "### DataFrame 생성"
   ]
  },
  {
   "cell_type": "code",
   "execution_count": 16,
   "metadata": {},
   "outputs": [
    {
     "name": "stdout",
     "output_type": "stream",
     "text": [
      "1. dict 이용한 DataFrame 생성\n",
      "   col1  col2  col3\n",
      "0     4     7    10\n",
      "1     5     8    11\n",
      "2     6     9    12 <class 'pandas.core.frame.DataFrame'>\n",
      "2. 중첩 리스트 이용\n",
      "   col1  col2  col3\n",
      "a     4     7    10\n",
      "b     5     8    11\n",
      "c     6     9    12 <class 'pandas.core.frame.DataFrame'>\n"
     ]
    }
   ],
   "source": [
    "# 1. dict 이용 \n",
    "print(\"1. dict 이용한 DataFrame 생성\")\n",
    "df = pd.DataFrame({\"col1\" : [4 ,5, 6],\n",
    "                   \"col2\" : [7, 8, 9],\n",
    "                   \"col3\" : [10, 11, 12]})\n",
    "print(df, type(df))\n",
    "\n",
    "# 2. 중첩 리스트 이용한 DataFrame 생성 => ndarray도 가능\n",
    "print(\"2. 중첩 리스트 이용\")\n",
    "df = pd.DataFrame([[4, 7, 10],[5, 8, 11],[6, 9, 12]],\n",
    "                  index=['a', 'b', 'c'],\n",
    "                  columns=['col1', 'col2', 'col3'])\n",
    "print(df, type(df))"
   ]
  },
  {
   "cell_type": "code",
   "execution_count": 19,
   "metadata": {},
   "outputs": [
    {
     "name": "stdout",
     "output_type": "stream",
     "text": [
      "3. DataFrame 생성\n",
      "         hero1       hero2\n",
      "이름         유관순         안중근\n",
      "나이          18          31\n",
      "생일  1920/09/28  1910/03/26 <class 'pandas.core.frame.DataFrame'> \n",
      "\n",
      "        이름  나이          생일\n",
      "hero1  유관순  18  1920/09/28\n",
      "hero2  안중근  31  1910/03/26 <class 'pandas.core.frame.DataFrame'>\n"
     ]
    }
   ],
   "source": [
    "# 3.  DataFrame 생성 - Series 사용\n",
    "print(\"3. DataFrame 생성\")\n",
    "name =     pd.Series([\"유관순\",\"안중근\"])\n",
    "age =      pd.Series([18,31])\n",
    "birthday = pd.Series(['1920/09/28','1910/03/26'])\n",
    "\n",
    "hero = pd.DataFrame([name,age,birthday])\n",
    "hero.columns =[\"hero1\", \"hero2\"]\n",
    "hero.index =[\"이름\",\"나이\",\"생일\"]\n",
    "print(hero, type(hero), '\\n')\n",
    "print(hero.T, type(hero.T))"
   ]
  },
  {
   "attachments": {},
   "cell_type": "markdown",
   "metadata": {},
   "source": [
    "## 6/13(화)"
   ]
  },
  {
   "cell_type": "code",
   "execution_count": 9,
   "metadata": {},
   "outputs": [],
   "source": [
    "import pandas as pd\n",
    "import numpy as np"
   ]
  },
  {
   "attachments": {},
   "cell_type": "markdown",
   "metadata": {},
   "source": [
    "### 인덱스 및 컬럼명 변경"
   ]
  },
  {
   "cell_type": "code",
   "execution_count": 3,
   "metadata": {},
   "outputs": [
    {
     "name": "stdout",
     "output_type": "stream",
     "text": [
      "   col1  col2  col3\n",
      "0     4     7    10\n",
      "1     5     8    11\n",
      "2     6     9    12\n",
      "   c1  c2  c3\n",
      "0   4   7  10\n",
      "1   5   8  11\n",
      "2   6   9  12\n"
     ]
    }
   ],
   "source": [
    "# 컬럼명 변경\n",
    "df = pd.DataFrame({\"col1\" : [4 ,5, 6],\n",
    "                   \"col2\" : [7, 8, 9],\n",
    "                   \"col3\" : [10, 11, 12]})\n",
    "print(df)\n",
    "df.columns = ['c1', 'c2', 'c3']\n",
    "print(df)"
   ]
  },
  {
   "cell_type": "code",
   "execution_count": 4,
   "metadata": {},
   "outputs": [
    {
     "name": "stdout",
     "output_type": "stream",
     "text": [
      "   col1  col2  col3\n",
      "A     4     7    10\n",
      "B     5     8    11\n",
      "C     6     9    12\n",
      "    col1  col2  col3\n",
      "10     4     7    10\n",
      "20     5     8    11\n",
      "30     6     9    12\n"
     ]
    }
   ],
   "source": [
    "# 인덱스 변경\n",
    "df = pd.DataFrame({\"col1\" : [4 ,5, 6],\n",
    "                   \"col2\" : [7, 8, 9],\n",
    "                   \"col3\" : [10, 11, 12]}, index=['A', 'B', 'C'])\n",
    "print(df)\n",
    "df.index = [10, 20, 30]\n",
    "print(df)"
   ]
  },
  {
   "attachments": {},
   "cell_type": "markdown",
   "metadata": {},
   "source": [
    "### DataFrame의 속성 정보 보기"
   ]
  },
  {
   "cell_type": "code",
   "execution_count": 10,
   "metadata": {},
   "outputs": [
    {
     "name": "stdout",
     "output_type": "stream",
     "text": [
      "컬럼 정보: Index(['col1', 'col2', 'col3'], dtype='object')\n",
      "컬럼 정보: Index(['col1', 'col2', 'col3'], dtype='object')\n",
      "인덱스 라벨 정보: Index(['A', 'B', 'C'], dtype='object')\n",
      "값 정보 확인: [[ 4  7 10]\n",
      " [ 5  8 11]\n",
      " [ 6  9 12]]\n",
      "값 정보 확인: [[ 4  7 10]\n",
      " [ 5  8 11]\n",
      " [ 6  9 12]]\n"
     ]
    }
   ],
   "source": [
    "df = pd.DataFrame({\"col1\" : [4 ,5, 6],\n",
    "                   \"col2\" : [7, 8, 9],\n",
    "                   \"col3\" : [10, 11, 12]}, index=['A', 'B', 'C'])\n",
    "print('컬럼 정보:', df.columns)\n",
    "print('컬럼 정보:', df.keys())\n",
    "\n",
    "print('인덱스 정보:', df.index)\n",
    "\n",
    "print('값 정보 확인:', df.values)\n",
    "print('값 정보 확인:', df.to_numpy()) # 권장"
   ]
  },
  {
   "attachments": {},
   "cell_type": "markdown",
   "metadata": {},
   "source": [
    "### 인덱스 관리"
   ]
  },
  {
   "cell_type": "code",
   "execution_count": 6,
   "metadata": {},
   "outputs": [
    {
     "name": "stdout",
     "output_type": "stream",
     "text": [
      "1. 원본 DataFrame\n",
      "   date   City  Temperature\n",
      "0  2021  Seoul           32\n",
      "1  2022  Seoul           34 \n",
      "\n",
      "기존 컬럼을 인덱스로 변경\n",
      "       City  Temperature\n",
      "date                    \n",
      "2021  Seoul           32\n",
      "2022  Seoul           34 Index(['2021', '2022'], dtype='object', name='date') \n",
      "\n",
      "새로운 인덱스로 변경\n",
      "   date   City  Temperature\n",
      "0  2021  Seoul           32\n",
      "1  2022  Seoul           34 RangeIndex(start=0, stop=2, step=1)\n"
     ]
    }
   ],
   "source": [
    "df = pd.DataFrame({ \"date\":['2021','2022'],\n",
    "                   \"City\": [\"Seoul\", \"Seoul\"],\n",
    "                   \"Temperature\": [32, 34]})\n",
    "print(\"1. 원본 DataFrame\")\n",
    "print(df, '\\n')\n",
    "\n",
    "# 1) 기존 컬럼을 인덱스로 변경\n",
    "print(\"기존 컬럼을 인덱스로 변경\")\n",
    "df.set_index('date', inplace=True)\n",
    "print(df, df.index, '\\n')\n",
    "\n",
    "# 2) 새로운 인덱스로 변경\n",
    "print(\"새로운 인덱스로 변경\")\n",
    "df.reset_index(inplace=True)                # 기존 인덱스를 컬럼으로 변경하고 새로운 인덱스 생성\n",
    "df.reset_index(inplace=True, drop=True)   # 기존 인덱스를 삭제하고 새로운 인덱스 생성\n",
    "print(df, df.index)"
   ]
  },
  {
   "cell_type": "code",
   "execution_count": 27,
   "metadata": {},
   "outputs": [
    {
     "name": "stdout",
     "output_type": "stream",
     "text": [
      "   date   City  Temperature\n",
      "A  2021  Seoul           32\n",
      "E  2022  Seoul           34\n",
      "C  2012  Seoul           32\n",
      "B  2023  Seoul           34\n",
      "D  2024  Seoul           53\n",
      "2. index 재배치\n",
      "   date   City  Temperature\n",
      "A  2021  Seoul           32\n",
      "B  2023  Seoul           34\n",
      "C  2012  Seoul           32\n",
      "D  2024  Seoul           53\n",
      "E  2022  Seoul           34\n"
     ]
    }
   ],
   "source": [
    "df = pd.DataFrame({ \"date\":['2021','2022','2012','2023','2024'],\n",
    "                    \"City\": [\"Seoul\", \"Seoul\", \"Seoul\",\"Seoul\",\"Seoul\"],\n",
    "                    \"Temperature\": [32, 34,32, 34,53]\n",
    "                  },index=list('AECBD'))\n",
    "print(df)\n",
    "\n",
    "# 3) index 재배치\n",
    "new_df = df.reindex(index=list(\"ABCDE\"))\n",
    "print(\"2. index 재배치\")\n",
    "print(new_df)"
   ]
  },
  {
   "cell_type": "code",
   "execution_count": 3,
   "metadata": {},
   "outputs": [
    {
     "name": "stdout",
     "output_type": "stream",
     "text": [
      "     a\n",
      "1   12\n",
      "2    2\n",
      "1  120\n",
      "2   20\n",
      "     a\n",
      "0   12\n",
      "1    2\n",
      "2  120\n",
      "3   20\n"
     ]
    }
   ],
   "source": [
    "# 4) df 병합시 기존 index값이 중복발생 ==> ignore_index=True 로 index값을 재설정\n",
    "df1 = pd.DataFrame({'a':[12,2]},\n",
    "                   index=[1,2])\n",
    "df2 = pd.DataFrame({'a':[120,20]},\n",
    "                   index=[1,2])\n",
    "\n",
    "new_df = pd.concat([df1, df2])\n",
    "print(new_df)\n",
    "new_df = pd.concat([df1, df2], ignore_index=True)\n",
    "print(new_df)"
   ]
  },
  {
   "attachments": {},
   "cell_type": "markdown",
   "metadata": {},
   "source": [
    "### 색인"
   ]
  },
  {
   "cell_type": "code",
   "execution_count": 6,
   "metadata": {},
   "outputs": [
    {
     "name": "stdout",
     "output_type": "stream",
     "text": [
      "1. col1 컬럼만 조회\n",
      "A    4\n",
      "B    5\n",
      "C    6\n",
      "D    6\n",
      "Name: col1, dtype: int64\n",
      "2. col1 컬럼만 조회\n",
      "A    4\n",
      "B    5\n",
      "C    6\n",
      "D    6\n",
      "Name: col1, dtype: int64\n",
      "3. col1와 col2 컬럼 조회\n",
      "   col2  col1\n",
      "A     7     4\n",
      "B     8     5\n",
      "C     9     6\n",
      "D     9     6\n",
      "4. col1 컬럼만 여러번 조회\n",
      "   col1  col1  col1\n",
      "A     4     4     4\n",
      "B     5     5     5\n",
      "C     6     6     6\n",
      "D     6     6     6\n"
     ]
    }
   ],
   "source": [
    "# 컬럼 조회\n",
    "# 1. 싱글 및 멀티 컬럼 조회\n",
    "df = pd.DataFrame({\"col1\" : [4 ,5, 6, 6],\n",
    "                   \"col2\" : [7, 8, 9, 9],\n",
    "                   \"col3\" : [10, 11, 12, 12]},\n",
    "                   index = list(\"ABCD\"))\n",
    "\n",
    "print(\"1. col1 컬럼만 조회\")\n",
    "print(df.col1 )     # Series 반환\n",
    "\n",
    "print(\"2. col1 컬럼만 조회\")\n",
    "print(df['col1'])  # Series 반환\n",
    "\n",
    "print(\"3. col1와 col2 컬럼 조회\")\n",
    "print(df[['col2', 'col1']])  # fancy 색인 비슷 , # DataFrame 반환\n",
    "\n",
    "print(\"4. col1 컬럼만 여러번 조회\")\n",
    "print(df[['col1','col1','col1']])  # DataFrame 반환"
   ]
  },
  {
   "cell_type": "code",
   "execution_count": 8,
   "metadata": {},
   "outputs": [
    {
     "name": "stdout",
     "output_type": "stream",
     "text": [
      "   col1  col2  col3\n",
      "A     4     7    10\n",
      "B     5     8    11\n",
      "C     6     9    12\n",
      "D     6     9    12\n",
      "E     1     2    10\n",
      "1. A 행 출력(인덱싱 label)\n",
      "col1     4\n",
      "col2     7\n",
      "col3    10\n",
      "Name: A, dtype: int64\n",
      "2. A 와 B행 출력(fancy label)\n",
      "   col1  col2  col3\n",
      "A     4     7    10\n",
      "B     5     8    11\n",
      "3. B행부터 D행까지 출력(slicing label)\n",
      "   col1  col2  col3\n",
      "B     5     8    11\n",
      "C     6     9    12\n",
      "D     6     9    12\n",
      "4. A,C,E행 출력(boolean label)\n",
      "   col1  col2  col3\n",
      "A     4     7    10\n",
      "C     6     9    12\n",
      "E     1     2    10\n"
     ]
    }
   ],
   "source": [
    "# 행 조회\n",
    "df = pd.DataFrame({\"col1\" : [4 ,5, 6, 6,1],\n",
    "                   \"col2\" : [7, 8, 9, 9,2],\n",
    "                   \"col3\" : [10, 11, 12, 12,10]},\n",
    "                   index = list(\"ABCDE\"))\n",
    "print(df)\n",
    "\n",
    "# df.loc \n",
    "print(\"1. A 행 출력(인덱싱 label)\")\n",
    "print(df.loc[\"A\"])\n",
    "print(\"2. A 와 B행 출력(fancy label)\")\n",
    "print(df.loc[[\"A\",\"B\"]])\n",
    "print(\"3. B행부터 D행까지 출력(slicing label)\")\n",
    "print(df.loc[\"B\":\"D\"])\n",
    "print(\"4. A,C,E행 출력(boolean label)\") # 일반적으로 비교연산자, 논리연산자 사용\n",
    "print(df.loc[[True,False,True,False,True]])"
   ]
  },
  {
   "cell_type": "code",
   "execution_count": 12,
   "metadata": {},
   "outputs": [
    {
     "name": "stdout",
     "output_type": "stream",
     "text": [
      "   col1  col2  col3\n",
      "A     4     7    10\n",
      "B     5     8    11\n",
      "C     6     9    12\n",
      "D     6     9    12\n",
      "E     1     2    10\n",
      "1. A 행 출력(인덱싱 위치)\n",
      "col1     4\n",
      "col2     7\n",
      "col3    10\n",
      "Name: A, dtype: int64\n",
      "2. A 와 B행 출력(fancy 위치)\n",
      "   col1  col2  col3\n",
      "A     4     7    10\n",
      "B     5     8    11\n",
      "3. B행부터 D행까지 출력(slicing label)\n",
      "   col1  col2  col3\n",
      "B     5     8    11\n",
      "C     6     9    12\n",
      "D     6     9    12\n",
      "4. A,C,E행 출력(boolean label)\n",
      "   col1  col2  col3\n",
      "A     4     7    10\n",
      "C     6     9    12\n",
      "E     1     2    10\n"
     ]
    }
   ],
   "source": [
    "## df.iloc \n",
    "print(df)\n",
    "print(\"1. A 행 출력(인덱싱 위치)\")\n",
    "print(df.iloc[0])\n",
    "print(\"2. A 와 B행 출력(fancy 위치)\")\n",
    "print(df.iloc[[0,1]])\n",
    "print(\"3. B행부터 D행까지 출력(slicing label)\")\n",
    "print(df.iloc[1:-1])\n",
    "print(\"4. A,C,E행 출력(boolean label)\")\n",
    "print(df.iloc[[True,False,True,False,True]])"
   ]
  },
  {
   "cell_type": "code",
   "execution_count": 7,
   "metadata": {},
   "outputs": [
    {
     "name": "stdout",
     "output_type": "stream",
     "text": [
      "df.loc['A', 'col1']: 4\n",
      "df.loc[['A', 'B'], 'col1']: A    4\n",
      "B    5\n",
      "Name: col1, dtype: int64\n",
      "df.loc[['A', 'B'], ['col1', 'col2']]:\n",
      "    col1  col2\n",
      "A     4     7\n",
      "B     5     8\n",
      "df.loc['B':'E', ['col1', 'col2']]:\n",
      "    col1  col2\n",
      "B     5     8\n",
      "C     6     9\n",
      "D     6     9\n",
      "E     1     2\n",
      "df.loc['B':'E', 'col2':'col3']:\n",
      "    col2  col3\n",
      "B     8    11\n",
      "C     9    12\n",
      "D     9    12\n",
      "E     2    10\n",
      "df.loc[[True, False, True, False, True], 'col2':'col3']:\n",
      "    col2  col3\n",
      "A     7    10\n",
      "C     9    12\n",
      "E     2    10\n"
     ]
    }
   ],
   "source": [
    "# 행, 열 선택 추출\n",
    "df = pd.DataFrame({\"col1\" : [4 ,5, 6, 6,1],\n",
    "                   \"col2\" : [7, 8, 9, 9,2],\n",
    "                   \"col3\" : [10, 11, 12, 12,10]},\n",
    "                   index = list(\"ABCDE\"))\n",
    "\n",
    "# loc\n",
    "print(\"df.loc['A', 'col1']:\", df.loc['A', 'col1']) # 인덱싱\n",
    "print(\"df.loc[['A', 'B'], 'col1']:\", df.loc[['A', 'B'], 'col1']) # 인덱싱 + fancy\n",
    "print(\"df.loc[['A', 'B'], ['col1', 'col2']]:\\n\", df.loc[['A', 'B'], ['col1', 'col2']]) # fancy + fancy\n",
    "print(\"df.loc['B':'E', ['col1', 'col2']]:\\n\", df.loc['B':'E', ['col1', 'col2']]) # slice + fancy\n",
    "print(\"df.loc['B':'E', 'col2':'col3']:\\n\", df.loc['B':'E', 'col2':'col3']) # slice + slice\n",
    "print(\"df.loc[[True, False, True, False, True], 'col2':'col3']:\\n\", df.loc[[True, False, True, False, True], 'col2':'col3']) # boolean + slice"
   ]
  },
  {
   "cell_type": "code",
   "execution_count": 8,
   "metadata": {},
   "outputs": [
    {
     "name": "stdout",
     "output_type": "stream",
     "text": [
      "df.iloc[0, 0]: 4\n",
      "df.iloc[[0, 1], 0]:\n",
      " A    4\n",
      "B    5\n",
      "Name: col1, dtype: int64\n",
      "df.iloc[[0,  1], [0, 1]]:\n",
      "    col1  col2\n",
      "A     4     7\n",
      "B     5     8\n",
      "df.iloc[1:, [0, 1]]:\n",
      "    col1  col2\n",
      "B     5     8\n",
      "C     6     9\n",
      "D     6     9\n",
      "E     1     2\n",
      "df.iloc[1:, 1:]:\n",
      "    col2  col3\n",
      "B     8    11\n",
      "C     9    12\n",
      "D     9    12\n",
      "E     2    10\n",
      "df.iloc[[True, False, True, False, True], 1:]:\n",
      "    col2  col3\n",
      "A     7    10\n",
      "C     9    12\n",
      "E     2    10\n"
     ]
    }
   ],
   "source": [
    "df = pd.DataFrame({\"col1\" : [4 ,5, 6, 6,1],\n",
    "                   \"col2\" : [7, 8, 9, 9,2],\n",
    "                   \"col3\" : [10, 11, 12, 12,10]},\n",
    "                   index = list(\"ABCDE\"))\n",
    "\n",
    "print(\"df.iloc[0, 0]:\", df.iloc[0, 0]) # 인덱싱\n",
    "print(\"df.iloc[[0, 1], 0]:\\n\", df.iloc[[0, 1], 0]) # 인덱싱 + fancy\n",
    "print(\"df.iloc[[0,  1], [0, 1]]:\\n\", df.iloc[[0,  1], [0, 1]]) # fancy + fancy\n",
    "print(\"df.iloc[1:, [0, 1]]:\\n\", df.iloc[1:, [0, 1]]) # slice + fancy\n",
    "print(\"df.iloc[1:, 1:]:\\n\", df.iloc[1:, 1:]) # slice + slice\n",
    "print(\"df.iloc[[True, False, True, False, True], 1:]:\\n\", df.iloc[[True, False, True, False, True], 1:]) # boolean + slice"
   ]
  },
  {
   "cell_type": "code",
   "execution_count": 34,
   "metadata": {},
   "outputs": [
    {
     "name": "stdout",
     "output_type": "stream",
     "text": [
      "   col1  col2  col3\n",
      "A     4     7    10\n",
      "B     5     8    11\n",
      "C     6     9    12\n",
      "D     6     9    12\n",
      "E     1     2    10 \n",
      "\n",
      "   col1  col2  col3\n",
      "A   100   100   100\n",
      "B     5     8    11\n",
      "C     6     9    12\n",
      "D     6     9    12\n",
      "E     1     2    10 \n",
      "\n",
      "   col1  col2  col3\n",
      "A   200   200   200\n",
      "B   200   200   200\n",
      "C     6     9    12\n",
      "D     6     9    12\n",
      "E     1     2    10 \n",
      "\n"
     ]
    }
   ],
   "source": [
    "## 조회후 값 변경\n",
    "df = pd.DataFrame({\"col1\" : [4 ,5, 6, 6,1],\n",
    "                   \"col2\" : [7, 8, 9, 9,2],\n",
    "                   \"col3\" : [10, 11, 12, 12,10]},\n",
    "                   index = list(\"ABCDE\"))\n",
    "print(df, '\\n')\n",
    "\n",
    "# loc\n",
    "# 1. A행의 모든 값 변경\n",
    "df.loc['A'] = 100\n",
    "print(df, '\\n')\n",
    "\n",
    "# 2. B, C행의 모든 값 변경\n",
    "df.loc[['A', 'B']] = 200\n",
    "print(df, '\\n')"
   ]
  },
  {
   "cell_type": "code",
   "execution_count": 36,
   "metadata": {},
   "outputs": [
    {
     "name": "stdout",
     "output_type": "stream",
     "text": [
      "   col1  col2  col3\n",
      "A   200   200   200\n",
      "B   200   200   200\n",
      "C     6     9    12\n",
      "D    -1   900    -1\n",
      "E    -1     2    -1 \n",
      "\n",
      "   col1  col2  col3\n",
      "A   200   200   200\n",
      "B   200   200   200\n",
      "C     6     9    12\n",
      "D    -1   900    -1\n",
      "E    -1     2    -1 \n",
      "\n",
      "   col1  col2  col3\n",
      "A   200  -100  -100\n",
      "B   200  -100  -100\n",
      "C     6  -100  -100\n",
      "D    -1  -100  -100\n",
      "E    -1     2    -1 \n",
      "\n"
     ]
    }
   ],
   "source": [
    "# 3. D행의 col2 값을 900으로 변경\n",
    "df.loc['D', 'col2'] = 900\n",
    "print(df, '\\n')\n",
    "\n",
    "# 4. D, E행의 col1, col3 값을 -1으로 변경\n",
    "df.loc[['D', 'E'], ['col1', 'col3']] = -1\n",
    "print(df, '\\n')\n",
    "\n",
    "# 5. A:D행의 col2, col3 값을 -100로 변경\n",
    "df.loc['A':'D', 'col2':'col3'] = -100\n",
    "print(df, '\\n')"
   ]
  },
  {
   "cell_type": "code",
   "execution_count": 38,
   "metadata": {},
   "outputs": [
    {
     "name": "stdout",
     "output_type": "stream",
     "text": [
      "   col1  col2  col3\n",
      "A -1000  -100 -1000\n",
      "B   200  -100  -100\n",
      "C -1000  -100 -1000\n",
      "D    -1  -100  -100\n",
      "E    -1     2    -1 \n",
      "\n",
      "   col1  col2  col3\n",
      "A -2000  -100 -2000\n",
      "B -2000  -100 -2000\n",
      "C -2000  -100 -2000\n",
      "D -2000  -100 -2000\n",
      "E -2000     2 -2000\n"
     ]
    }
   ],
   "source": [
    "# iloc\n",
    "df.iloc[[0, 2], [0, 2]] = -1000\n",
    "print(df, '\\n')\n",
    "\n",
    "df.iloc[[True, True, True, True, True], [0, 2]] = -2000\n",
    "print(df)"
   ]
  },
  {
   "attachments": {},
   "cell_type": "markdown",
   "metadata": {},
   "source": [
    "### 컬럼 추가, 삽입"
   ]
  },
  {
   "cell_type": "code",
   "execution_count": 19,
   "metadata": {},
   "outputs": [
    {
     "name": "stdout",
     "output_type": "stream",
     "text": [
      "1. DataFrame\n",
      "    이름  국어  수학\n",
      "1  홍길동  30  20\n",
      "2  이순신  26  12\n",
      "3  유관순  11  20\n",
      "4  강감찬  10  12\n",
      "2. add column(List)\n",
      "    이름  국어  수학  영어\n",
      "1  홍길동  30  20  10\n",
      "2  이순신  26  12  20\n",
      "3  유관순  11  20  30\n",
      "4  강감찬  10  12  40\n",
      "2. add column(Series)\n",
      "    이름  국어  수학  영어  과학\n",
      "1  홍길동  30  20  10  10\n",
      "2  이순신  26  12  20  20\n",
      "3  유관순  11  20  30  30\n",
      "4  강감찬  10  12  40  40\n"
     ]
    }
   ],
   "source": [
    "df = pd.DataFrame({\"이름\":['홍길동','이순신','유관순','강감찬'],\n",
    "                   \"국어\":[30, 26, 11, 10],\n",
    "                   \"수학\":[20, 12, 20, 12]\n",
    "                 }, index=[1,2,3,4])\n",
    "# 1. DataFrame 생성\n",
    "print(\"1. DataFrame\")\n",
    "print(df)\n",
    "\n",
    "# 2. df['컬럼명'] = List\n",
    "df['영어'] = [10, 20, 30, 40]\n",
    "print('2. add column(List)')\n",
    "print(df)\n",
    "\n",
    "# 3. df['컬럼명'] = Series\n",
    "df['과학'] = pd.Series(data=[10, 20, 30, 40]) # index가 0부터 생성 -> index를 맞춰줘야 함\n",
    "df['과학'] = pd.Series(data=[10, 20, 30, 40], index=[1, 2, 3, 4])\n",
    "print('2. add column(Series)')\n",
    "print(df)"
   ]
  },
  {
   "cell_type": "code",
   "execution_count": 20,
   "metadata": {},
   "outputs": [
    {
     "name": "stdout",
     "output_type": "stream",
     "text": [
      "2. add column\n",
      "    이름  국어  수학  영어  과학   총합\n",
      "1  홍길동  30  20  10  10   70\n",
      "2  이순신  26  12  20  20   78\n",
      "3  유관순  11  20  30  30   91\n",
      "4  강감찬  10  12  40  40  102 \n",
      "\n",
      "    이름  국어  수학  영어  과학   총합    평균\n",
      "1  홍길동  30  20  10  10   70  17.5\n",
      "2  이순신  26  12  20  20   78  19.5\n",
      "3  유관순  11  20  30  30   91  22.8\n",
      "4  강감찬  10  12  40  40  102  25.5\n",
      "    이름  국어  수학  영어  과학   총합  평균\n",
      "1  홍길동  30  20  10  10   70  17\n",
      "2  이순신  26  12  20  20   78  19\n",
      "3  유관순  11  20  30  30   91  22\n",
      "4  강감찬  10  12  40  40  102  25\n"
     ]
    }
   ],
   "source": [
    "# 총합 추가\n",
    "print('2. add column')\n",
    "df['총합'] = df['영어'] + df['과학'] + df['국어'] + df['수학']\n",
    "print(df, '\\n')\n",
    "df['평균'] = np.round(df['총합'] / 4, 1)\n",
    "print(df)\n",
    "# 평균 ==> series에 데이터 타입을 변경하는 함수\n",
    "df['평균'] = df['평균'].astype(np.int32)\n",
    "print(df)"
   ]
  },
  {
   "cell_type": "code",
   "execution_count": 24,
   "metadata": {},
   "outputs": [
    {
     "name": "stdout",
     "output_type": "stream",
     "text": [
      "    이름  국어  수학  영어  과학   총합  평균 햡격여부\n",
      "1  홍길동  30  20  10  10   70  17  불합격\n",
      "2  이순신  26  12  20  20   78  19  불합격\n",
      "3  유관순  11  20  30  30   91  22   합격\n",
      "4  강감찬  10  12  40  40  102  25   합격\n"
     ]
    }
   ],
   "source": [
    "# 실습: 평균 > 20이면 합격, 아니면 불합격\n",
    "df['햡격여부'] = ['합격' if i > 20 else '불합격' for i in df['평균']]\n",
    "print(df)"
   ]
  },
  {
   "cell_type": "code",
   "execution_count": 40,
   "metadata": {},
   "outputs": [
    {
     "name": "stdout",
     "output_type": "stream",
     "text": [
      "3. df.assign() 이용 추가\n",
      "    이름  국어  수학  영어\n",
      "1  홍길동  30  20  10\n",
      "2  이순신  26  12  20\n",
      "3  유관순  11  20  30\n",
      "4  강감찬  10  12  40\n",
      "3. df.assign(콜백함수) 이용 추가\n",
      "    이름  국어  수학  영어  총합  총합2\n",
      "1  홍길동  30  20  10  60   60\n",
      "2  이순신  26  12  20  58   58\n",
      "3  유관순  11  20  30  61   61\n",
      "4  강감찬  10  12  40  62   62\n",
      "    이름  국어  수학  영어  총합  총합2    평균\n",
      "1  홍길동  30  20  10  60   60  20.0\n",
      "2  이순신  26  12  20  58   58  19.3\n",
      "3  유관순  11  20  30  61   61  20.3\n",
      "4  강감찬  10  12  40  62   62  20.7\n"
     ]
    }
   ],
   "source": [
    "df = pd.DataFrame({\"이름\":['홍길동','이순신','유관순','강감찬'],\n",
    "                   \"국어\":[30, 26, 11, 10],\n",
    "                   \"수학\":[20, 12, 20, 12]\n",
    "                 }, index=[1,2,3,4])\n",
    "\n",
    "print('3. df.assign() 이용 추가')\n",
    "# new_df = df.assign(영어 = [10, 20, 30, 40]) # 원본유지\n",
    "df = df.assign(영어 = [10, 20, 30, 40]) # 덮어쓰기\n",
    "print(df)\n",
    "\n",
    "print('3. df.assign(콜백함수) 이용 추가')\n",
    "def total(x):\n",
    "    return x['국어'] + x['수학'] + x['영어']\n",
    "# df = df.assign(총합=total)\n",
    "df = df.assign(총합=lambda x: x['국어'] + x['수학'] + x['영어'],\n",
    "               총합2=lambda x: x['국어'] + x['수학'] + x['영어']) # 한 번에 여러 컬럼 생성 가능\n",
    "print(df)\n",
    "\n",
    "# 평균 컬럼 추가하기\n",
    "df = df.assign(평균=lambda x: np.round(x['총합']/3, 1))\n",
    "print(df)"
   ]
  },
  {
   "cell_type": "code",
   "execution_count": 41,
   "metadata": {},
   "outputs": [
    {
     "name": "stdout",
     "output_type": "stream",
     "text": [
      "    이름  국어  수학  영어  과학\n",
      "1  홍길동  30  20  30  20\n",
      "2  이순신  26  12  26  12\n",
      "3  유관순  11  20  11  20\n",
      "4  강감찬  10  12  10  12\n"
     ]
    }
   ],
   "source": [
    "df = pd.DataFrame({\"이름\":['홍길동','이순신','유관순','강감찬'], \"국어\":[30, 26, 11, 10], \"수학\":[20, 12, 20, 12]}, index=[1,2,3,4])\n",
    "df2 = pd.DataFrame({\"영어\":[30, 26, 11, 10], \"과학\":[20, 12, 20, 12]}, index=[1,2,3,4])\n",
    "\n",
    "new_df = pd.concat([df, df2], axis=1)\n",
    "print(new_df)"
   ]
  },
  {
   "cell_type": "code",
   "execution_count": 42,
   "metadata": {},
   "outputs": [
    {
     "name": "stdout",
     "output_type": "stream",
     "text": [
      "    이름  영어  국어  수학\n",
      "1  홍길동  30  30  20\n",
      "2  이순신  26  26  12\n",
      "3  유관순  11  11  20\n",
      "4  강감찬  10  10  12\n"
     ]
    }
   ],
   "source": [
    "# 컬럼 삽입\n",
    "df = pd.DataFrame({\"이름\":['홍길동','이순신','유관순','강감찬'], \"국어\":[30, 26, 11, 10], \"수학\":[20, 12, 20, 12]}, index=[1,2,3,4])\n",
    "df.insert(1, \"영어\", [30, 26, 11, 10])\n",
    "print(df)"
   ]
  },
  {
   "attachments": {},
   "cell_type": "markdown",
   "metadata": {},
   "source": [
    "### 컬럼 삭제"
   ]
  },
  {
   "cell_type": "code",
   "execution_count": 53,
   "metadata": {},
   "outputs": [],
   "source": [
    "df = pd.DataFrame({\"이름\":['홍길동','이순신','유관순','강감찬'], \"국어\":[30, 26, 11, 10], \"수학\":[20, 12, 20, 12], \"영어\":[30, 26, 11, 10], \"과학\":[20, 12, 20, 12],\n",
    "                   \"체육\":[30, 26, 11, 10], \"보건\":[20, 12, 20, 12], \"화학\":[30, 26, 11, 10], \"수리\":[20, 12, 20, 12]}, index=[1,2,3,4])"
   ]
  },
  {
   "cell_type": "code",
   "execution_count": 54,
   "metadata": {},
   "outputs": [
    {
     "name": "stdout",
     "output_type": "stream",
     "text": [
      "원본 DataFrame\n",
      "    이름  국어  수학  영어  과학  체육  보건  화학  수리\n",
      "1  홍길동  30  20  30  20  30  20  30  20\n",
      "2  이순신  26  12  26  12  26  12  26  12\n",
      "3  유관순  11  20  11  20  11  20  11  20\n",
      "4  강감찬  10  12  10  12  10  12  10  12 \n",
      "\n",
      "df.pop(\"국어\")\n",
      "     이름  수학  영어  과학  체육  보건  화학  수리\n",
      "1  홍길동  20  30  20  30  20  30  20\n",
      "2  이순신  12  26  12  26  12  26  12\n",
      "3  유관순  20  11  20  11  20  11  20\n",
      "4  강감찬  12  10  12  10  12  10  12 \n",
      "\n",
      "del df['수학']\n",
      "     이름  영어  과학  체육  보건  화학  수리\n",
      "1  홍길동  30  20  30  20  30  20\n",
      "2  이순신  26  12  26  12  26  12\n",
      "3  유관순  11  20  11  20  11  20\n",
      "4  강감찬  10  12  10  12  10  12\n"
     ]
    }
   ],
   "source": [
    "# 단일 컬럼 삭제\n",
    "print('원본 DataFrame')\n",
    "print(df, '\\n')\n",
    "\n",
    "df.pop('국어')\n",
    "print('df.pop(\"국어\")\\n', df, '\\n')\n",
    "\n",
    "del df['수학']\n",
    "print(\"del df['수학']\\n\", df)"
   ]
  },
  {
   "cell_type": "code",
   "execution_count": 55,
   "metadata": {},
   "outputs": [
    {
     "name": "stdout",
     "output_type": "stream",
     "text": [
      "df.drop(columns=['영어', '과학'], inplace=True)\n",
      "     이름  체육  보건  화학  수리\n",
      "1  홍길동  30  20  30  20\n",
      "2  이순신  26  12  26  12\n",
      "3  유관순  11  20  11  20\n",
      "4  강감찬  10  12  10  12 \n",
      "\n",
      "df.drop(['체육', '보건'], inplace=True, axis=1)\n",
      "     이름  화학  수리\n",
      "1  홍길동  30  20\n",
      "2  이순신  26  12\n",
      "3  유관순  11  20\n",
      "4  강감찬  10  12\n"
     ]
    }
   ],
   "source": [
    "# 다중 컬럼 삭제\n",
    "df.drop(columns=['영어', '과학'], inplace=True)\n",
    "print(\"df.drop(columns=['영어', '과학'], inplace=True)\\n\", df, '\\n')\n",
    "df.drop(['체육', '보건'], inplace=True, axis=1)\n",
    "print(\"df.drop(['체육', '보건'], inplace=True, axis=1)\\n\", df)"
   ]
  },
  {
   "attachments": {},
   "cell_type": "markdown",
   "metadata": {},
   "source": [
    "### 행 추가"
   ]
  },
  {
   "cell_type": "code",
   "execution_count": 63,
   "metadata": {},
   "outputs": [
    {
     "name": "stdout",
     "output_type": "stream",
     "text": [
      "df:\n",
      "  Name  age    birthday\n",
      "0  유관순   18  1920/09/28\n",
      "1  안중근   31  1910/03/26\n",
      "df2:\n",
      "  Name  age    birthday\n",
      "0  홍길동   22  1990/09/28\n",
      "1  강감찬   43  1980/03/26\n",
      "new_df:\n",
      "   Name  age    birthday\n",
      "0  유관순   18  1920/09/28\n",
      "1  안중근   31  1910/03/26\n",
      "2  홍길동   22  1990/09/28\n",
      "3  강감찬   43  1980/03/26\n"
     ]
    }
   ],
   "source": [
    "# pd.concat\n",
    "info={\"Name\":[\"유관순\",\"안중근\"],\"age\":[18,31],\"birthday\":['1920/09/28','1910/03/26']}\n",
    "df = pd.DataFrame(info)\n",
    "info2 = {\"Name\":[\"홍길동\",\"강감찬\"],\"age\":[22,43],\"birthday\":['1990/09/28','1980/03/26']}\n",
    "df2 = pd.DataFrame(info2)\n",
    "print('df:', df, 'df2:', df2, sep='\\n')\n",
    "\n",
    "new_df= pd.concat([df, df2], axis=0, ignore_index=True) # axis 기본값은 0 / 한 번에 여러개도 지정 가능하다.\n",
    "print('new_df:\\n', new_df)"
   ]
  },
  {
   "attachments": {},
   "cell_type": "markdown",
   "metadata": {},
   "source": [
    "### 행 삭제"
   ]
  },
  {
   "cell_type": "code",
   "execution_count": 67,
   "metadata": {},
   "outputs": [
    {
     "name": "stdout",
     "output_type": "stream",
     "text": [
      "df:\n",
      "     이름  국어  수학\n",
      "1  홍길동  30  20\n",
      "2  이순신  26  12\n",
      "3  유관순  11  20\n",
      "4  강감찬  10  12\n",
      "df.drop(index=[1, 2], inplace=True):\n",
      "     이름  국어  수학\n",
      "3  유관순  11  20\n",
      "4  강감찬  10  12\n",
      "df.drop([3], axis=0, inplace=True):\n",
      "     이름  국어  수학\n",
      "4  강감찬  10  12\n"
     ]
    }
   ],
   "source": [
    "df = pd.DataFrame({\"이름\":['홍길동','이순신','유관순','강감찬'], \"국어\":[30, 26, 11, 10], \"수학\":[20, 12, 20, 12]}, index=[1,2,3,4])\n",
    "print('df:\\n', df)\n",
    "df.drop(index=[1, 2], inplace=True) # 인덱스명. \n",
    "print(\"df.drop(index=[1, 2], inplace=True):\\n\", df)\n",
    "df.drop([3], inplace=True, axis=0)\n",
    "print(\"df.drop([3], axis=0, inplace=True):\\n\", df)"
   ]
  },
  {
   "cell_type": "code",
   "execution_count": null,
   "metadata": {},
   "outputs": [],
   "source": []
  }
 ],
 "metadata": {
  "kernelspec": {
   "display_name": "Python 3",
   "language": "python",
   "name": "python3"
  },
  "language_info": {
   "codemirror_mode": {
    "name": "ipython",
    "version": 3
   },
   "file_extension": ".py",
   "mimetype": "text/x-python",
   "name": "python",
   "nbconvert_exporter": "python",
   "pygments_lexer": "ipython3",
   "version": "3.11.3"
  },
  "orig_nbformat": 4
 },
 "nbformat": 4,
 "nbformat_minor": 2
}
