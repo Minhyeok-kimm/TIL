{
 "cells": [
  {
   "attachments": {},
   "cell_type": "markdown",
   "metadata": {},
   "source": [
    "# 6/27"
   ]
  },
  {
   "attachments": {},
   "cell_type": "markdown",
   "metadata": {},
   "source": [
    "## urllib 실습"
   ]
  },
  {
   "cell_type": "code",
   "execution_count": 1,
   "metadata": {},
   "outputs": [],
   "source": [
    "import urllib.request as req"
   ]
  },
  {
   "cell_type": "code",
   "execution_count": 2,
   "metadata": {},
   "outputs": [],
   "source": [
    "html_url = r\"http://google.com\""
   ]
  },
  {
   "cell_type": "code",
   "execution_count": 9,
   "metadata": {},
   "outputs": [],
   "source": [
    "save_path = r\"./crawling/index.html\""
   ]
  },
  {
   "cell_type": "code",
   "execution_count": 12,
   "metadata": {},
   "outputs": [
    {
     "name": "stdout",
     "output_type": "stream",
     "text": [
      "Date: Tue, 27 Jun 2023 08:25:55 GMT\n",
      "Expires: -1\n",
      "Cache-Control: private, max-age=0\n",
      "Content-Type: text/html; charset=ISO-8859-1\n",
      "Content-Security-Policy-Report-Only: object-src 'none';base-uri 'self';script-src 'nonce-NzsVuEMgZpcUfrCHTgRFlg' 'strict-dynamic' 'report-sample' 'unsafe-eval' 'unsafe-inline' https: http:;report-uri https://csp.withgoogle.com/csp/gws/other-hp\n",
      "P3P: CP=\"This is not a P3P policy! See g.co/p3phelp for more info.\"\n",
      "Server: gws\n",
      "X-XSS-Protection: 0\n",
      "X-Frame-Options: SAMEORIGIN\n",
      "Set-Cookie: 1P_JAR=2023-06-27-08; expires=Thu, 27-Jul-2023 08:25:55 GMT; path=/; domain=.google.com; Secure\n",
      "Set-Cookie: AEC=AUEFqZfTTE_6f3Pgr4fEwJ98S8iZYVChheEB_ye15vm__Uu3kQE10jS8YA; expires=Sun, 24-Dec-2023 08:25:55 GMT; path=/; domain=.google.com; Secure; HttpOnly; SameSite=lax\n",
      "Set-Cookie: NID=511=FQ83l1zoLA6hIkpAZOMplc9lIEOBNmWSIsAxi2ta0aJJxCemXaxdeswbfRxr4llXQcaSuoneaWTHdBYOO_vEay2peNdyglvbGpbzXKq54GKn1foZX7xO4pXRL6_0z_7EZqWxyUJShYLLQxH_57l3nOmgV7a1E6mgQ4b7hwwnnTw; expires=Wed, 27-Dec-2023 08:25:55 GMT; path=/; domain=.google.com; HttpOnly\n",
      "Accept-Ranges: none\n",
      "Vary: Accept-Encoding\n",
      "Connection: close\n",
      "Transfer-Encoding: chunked\n",
      "\n",
      "\n"
     ]
    }
   ],
   "source": [
    "try:\n",
    "    file1, header1 = req.urlretrieve(html_url, save_path) # path 지정을 폴더로 지정하면 다운로드가 불가능하다.\n",
    "except Exception as e:\n",
    "    print(\"Download failed.\")\n",
    "    print(e)\n",
    "else:\n",
    "    print(header1)"
   ]
  },
  {
   "cell_type": "code",
   "execution_count": 13,
   "metadata": {},
   "outputs": [
    {
     "name": "stdout",
     "output_type": "stream",
     "text": [
      "Filename1 ./crawling/index.html\n"
     ]
    }
   ],
   "source": [
    "print(f'Filename1 {file1}')"
   ]
  },
  {
   "attachments": {},
   "cell_type": "markdown",
   "metadata": {},
   "source": [
    "## urlopen 함수 기초 사용법"
   ]
  },
  {
   "cell_type": "code",
   "execution_count": 15,
   "metadata": {},
   "outputs": [],
   "source": [
    "import urllib.request as req\n",
    "from urllib.error import URLError, HTTPError"
   ]
  },
  {
   "cell_type": "code",
   "execution_count": 16,
   "metadata": {},
   "outputs": [],
   "source": [
    "path_list = [\"./crawling/index2.html\"]"
   ]
  },
  {
   "cell_type": "code",
   "execution_count": 17,
   "metadata": {},
   "outputs": [],
   "source": [
    "target_url = [\"http://google.com\"]"
   ]
  },
  {
   "cell_type": "code",
   "execution_count": 18,
   "metadata": {},
   "outputs": [
    {
     "name": "stdout",
     "output_type": "stream",
     "text": [
      "----------------------------------------------------------------------------------------------------\n",
      "Header Info-0 : Date: Tue, 27 Jun 2023 08:33:03 GMT\n",
      "Expires: -1\n",
      "Cache-Control: private, max-age=0\n",
      "Content-Type: text/html; charset=ISO-8859-1\n",
      "Content-Security-Policy-Report-Only: object-src 'none';base-uri 'self';script-src 'nonce-QFIrlAbNxeEihaL1Zh6c3g' 'strict-dynamic' 'report-sample' 'unsafe-eval' 'unsafe-inline' https: http:;report-uri https://csp.withgoogle.com/csp/gws/other-hp\n",
      "P3P: CP=\"This is not a P3P policy! See g.co/p3phelp for more info.\"\n",
      "Server: gws\n",
      "X-XSS-Protection: 0\n",
      "X-Frame-Options: SAMEORIGIN\n",
      "Set-Cookie: 1P_JAR=2023-06-27-08; expires=Thu, 27-Jul-2023 08:33:03 GMT; path=/; domain=.google.com; Secure\n",
      "Set-Cookie: AEC=AUEFqZfOnNcRNnyW614XWYoZ3cQK-nQ9WqjqYH2lpCpZhnQUSvtU0zw8mow; expires=Sun, 24-Dec-2023 08:33:03 GMT; path=/; domain=.google.com; Secure; HttpOnly; SameSite=lax\n",
      "Set-Cookie: NID=511=Cihuzhzu9ks3SVjIj7NdZLsRoAsaPu220P3VNpwnazDGZjj_2LPhXWZBFaU0ds65NtONXgvl0p_qGdZDNGulD29a-o2b6Lesy5LoxM8vUQEpDZSQTAoD8YGrKql8vpn-CXZp7Bo_zUck8dZIloptI69qCZ8S1I4yv0rmeDXFf1U; expires=Wed, 27-Dec-2023 08:33:03 GMT; path=/; domain=.google.com; HttpOnly\n",
      "Accept-Ranges: none\n",
      "Vary: Accept-Encoding\n",
      "Connection: close\n",
      "Transfer-Encoding: chunked\n",
      "\n",
      "\n",
      "HTTP Status Code : 200\n",
      "\n",
      "----------------------------------------------------------------------------------------------------\n",
      "\n",
      "Download Succeed.\n"
     ]
    }
   ],
   "source": [
    "for i, url in enumerate(target_url):\n",
    "    try:\n",
    "        response = req.urlopen(url)\n",
    "        \n",
    "        contents = response.read()\n",
    "        \n",
    "        print('-'*100)\n",
    "        \n",
    "        print(f'Header Info-{i} : {response.info()}')\n",
    "        print(f'HTTP Status Code : {response.getcode()}')\n",
    "        print('\\n', '-'*100, sep='')\n",
    "        \n",
    "        with open(path_list[i], 'wb') as c:\n",
    "            c.write(contents)\n",
    "        \n",
    "    except URLError as e:\n",
    "        print(\"Download failed.\")\n",
    "        print(\"URL Error Reason:\", e.reason)\n",
    "    \n",
    "    else:\n",
    "        print('\\n', \"Download Succeed.\", sep='')"
   ]
  },
  {
   "cell_type": "code",
   "execution_count": null,
   "metadata": {},
   "outputs": [],
   "source": []
  }
 ],
 "metadata": {
  "kernelspec": {
   "display_name": "Python 3",
   "language": "python",
   "name": "python3"
  },
  "language_info": {
   "codemirror_mode": {
    "name": "ipython",
    "version": 3
   },
   "file_extension": ".py",
   "mimetype": "text/x-python",
   "name": "python",
   "nbconvert_exporter": "python",
   "pygments_lexer": "ipython3",
   "version": "3.11.3"
  },
  "orig_nbformat": 4
 },
 "nbformat": 4,
 "nbformat_minor": 2
}
