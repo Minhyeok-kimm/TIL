{
 "cells": [
  {
   "cell_type": "code",
   "execution_count": 3,
   "metadata": {},
   "outputs": [
    {
     "name": "stdout",
     "output_type": "stream",
     "text": [
      "Database version: 19.3.0.0.0\n"
     ]
    }
   ],
   "source": [
    "import cx_Oracle\n",
    "\n",
    "user = \"SCOTT\"\n",
    "pw = \"TIGER\"\n",
    "dsn = \"localhost:1521/orcl\" # ip번호:host번호/SID\n",
    "\n",
    "con = cx_Oracle.connect(user, pw, dsn, encoding=\"UTF-8\")\n",
    "\n",
    "print(\"Database version:\", con.version)\n",
    "# con.close() # 자원 반납"
   ]
  },
  {
   "cell_type": "code",
   "execution_count": 4,
   "metadata": {},
   "outputs": [
    {
     "name": "stdout",
     "output_type": "stream",
     "text": [
      "(10, 'ACCOUNTING', 'NEW YORK')\n"
     ]
    }
   ],
   "source": [
    "# 1. 특정 레코드 하나 얻기. deptno=10\n",
    "# 커서를 얻는 것(con.cursor()) -> DB영역에서 움직임\n",
    "# 자동으로 커서 연결을 종료하기 위해 with문 사용\n",
    "\n",
    "with con.cursor() as cur:   \n",
    "    cur.execute(\"SELECT * FROM dept WHERE deptno =:x\", x=10) # 바인딩 변수(Oracle에서만 사용 가능)\n",
    "    res = cur.fetchone()\n",
    "    print(res)\n",
    "    \n",
    "# 포맷팅 가능\n",
    "# with con.cursor() as cur:\n",
    "#     sql = \"select * from dept where deptno ={xxx}\".format(xxx=10)\n",
    "#     cur.execute(sql)\n",
    "#     res = cur.fetchone()\n",
    "#     print(res)"
   ]
  },
  {
   "cell_type": "code",
   "execution_count": 7,
   "metadata": {},
   "outputs": [
    {
     "name": "stdout",
     "output_type": "stream",
     "text": [
      "[(10, 'ACCOUNTING', 'NEW YORK'), (20, 'RESEARCH', 'DALLAS'), (30, 'SALES', 'CHICAGO'), (40, 'OPERATIONS', 'BOSTON')]\n",
      "(10, 'ACCOUNTING', 'NEW YORK')\n",
      "(20, 'RESEARCH', 'DALLAS')\n",
      "(30, 'SALES', 'CHICAGO')\n",
      "(40, 'OPERATIONS', 'BOSTON')\n"
     ]
    }
   ],
   "source": [
    "# 3. 멀티 레코드 조회\n",
    "with con.cursor() as cur:\n",
    "    cur.execute(\"SELECT * FROM dept ORDER BY deptno\")\n",
    "    res = cur.fetchall()  # list로 반환\n",
    "    print(res)\n",
    "    for row in res:\n",
    "        print(row)"
   ]
  },
  {
   "cell_type": "code",
   "execution_count": 8,
   "metadata": {},
   "outputs": [
    {
     "name": "stdout",
     "output_type": "stream",
     "text": [
      "저장된 레코드갯수: 1\n"
     ]
    }
   ],
   "source": [
    "# 4. 단일 저장\n",
    "with con.cursor() as cur:\n",
    "    cur.execute( \"INSERT INTO dept (deptno, dname, loc) VALUES \" \\\n",
    "                 \" (:deptno, :dname, :loc)\", deptno=99, dname='개발', loc=\"서울\") # 바인딩 변수\n",
    "    print(\"저장된 레코드갯수:\", cur.rowcount) # 적용된 rowcount 불러온다\n",
    "    con.commit()"
   ]
  },
  {
   "cell_type": "code",
   "execution_count": 10,
   "metadata": {},
   "outputs": [
    {
     "name": "stdout",
     "output_type": "stream",
     "text": [
      "(10, 'ACCOUNTING', 'NEW YORK')\n",
      "(20, 'RESEARCH', 'DALLAS')\n",
      "(30, 'SALES', 'CHICAGO')\n",
      "(40, 'OPERATIONS', 'BOSTON')\n",
      "(99, '개발', '서울')\n"
     ]
    }
   ],
   "source": [
    "# 결과 확인\n",
    "with con.cursor() as cur:\n",
    "    cur.execute(\"SELECT * FROM dept ORDER BY deptno\")\n",
    "    res = cur.fetchall()  # list로 반환\n",
    "    for row in res:\n",
    "        print(row)"
   ]
  },
  {
   "cell_type": "code",
   "execution_count": 11,
   "metadata": {},
   "outputs": [
    {
     "name": "stdout",
     "output_type": "stream",
     "text": [
      "저장된 레코드갯수: 2\n"
     ]
    }
   ],
   "source": [
    "# 5. 멀티 저장\n",
    "with con.cursor() as cur:\n",
    "    rows = [(1, \"개발\",\"서울\"), (2, \"개발\",\"서울\")]\n",
    "    \n",
    "    # MariaDB는 :1, :2, :3이 아니라 ?, ?, ?\n",
    "    cur.executemany(\"INSERT INTO dept (deptno, dname, loc) VALUES  (:1, :2, :3)\", rows)\n",
    "    print(\"저장된 레코드갯수:\", cur.rowcount)\n",
    "    con.commit()"
   ]
  },
  {
   "cell_type": "code",
   "execution_count": 12,
   "metadata": {},
   "outputs": [
    {
     "name": "stdout",
     "output_type": "stream",
     "text": [
      "(1, '개발', '서울')\n",
      "(2, '개발', '서울')\n",
      "(10, 'ACCOUNTING', 'NEW YORK')\n",
      "(20, 'RESEARCH', 'DALLAS')\n",
      "(30, 'SALES', 'CHICAGO')\n",
      "(40, 'OPERATIONS', 'BOSTON')\n",
      "(99, '개발', '서울')\n"
     ]
    }
   ],
   "source": [
    "# 결과 확인\n",
    "with con.cursor() as cur:\n",
    "    cur.execute(\"SELECT * FROM dept ORDER BY deptno\")\n",
    "    res = cur.fetchall()  # list로 반환\n",
    "    for row in res:\n",
    "        print(row)"
   ]
  },
  {
   "cell_type": "code",
   "execution_count": 13,
   "metadata": {},
   "outputs": [
    {
     "name": "stdout",
     "output_type": "stream",
     "text": [
      "수정된 레코드갯수: 1\n"
     ]
    }
   ],
   "source": [
    "# 6. 수정\n",
    "with con.cursor() as cur:\n",
    "    cur.execute( \"UPDATE dept SET dname = :x, loc= :y \"\n",
    "                 \" WHERE deptno = :z\", x=\"개발부\", y=\"서울시\", z=1 )\n",
    "    print(\"수정된 레코드갯수:\", cur.rowcount)\n",
    "    con.commit()"
   ]
  },
  {
   "cell_type": "code",
   "execution_count": 14,
   "metadata": {},
   "outputs": [
    {
     "name": "stdout",
     "output_type": "stream",
     "text": [
      "(1, '개발부', '서울시')\n",
      "(2, '개발', '서울')\n",
      "(10, 'ACCOUNTING', 'NEW YORK')\n",
      "(20, 'RESEARCH', 'DALLAS')\n",
      "(30, 'SALES', 'CHICAGO')\n",
      "(40, 'OPERATIONS', 'BOSTON')\n",
      "(99, '개발', '서울')\n"
     ]
    }
   ],
   "source": [
    "# 결과 확인\n",
    "with con.cursor() as cur:\n",
    "    cur.execute(\"SELECT * FROM dept ORDER BY deptno\")\n",
    "    res = cur.fetchall()  # list로 반환\n",
    "    for row in res:\n",
    "        print(row)"
   ]
  },
  {
   "cell_type": "code",
   "execution_count": 15,
   "metadata": {},
   "outputs": [
    {
     "name": "stdout",
     "output_type": "stream",
     "text": [
      "삭제된 레코드갯수: 1\n"
     ]
    }
   ],
   "source": [
    "# 7. 삭제\n",
    "with con.cursor() as cur:\n",
    "    cur.execute( \"DELETE FROM dept WHERE deptno = :z\",  z=2 )\n",
    "    print(\"삭제된 레코드갯수:\", cur.rowcount)\n",
    "    con.commit() "
   ]
  },
  {
   "cell_type": "code",
   "execution_count": 16,
   "metadata": {},
   "outputs": [
    {
     "name": "stdout",
     "output_type": "stream",
     "text": [
      "(1, '개발부', '서울시')\n",
      "(10, 'ACCOUNTING', 'NEW YORK')\n",
      "(20, 'RESEARCH', 'DALLAS')\n",
      "(30, 'SALES', 'CHICAGO')\n",
      "(40, 'OPERATIONS', 'BOSTON')\n",
      "(99, '개발', '서울')\n"
     ]
    }
   ],
   "source": [
    "# 결과 확인\n",
    "with con.cursor() as cur:\n",
    "    cur.execute(\"SELECT * FROM dept ORDER BY deptno\")\n",
    "    res = cur.fetchall()  # list로 반환\n",
    "    for row in res:\n",
    "        print(row)"
   ]
  },
  {
   "cell_type": "code",
   "execution_count": 17,
   "metadata": {},
   "outputs": [
    {
     "name": "stdout",
     "output_type": "stream",
     "text": [
      "삭제된 레코드갯수: 1\n",
      "삭제된 레코드갯수: 1\n"
     ]
    }
   ],
   "source": [
    "# 원래대로 복귀\n",
    "with con.cursor() as cur:\n",
    "    cur.execute( \"DELETE FROM dept WHERE deptno = :z\",  z=1 )\n",
    "    print(\"삭제된 레코드갯수:\", cur.rowcount)\n",
    "    cur.execute( \"DELETE FROM dept WHERE deptno = :z\",  z=99 )\n",
    "    print(\"삭제된 레코드갯수:\", cur.rowcount)\n",
    "    con.commit() "
   ]
  },
  {
   "cell_type": "code",
   "execution_count": 18,
   "metadata": {},
   "outputs": [
    {
     "name": "stdout",
     "output_type": "stream",
     "text": [
      "(10, 'ACCOUNTING', 'NEW YORK')\n",
      "(20, 'RESEARCH', 'DALLAS')\n",
      "(30, 'SALES', 'CHICAGO')\n",
      "(40, 'OPERATIONS', 'BOSTON')\n"
     ]
    }
   ],
   "source": [
    "# 결과 확인\n",
    "with con.cursor() as cur:\n",
    "    cur.execute(\"SELECT * FROM dept ORDER BY deptno\")\n",
    "    res = cur.fetchall()  # list로 반환\n",
    "    for row in res:\n",
    "        print(row)"
   ]
  },
  {
   "cell_type": "code",
   "execution_count": 19,
   "metadata": {},
   "outputs": [],
   "source": [
    "con.close() # 자원 반납"
   ]
  },
  {
   "cell_type": "code",
   "execution_count": null,
   "metadata": {},
   "outputs": [],
   "source": []
  }
 ],
 "metadata": {
  "kernelspec": {
   "display_name": "Python 3",
   "language": "python",
   "name": "python3"
  },
  "language_info": {
   "codemirror_mode": {
    "name": "ipython",
    "version": 3
   },
   "file_extension": ".py",
   "mimetype": "text/x-python",
   "name": "python",
   "nbconvert_exporter": "python",
   "pygments_lexer": "ipython3",
   "version": "3.11.3"
  },
  "orig_nbformat": 4
 },
 "nbformat": 4,
 "nbformat_minor": 2
}
